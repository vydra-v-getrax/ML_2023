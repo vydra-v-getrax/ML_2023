{
  "cells": [
    {
      "cell_type": "markdown",
      "metadata": {
        "id": "view-in-github",
        "colab_type": "text"
      },
      "source": [
        "<a href=\"https://colab.research.google.com/github/vydra-v-getrax/ML_2023/blob/main/Regression_Texts_Konovalova.ipynb\" target=\"_parent\"><img src=\"https://colab.research.google.com/assets/colab-badge.svg\" alt=\"Open In Colab\"/></a>"
      ]
    },
    {
      "cell_type": "markdown",
      "metadata": {
        "id": "VkGecHrPvQ9l"
      },
      "source": [
        "На этом занятии мы попробуем задачу регрессии. Данные в этой же папке, будем тренироваться на датасете фильмов с IMDB"
      ]
    },
    {
      "cell_type": "markdown",
      "metadata": {
        "id": "QaNmHlw6vQ9s"
      },
      "source": [
        "Перед обучением обучением модели, нужно подготовить данные:\n",
        "\n",
        "- найти\\собрать данные\n",
        "- почистить и предобработать\n",
        "- преобразовать в матрицы \n"
      ]
    },
    {
      "cell_type": "code",
      "execution_count": null,
      "metadata": {
        "tags": [],
        "id": "5-uF6P2DvQ9v"
      },
      "outputs": [],
      "source": [
        "# импорты необходимых библиотек\n",
        "import pandas as pd\n",
        "\n",
        "import seaborn as sns\n",
        "import matplotlib.pyplot as plt\n",
        "# %matplotlib inline\n",
        "\n",
        "# import gensim\n",
        "from gensim.models.doc2vec import Doc2Vec, TaggedDocument\n",
        "from sklearn.linear_model import LinearRegression, Ridge, Lasso\n",
        "from sklearn.preprocessing import StandardScaler\n",
        "from sklearn.model_selection import train_test_split\n",
        "from sklearn.metrics import mean_absolute_error, mean_squared_error\n"
      ]
    },
    {
      "cell_type": "code",
      "execution_count": null,
      "metadata": {
        "tags": [],
        "id": "KgxSFmIZvQ9y",
        "outputId": "02049271-e7c6-480a-b814-89f5e283c352"
      },
      "outputs": [
        {
          "name": "stdout",
          "output_type": "stream",
          "text": [
            "(1000, 12)\n"
          ]
        },
        {
          "data": {
            "text/html": [
              "<div>\n",
              "<style scoped>\n",
              "    .dataframe tbody tr th:only-of-type {\n",
              "        vertical-align: middle;\n",
              "    }\n",
              "\n",
              "    .dataframe tbody tr th {\n",
              "        vertical-align: top;\n",
              "    }\n",
              "\n",
              "    .dataframe thead th {\n",
              "        text-align: right;\n",
              "    }\n",
              "</style>\n",
              "<table border=\"1\" class=\"dataframe\">\n",
              "  <thead>\n",
              "    <tr style=\"text-align: right;\">\n",
              "      <th></th>\n",
              "      <th>Rank</th>\n",
              "      <th>Title</th>\n",
              "      <th>Genre</th>\n",
              "      <th>Description</th>\n",
              "      <th>Director</th>\n",
              "      <th>Actors</th>\n",
              "      <th>Year</th>\n",
              "      <th>Runtime (Minutes)</th>\n",
              "      <th>Rating</th>\n",
              "      <th>Votes</th>\n",
              "      <th>Revenue (Millions)</th>\n",
              "      <th>Metascore</th>\n",
              "    </tr>\n",
              "  </thead>\n",
              "  <tbody>\n",
              "    <tr>\n",
              "      <th>0</th>\n",
              "      <td>1</td>\n",
              "      <td>Guardians of the Galaxy</td>\n",
              "      <td>Action,Adventure,Sci-Fi</td>\n",
              "      <td>A group of intergalactic criminals are forced ...</td>\n",
              "      <td>James Gunn</td>\n",
              "      <td>Chris Pratt, Vin Diesel, Bradley Cooper, Zoe S...</td>\n",
              "      <td>2014</td>\n",
              "      <td>121</td>\n",
              "      <td>8.1</td>\n",
              "      <td>757074</td>\n",
              "      <td>333.13</td>\n",
              "      <td>76.0</td>\n",
              "    </tr>\n",
              "    <tr>\n",
              "      <th>1</th>\n",
              "      <td>2</td>\n",
              "      <td>Prometheus</td>\n",
              "      <td>Adventure,Mystery,Sci-Fi</td>\n",
              "      <td>Following clues to the origin of mankind, a te...</td>\n",
              "      <td>Ridley Scott</td>\n",
              "      <td>Noomi Rapace, Logan Marshall-Green, Michael Fa...</td>\n",
              "      <td>2012</td>\n",
              "      <td>124</td>\n",
              "      <td>7.0</td>\n",
              "      <td>485820</td>\n",
              "      <td>126.46</td>\n",
              "      <td>65.0</td>\n",
              "    </tr>\n",
              "    <tr>\n",
              "      <th>2</th>\n",
              "      <td>3</td>\n",
              "      <td>Split</td>\n",
              "      <td>Horror,Thriller</td>\n",
              "      <td>Three girls are kidnapped by a man with a diag...</td>\n",
              "      <td>M. Night Shyamalan</td>\n",
              "      <td>James McAvoy, Anya Taylor-Joy, Haley Lu Richar...</td>\n",
              "      <td>2016</td>\n",
              "      <td>117</td>\n",
              "      <td>7.3</td>\n",
              "      <td>157606</td>\n",
              "      <td>138.12</td>\n",
              "      <td>62.0</td>\n",
              "    </tr>\n",
              "  </tbody>\n",
              "</table>\n",
              "</div>"
            ],
            "text/plain": [
              "   Rank                    Title                     Genre  \\\n",
              "0     1  Guardians of the Galaxy   Action,Adventure,Sci-Fi   \n",
              "1     2               Prometheus  Adventure,Mystery,Sci-Fi   \n",
              "2     3                    Split           Horror,Thriller   \n",
              "\n",
              "                                         Description            Director  \\\n",
              "0  A group of intergalactic criminals are forced ...          James Gunn   \n",
              "1  Following clues to the origin of mankind, a te...        Ridley Scott   \n",
              "2  Three girls are kidnapped by a man with a diag...  M. Night Shyamalan   \n",
              "\n",
              "                                              Actors  Year  Runtime (Minutes)  \\\n",
              "0  Chris Pratt, Vin Diesel, Bradley Cooper, Zoe S...  2014                121   \n",
              "1  Noomi Rapace, Logan Marshall-Green, Michael Fa...  2012                124   \n",
              "2  James McAvoy, Anya Taylor-Joy, Haley Lu Richar...  2016                117   \n",
              "\n",
              "   Rating   Votes  Revenue (Millions)  Metascore  \n",
              "0     8.1  757074              333.13       76.0  \n",
              "1     7.0  485820              126.46       65.0  \n",
              "2     7.3  157606              138.12       62.0  "
            ]
          },
          "execution_count": 73,
          "metadata": {},
          "output_type": "execute_result"
        }
      ],
      "source": [
        "data = pd.read_csv('IMDB-Movie-Data.csv')\n",
        "print(data.shape)\n",
        "\n",
        "data.head(3)"
      ]
    },
    {
      "cell_type": "markdown",
      "metadata": {
        "id": "tdtMrfQFvQ92"
      },
      "source": [
        "## Что делать с NaN?\n",
        "Есть 3 варианта"
      ]
    },
    {
      "cell_type": "code",
      "execution_count": null,
      "metadata": {
        "id": "BZpsS-aUvQ93",
        "outputId": "70fd1814-0206-4563-a1a1-4712557d6935"
      },
      "outputs": [
        {
          "name": "stdout",
          "output_type": "stream",
          "text": [
            "Rank                  False\n",
            "Title                 False\n",
            "Genre                 False\n",
            "Description           False\n",
            "Director              False\n",
            "Actors                False\n",
            "Year                  False\n",
            "Runtime (Minutes)     False\n",
            "Rating                False\n",
            "Votes                 False\n",
            "Revenue (Millions)     True\n",
            "Metascore              True\n",
            "dtype: bool\n"
          ]
        },
        {
          "data": {
            "text/plain": [
              "(1000, 12)"
            ]
          },
          "execution_count": 74,
          "metadata": {},
          "output_type": "execute_result"
        }
      ],
      "source": [
        "# 1. Убрать строки с NaN\n",
        "print(data.isna().any())\n",
        "data.shape"
      ]
    },
    {
      "cell_type": "code",
      "execution_count": null,
      "metadata": {
        "id": "GL9Z9ZvMvQ95",
        "outputId": "4a372d65-6c27-4ba9-d82e-488c22e55ee3"
      },
      "outputs": [
        {
          "name": "stdout",
          "output_type": "stream",
          "text": [
            "(1000, 12)\n"
          ]
        },
        {
          "data": {
            "text/plain": [
              "(838, 12)"
            ]
          },
          "execution_count": 75,
          "metadata": {},
          "output_type": "execute_result"
        }
      ],
      "source": [
        "print(data.shape)\n",
        "tmp = data.dropna()\n",
        "tmp.shape"
      ]
    },
    {
      "cell_type": "code",
      "execution_count": null,
      "metadata": {
        "id": "coo_Ao3MvQ96",
        "outputId": "699a18e9-6ff7-47de-da98-058eba849603"
      },
      "outputs": [
        {
          "name": "stdout",
          "output_type": "stream",
          "text": [
            "(1000, 12)\n",
            "(1000, 12)\n"
          ]
        }
      ],
      "source": [
        "# 2. Превратить NaN в 0\n",
        "print(data.shape)\n",
        "tmp = data.fillna(0)\n",
        "print(tmp.shape)"
      ]
    },
    {
      "cell_type": "code",
      "execution_count": null,
      "metadata": {
        "tags": [],
        "id": "OHPdtBpbvQ97",
        "outputId": "91bea7f5-9eec-47e3-ec3d-f3a4a973bcba"
      },
      "outputs": [
        {
          "data": {
            "text/plain": [
              "Rank                  False\n",
              "Title                 False\n",
              "Genre                 False\n",
              "Description           False\n",
              "Director              False\n",
              "Actors                False\n",
              "Year                  False\n",
              "Runtime (Minutes)     False\n",
              "Rating                False\n",
              "Votes                 False\n",
              "Revenue (Millions)    False\n",
              "Metascore             False\n",
              "dtype: bool"
            ]
          },
          "execution_count": 77,
          "metadata": {},
          "output_type": "execute_result"
        }
      ],
      "source": [
        "# 3. Превратить NaN в средние значения по колонке\n",
        "\n",
        "# вычисляем средние для колонок с пустыми значениями\n",
        "meta_mean = data.Metascore.mean()\n",
        "rev_mean = data['Revenue (Millions)'].mean()\n",
        "\n",
        "#заменяем пустоты на средние значения\n",
        "data.Metascore.fillna(meta_mean, inplace=True)\n",
        "data['Revenue (Millions)'].fillna(rev_mean, inplace=True)\n",
        "\n",
        "# проверяем присутствие NaN\n",
        "data.isna().any()"
      ]
    },
    {
      "cell_type": "markdown",
      "metadata": {
        "id": "4cekWkYEvQ99"
      },
      "source": [
        "## Подготовка данных\n",
        "\n",
        "Попробуем предсказывать рейтинг фильма по данным его описания, года, длины в минутах и кассовых сборов\n",
        "\n",
        "Колонка \"Rating\" станет **целевой переменной, или таргетом** (y)<br>\n",
        "Остальных данные будут **обучающей выборкой** (X)"
      ]
    },
    {
      "cell_type": "code",
      "execution_count": null,
      "metadata": {
        "id": "0r1wTlcCvQ9-",
        "outputId": "7dae6eb3-65e4-498a-ada4-196038166288"
      },
      "outputs": [
        {
          "data": {
            "text/plain": [
              "0      A group of intergalactic criminals are forced ...\n",
              "1      Following clues to the origin of mankind, a te...\n",
              "2      Three girls are kidnapped by a man with a diag...\n",
              "3      In a city of humanoid animals, a hustling thea...\n",
              "4      A secret government agency recruits some of th...\n",
              "                             ...                        \n",
              "995    A tight-knit team of rising investigators, alo...\n",
              "996    Three American college students studying abroa...\n",
              "997    Romantic sparks occur between two dance studen...\n",
              "998    A pair of friends embark on a mission to reuni...\n",
              "999    A stuffy businessman finds himself trapped ins...\n",
              "Name: Description, Length: 1000, dtype: object"
            ]
          },
          "execution_count": 78,
          "metadata": {},
          "output_type": "execute_result"
        }
      ],
      "source": [
        "data.Description"
      ]
    },
    {
      "cell_type": "code",
      "execution_count": null,
      "metadata": {
        "tags": [],
        "id": "0Nw4fHA3vQ9_",
        "outputId": "a756ffb9-d274-40a0-8d7e-41a48f5ae459"
      },
      "outputs": [
        {
          "data": {
            "text/plain": [
              "0      [a, group, of, intergalactic, criminals, are, ...\n",
              "1      [following, clues, to, the, origin, of, mankin...\n",
              "2      [three, girls, are, kidnapped, by, a, man, wit...\n",
              "3      [in, a, city, of, humanoid, animals,, a, hustl...\n",
              "4      [a, secret, government, agency, recruits, some...\n",
              "                             ...                        \n",
              "995    [a, tight-knit, team, of, rising, investigator...\n",
              "996    [three, american, college, students, studying,...\n",
              "997    [romantic, sparks, occur, between, two, dance,...\n",
              "998    [a, pair, of, friends, embark, on, a, mission,...\n",
              "999    [a, stuffy, businessman, finds, himself, trapp...\n",
              "Name: text, Length: 1000, dtype: object"
            ]
          },
          "execution_count": 79,
          "metadata": {},
          "output_type": "execute_result"
        }
      ],
      "source": [
        "# подготовим описания фильмов\n",
        "data[\"text\"] = data.Description.apply(lambda x: x.lower().split()) \n",
        "\n",
        "data[\"text\"]"
      ]
    },
    {
      "cell_type": "code",
      "execution_count": null,
      "metadata": {
        "tags": [],
        "id": "N7MzJkAkvQ-A",
        "outputId": "21d29311-e490-494a-fdb4-647c518b5d27"
      },
      "outputs": [
        {
          "data": {
            "text/plain": [
              "array([list(['a', 'group', 'of', 'intergalactic', 'criminals', 'are', 'forced', 'to', 'work', 'together', 'to', 'stop', 'a', 'fanatical', 'warrior', 'from', 'taking', 'control', 'of', 'the', 'universe.']),\n",
              "       list(['following', 'clues', 'to', 'the', 'origin', 'of', 'mankind,', 'a', 'team', 'finds', 'a', 'structure', 'on', 'a', 'distant', 'moon,', 'but', 'they', 'soon', 'realize', 'they', 'are', 'not', 'alone.']),\n",
              "       list(['three', 'girls', 'are', 'kidnapped', 'by', 'a', 'man', 'with', 'a', 'diagnosed', '23', 'distinct', 'personalities.', 'they', 'must', 'try', 'to', 'escape', 'before', 'the', 'apparent', 'emergence', 'of', 'a', 'frightful', 'new', '24th.']),\n",
              "       list(['in', 'a', 'city', 'of', 'humanoid', 'animals,', 'a', 'hustling', 'theater', \"impresario's\", 'attempt', 'to', 'save', 'his', 'theater', 'with', 'a', 'singing', 'competition', 'becomes', 'grander', 'than', 'he', 'anticipates', 'even', 'as', 'its', \"finalists'\", 'find', 'that', 'their', 'lives', 'will', 'never', 'be', 'the', 'same.']),\n",
              "       list(['a', 'secret', 'government', 'agency', 'recruits', 'some', 'of', 'the', 'most', 'dangerous', 'incarcerated', 'super-villains', 'to', 'form', 'a', 'defensive', 'task', 'force.', 'their', 'first', 'mission:', 'save', 'the', 'world', 'from', 'the', 'apocalypse.']),\n",
              "       list(['european', 'mercenaries', 'searching', 'for', 'black', 'powder', 'become', 'embroiled', 'in', 'the', 'defense', 'of', 'the', 'great', 'wall', 'of', 'china', 'against', 'a', 'horde', 'of', 'monstrous', 'creatures.']),\n",
              "       list(['a', 'jazz', 'pianist', 'falls', 'for', 'an', 'aspiring', 'actress', 'in', 'los', 'angeles.']),\n",
              "       list(['a', 'has-been', 'actor', 'best', 'known', 'for', 'playing', 'the', 'title', 'character', 'in', 'the', '1980s', 'detective', 'series', '\"mindhorn\"', 'must', 'work', 'with', 'the', 'police', 'when', 'a', 'serial', 'killer', 'says', 'that', 'he', 'will', 'only', 'speak', 'with', 'detective', 'mindhorn,', 'whom', 'he', 'believes', 'to', 'be', 'a', 'real', 'person.']),\n",
              "       list(['a', 'true-life', 'drama,', 'centering', 'on', 'british', 'explorer', 'col.', 'percival', 'fawcett,', 'who', 'disappeared', 'while', 'searching', 'for', 'a', 'mysterious', 'city', 'in', 'the', 'amazon', 'in', 'the', '1920s.']),\n",
              "       list(['a', 'spacecraft', 'traveling', 'to', 'a', 'distant', 'colony', 'planet', 'and', 'transporting', 'thousands', 'of', 'people', 'has', 'a', 'malfunction', 'in', 'its', 'sleep', 'chambers.', 'as', 'a', 'result,', 'two', 'passengers', 'are', 'awakened', '90', 'years', 'early.']),\n",
              "       list(['the', 'adventures', 'of', 'writer', 'newt', 'scamander', 'in', 'new', \"york's\", 'secret', 'community', 'of', 'witches', 'and', 'wizards', 'seventy', 'years', 'before', 'harry', 'potter', 'reads', 'his', 'book', 'in', 'school.']),\n",
              "       list(['the', 'story', 'of', 'a', 'team', 'of', 'female', 'african-american', 'mathematicians', 'who', 'served', 'a', 'vital', 'role', 'in', 'nasa', 'during', 'the', 'early', 'years', 'of', 'the', 'u.s.', 'space', 'program.']),\n",
              "       list(['the', 'rebel', 'alliance', 'makes', 'a', 'risky', 'move', 'to', 'steal', 'the', 'plans', 'for', 'the', 'death', 'star,', 'setting', 'up', 'the', 'epic', 'saga', 'to', 'follow.']),\n",
              "       list(['in', 'ancient', 'polynesia,', 'when', 'a', 'terrible', 'curse', 'incurred', 'by', 'the', 'demigod', 'maui', 'reaches', 'an', 'impetuous', \"chieftain's\", \"daughter's\", 'island,', 'she', 'answers', 'the', \"ocean's\", 'call', 'to', 'seek', 'out', 'the', 'demigod', 'to', 'set', 'things', 'right.']),\n",
              "       list(['gloria', 'is', 'an', 'out-of-work', 'party', 'girl', 'forced', 'to', 'leave', 'her', 'life', 'in', 'new', 'york', 'city,', 'and', 'move', 'back', 'home.', 'when', 'reports', 'surface', 'that', 'a', 'giant', 'creature', 'is', 'destroying', 'seoul,', 'she', 'gradually', 'comes', 'to', 'the', 'realization', 'that', 'she', 'is', 'somehow', 'connected', 'to', 'this', 'phenomenon.']),\n",
              "       list(['the', 'quiet', 'life', 'of', 'a', 'terrier', 'named', 'max', 'is', 'upended', 'when', 'his', 'owner', 'takes', 'in', 'duke,', 'a', 'stray', 'whom', 'max', 'instantly', 'dislikes.']),\n",
              "       list(['wwii', 'american', 'army', 'medic', 'desmond', 't.', 'doss,', 'who', 'served', 'during', 'the', 'battle', 'of', 'okinawa,', 'refuses', 'to', 'kill', 'people,', 'and', 'becomes', 'the', 'first', 'man', 'in', 'american', 'history', 'to', 'receive', 'the', 'medal', 'of', 'honor', 'without', 'firing', 'a', 'shot.']),\n",
              "       list(['the', \"cia's\", 'most', 'dangerous', 'former', 'operative', 'is', 'drawn', 'out', 'of', 'hiding', 'to', 'uncover', 'more', 'explosive', 'truths', 'about', 'his', 'past.']),\n",
              "       list(['a', 'five-year-old', 'indian', 'boy', 'gets', 'lost', 'on', 'the', 'streets', 'of', 'calcutta,', 'thousands', 'of', 'kilometers', 'from', 'home.', 'he', 'survives', 'many', 'challenges', 'before', 'being', 'adopted', 'by', 'a', 'couple', 'in', 'australia.', '25', 'years', 'later,', 'he', 'sets', 'out', 'to', 'find', 'his', 'lost', 'family.']),\n",
              "       list(['when', 'twelve', 'mysterious', 'spacecraft', 'appear', 'around', 'the', 'world,', 'linguistics', 'professor', 'louise', 'banks', 'is', 'tasked', 'with', 'interpreting', 'the', 'language', 'of', 'the', 'apparent', 'alien', 'visitors.']),\n",
              "       list(['kenny', 'wells,', 'a', 'prospector', 'desperate', 'for', 'a', 'lucky', 'break,', 'teams', 'up', 'with', 'a', 'similarly', 'eager', 'geologist', 'and', 'sets', 'off', 'on', 'a', 'journey', 'to', 'find', 'gold', 'in', 'the', 'uncharted', 'jungle', 'of', 'indonesia.']),\n",
              "       list(['a', 'depressed', 'uncle', 'is', 'asked', 'to', 'take', 'care', 'of', 'his', 'teenage', 'nephew', 'after', 'the', \"boy's\", 'father', 'dies.']),\n",
              "       list(['a', 'cold-blooded', 'predatory', 'couple', 'while', 'cruising', 'the', 'streets', 'in', 'search', 'of', 'their', 'next', 'victim,', 'will', 'stumble', 'upon', 'a', '17-year-old', 'high', 'school', 'girl,', 'who', 'will', 'be', 'sedated,', 'abducted', 'and', 'chained', 'in', 'the', \"strangers'\", 'guest', 'room.']),\n",
              "       list(['after', 'the', 'bergens', 'invade', 'troll', 'village,', 'poppy,', 'the', 'happiest', 'troll', 'ever', 'born,', 'and', 'the', 'curmudgeonly', 'branch', 'set', 'off', 'on', 'a', 'journey', 'to', 'rescue', 'her', 'friends.']),\n",
              "       list(['two', 'decades', 'after', 'the', 'first', 'independence', 'day', 'invasion,', 'earth', 'is', 'faced', 'with', 'a', 'new', 'extra-solar', 'threat.', 'but', 'will', \"mankind's\", 'new', 'space', 'defenses', 'be', 'enough?']),\n",
              "       list(['fiona', 'visits', 'paris', 'for', 'the', 'first', 'time', 'to', 'assist', 'her', 'myopic', 'aunt', 'martha.', 'catastrophes', 'ensue,', 'mainly', 'involving', 'dom,', 'a', 'homeless', 'man', 'who', 'has', 'yet', 'to', 'have', 'an', 'emotion', 'or', 'thought', 'he', 'was', 'afraid', 'of', 'expressing.']),\n",
              "       list(['in', 'ancient', 'india,', 'an', 'adventurous', 'and', 'daring', 'man', 'becomes', 'involved', 'in', 'a', 'decades', 'old', 'feud', 'between', 'two', 'warring', 'people.']),\n",
              "       list(['a', 'young', 'woman', 'must', 'save', 'herself', 'and', 'her', 'friends', 'from', 'an', 'ancient', 'evil', 'that', 'stalks', 'its', 'victims', 'through', 'the', 'real-life', 'phenomenon', 'of', 'sleep', 'paralysis.']),\n",
              "       list(['when', 'three', 'overworked', 'and', 'under-appreciated', 'moms', 'are', 'pushed', 'beyond', 'their', 'limits,', 'they', 'ditch', 'their', 'conventional', 'responsibilities', 'for', 'a', 'jolt', 'of', 'long', 'overdue', 'freedom,', 'fun,', 'and', 'comedic', 'self-indulgence.']),\n",
              "       list(['when', 'callum', 'lynch', 'explores', 'the', 'memories', 'of', 'his', 'ancestor', 'aguilar', 'and', 'gains', 'the', 'skills', 'of', 'a', 'master', 'assassin,', 'he', 'discovers', 'he', 'is', 'a', 'descendant', 'of', 'the', 'secret', 'assassins', 'society.']),\n",
              "       list(['a', 'holiday', 'gathering', 'threatens', 'to', 'go', 'off', 'the', 'rails', 'when', 'ned', 'fleming', 'realizes', 'that', 'his', \"daughter's\", 'silicon', 'valley', 'millionaire', 'boyfriend', 'is', 'about', 'to', 'pop', 'the', 'question.']),\n",
              "       list(['a', 'wealthy', 'art', 'gallery', 'owner', 'is', 'haunted', 'by', 'her', \"ex-husband's\", 'novel,', 'a', 'violent', 'thriller', 'she', 'interprets', 'as', 'a', 'symbolic', 'revenge', 'tale.']),\n",
              "       list(['after', 'the', 're-emergence', 'of', 'the', \"world's\", 'first', 'mutant,', 'world-destroyer', 'apocalypse,', 'the', 'x-men', 'must', 'unite', 'to', 'defeat', 'his', 'extinction', 'level', 'plan.']),\n",
              "       list(['a', 'fast-talking', 'mercenary', 'with', 'a', 'morbid', 'sense', 'of', 'humor', 'is', 'subjected', 'to', 'a', 'rogue', 'experiment', 'that', 'leaves', 'him', 'with', 'accelerated', 'healing', 'powers', 'and', 'a', 'quest', 'for', 'revenge.']),\n",
              "       list(['alice', 'returns', 'to', 'where', 'the', 'nightmare', 'began:', 'the', 'hive', 'in', 'raccoon', 'city,', 'where', 'the', 'umbrella', 'corporation', 'is', 'gathering', 'its', 'forces', 'for', 'a', 'final', 'strike', 'against', 'the', 'only', 'remaining', 'survivors', 'of', 'the', 'apocalypse.']),\n",
              "       list(['political', 'interference', 'in', 'the', \"avengers'\", 'activities', 'causes', 'a', 'rift', 'between', 'former', 'allies', 'captain', 'america', 'and', 'iron', 'man.']),\n",
              "       list(['a', 'team', 'of', 'explorers', 'travel', 'through', 'a', 'wormhole', 'in', 'space', 'in', 'an', 'attempt', 'to', 'ensure', \"humanity's\", 'survival.']),\n",
              "       list(['while', 'on', 'a', 'journey', 'of', 'physical', 'and', 'spiritual', 'healing,', 'a', 'brilliant', 'neurosurgeon', 'is', 'drawn', 'into', 'the', 'world', 'of', 'the', 'mystic', 'arts.']),\n",
              "       list(['seven', 'gunmen', 'in', 'the', 'old', 'west', 'gradually', 'come', 'together', 'to', 'help', 'a', 'poor', 'village', 'against', 'savage', 'thieves.']),\n",
              "       list(['alienated,', 'hopeful-filmmaker', 'pat', \"johnson's\", 'epic', 'story', 'growing', 'up', 'in', 'rural', 'illinois,', 'falling', 'in', 'love,', 'and', 'becoming', 'the', 'first', 'fan', 'of', 'the', 'movie', 'that', 'changed', 'everything.']),\n",
              "       list(['a', 'sausage', 'strives', 'to', 'discover', 'the', 'truth', 'about', 'his', 'existence.']),\n",
              "       list(['a', 'chronicle', 'of', 'the', 'childhood,', 'adolescence', 'and', 'burgeoning', 'adulthood', 'of', 'a', 'young,', 'african-american,', 'gay', 'man', 'growing', 'up', 'in', 'a', 'rough', 'neighborhood', 'of', 'miami.']),\n",
              "       list(['a', 'group', 'of', 'friends', 'are', 'going', 'on', 'a', 'camping', 'trip', 'to', 'celebrate', 'graduating', 'college.', 'but', 'once', 'they', 'enter', 'the', 'woods,', 'the', 'proverbial', 'shit', 'starts', 'to', 'hit', 'the', 'fan.']),\n",
              "       list(['the', 'story', 'of', 'ray', 'kroc,', 'a', 'salesman', 'who', 'turned', 'two', \"brothers'\", 'innovative', 'fast', 'food', 'eatery,', \"mcdonald's,\", 'into', 'one', 'of', 'the', 'biggest', 'restaurant', 'businesses', 'in', 'the', 'world', 'with', 'a', 'combination', 'of', 'ambition,', 'persistence,', 'and', 'ruthlessness.']),\n",
              "       list(['a', 'young', 'street', 'artist', 'in', 'east', 'los', 'angeles', 'is', 'caught', 'between', 'his', \"father's\", 'obsession', 'with', 'lowrider', 'car', 'culture,', 'his', 'ex-felon', 'brother', 'and', 'his', 'need', 'for', 'self-expression.']),\n",
              "       list(['jack', 'sparrow', 'and', 'barbossa', 'embark', 'on', 'a', 'quest', 'to', 'find', 'the', 'elusive', 'fountain', 'of', 'youth,', 'only', 'to', 'discover', 'that', 'blackbeard', 'and', 'his', 'daughter', 'are', 'after', 'it', 'too.']),\n",
              "       list(['in', 'the', 'high-stakes', 'world', 'of', 'political', 'power-brokers,', 'elizabeth', 'sloane', 'is', 'the', 'most', 'sought', 'after', 'and', 'formidable', 'lobbyist', 'in', 'd.c.', 'but', 'when', 'taking', 'on', 'the', 'most', 'powerful', 'opponent', 'of', 'her', 'career,', 'she', 'finds', 'winning', 'may', 'come', 'at', 'too', 'high', 'a', 'price.']),\n",
              "       list(['a', 'young', 'girl', 'finds', 'herself', 'in', 'a', 'reform', 'school', 'after', 'therapy', 'since', 'she', 'was', 'blamed', 'for', 'the', 'death', 'of', 'a', 'young', 'boy.', 'at', 'the', 'school', 'she', 'finds', 'herself', 'drawn', 'to', 'a', 'fellow', 'student,', 'unaware', 'that', 'he', 'is', 'an', 'angel,', 'and', 'has', 'loved', 'her', 'for', 'thousands', 'of', 'years.']),\n",
              "       list(['the', 'uss', 'enterprise', 'crew', 'explores', 'the', 'furthest', 'reaches', 'of', 'uncharted', 'space,', 'where', 'they', 'encounter', 'a', 'new', 'ruthless', 'enemy', 'who', 'puts', 'them', 'and', 'everything', 'the', 'federation', 'stands', 'for', 'to', 'the', 'test.']),\n",
              "       list(['a', 'director', '(charlize', 'theron)', 'of', 'an', 'international', 'aid', 'agency', 'in', 'africa', 'meets', 'a', 'relief', 'aid', 'doctor', '(javier', 'bardem)', 'amidst', 'a', 'political/social', 'revolution,', 'and', 'together', 'face', 'tough', 'choices', '...', 'see', 'full', 'summary', '»']),\n",
              "       list(['three', 'decades', 'after', 'the', 'defeat', 'of', 'the', 'galactic', 'empire,', 'a', 'new', 'threat', 'arises.', 'the', 'first', 'order', 'attempts', 'to', 'rule', 'the', 'galaxy', 'and', 'only', 'a', 'ragtag', 'group', 'of', 'heroes', 'can', 'stop', 'them,', 'along', 'with', 'the', 'help', 'of', 'the', 'resistance.']),\n",
              "       list(['vampire', 'death', 'dealer,', 'selene', '(kate', 'beckinsale)', 'fights', 'to', 'end', 'the', 'eternal', 'war', 'between', 'the', 'lycan', 'clan', 'and', 'the', 'vampire', 'faction', 'that', 'betrayed', 'her.']),\n",
              "       list(['three', 'generations', 'come', 'together', 'in', 'the', 'week', 'leading', 'up', 'to', \"mother's\", 'day.']),\n",
              "       list(['an', 'ex-hitman', 'comes', 'out', 'of', 'retirement', 'to', 'track', 'down', 'the', 'gangsters', 'that', 'took', 'everything', 'from', 'him.']),\n",
              "       list(['when', 'the', 'menace', 'known', 'as', 'the', 'joker', 'wreaks', 'havoc', 'and', 'chaos', 'on', 'the', 'people', 'of', 'gotham,', 'the', 'dark', 'knight', 'must', 'come', 'to', 'terms', 'with', 'one', 'of', 'the', 'greatest', 'psychological', 'tests', 'of', 'his', 'ability', 'to', 'fight', 'injustice.']),\n",
              "       list(['in', 'the', '17th', 'century,', 'two', 'portuguese', 'jesuit', 'priests', 'travel', 'to', 'japan', 'in', 'an', 'attempt', 'to', 'locate', 'their', 'mentor,', 'who', 'is', 'rumored', 'to', 'have', 'committed', 'apostasy,', 'and', 'to', 'propagate', 'catholicism.']),\n",
              "       list(['hoping', 'to', 'walk', 'away', 'with', 'a', 'massive', 'fortune,', 'a', 'trio', 'of', 'thieves', 'break', 'into', 'the', 'house', 'of', 'a', 'blind', 'man', 'who', \"isn't\", 'as', 'helpless', 'as', 'he', 'seems.']),\n",
              "       list(['a', 'girl', 'in', 'a', 'small', 'town', 'forms', 'an', 'unlikely', 'bond', 'with', 'a', 'recently-paralyzed', 'man', \"she's\", 'taking', 'care', 'of.']),\n",
              "       list(['a', 'former', 'secretary,', 'newly', 'appointed', 'as', 'a', 'scriptwriter', 'for', 'propaganda', 'films,', 'joins', 'the', 'cast', 'and', 'crew', 'of', 'a', 'major', 'production', 'while', 'the', 'blitz', 'rages', 'around', 'them.']),\n",
              "       list(['the', 'story', 'of', 'chesley', 'sullenberger,', 'an', 'american', 'pilot', 'who', 'became', 'a', 'hero', 'after', 'landing', 'his', 'damaged', 'plane', 'on', 'the', 'hudson', 'river', 'in', 'order', 'to', 'save', 'the', \"flight's\", 'passengers', 'and', 'crew.']),\n",
              "       list(['fearing', 'that', 'the', 'actions', 'of', 'superman', 'are', 'left', 'unchecked,', 'batman', 'takes', 'on', 'the', 'man', 'of', 'steel,', 'while', 'the', 'world', 'wrestles', 'with', 'what', 'kind', 'of', 'a', 'hero', 'it', 'really', 'needs.']),\n",
              "       list(['a', 'father', 'and', 'son,', 'both', 'coroners,', 'are', 'pulled', 'into', 'a', 'complex', 'mystery', 'while', 'attempting', 'to', 'identify', 'the', 'body', 'of', 'a', 'young', 'woman,', 'who', 'was', 'apparently', 'harboring', 'dark', 'secrets.']),\n",
              "       list(['a', 'divorcee', 'becomes', 'entangled', 'in', 'a', 'missing', 'persons', 'investigation', 'that', 'promises', 'to', 'send', 'shockwaves', 'throughout', 'her', 'life.']),\n",
              "       list(['literature', 'student', 'anastasia', \"steele's\", 'life', 'changes', 'forever', 'when', 'she', 'meets', 'handsome,', 'yet', 'tormented,', 'billionaire', 'christian', 'grey.']),\n",
              "       list(['two', 'stage', 'magicians', 'engage', 'in', 'competitive', 'one-upmanship', 'in', 'an', 'attempt', 'to', 'create', 'the', 'ultimate', 'stage', 'illusion.']),\n",
              "       list(['a', 'spy', 'organization', 'recruits', 'an', 'unrefined,', 'but', 'promising', 'street', 'kid', 'into', 'the', \"agency's\", 'ultra-competitive', 'training', 'program,', 'just', 'as', 'a', 'global', 'threat', 'emerges', 'from', 'a', 'twisted', 'tech', 'genius.']),\n",
              "       list(['the', 'story', 'of', 'the', '2013', 'boston', 'marathon', 'bombing', 'and', 'the', 'aftermath,', 'which', 'includes', 'the', 'city-wide', 'manhunt', 'to', 'find', 'the', 'terrorists', 'responsible.']),\n",
              "       list(['a', 'woman', 'rebels', 'against', 'a', 'tyrannical', 'ruler', 'in', 'postapocalyptic', 'australia', 'in', 'search', 'for', 'her', 'home-land', 'with', 'the', 'help', 'of', 'a', 'group', 'of', 'female', 'prisoners,', 'a', 'psychotic', 'worshipper,', 'and', 'a', 'drifter', 'named', 'max.']),\n",
              "       list(['a', \"man's\", 'nervous', 'breakdown', 'causes', 'him', 'to', 'leave', 'his', 'wife', 'and', 'live', 'in', 'his', 'attic', 'for', 'several', 'months.']),\n",
              "       list(['a', 'dramatization', 'of', 'the', 'april', '2010', 'disaster,', 'when', 'the', 'offshore', 'drilling', 'rig', 'deepwater', 'horizon', 'exploded', 'and', 'created', 'the', 'worst', 'oil', 'spill', 'in', 'u.s.', 'history.']),\n",
              "       list(['set', 'during', 'the', 'last', 'days', 'of', 'the', 'ottoman', 'empire,', 'the', 'promise', 'follows', 'a', 'love', 'triangle', 'between', 'michael,', 'a', 'brilliant', 'medical', 'student,', 'the', 'beautiful', 'and', 'sophisticated', 'ana,', 'and', 'chris', '-', 'a', 'renowned', 'american', 'journalist', 'based', 'in', 'paris.']),\n",
              "       list(['in', '1942,', 'a', 'canadian', 'intelligence', 'officer', 'in', 'north', 'africa', 'encounters', 'a', 'female', 'french', 'resistance', 'fighter', 'on', 'a', 'deadly', 'mission', 'behind', 'enemy', 'lines.', 'when', 'they', 'reunite', 'in', 'london,', 'their', 'relationship', 'is', 'tested', 'by', 'the', 'pressures', 'of', 'war.']),\n",
              "       list(['a', 'boy', 'seeks', 'the', 'help', 'of', 'a', 'tree', 'monster', 'to', 'cope', 'with', 'his', 'single', \"mother's\", 'terminal', 'illness.']),\n",
              "       list(['retreating', 'from', 'life', 'after', 'a', 'tragedy,', 'a', 'man', 'questions', 'the', 'universe', 'by', 'writing', 'to', 'love,', 'time', 'and', 'death.', 'receiving', 'unexpected', 'answers,', 'he', 'begins', 'to', 'see', 'how', 'these', 'things', 'interlock', 'and', 'how', 'even', 'loss', 'can', 'reveal', 'moments', 'of', 'meaning', 'and', 'beauty.']),\n",
              "       list(['in', 'a', 'city', 'of', 'anthropomorphic', 'animals,', 'a', 'rookie', 'bunny', 'cop', 'and', 'a', 'cynical', 'con', 'artist', 'fox', 'must', 'work', 'together', 'to', 'uncover', 'a', 'conspiracy.']),\n",
              "       list(['captain', 'barbossa,', 'will', 'turner', 'and', 'elizabeth', 'swann', 'must', 'sail', 'off', 'the', 'edge', 'of', 'the', 'map,', 'navigate', 'treachery', 'and', 'betrayal,', 'find', 'jack', 'sparrow,', 'and', 'make', 'their', 'final', 'alliances', 'for', 'one', 'last', 'decisive', 'battle.']),\n",
              "       list([\"earth's\", 'mightiest', 'heroes', 'must', 'come', 'together', 'and', 'learn', 'to', 'fight', 'as', 'a', 'team', 'if', 'they', 'are', 'to', 'stop', 'the', 'mischievous', 'loki', 'and', 'his', 'alien', 'army', 'from', 'enslaving', 'humanity.']),\n",
              "       list(['in', 'nazi-occupied', 'france', 'during', 'world', 'war', 'ii,', 'a', 'plan', 'to', 'assassinate', 'nazi', 'leaders', 'by', 'a', 'group', 'of', 'jewish', 'u.s.', 'soldiers', 'coincides', 'with', 'a', 'theatre', \"owner's\", 'vengeful', 'plans', 'for', 'the', 'same.']),\n",
              "       list(['jack', 'sparrow', 'races', 'to', 'recover', 'the', 'heart', 'of', 'davy', 'jones', 'to', 'avoid', 'enslaving', 'his', 'soul', 'to', \"jones'\", 'service,', 'as', 'other', 'friends', 'and', 'foes', 'seek', 'the', 'heart', 'for', 'their', 'own', 'agenda', 'as', 'well.']),\n",
              "       list(['following', 'a', 'ghost', 'invasion', 'of', 'manhattan,', 'paranormal', 'enthusiasts', 'erin', 'gilbert', 'and', 'abby', 'yates,', 'nuclear', 'engineer', 'jillian', 'holtzmann,', 'and', 'subway', 'worker', 'patty', 'tolan', 'band', 'together', 'to', 'stop', 'the', 'otherworldly', 'threat.']),\n",
              "       list(['a', 'thief,', 'who', 'steals', 'corporate', 'secrets', 'through', 'use', 'of', 'dream-sharing', 'technology,', 'is', 'given', 'the', 'inverse', 'task', 'of', 'planting', 'an', 'idea', 'into', 'the', 'mind', 'of', 'a', 'ceo.']),\n",
              "       list(['in', 'the', 'forests', 'of', 'the', 'pacific', 'northwest,', 'a', 'father', 'devoted', 'to', 'raising', 'his', 'six', 'kids', 'with', 'a', 'rigorous', 'physical', 'and', 'intellectual', 'education', 'is', 'forced', 'to', 'leave', 'his', 'paradise', 'and', 'enter', 'the', 'world,', 'challenging', 'his', 'idea', 'of', 'what', 'it', 'means', 'to', 'be', 'a', 'parent.']),\n",
              "       list(['based', 'on', 'the', 'true', 'story', 'of', 'jordan', 'belfort,', 'from', 'his', 'rise', 'to', 'a', 'wealthy', 'stock-broker', 'living', 'the', 'high', 'life', 'to', 'his', 'fall', 'involving', 'crime,', 'corruption', 'and', 'the', 'federal', 'government.']),\n",
              "       list(['with', 'his', \"wife's\", 'disappearance', 'having', 'become', 'the', 'focus', 'of', 'an', 'intense', 'media', 'circus,', 'a', 'man', 'sees', 'the', 'spotlight', 'turned', 'on', 'him', 'when', \"it's\", 'suspected', 'that', 'he', 'may', 'not', 'be', 'innocent.']),\n",
              "       list(['deckard', 'shaw', 'seeks', 'revenge', 'against', 'dominic', 'toretto', 'and', 'his', 'family', 'for', 'his', 'comatose', 'brother.']),\n",
              "       list(['a', 'new', 'theme', 'park,', 'built', 'on', 'the', 'original', 'site', 'of', 'jurassic', 'park,', 'creates', 'a', 'genetically', 'modified', 'hybrid', 'dinosaur,', 'which', 'escapes', 'containment', 'and', 'goes', 'on', 'a', 'killing', 'spree.']),\n",
              "       list(['a', 'group', 'of', 'boston-bred', 'gangsters', 'set', 'up', 'shop', 'in', 'balmy', 'florida', 'during', 'the', 'prohibition', 'era,', 'facing', 'off', 'against', 'the', 'competition', 'and', 'the', 'ku', 'klux', 'klan.']),\n",
              "       list(['a', 'paraplegic', 'marine', 'dispatched', 'to', 'the', 'moon', 'pandora', 'on', 'a', 'unique', 'mission', 'becomes', 'torn', 'between', 'following', 'his', 'orders', 'and', 'protecting', 'the', 'world', 'he', 'feels', 'is', 'his', 'home.']),\n",
              "       list(['in', 'the', 'dead', 'of', 'a', 'wyoming', 'winter,', 'a', 'bounty', 'hunter', 'and', 'his', 'prisoner', 'find', 'shelter', 'in', 'a', 'cabin', 'currently', 'inhabited', 'by', 'a', 'collection', 'of', 'nefarious', 'characters.']),\n",
              "       list(['as', 'a', 'math', 'savant', 'uncooks', 'the', 'books', 'for', 'a', 'new', 'client,', 'the', 'treasury', 'department', 'closes', 'in', 'on', 'his', 'activities', 'and', 'the', 'body', 'count', 'starts', 'to', 'rise.']),\n",
              "       list(['when', 'keller', \"dover's\", 'daughter', 'and', 'her', 'friend', 'go', 'missing,', 'he', 'takes', 'matters', 'into', 'his', 'own', 'hands', 'as', 'the', 'police', 'pursue', 'multiple', 'leads', 'and', 'the', 'pressure', 'mounts.']),\n",
              "       list(['as', 'an', 'orc', 'horde', 'invades', 'the', 'planet', 'azeroth', 'using', 'a', 'magic', 'portal,', 'a', 'few', 'human', 'heroes', 'and', 'dissenting', 'orcs', 'must', 'attempt', 'to', 'stop', 'the', 'true', 'evil', 'behind', 'this', 'war.']),\n",
              "       list(['an', 'aspiring', 'author', 'during', 'the', 'civil', 'rights', 'movement', 'of', 'the', '1960s', 'decides', 'to', 'write', 'a', 'book', 'detailing', 'the', 'african', 'american', \"maids'\", 'point', 'of', 'view', 'on', 'the', 'white', 'families', 'for', 'which', 'they', 'work,', 'and', 'the', 'hardships', 'they', 'go', 'through', 'on', 'a', 'daily', 'basis.']),\n",
              "       list(['based', 'on', 'the', 'true', 'story', 'of', 'two', 'young', 'men,', 'david', 'packouz', 'and', 'efraim', 'diveroli,', 'who', 'won', 'a', '$300', 'million', 'contract', 'from', 'the', 'pentagon', 'to', 'arm', \"america's\", 'allies', 'in', 'afghanistan.']),\n",
              "       list(['when', 'tony', 'stark', 'and', 'bruce', 'banner', 'try', 'to', 'jump-start', 'a', 'dormant', 'peacekeeping', 'program', 'called', 'ultron,', 'things', 'go', 'horribly', 'wrong', 'and', \"it's\", 'up', 'to', \"earth's\", 'mightiest', 'heroes', 'to', 'stop', 'the', 'villainous', 'ultron', 'from', 'enacting', 'his', 'terrible', 'plan.']),\n",
              "       list(['in', '1970s', 'los', 'angeles,', 'a', 'mismatched', 'pair', 'of', 'private', 'eyes', 'investigate', 'a', 'missing', 'girl', 'and', 'the', 'mysterious', 'death', 'of', 'a', 'porn', 'star.']),\n",
              "       list(['two', 'strangers', 'find', 'themselves', 'linked', 'in', 'a', 'bizarre', 'way.', 'when', 'a', 'connection', 'forms,', 'will', 'distance', 'be', 'the', 'only', 'thing', 'to', 'keep', 'them', 'apart?']),\n",
              "       list(['shortly', 'after', 'delivering', 'a', 'patient', 'to', 'an', 'understaffed', 'hospital,', 'a', 'police', 'officer', 'experiences', 'strange', 'and', 'violent', 'occurrences', 'seemingly', 'linked', 'to', 'a', 'group', 'of', 'mysterious', 'hooded', 'figures.']),\n",
              "       list(['a', 'personal', 'shopper', 'in', 'paris', 'refuses', 'to', 'leave', 'the', 'city', 'until', 'she', 'makes', 'contact', 'with', 'her', 'twin', 'brother', 'who', 'previously', 'died', 'there.', 'her', 'life', 'becomes', 'more', 'complicated', 'when', 'a', 'mysterious', 'person', 'contacts', 'her', 'via', 'text', 'message.']),\n",
              "       list(['an', 'undercover', 'cop', 'and', 'a', 'mole', 'in', 'the', 'police', 'attempt', 'to', 'identify', 'each', 'other', 'while', 'infiltrating', 'an', 'irish', 'gang', 'in', 'south', 'boston.']),\n",
              "       list(['identical', 'twin', 'gangsters', 'ronald', 'and', 'reginald', 'kray', 'terrorize', 'london', 'during', 'the', '1960s.']),\n",
              "       list(['the', 'powerful', 'but', 'arrogant', 'god', 'thor', 'is', 'cast', 'out', 'of', 'asgard', 'to', 'live', 'amongst', 'humans', 'in', 'midgard', '(earth),', 'where', 'he', 'soon', 'becomes', 'one', 'of', 'their', 'finest', 'defenders.']),\n",
              "       list(['an', 'astronaut', 'becomes', 'stranded', 'on', 'mars', 'after', 'his', 'team', 'assume', 'him', 'dead,', 'and', 'must', 'rely', 'on', 'his', 'ingenuity', 'to', 'find', 'a', 'way', 'to', 'signal', 'to', 'earth', 'that', 'he', 'is', 'alive.']),\n",
              "       list(['a', 'young', 'businessman', 'faces', 'a', 'lawyer', 'trying', 'to', 'prove', 'his', 'innocence', 'by', 'the', 'assassination', 'of', 'his', 'lover.']),\n",
              "       list(['in', 'the', 'early', '1960s,', 'cia', 'agent', 'napoleon', 'solo', 'and', 'kgb', 'operative', 'illya', 'kuryakin', 'participate', 'in', 'a', 'joint', 'mission', 'against', 'a', 'mysterious', 'criminal', 'organization,', 'which', 'is', 'working', 'to', 'proliferate', 'nuclear', 'weapons.']),\n",
              "       list(['a', 'divorced', 'father', 'and', 'his', 'ex-con', 'older', 'brother', 'resort', 'to', 'a', 'desperate', 'scheme', 'in', 'order', 'to', 'save', 'their', \"family's\", 'ranch', 'in', 'west', 'texas.']),\n",
              "       list(['a', 'look', 'at', 'the', 'life', 'of', 'an', 'aging', 'insult', 'comic', 'named', 'jack', 'burke.']),\n",
              "       list(['tarzan,', 'having', 'acclimated', 'to', 'life', 'in', 'london,', 'is', 'called', 'back', 'to', 'his', 'former', 'home', 'in', 'the', 'jungle', 'to', 'investigate', 'the', 'activities', 'at', 'a', 'mining', 'encampment.']),\n",
              "       list(['a', 'mother', 'struggles', 'to', 'make', 'a', 'better', 'life', 'for', 'her', 'daughter.']),\n",
              "       list(['a', 'young', 'programmer', 'is', 'selected', 'to', 'participate', 'in', 'a', 'ground-breaking', 'experiment', 'in', 'synthetic', 'intelligence', 'by', 'evaluating', 'the', 'human', 'qualities', 'of', 'a', 'breath-taking', 'humanoid', 'a.i.']),\n",
              "       list(['in', 'a', 'twisted', 'social', 'experiment,', '80', 'americans', 'are', 'locked', 'in', 'their', 'high-rise', 'corporate', 'office', 'in', 'bogotá,', 'colombia', 'and', 'ordered', 'by', 'an', 'unknown', 'voice', 'coming', 'from', 'the', \"company's\", 'intercom', 'system', 'to', 'participate', 'in', 'a', 'deadly', 'game', 'of', 'kill', 'or', 'be', 'killed.']),\n",
              "       list(['in', 'the', 'antebellum', 'united', 'states,', 'solomon', 'northup,', 'a', 'free', 'black', 'man', 'from', 'upstate', 'new', 'york,', 'is', 'abducted', 'and', 'sold', 'into', 'slavery.']),\n",
              "       list(['a', 'dystopian', 'love', 'story', 'in', 'a', 'texas', 'wasteland', 'and', 'set', 'in', 'a', 'community', 'of', 'cannibals.']),\n",
              "       list(['king', 'leonidas', 'of', 'sparta', 'and', 'a', 'force', 'of', '300', 'men', 'fight', 'the', 'persians', 'at', 'thermopylae', 'in', '480', 'b.c.']),\n",
              "       list(['harry,', 'ron', 'and', 'hermione', 'search', 'for', \"voldemort's\", 'remaining', 'horcruxes', 'in', 'their', 'effort', 'to', 'destroy', 'the', 'dark', 'lord', 'as', 'the', 'final', 'battle', 'rages', 'on', 'at', 'hogwarts.']),\n",
              "       list(['when', 'his', 'uptight', 'ceo', 'sister', 'threatens', 'to', 'shut', 'down', 'his', 'branch,', 'the', 'branch', 'manager', 'throws', 'an', 'epic', 'christmas', 'party', 'in', 'order', 'to', 'land', 'a', 'big', 'client', 'and', 'save', 'the', 'day,', 'but', 'the', 'party', 'gets', 'way', 'out', 'of', 'hand...']),\n",
              "       list(['when', 'aspiring', 'model', 'jesse', 'moves', 'to', 'los', 'angeles,', 'her', 'youth', 'and', 'vitality', 'are', 'devoured', 'by', 'a', 'group', 'of', 'beauty-obsessed', 'women', 'who', 'will', 'take', 'any', 'means', 'necessary', 'to', 'get', 'what', 'she', 'has.']),\n",
              "       list(['former', 'wrestler', 'mahavir', 'singh', 'phogat', 'and', 'his', 'two', 'wrestler', 'daughters', 'struggle', 'towards', 'glory', 'at', 'the', 'commonwealth', 'games', 'in', 'the', 'face', 'of', 'societal', 'oppression.']),\n",
              "       list(['after', 'getting', 'in', 'a', 'car', 'accident,', 'a', 'woman', 'is', 'held', 'in', 'a', 'shelter', 'with', 'two', 'men,', 'who', 'claim', 'the', 'outside', 'world', 'is', 'affected', 'by', 'a', 'widespread', 'chemical', 'attack.']),\n",
              "       list(['the', 'friendly', 'but', 'forgetful', 'blue', 'tang', 'fish,', 'dory,', 'begins', 'a', 'search', 'for', 'her', 'long-lost', 'parents,', 'and', 'everyone', 'learns', 'a', 'few', 'things', 'about', 'the', 'real', 'meaning', 'of', 'family', 'along', 'the', 'way.']),\n",
              "       list(['when', 'jacob', 'discovers', 'clues', 'to', 'a', 'mystery', 'that', 'stretches', 'across', 'time,', 'he', 'finds', 'miss', \"peregrine's\", 'home', 'for', 'peculiar', 'children.', 'but', 'the', 'danger', 'deepens', 'after', 'he', 'gets', 'to', 'know', 'the', 'residents', 'and', 'learns', 'about', 'their', 'special', 'powers.']),\n",
              "       list(['in', 'a', 'world', 'divided', 'by', 'factions', 'based', 'on', 'virtues,', 'tris', 'learns', \"she's\", 'divergent', 'and', \"won't\", 'fit', 'in.', 'when', 'she', 'discovers', 'a', 'plot', 'to', 'destroy', 'divergents,', 'tris', 'and', 'the', 'mysterious', 'four', 'must', 'find', 'out', 'what', 'makes', 'divergents', 'dangerous', 'before', \"it's\", 'too', 'late.']),\n",
              "       list(['two', 'hard-partying', 'brothers', 'place', 'an', 'online', 'ad', 'to', 'find', 'the', 'perfect', 'dates', 'for', 'their', \"sister's\", 'hawaiian', 'wedding.', 'hoping', 'for', 'a', 'wild', 'getaway,', 'the', 'boys', 'instead', 'find', 'themselves', 'out-hustled', 'by', 'an', 'uncontrollable', 'duo.']),\n",
              "       list(['in', 'the', 'fourth', 'installment', 'of', 'the', 'fighting', 'franchise,', 'boyka', 'is', 'shooting', 'for', 'the', 'big', 'leagues', 'when', 'an', 'accidental', 'death', 'in', 'the', 'ring', 'makes', 'him', 'question', 'everything', 'he', 'stands', 'for.']),\n",
              "       list(['eight', 'years', 'after', 'the', \"joker's\", 'reign', 'of', 'anarchy,', 'the', 'dark', 'knight,', 'with', 'the', 'help', 'of', 'the', 'enigmatic', 'selina,', 'is', 'forced', 'from', 'his', 'imposed', 'exile', 'to', 'save', 'gotham', 'city,', 'now', 'on', 'the', 'edge', 'of', 'total', 'annihilation,', 'from', 'the', 'brutal', 'guerrilla', 'terrorist', 'bane.']),\n",
              "       list(['after', 'a', 'threat', 'from', 'the', 'tiger', 'shere', 'khan', 'forces', 'him', 'to', 'flee', 'the', 'jungle,', 'a', 'man-cub', 'named', 'mowgli', 'embarks', 'on', 'a', 'journey', 'of', 'self', 'discovery', 'with', 'the', 'help', 'of', 'panther,', 'bagheera,', 'and', 'free', 'spirited', 'bear,', 'baloo.']),\n",
              "       list(['autobots', 'must', 'escape', 'sight', 'from', 'a', 'bounty', 'hunter', 'who', 'has', 'taken', 'control', 'of', 'the', 'human', 'serendipity:', 'unexpectedly,', 'optimus', 'prime', 'and', 'his', 'remaining', 'gang', 'turn', 'to', 'a', 'mechanic,', 'his', 'daughter,', 'and', 'her', 'back', 'street', 'racing', 'boyfriend', 'for', 'help.']),\n",
              "       list(['a', 'high', 'school', 'senior', 'finds', 'herself', 'immersed', 'in', 'an', 'online', 'game', 'of', 'truth', 'or', 'dare,', 'where', 'her', 'every', 'move', 'starts', 'to', 'become', 'manipulated', 'by', 'an', 'anonymous', 'community', 'of', '\"watchers.\"']),\n",
              "       list(['the', 'story', 'of', 'a', 'bride-to-be', 'trying', 'to', 'find', 'her', 'real', 'father', 'told', 'using', 'hit', 'songs', 'by', 'the', 'popular', \"'70s\", 'group', 'abba.']),\n",
              "       list(['a', 'frontiersman', 'on', 'a', 'fur', 'trading', 'expedition', 'in', 'the', '1820s', 'fights', 'for', 'survival', 'after', 'being', 'mauled', 'by', 'a', 'bear', 'and', 'left', 'for', 'dead', 'by', 'members', 'of', 'his', 'own', 'hunting', 'team.']),\n",
              "       list(['a', 'working-class', 'african-american', 'father', 'tries', 'to', 'raise', 'his', 'family', 'in', 'the', '1950s,', 'while', 'coming', 'to', 'terms', 'with', 'the', 'events', 'of', 'his', 'life.']),\n",
              "       list(['a', 'witch', 'tasks', 'a', 'childless', 'baker', 'and', 'his', 'wife', 'with', 'procuring', 'magical', 'items', 'from', 'classic', 'fairy', 'tales', 'to', 'reverse', 'the', 'curse', 'put', 'on', 'their', 'family', 'tree.']),\n",
              "       list(['a', 'mere', '200', 'yards', 'from', 'shore,', 'surfer', 'nancy', 'is', 'attacked', 'by', 'a', 'great', 'white', 'shark,', 'with', 'her', 'short', 'journey', 'to', 'safety', 'becoming', 'the', 'ultimate', 'contest', 'of', 'wills.']),\n",
              "       list(['a', 'promising', 'young', 'drummer', 'enrolls', 'at', 'a', 'cut-throat', 'music', 'conservatory', 'where', 'his', 'dreams', 'of', 'greatness', 'are', 'mentored', 'by', 'an', 'instructor', 'who', 'will', 'stop', 'at', 'nothing', 'to', 'realize', 'a', \"student's\", 'potential.']),\n",
              "       list(['hobbs', 'has', 'dominic', 'and', 'brian', 'reassemble', 'their', 'crew', 'to', 'take', 'down', 'a', 'team', 'of', 'mercenaries:', 'dominic', 'unexpectedly', 'gets', 'convoluted', 'also', 'facing', 'his', 'presumed', 'deceased', 'girlfriend,', 'letty.']),\n",
              "       list(['a', 'motorcycle', 'stunt', 'rider', 'turns', 'to', 'robbing', 'banks', 'as', 'a', 'way', 'to', 'provide', 'for', 'his', 'lover', 'and', 'their', 'newborn', 'child,', 'a', 'decision', 'that', 'puts', 'him', 'on', 'a', 'collision', 'course', 'with', 'an', 'ambitious', 'rookie', 'cop', 'navigating', 'a', 'department', 'ruled', 'by', 'a', 'corrupt', 'detective.']),\n",
              "       list(['violence', 'and', 'mayhem', 'ensue', 'after', 'a', 'hunter', 'stumbles', 'upon', 'a', 'drug', 'deal', 'gone', 'wrong', 'and', 'more', 'than', 'two', 'million', 'dollars', 'in', 'cash', 'near', 'the', 'rio', 'grande.']),\n",
              "       list(['a', 'writer', 'and', 'wall', 'street', 'trader,', 'nick,', 'finds', 'himself', 'drawn', 'to', 'the', 'past', 'and', 'lifestyle', 'of', 'his', 'millionaire', 'neighbor,', 'jay', 'gatsby.']),\n",
              "       list(['in', '1954,', 'a', 'u.s.', 'marshal', 'investigates', 'the', 'disappearance', 'of', 'a', 'murderess', 'who', 'escaped', 'from', 'a', 'hospital', 'for', 'the', 'criminally', 'insane.']),\n",
              "       list(['from', 'the', 'moment', 'the', 'new', 'reverend', 'climbs', 'the', 'pulpit,', 'liz', 'knows', 'she', 'and', 'her', 'family', 'are', 'in', 'great', 'danger.']),\n",
              "       list(['the', 'brash', 'james', 't.', 'kirk', 'tries', 'to', 'live', 'up', 'to', 'his', \"father's\", 'legacy', 'with', 'mr.', 'spock', 'keeping', 'him', 'in', 'check', 'as', 'a', 'vengeful', 'romulan', 'from', 'the', 'future', 'creates', 'black', 'holes', 'to', 'destroy', 'the', 'federation', 'one', 'planet', 'at', 'a', 'time.']),\n",
              "       list(['the', 'adventures', 'of', 'a', 'teenager', 'who', 'is', 'fresh', 'out', 'of', 'elementary', 'and', 'transitions', 'to', 'middle', 'school,', 'where', 'he', 'has', 'to', 'learn', 'the', 'consequences', 'and', 'responsibility', 'to', 'survive', 'the', 'year.']),\n",
              "       list(['four', 'denizens', 'in', 'the', 'world', 'of', 'high-finance', 'predict', 'the', 'credit', 'and', 'housing', 'bubble', 'collapse', 'of', 'the', 'mid-2000s,', 'and', 'decide', 'to', 'take', 'on', 'the', 'big', 'banks', 'for', 'their', 'greed', 'and', 'lack', 'of', 'foresight.']),\n",
              "       list(['a', 'young', 'boy', 'is', 'raised', 'within', 'the', 'confines', 'of', 'a', 'small', 'shed.']),\n",
              "       list(['with', 'the', 'help', 'of', 'a', 'german', 'bounty', 'hunter', ',', 'a', 'freed', 'slave', 'sets', 'out', 'to', 'rescue', 'his', 'wife', 'from', 'a', 'brutal', 'mississippi', 'plantation', 'owner.']),\n",
              "       list(['a', 'woman', 'is', 'hired', 'as', 'a', 'handmaiden', 'to', 'a', 'japanese', 'heiress,', 'but', 'secretly', 'she', 'is', 'involved', 'in', 'a', 'plot', 'to', 'defraud', 'her.']),\n",
              "       list(['high-school', 'life', 'gets', 'even', 'more', 'unbearable', 'for', 'nadine', 'when', 'her', 'best', 'friend,', 'krista,', 'starts', 'dating', 'her', 'older', 'brother.']),\n",
              "       list(['in', '1985', 'where', 'former', 'superheroes', 'exist,', 'the', 'murder', 'of', 'a', 'colleague', 'sends', 'active', 'vigilante', 'rorschach', 'into', 'his', 'own', 'sprawling', 'investigation,', 'uncovering', 'something', 'that', 'could', 'completely', 'change', 'the', 'course', 'of', 'history', 'as', 'we', 'know', 'it.']),\n",
              "       list(['two', 'co-dependent', 'high', 'school', 'seniors', 'are', 'forced', 'to', 'deal', 'with', 'separation', 'anxiety', 'after', 'their', 'plan', 'to', 'stage', 'a', 'booze-soaked', 'party', 'goes', 'awry.']),\n",
              "       list(['when', 'robert', 'langdon', 'wakes', 'up', 'in', 'an', 'italian', 'hospital', 'with', 'amnesia,', 'he', 'teams', 'up', 'with', 'dr.', 'sienna', 'brooks,', 'and', 'together', 'they', 'must', 'race', 'across', 'europe', 'against', 'the', 'clock', 'to', 'foil', 'a', 'deadly', 'global', 'plot.']),\n",
              "       list(['an', 'orphan', 'little', 'girl', 'befriends', 'a', 'benevolent', 'giant', 'who', 'takes', 'her', 'to', 'giant', 'country,', 'where', 'they', 'attempt', 'to', 'stop', 'the', 'man-eating', 'giants', 'that', 'are', 'invading', 'the', 'human', 'world.']),\n",
              "       list(['katniss', 'everdeen', 'voluntarily', 'takes', 'her', 'younger', \"sister's\", 'place', 'in', 'the', 'hunger', 'games:', 'a', 'televised', 'competition', 'in', 'which', 'two', 'teenagers', 'from', 'each', 'of', 'the', 'twelve', 'districts', 'of', 'panem', 'are', 'chosen', 'at', 'random', 'to', 'fight', 'to', 'the', 'death.']),\n",
              "       list(['summer,', 'new', 'york', 'city.', 'a', 'college', 'girl', 'falls', 'hard', 'for', 'a', 'guy', 'she', 'just', 'met.', 'after', 'a', 'night', 'of', 'partying', 'goes', 'wrong,', 'she', 'goes', 'to', 'wild', 'extremes', 'to', 'get', 'him', 'back.']),\n",
              "       list(['an', 'idealistic', 'fbi', 'agent', 'is', 'enlisted', 'by', 'a', 'government', 'task', 'force', 'to', 'aid', 'in', 'the', 'escalating', 'war', 'against', 'drugs', 'at', 'the', 'border', 'area', 'between', 'the', 'u.s.', 'and', 'mexico.']),\n",
              "       list(['twin', 'peaks', 'before', 'twin', 'peaks', '(1990)', 'and', 'at', 'the', 'same', 'time', 'not', 'always', 'and', 'entirely', 'in', 'the', 'same', 'place', 'as', 'twin', 'peaks:', 'fire', 'walk', 'with', 'me', '(1992).', 'a', 'feature', 'film', 'which', 'presents', 'deleted', 'scenes', 'from', 'twin', 'peaks:', 'fire', 'walk', 'with', 'me', '(1992)', 'assembled', 'together', 'for', 'the', 'first', 'time', 'in', 'an', 'untold', 'portion', 'of', 'the', \"story's\", 'prequel.']),\n",
              "       list(['warring', 'alien', 'and', 'predator', 'races', 'descend', 'on', 'a', 'rural', 'us', 'town,', 'where', 'unsuspecting', 'residents', 'must', 'band', 'together', 'for', 'any', 'chance', 'of', 'survival.']),\n",
              "       list(['as', 'a', 'war', 'between', 'humankind', 'and', 'monstrous', 'sea', 'creatures', 'wages', 'on,', 'a', 'former', 'pilot', 'and', 'a', 'trainee', 'are', 'paired', 'up', 'to', 'drive', 'a', 'seemingly', 'obsolete', 'special', 'weapon', 'in', 'a', 'desperate', 'effort', 'to', 'save', 'the', 'world', 'from', 'the', 'apocalypse.']),\n",
              "       list(['a', 'middle-aged', \"husband's\", 'life', 'changes', 'dramatically', 'when', 'his', 'wife', 'asks', 'him', 'for', 'a', 'divorce.', 'he', 'seeks', 'to', 'rediscover', 'his', 'manhood', 'with', 'the', 'help', 'of', 'a', 'newfound', 'friend,', 'jacob,', 'learning', 'to', 'pick', 'up', 'girls', 'at', 'bars.']),\n",
              "       list(['scott', 'pilgrim', 'must', 'defeat', 'his', 'new', \"girlfriend's\", 'seven', 'evil', 'exes', 'in', 'order', 'to', 'win', 'her', 'heart.']),\n",
              "       list(['exceptional', 'london', 'cop', 'nicholas', 'angel', 'is', 'involuntarily', 'transferred', 'to', 'a', 'quaint', 'english', 'village', 'and', 'paired', 'with', 'a', 'witless', 'new', 'partner.', 'while', 'on', 'the', 'beat,', 'nicholas', 'suspects', 'a', 'sinister', 'conspiracy', 'is', 'afoot', 'with', 'the', 'residents.']),\n",
              "       list(['after', 'a', 'failed', 'assassination', 'attempt,', 'a', 'soldier', 'finds', 'himself', 'stranded', 'in', 'the', 'desert.', 'exposed', 'to', 'the', 'elements,', 'he', 'must', 'survive', 'the', 'dangers', 'of', 'the', 'desert', 'and', 'battle', 'the', 'psychological', 'and', 'physical', 'tolls', 'of', 'the', 'treacherous', 'conditions.']),\n",
              "       list(['set', 'in', 'boston', 'in', '1978,', 'a', 'meeting', 'in', 'a', 'deserted', 'warehouse', 'between', 'two', 'gangs', 'turns', 'into', 'a', 'shootout', 'and', 'a', 'game', 'of', 'survival.']),\n",
              "       list(['the', 'x-men', 'send', 'wolverine', 'to', 'the', 'past', 'in', 'a', 'desperate', 'effort', 'to', 'change', 'history', 'and', 'prevent', 'an', 'event', 'that', 'results', 'in', 'doom', 'for', 'both', 'humans', 'and', 'mutants.']),\n",
              "       list(['jack', 'reacher', 'must', 'uncover', 'the', 'truth', 'behind', 'a', 'major', 'government', 'conspiracy', 'in', 'order', 'to', 'clear', 'his', 'name.', 'on', 'the', 'run', 'as', 'a', 'fugitive', 'from', 'the', 'law,', 'reacher', 'uncovers', 'a', 'potential', 'secret', 'from', 'his', 'past', 'that', 'could', 'change', 'his', 'life', 'forever.']),\n",
              "       list(['armed', 'with', 'a', 'licence', 'to', 'kill,', 'secret', 'agent', 'james', 'bond', 'sets', 'out', 'on', 'his', 'first', 'mission', 'as', '007', 'and', 'must', 'defeat', 'a', 'weapons', 'dealer', 'in', 'a', 'high', 'stakes', 'game', 'of', 'poker', 'at', 'casino', 'royale,', 'but', 'things', 'are', 'not', 'what', 'they', 'seem.']),\n",
              "       list(['a', 'teenage', 'girl', 'risks', 'everything', 'when', 'she', 'falls', 'in', 'love', 'with', 'a', 'vampire.']),\n",
              "       list(['the', 'four', 'horsemen', 'resurface', 'and', 'are', 'forcibly', 'recruited', 'by', 'a', 'tech', 'genius', 'to', 'pull', 'off', 'their', 'most', 'impossible', 'heist', 'yet.']),\n",
              "       list(['maria', 'altmann,', 'an', 'octogenarian', 'jewish', 'refugee,', 'takes', 'on', 'the', 'austrian', 'government', 'to', 'recover', 'artwork', 'she', 'believes', 'rightfully', 'belongs', 'to', 'her', 'family.']),\n",
              "       list(['during', 'an', 'attack', 'on', 'a', 'u.s.', 'compound', 'in', 'libya,', 'a', 'security', 'team', 'struggles', 'to', 'make', 'sense', 'out', 'of', 'the', 'chaos.']),\n",
              "       list(['a', 'cryptic', 'message', 'from', \"bond's\", 'past', 'sends', 'him', 'on', 'a', 'trail', 'to', 'uncover', 'a', 'sinister', 'organization.', 'while', 'm', 'battles', 'political', 'forces', 'to', 'keep', 'the', 'secret', 'service', 'alive,', 'bond', 'peels', 'back', 'the', 'layers', 'of', 'deceit', 'to', 'reveal', 'the', 'terrible', 'truth', 'behind', 'spectre.']),\n",
              "       list(['when', 'louis', 'bloom,', 'a', 'con', 'man', 'desperate', 'for', 'work,', 'muscles', 'into', 'the', 'world', 'of', 'l.a.', 'crime', 'journalism,', 'he', 'blurs', 'the', 'line', 'between', 'observer', 'and', 'participant', 'to', 'become', 'the', 'star', 'of', 'his', 'own', 'story.']),\n",
              "       list(['a', 'young', 'boy', 'named', 'kubo', 'must', 'locate', 'a', 'magical', 'suit', 'of', 'armour', 'worn', 'by', 'his', 'late', 'father', 'in', 'order', 'to', 'defeat', 'a', 'vengeful', 'spirit', 'from', 'the', 'past.']),\n",
              "       list(['two', 'estranged', 'brothers', 'reunite', 'at', 'their', 'missing', \"father's\", 'video', 'store', 'and', 'find', 'a', 'vcr', 'board', 'game', 'dubbed', \"'beyond\", 'the', \"gates'\", 'that', 'holds', 'a', 'connection', 'to', 'their', \"father's\", 'disappearance.']),\n",
              "       list(['a', 'lonely', 'writer', 'develops', 'an', 'unlikely', 'relationship', 'with', 'an', 'operating', 'system', 'designed', 'to', 'meet', 'his', 'every', 'need.']),\n",
              "       list(['when', 'the', 'newly', 'crowned', 'queen', 'elsa', 'accidentally', 'uses', 'her', 'power', 'to', 'turn', 'things', 'into', 'ice', 'to', 'curse', 'her', 'home', 'in', 'infinite', 'winter,', 'her', 'sister,', 'anna,', 'teams', 'up', 'with', 'a', 'mountain', 'man,', 'his', 'playful', 'reindeer,', 'and', 'a', 'snowman', 'to', 'change', 'the', 'weather', 'condition.']),\n",
              "       list(['bound', 'by', 'a', 'shared', 'destiny,', 'a', 'teen', 'bursting', 'with', 'scientific', 'curiosity', 'and', 'a', 'former', 'boy-genius', 'inventor', 'embark', 'on', 'a', 'mission', 'to', 'unearth', 'the', 'secrets', 'of', 'a', 'place', 'somewhere', 'in', 'time', 'and', 'space', 'that', 'exists', 'in', 'their', 'collective', 'memory.']),\n",
              "       list(['a', 'growing', 'nation', 'of', 'genetically', 'evolved', 'apes', 'led', 'by', 'caesar', 'is', 'threatened', 'by', 'a', 'band', 'of', 'human', 'survivors', 'of', 'the', 'devastating', 'virus', 'unleashed', 'a', 'decade', 'earlier.']),\n",
              "       list(['through', 'a', 'series', 'of', 'freak', 'occurrences,', 'a', 'group', 'of', 'actors', 'shooting', 'a', 'big-budget', 'war', 'movie', 'are', 'forced', 'to', 'become', 'the', 'soldiers', 'they', 'are', 'portraying.']),\n",
              "       list(['lorraine', 'and', 'ed', 'warren', 'travel', 'to', 'north', 'london', 'to', 'help', 'a', 'single', 'mother', 'raising', 'four', 'children', 'alone', 'in', 'a', 'house', 'plagued', 'by', 'a', 'malicious', 'spirit.']),\n",
              "       list(['armed', 'with', 'a', 'super-suit', 'with', 'the', 'astonishing', 'ability', 'to', 'shrink', 'in', 'scale', 'but', 'increase', 'in', 'strength,', 'cat', 'burglar', 'scott', 'lang', 'must', 'embrace', 'his', 'inner', 'hero', 'and', 'help', 'his', 'mentor,', 'dr.', 'hank', 'pym,', 'plan', 'and', 'pull', 'off', 'a', 'heist', 'that', 'will', 'save', 'the', 'world.']),\n",
              "       list([\"bridget's\", 'focus', 'on', 'single', 'life', 'and', 'her', 'career', 'is', 'interrupted', 'when', 'she', 'finds', 'herself', 'pregnant,', 'but', 'with', 'one', 'hitch', '...', 'she', 'can', 'only', 'be', 'fifty', 'percent', 'sure', 'of', 'the', 'identity', 'of', 'her', \"baby's\", 'father.']),\n",
              "       list(['a', 'family', 'in', '1630s', 'new', 'england', 'is', 'torn', 'apart', 'by', 'the', 'forces', 'of', 'witchcraft,', 'black', 'magic', 'and', 'possession.']),\n",
              "       list(['when', 'her', 'father', 'unexpectedly', 'passes', 'away,', 'young', 'ella', 'finds', 'herself', 'at', 'the', 'mercy', 'of', 'her', 'cruel', 'stepmother', 'and', 'her', 'scheming', 'step-sisters.', 'never', 'one', 'to', 'give', 'up', 'hope,', \"ella's\", 'fortunes', 'begin', 'to', 'change', 'after', 'meeting', 'a', 'dashing', 'stranger.']),\n",
              "       list(['marc', '(tom', 'hughes)', 'is', 'diagnosed', 'with', 'a', 'disease', 'and', 'is', 'given', 'one', 'year', 'left', 'to', 'live.', 'unable', 'to', 'accept', 'his', 'own', 'end,', 'he', 'decides', 'to', 'freeze', 'his', 'body.', 'sixty', 'years', 'later,', 'in', 'the', 'year', '2084,', 'he', '...', 'see', 'full', 'summary', '»']),\n",
              "       list(['while', 'both', 'participating', 'in', 'a', 'production', 'of', '\"death', 'of', 'a', 'salesman,\"', 'a', \"teacher's\", 'wife', 'is', 'assaulted', 'in', 'her', 'new', 'home,', 'which', 'leaves', 'him', 'determined', 'to', 'find', 'the', 'perpetrator', 'over', 'his', \"wife's\", 'traumatized', 'objections.']),\n",
              "       list(['murphy', 'is', 'an', 'american', 'living', 'in', 'paris', 'who', 'enters', 'a', 'highly', 'sexually', 'and', 'emotionally', 'charged', 'relationship', 'with', 'the', 'unstable', 'electra.', 'unaware', 'of', 'the', 'effect', 'it', 'will', 'have', 'on', 'their', 'relationship,', 'they', 'invite', 'their', 'pretty', 'neighbor', 'into', 'their', 'bed.']),\n",
              "       list(['19-year-old', 'billy', 'lynn', 'is', 'brought', 'home', 'for', 'a', 'victory', 'tour', 'after', 'a', 'harrowing', 'iraq', 'battle.', 'through', 'flashbacks', 'the', 'film', 'shows', 'what', 'really', 'happened', 'to', 'his', 'squad', '-', 'contrasting', 'the', 'realities', 'of', 'war', 'with', \"america's\", 'perceptions.']),\n",
              "       list(['in', 'the', 'aftermath', 'of', 'a', 'family', 'tragedy,', 'an', 'aspiring', 'author', 'is', 'torn', 'between', 'love', 'for', 'her', 'childhood', 'friend', 'and', 'the', 'temptation', 'of', 'a', 'mysterious', 'outsider.', 'trying', 'to', 'escape', 'the', 'ghosts', 'of', 'her', 'past,', 'she', 'is', 'swept', 'away', 'to', 'a', 'house', 'that', 'breathes,', 'bleeds', '-', 'and', 'remembers.']),\n",
              "       list(['a', 'mysterious', 'hollywood', 'stuntman', 'and', 'mechanic', 'moonlights', 'as', 'a', 'getaway', 'driver', 'and', 'finds', 'himself', 'in', 'trouble', 'when', 'he', 'helps', 'out', 'his', 'neighbor.']),\n",
              "       list(['having', 'thought', 'that', 'monogamy', 'was', 'never', 'possible,', 'a', 'commitment-phobic', 'career', 'woman', 'may', 'have', 'to', 'face', 'her', 'fears', 'when', 'she', 'meets', 'a', 'good', 'guy.']),\n",
              "       list(['a', 'lighthouse', 'keeper', 'and', 'his', 'wife', 'living', 'off', 'the', 'coast', 'of', 'western', 'australia', 'raise', 'a', 'baby', 'they', 'rescue', 'from', 'a', 'drifting', 'rowing', 'boat.']),\n",
              "       list(['an', 'unexpected', 'affair', 'quickly', 'escalates', 'into', 'a', 'heart-stopping', 'reality', 'for', 'two', 'women', 'whose', 'passionate', 'connection', 'changes', 'their', 'lives', 'forever.']),\n",
              "       list(['the', 'true', 'story', 'of', 'how', 'the', 'boston', 'globe', 'uncovered', 'the', 'massive', 'scandal', 'of', 'child', 'molestation', 'and', 'cover-up', 'within', 'the', 'local', 'catholic', 'archdiocese,', 'shaking', 'the', 'entire', 'catholic', 'church', 'to', 'its', 'core.']),\n",
              "       list(['a', 'corporate', 'risk-management', 'consultant', 'must', 'decide', 'whether', 'or', 'not', 'to', 'terminate', 'an', 'artificially', 'created', 'humanoid', 'being.']),\n",
              "       list(['the', 'youngest', 'son', 'of', 'an', 'alcoholic', 'former', 'boxer', 'returns', 'home,', 'where', \"he's\", 'trained', 'by', 'his', 'father', 'for', 'competition', 'in', 'a', 'mixed', 'martial', 'arts', 'tournament', '-', 'a', 'path', 'that', 'puts', 'the', 'fighter', 'on', 'a', 'collision', 'course', 'with', 'his', 'estranged,', 'older', 'brother.']),\n",
              "       list(['steve', 'rogers,', 'a', 'rejected', 'military', 'soldier', 'transforms', 'into', 'captain', 'america', 'after', 'taking', 'a', 'dose', 'of', 'a', '\"super-soldier', 'serum\".', 'but', 'being', 'captain', 'america', 'comes', 'at', 'a', 'price', 'as', 'he', 'attempts', 'to', 'take', 'down', 'a', 'war', 'monger', 'and', 'a', 'terrorist', 'organization.']),\n",
              "       list(['with', 'the', 'help', 'of', 'his', 'new', 'friends', 'alex', 'danyliuk', 'turns', 'to', 'a', 'life', 'of', 'crime', 'and', 'identity', 'theft.']),\n",
              "       list(['after', 'graduating', 'from', 'emory', 'university,', 'top', 'student', 'and', 'athlete', 'christopher', 'mccandless', 'abandons', 'his', 'possessions,', 'gives', 'his', 'entire', '$24,000', 'savings', 'account', 'to', 'charity', 'and', 'hitchhikes', 'to', 'alaska', 'to', 'live', 'in', 'the', 'wilderness.', 'along', 'the', 'way,', 'christopher', 'encounters', 'a', 'series', 'of', 'characters', 'that', 'shape', 'his', 'life.']),\n",
              "       list(['during', 'world', 'war', 'ii,', 'mathematician', 'alan', 'turing', 'tries', 'to', 'crack', 'the', 'enigma', 'code', 'with', 'help', 'from', 'fellow', 'mathematicians.']),\n",
              "       list(['after', 'he', 'reconnects', 'with', 'an', 'awkward', 'pal', 'from', 'high', 'school', 'through', 'facebook,', 'a', 'mild-mannered', 'accountant', 'is', 'lured', 'into', 'the', 'world', 'of', 'international', 'espionage.']),\n",
              "       list(['a', 'soldier', 'fighting', 'aliens', 'gets', 'to', 'relive', 'the', 'same', 'day', 'over', 'and', 'over', 'again,', 'the', 'day', 'restarting', 'every', 'time', 'he', 'dies.']),\n",
              "       list(['an', 'ambitious', 'young', 'executive', 'is', 'sent', 'to', 'retrieve', 'his', \"company's\", 'ceo', 'from', 'an', 'idyllic', 'but', 'mysterious', '\"wellness', 'center\"', 'at', 'a', 'remote', 'location', 'in', 'the', 'swiss', 'alps,', 'but', 'soon', 'suspects', 'that', 'the', \"spa's\", 'treatments', 'are', 'not', 'what', 'they', 'seem.']),\n",
              "       list(['the', \"nsa's\", 'illegal', 'surveillance', 'techniques', 'are', 'leaked', 'to', 'the', 'public', 'by', 'one', 'of', 'the', \"agency's\", 'employees,', 'edward', 'snowden,', 'in', 'the', 'form', 'of', 'thousands', 'of', 'classified', 'documents', 'distributed', 'to', 'the', 'press.']),\n",
              "       list(['after', 'being', 'held', 'captive', 'in', 'an', 'afghan', 'cave,', 'billionaire', 'engineer', 'tony', 'stark', 'creates', 'a', 'unique', 'weaponized', 'suit', 'of', 'armor', 'to', 'fight', 'evil.']),\n",
              "       list(['after', 'the', 'earth-shattering', 'revelations', 'of', 'insurgent,', 'tris', 'must', 'escape', 'with', 'four', 'beyond', 'the', 'wall', 'that', 'encircles', 'chicago,', 'to', 'finally', 'discover', 'the', 'shocking', 'truth', 'of', 'the', 'world', 'around', 'them.']),\n",
              "       list(['in', '1962,', 'the', 'united', 'states', 'government', 'enlists', 'the', 'help', 'of', 'mutants', 'with', 'superhuman', 'abilities', 'to', 'stop', 'a', 'malicious', 'dictator', 'who', 'is', 'determined', 'to', 'start', 'world', 'war', 'iii.']),\n",
              "       list(['when', 'a', 'young', 'vegetarian', 'undergoes', 'a', 'carnivorous', 'hazing', 'ritual', 'at', 'vet', 'school,', 'an', 'unbidden', 'taste', 'for', 'meat', 'begins', 'to', 'grow', 'in', 'her.']),\n",
              "       list(['a', 'quiet', 'observation', 'of', 'the', 'triumphs', 'and', 'defeats', 'of', 'daily', 'life,', 'along', 'with', 'the', 'poetry', 'evident', 'in', 'its', 'smallest', 'details.']),\n",
              "       list(['competition', 'between', 'the', 'maid', 'of', 'honor', 'and', 'a', 'bridesmaid,', 'over', 'who', 'is', 'the', \"bride's\", 'best', 'friend,', 'threatens', 'to', 'upend', 'the', 'life', 'of', 'an', 'out-of-work', 'pastry', 'chef.']),\n",
              "       list(['a', 'scientist', 'and', 'a', 'teacher', 'living', 'in', 'a', 'dystopian', 'future', 'embark', 'on', 'a', 'journey', 'of', 'survival', 'with', 'a', 'special', 'young', 'girl', 'named', 'melanie.']),\n",
              "       list(['in', 'the', 'aftermath', 'of', 'a', 'massive', 'earthquake', 'in', 'california,', 'a', 'rescue-chopper', 'pilot', 'makes', 'a', 'dangerous', 'journey', 'with', 'his', 'ex-wife', 'across', 'the', 'state', 'in', 'order', 'to', 'rescue', 'his', 'daughter.']),\n",
              "       list(['four', 'college', 'girls', 'hold', 'up', 'a', 'restaurant', 'in', 'order', 'to', 'fund', 'their', 'spring', 'break', 'vacation.', 'while', 'partying,', 'drinking,', 'and', 'taking', 'drugs,', 'they', 'are', 'arrested,', 'only', 'to', 'be', 'bailed', 'out', 'by', 'a', 'drug', 'and', 'arms', 'dealer.']),\n",
              "       list(['an', 'ancient', 'struggle', 'between', 'two', 'cybertronian', 'races,', 'the', 'heroic', 'autobots', 'and', 'the', 'evil', 'decepticons,', 'comes', 'to', 'earth,', 'with', 'a', 'clue', 'to', 'the', 'ultimate', 'power', 'held', 'by', 'a', 'teenager.']),\n",
              "       list(['obsessed', 'with', 'vengeance,', 'a', 'man', 'sets', 'out', 'to', 'find', 'out', 'why', 'he', 'was', 'kidnapped', 'and', 'locked', 'into', 'solitary', 'confinement', 'for', 'twenty', 'years', 'without', 'reason.']),\n",
              "       list(['when', 'dr.', 'jane', 'foster', 'gets', 'cursed', 'with', 'a', 'powerful', 'entity', 'known', 'as', 'the', 'aether,', 'thor', 'is', 'heralded', 'of', 'the', 'cosmic', 'event', 'known', 'as', 'the', 'convergence', 'and', 'the', 'genocidal', 'dark', 'elves.']),\n",
              "       list(['mortal', 'hero', 'bek', 'teams', 'with', 'the', 'god', 'horus', 'in', 'an', 'alliance', 'against', 'set,', 'the', 'merciless', 'god', 'of', 'darkness,', 'who', 'has', 'usurped', \"egypt's\", 'throne,', 'plunging', 'the', 'once', 'peaceful', 'and', 'prosperous', 'empire', 'into', 'chaos', 'and', 'conflict.']),\n",
              "       list(['as', 'steve', 'rogers', 'struggles', 'to', 'embrace', 'his', 'role', 'in', 'the', 'modern', 'world,', 'he', 'teams', 'up', 'with', 'a', 'fellow', 'avenger', 'and', 's.h.i.e.l.d', 'agent,', 'black', 'widow,', 'to', 'battle', 'a', 'new', 'threat', 'from', 'history:', 'an', 'assassin', 'known', 'as', 'the', 'winter', 'soldier.']),\n",
              "       list(['a', 'young', 'man', 'working', 'at', 'a', 'small', 'town', 'junkyard', 'discovers', 'and', 'befriends', 'a', 'creature', 'which', 'feeds', 'on', 'oil', 'being', 'sought', 'by', 'a', 'fracking', 'company.']),\n",
              "       list(['a', 'determined', 'young', 'woman', 'and', 'a', 'damaged', 'occultist', 'risk', 'their', 'lives', 'and', 'souls', 'to', 'perform', 'a', 'dangerous', 'ritual', 'that', 'will', 'grant', 'them', 'what', 'they', 'want.']),\n",
              "       list(['dave', 'lizewski', 'is', 'an', 'unnoticed', 'high', 'school', 'student', 'and', 'comic', 'book', 'fan', 'who', 'one', 'day', 'decides', 'to', 'become', 'a', 'superhero,', 'even', 'though', 'he', 'has', 'no', 'powers,', 'training', 'or', 'meaningful', 'reason', 'to', 'do', 'so.']),\n",
              "       list(['henry', 'is', 'resurrected', 'from', 'death', 'with', 'no', 'memory,', 'and', 'he', 'must', 'save', 'his', 'wife', 'from', 'a', 'telekinetic', 'warlord', 'with', 'a', 'plan', 'to', 'bio-engineer', 'soldiers.']),\n",
              "       list(['a', 'hot-shot', 'race-car', 'named', 'lightning', 'mcqueen', 'gets', 'waylaid', 'in', 'radiator', 'springs,', 'where', 'he', 'finds', 'the', 'true', 'meaning', 'of', 'friendship', 'and', 'family.']),\n",
              "       list(['a', 'young', 'woman', 'is', 'followed', 'by', 'an', 'unknown', 'supernatural', 'force', 'after', 'a', 'sexual', 'encounter.']),\n",
              "       list(['journalist', 'mikael', 'blomkvist', 'is', 'aided', 'in', 'his', 'search', 'for', 'a', 'woman', 'who', 'has', 'been', 'missing', 'for', 'forty', 'years', 'by', 'lisbeth', 'salander,', 'a', 'young', 'computer', 'hacker.']),\n",
              "       list(['a', 'veteran', 'pot', 'dealer', 'creates', 'a', 'fake', 'family', 'as', 'part', 'of', 'his', 'plan', 'to', 'move', 'a', 'huge', 'shipment', 'of', 'weed', 'into', 'the', 'u.s.', 'from', 'mexico.']),\n",
              "       list(['a', 'teenage', 'girl', 'with', 'nothing', 'to', 'lose', 'joins', 'a', 'traveling', 'magazine', 'sales', 'crew,', 'and', 'gets', 'caught', 'up', 'in', 'a', 'whirlwind', 'of', 'hard', 'partying,', 'law', 'bending', 'and', 'young', 'love', 'as', 'she', 'criss-crosses', 'the', 'midwest', 'with', 'a', 'band', 'of', 'misfits.']),\n",
              "       list(['in', 'a', 'dystopian', 'near', 'future,', 'single', 'people,', 'according', 'to', 'the', 'laws', 'of', 'the', 'city,', 'are', 'taken', 'to', 'the', 'hotel,', 'where', 'they', 'are', 'obliged', 'to', 'find', 'a', 'romantic', 'partner', 'in', 'forty-five', 'days', 'or', 'are', 'transformed', 'into', 'beasts', 'and', 'sent', 'off', 'into', 'the', 'woods.']),\n",
              "       list(['a', 'group', 'of', 'elite', 'warriors', 'parachute', 'into', 'an', 'unfamiliar', 'jungle', 'and', 'are', 'hunted', 'by', 'members', 'of', 'a', 'merciless', 'alien', 'race.']),\n",
              "       list(['a', 'vengeful', 'fairy', 'is', 'driven', 'to', 'curse', 'an', 'infant', 'princess,', 'only', 'to', 'discover', 'that', 'the', 'child', 'may', 'be', 'the', 'one', 'person', 'who', 'can', 'restore', 'peace', 'to', 'their', 'troubled', 'land.']),\n",
              "       list(['a', 'single', 'mom', 'tries', 'to', 'break', 'free', 'from', 'a', 'mysterious', 'organization', 'that', 'has', 'abducted', 'her.']),\n",
              "       list(['in', 'the', 'falangist', 'spain', 'of', '1944,', 'the', 'bookish', 'young', 'stepdaughter', 'of', 'a', 'sadistic', 'army', 'officer', 'escapes', 'into', 'an', 'eerie', 'but', 'captivating', 'fantasy', 'world.']),\n",
              "       list(['in', '1960s', 'new', 'york,', 'walter', 'stackhouse', 'is', 'a', 'successful', 'architect', 'married', 'to', 'the', 'beautiful', 'clara', 'who', 'leads', 'a', 'seemingly', 'perfect', 'life.', 'but', 'his', 'fascination', 'with', 'an', 'unsolved', 'murder', 'leads', 'him', 'into', 'a', 'spiral', 'of', 'chaos', 'as', 'he', 'is', 'forced', 'to', 'play', 'cat-and-mouse', 'with', 'a', 'clever', 'killer', 'and', 'an', 'overambitious', 'detective,', 'while', 'at', 'the', 'same', 'time', 'lusting', 'after', 'another', 'woman.']),\n",
              "       list(['as', 'the', 'mayan', 'kingdom', 'faces', 'its', 'decline,', 'the', 'rulers', 'insist', 'the', 'key', 'to', 'prosperity', 'is', 'to', 'build', 'more', 'temples', 'and', 'offer', 'human', 'sacrifices.', 'jaguar', 'paw,', 'a', 'young', 'man', 'captured', 'for', 'sacrifice,', 'flees', 'to', 'avoid', 'his', 'fate.']),\n",
              "       list(['ethan', 'and', 'team', 'take', 'on', 'their', 'most', 'impossible', 'mission', 'yet,', 'eradicating', 'the', 'syndicate', '-', 'an', 'international', 'rogue', 'organization', 'as', 'highly', 'skilled', 'as', 'they', 'are,', 'committed', 'to', 'destroying', 'the', 'imf.']),\n",
              "       list(['eric', 'and', 'fellow', 'warrior', 'sara,', 'raised', 'as', 'members', 'of', 'ice', 'queen', \"freya's\", 'army,', 'try', 'to', 'conceal', 'their', 'forbidden', 'love', 'as', 'they', 'fight', 'to', 'survive', 'the', 'wicked', 'intentions', 'of', 'both', 'freya', 'and', 'her', 'sister', 'ravenna.']),\n",
              "       list(['an', 'introvert', 'freshman', 'is', 'taken', 'under', 'the', 'wings', 'of', 'two', 'seniors', 'who', 'welcome', 'him', 'to', 'the', 'real', 'world.']),\n",
              "       list(['following', 'the', 'assassination', 'of', 'president', 'john', 'f.', 'kennedy,', 'first', 'lady', 'jacqueline', 'kennedy', 'fights', 'through', 'grief', 'and', 'trauma', 'to', 'regain', 'her', 'faith,', 'console', 'her', 'children,', 'and', 'define', 'her', \"husband's\", 'historic', 'legacy.']),\n",
              "       list(['a', 'mother', 'and', 'her', 'young', 'son', 'release', 'unimaginable', 'horrors', 'from', 'the', 'attic', 'of', 'their', 'rural', 'dream', 'home.']),\n",
              "       list(['the', 'adventures', 'of', 'gustave', 'h,', 'a', 'legendary', 'concierge', 'at', 'a', 'famous', 'hotel', 'from', 'the', 'fictional', 'republic', 'of', 'zubrowka', 'between', 'the', 'first', 'and', 'second', 'world', 'wars,', 'and', 'zero', 'moustafa,', 'the', 'lobby', 'boy', 'who', 'becomes', 'his', 'most', 'trusted', 'friend.']),\n",
              "       list(['when', 'an', 'unseen', 'enemy', 'threatens', 'mankind', 'by', 'taking', 'over', 'their', 'bodies', 'and', 'erasing', 'their', 'memories,', 'melanie', 'will', 'risk', 'everything', 'to', 'protect', 'the', 'people', 'she', 'cares', 'most', 'about,', 'proving', 'that', 'love', 'can', 'conquer', 'all', 'in', 'a', 'dangerous', 'new', 'world.']),\n",
              "       list(['a', 'grizzled', 'tank', 'commander', 'makes', 'tough', 'decisions', 'as', 'he', 'and', 'his', 'crew', 'fight', 'their', 'way', 'across', 'germany', 'in', 'april,', '1945.']),\n",
              "       list(['after', 'young', 'riley', 'is', 'uprooted', 'from', 'her', 'midwest', 'life', 'and', 'moved', 'to', 'san', 'francisco,', 'her', 'emotions', '-', 'joy,', 'fear,', 'anger,', 'disgust', 'and', 'sadness', '-', 'conflict', 'on', 'how', 'best', 'to', 'navigate', 'a', 'new', 'city,', 'house,', 'and', 'school.']),\n",
              "       list(['when', 'a', 'radio', 'falls', 'from', 'the', 'sky', 'into', 'the', 'hands', 'of', 'a', 'wide-eyed', 'tibetan', 'mastiff,', 'he', 'leaves', 'home', 'to', 'fulfill', 'his', 'dream', 'of', 'becoming', 'a', 'musician,', 'setting', 'into', 'motion', 'a', 'series', 'of', 'completely', 'unexpected', 'events.']),\n",
              "       list(['when', 'john', 'connor,', 'leader', 'of', 'the', 'human', 'resistance,', 'sends', 'sgt.', 'kyle', 'reese', 'back', 'to', '1984', 'to', 'protect', 'sarah', 'connor', 'and', 'safeguard', 'the', 'future,', 'an', 'unexpected', 'turn', 'of', 'events', 'creates', 'a', 'fractured', 'timeline.']),\n",
              "       list(['a', 'teenager', 'discovers', \"he's\", 'the', 'descendant', 'of', 'a', 'greek', 'god', 'and', 'sets', 'out', 'on', 'an', 'adventure', 'to', 'settle', 'an', 'on-going', 'battle', 'between', 'the', 'gods.']),\n",
              "       list(['in', '19th-century', 'france,', 'jean', 'valjean,', 'who', 'for', 'decades', 'has', 'been', 'hunted', 'by', 'the', 'ruthless', 'policeman', 'javert', 'after', 'breaking', 'parole,', 'agrees', 'to', 'care', 'for', 'a', 'factory', \"worker's\", 'daughter.', 'the', 'decision', 'changes', 'their', 'lives', 'forever.']),\n",
              "       list(['in', '2027,', 'in', 'a', 'chaotic', 'world', 'in', 'which', 'women', 'have', 'become', 'somehow', 'infertile,', 'a', 'former', 'activist', 'agrees', 'to', 'help', 'transport', 'a', 'miraculously', 'pregnant', 'woman', 'to', 'a', 'sanctuary', 'at', 'sea.']),\n",
              "       list(['the', 'story', 'of', 'a', 'teenage', 'boy,', 'his', 'mother,', 'and', 'two', 'other', 'women', 'who', 'help', 'raise', 'him', 'among', 'the', 'love', 'and', 'freedom', 'of', 'southern', 'california', 'of', '1979.']),\n",
              "       list(['a', 'desk-bound', 'cia', 'analyst', 'volunteers', 'to', 'go', 'undercover', 'to', 'infiltrate', 'the', 'world', 'of', 'a', 'deadly', 'arms', 'dealer,', 'and', 'prevent', 'diabolical', 'global', 'disaster.']),\n",
              "       list(['after', 'he', 'becomes', 'a', 'quadriplegic', 'from', 'a', 'paragliding', 'accident,', 'an', 'aristocrat', 'hires', 'a', 'young', 'man', 'from', 'the', 'projects', 'to', 'be', 'his', 'caregiver.']),\n",
              "       list(['anne', 'is', 'at', 'a', 'crossroads', 'in', 'her', 'life.', 'long', 'married', 'to', 'a', 'successful,', 'driven', 'but', 'inattentive', 'movie', 'producer,', 'she', 'unexpectedly', 'finds', 'herself', 'taking', 'a', 'car', 'trip', 'from', 'cannes', 'to', 'paris', 'with', 'a', '...', 'see', 'full', 'summary', '»']),\n",
              "       list(['three', 'teenagers', 'live', 'isolated,', 'without', 'leaving', 'their', 'house,', 'because', 'their', 'over-protective', 'parents', 'say', 'they', 'can', 'only', 'leave', 'when', 'their', 'dogtooth', 'falls', 'out.']),\n",
              "       list(['the', 'group', 'nwa', 'emerges', 'from', 'the', 'mean', 'streets', 'of', 'compton', 'in', 'los', 'angeles,', 'california,', 'in', 'the', 'mid-1980s', 'and', 'revolutionizes', 'hip', 'hop', 'culture', 'with', 'their', 'music', 'and', 'tales', 'about', 'life', 'in', 'the', 'hood.']),\n",
              "       list(['when', 'new', 'york', 'is', 'put', 'under', 'siege', 'by', 'oscorp,', 'it', 'is', 'up', 'to', 'spider-man', 'to', 'save', 'the', 'city', 'he', 'swore', 'to', 'protect', 'as', 'well', 'as', 'his', 'loved', 'ones.']),\n",
              "       list(['paranormal', 'investigators', 'ed', 'and', 'lorraine', 'warren', 'work', 'to', 'help', 'a', 'family', 'terrorized', 'by', 'a', 'dark', 'presence', 'in', 'their', 'farmhouse.']),\n",
              "       list(['three', 'buddies', 'wake', 'up', 'from', 'a', 'bachelor', 'party', 'in', 'las', 'vegas,', 'with', 'no', 'memory', 'of', 'the', 'previous', 'night', 'and', 'the', 'bachelor', 'missing.', 'they', 'make', 'their', 'way', 'around', 'the', 'city', 'in', 'order', 'to', 'find', 'their', 'friend', 'before', 'his', 'wedding.']),\n",
              "       list(['a', 'fleet', 'of', 'ships', 'is', 'forced', 'to', 'do', 'battle', 'with', 'an', 'armada', 'of', 'unknown', 'origins', 'in', 'order', 'to', 'discover', 'and', 'thwart', 'their', 'destructive', 'goals.']),\n",
              "       list(['a', 'substance,', 'designed', 'to', 'help', 'the', 'brain', 'repair', 'itself,', 'gives', 'rise', 'to', 'a', 'super-intelligent', 'chimp', 'who', 'leads', 'an', 'ape', 'uprising.']),\n",
              "       list(['rebecca', 'must', 'unlock', 'the', 'terror', 'behind', 'her', 'little', \"brother's\", 'experiences', 'that', 'once', 'tested', 'her', 'sanity,', 'bringing', 'her', 'face', 'to', 'face', 'with', 'an', 'entity', 'attached', 'to', 'their', 'mother.']),\n",
              "       list(['norman', 'oppenheimer', 'is', 'a', 'small', 'time', 'operator', 'who', 'befriends', 'a', 'young', 'politician', 'at', 'a', 'low', 'point', 'in', 'his', 'life.', 'three', 'years', 'later,', 'when', 'the', 'politician', 'becomes', 'an', 'influential', 'world', 'leader,', \"norman's\", 'life', 'dramatically', 'changes', 'for', 'better', 'and', 'worse.']),\n",
              "       list(['illustrated', 'upon', 'the', 'progress', 'of', 'his', 'latest', 'broadway', 'play,', 'a', 'former', 'popular', \"actor's\", 'struggle', 'to', 'cope', 'with', 'his', 'current', 'life', 'as', 'a', 'wasted', 'actor', 'is', 'shown.']),\n",
              "       list(['a', 'committed', 'dancer', 'wins', 'the', 'lead', 'role', 'in', 'a', 'production', 'of', \"tchaikovsky's\", '\"swan', 'lake\"', 'only', 'to', 'find', 'herself', 'struggling', 'to', 'maintain', 'her', 'sanity.']),\n",
              "       list(['the', 'lives', 'of', 'four', 'black', 'students', 'at', 'an', 'ivy', 'league', 'college.']),\n",
              "       list(['a', 'self-diagnosed', 'nymphomaniac', 'recounts', 'her', 'erotic', 'experiences', 'to', 'the', 'man', 'who', 'saved', 'her', 'after', 'a', 'beating.']),\n",
              "       list(['after', 'facing', 'shredder,', 'who', 'has', 'joined', 'forces', 'with', 'mad', 'scientist', 'baxter', 'stockman', 'and', 'henchmen', 'bebop', 'and', 'rocksteady', 'to', 'take', 'over', 'the', 'world,', 'the', 'turtles', 'must', 'confront', 'an', 'even', 'greater', 'nemesis:', 'the', 'notorious', 'krang.']),\n",
              "       list(['a', 'devoted', 'father', 'helps', 'two', 'stranded', 'young', 'women', 'who', 'knock', 'on', 'his', 'door,', 'but', 'his', 'kind', 'gesture', 'turns', 'into', 'a', 'dangerous', 'seduction', 'and', 'a', 'deadly', 'game', 'of', 'cat', 'and', 'mouse.']),\n",
              "       list(['right', 'before', 'his', 'wedding,', 'an', 'uptight', 'guy', 'is', 'tricked', 'into', 'driving', 'his', 'grandfather,', 'a', 'lecherous', 'former', 'army', 'lieutenant-colonel,', 'to', 'florida', 'for', 'spring', 'break.']),\n",
              "       list(['an', 'exploration', 'of', 'how', 'the', 'actions', 'of', 'individual', 'lives', 'impact', 'one', 'another', 'in', 'the', 'past,', 'present', 'and', 'future,', 'as', 'one', 'soul', 'is', 'shaped', 'from', 'a', 'killer', 'into', 'a', 'hero,', 'and', 'an', 'act', 'of', 'kindness', 'ripples', 'across', 'centuries', 'to', 'inspire', 'a', 'revolution.']),\n",
              "       list(['a', 'look', 'at', \"wolverine's\", 'early', 'life,', 'in', 'particular', 'his', 'time', 'with', 'the', 'government', 'squad', 'team', 'x', 'and', 'the', 'impact', 'it', 'will', 'have', 'on', 'his', 'later', 'years.']),\n",
              "       list(['four', 'friends', 'on', 'their', 'way', 'to', 'coachella', 'stop', 'off', 'in', 'los', 'angeles', 'to', 'tour', 'true-crime', 'occult', 'sites,', 'only', 'to', 'encounter', 'a', 'mysterious', 'young', 'runaway', 'who', 'puts', 'them', 'on', 'a', 'terrifying', 'path', 'to', 'ultimate', 'horror.']),\n",
              "       list([\"bond's\", 'loyalty', 'to', 'm', 'is', 'tested', 'when', 'her', 'past', 'comes', 'back', 'to', 'haunt', 'her.', 'whilst', 'mi6', 'comes', 'under', 'attack,', '007', 'must', 'track', 'down', 'and', 'destroy', 'the', 'threat,', 'no', 'matter', 'how', 'personal', 'the', 'cost.']),\n",
              "       list(['a', 'reluctant', 'hobbit,', 'bilbo', 'baggins,', 'sets', 'out', 'to', 'the', 'lonely', 'mountain', 'with', 'a', 'spirited', 'group', 'of', 'dwarves', 'to', 'reclaim', 'their', 'mountain', 'home', '-', 'and', 'the', 'gold', 'within', 'it', '-', 'from', 'the', 'dragon', 'smaug.']),\n",
              "       list(['a', 'pair', 'of', 'underachieving', 'cops', 'are', 'sent', 'back', 'to', 'a', 'local', 'high', 'school', 'to', 'blend', 'in', 'and', 'bring', 'down', 'a', 'synthetic', 'drug', 'ring.']),\n",
              "       list(['a', 'boy', 'growing', 'up', 'in', 'dublin', 'during', 'the', '1980s', 'escapes', 'his', 'strained', 'family', 'life', 'by', 'starting', 'a', 'band', 'to', 'impress', 'the', 'mysterious', 'girl', 'he', 'likes.']),\n",
              "       list(['an', 'orphan', 'girl', 'dreams', 'of', 'becoming', 'a', 'ballerina', 'and', 'flees', 'her', 'rural', 'brittany', 'for', 'paris,', 'where', 'she', 'passes', 'for', 'someone', 'else', 'and', 'accedes', 'to', 'the', 'position', 'of', 'pupil', 'at', 'the', 'grand', 'opera', 'house.']),\n",
              "       list(['a', 'veteran', 'assigned', 'to', 'extract', \"earth's\", 'remaining', 'resources', 'begins', 'to', 'question', 'what', 'he', 'knows', 'about', 'his', 'mission', 'and', 'himself.']),\n",
              "       list(['after', 'making', 'their', 'way', 'through', 'high', 'school', '(twice),', 'big', 'changes', 'are', 'in', 'store', 'for', 'officers', 'schmidt', 'and', 'jenko', 'when', 'they', 'go', 'deep', 'undercover', 'at', 'a', 'local', 'college.']),\n",
              "       list(['in', 'the', 'late', '1960s/early', '1970s,', 'a', 'san', 'francisco', 'cartoonist', 'becomes', 'an', 'amateur', 'detective', 'obsessed', 'with', 'tracking', 'down', 'the', 'zodiac', 'killer,', 'an', 'unidentified', 'individual', 'who', 'terrorizes', 'northern', 'california', 'with', 'a', 'killing', 'spree.']),\n",
              "       list(['in', '1980,', 'a', 'group', 'of', 'college', 'baseball', 'players', 'navigate', 'their', 'way', 'through', 'the', 'freedoms', 'and', 'responsibilities', 'of', 'unsupervised', 'adulthood.']),\n",
              "       list(['when', 'tony', \"stark's\", 'world', 'is', 'torn', 'apart', 'by', 'a', 'formidable', 'terrorist', 'called', 'the', 'mandarin,', 'he', 'starts', 'an', 'odyssey', 'of', 'rebuilding', 'and', 'retribution.']),\n",
              "       list(['an', 'fbi', 'agent', 'and', 'an', 'interpol', 'detective', 'track', 'a', 'team', 'of', 'illusionists', 'who', 'pull', 'off', 'bank', 'heists', 'during', 'their', 'performances', 'and', 'reward', 'their', 'audiences', 'with', 'the', 'money.']),\n",
              "       list(['detective', 'sherlock', 'holmes', 'and', 'his', 'stalwart', 'partner', 'watson', 'engage', 'in', 'a', 'battle', 'of', 'wits', 'and', 'brawn', 'with', 'a', 'nemesis', 'whose', 'plot', 'is', 'a', 'threat', 'to', 'all', 'of', 'england.']),\n",
              "       list(['two', 'separate', 'sets', 'of', 'voluptuous', 'women', 'are', 'stalked', 'at', 'different', 'times', 'by', 'a', 'scarred', 'stuntman', 'who', 'uses', 'his', '\"death', 'proof\"', 'cars', 'to', 'execute', 'his', 'murderous', 'plans.']),\n",
              "       list(['a', 'fictitious', 'love', 'story', 'loosely', 'inspired', 'by', 'the', 'lives', 'of', 'danish', 'artists', 'lili', 'elbe', 'and', 'gerda', 'wegener.', 'lili', 'and', \"gerda's\", 'marriage', 'and', 'work', 'evolve', 'as', 'they', 'navigate', \"lili's\", 'groundbreaking', 'journey', 'as', 'a', 'transgender', 'pioneer.']),\n",
              "       list(['having', 'endured', 'his', 'legendary', 'twelve', 'labors,', 'hercules,', 'the', 'greek', 'demigod,', 'has', 'his', 'life', 'as', 'a', 'sword-for-hire', 'tested', 'when', 'the', 'king', 'of', 'thrace', 'and', 'his', 'daughter', 'seek', 'his', 'aid', 'in', 'defeating', 'a', 'tyrannical', 'warlord.']),\n",
              "       list(['a', 'young', 'girl', 'is', 'institutionalized', 'by', 'her', 'abusive', 'stepfather,', 'retreating', 'to', 'an', 'alternative', 'reality', 'as', 'a', 'coping', 'strategy,', 'envisioning', 'a', 'plan', 'to', 'help', 'her', 'escape.']),\n",
              "       list(['a', 'suburban', 'couple', 'becomes', 'embroiled', 'in', 'an', 'international', 'espionage', 'plot', 'when', 'they', 'discover', 'that', 'their', 'seemingly', 'perfect', 'new', 'neighbors', 'are', 'government', 'spies.']),\n",
              "       list(['a', 'young', 'woman', 'discovers', 'her', 'destiny', 'as', 'an', 'heiress', 'of', 'intergalactic', 'nobility', 'and', 'must', 'fight', 'to', 'protect', 'the', 'inhabitants', 'of', 'earth', 'from', 'an', 'ancient', 'and', 'destructive', 'industry.']),\n",
              "       list(['a', 'guard', 'at', 'an', 'armored', 'car', 'company', 'in', 'the', 'southern', 'u.s.', 'organizes', 'one', 'of', 'the', 'biggest', 'bank', 'heists', 'in', 'american', 'history.', 'based', 'on', 'the', 'october', '1997', 'loomis', 'fargo', 'robbery.']),\n",
              "       list(['iris,', 'young', 'wife', 'of', 'a', 'businessman,', 'disappears', 'in', 'paris.', 'maybe', 'a', 'mechanic', 'with', 'many', 'debts', 'is', 'involved', 'in', 'the', 'strange', 'affair.', 'a', 'really', 'complicated', 'job', 'for', 'the', 'police.']),\n",
              "       list(['while', 'a', 'zombie', 'virus', 'breaks', 'out', 'in', 'south', 'korea,', 'passengers', 'struggle', 'to', 'survive', 'on', 'the', 'train', 'from', 'seoul', 'to', 'busan.']),\n",
              "       list(['beca,', 'a', 'freshman', 'at', 'barden', 'university,', 'is', 'cajoled', 'into', 'joining', 'the', 'bellas,', 'her', \"school's\", 'all-girls', 'singing', 'group.', 'injecting', 'some', 'much', 'needed', 'energy', 'into', 'their', 'repertoire,', 'the', 'bellas', 'take', 'on', 'their', 'male', 'rivals', 'in', 'a', 'campus', 'competition.']),\n",
              "       list(['when', 'their', 'new', 'next-door', 'neighbors', 'turn', 'out', 'to', 'be', 'a', 'sorority', 'even', 'more', 'debaucherous', 'than', 'the', 'fraternity', 'previously', 'living', 'there,', 'mac', 'and', 'kelly', 'team', 'with', 'their', 'former', 'enemy,', 'teddy,', 'to', 'bring', 'the', 'girls', 'down.']),\n",
              "       list(['a', 'german', 'soldier', 'tries', 'to', 'determine', 'if', 'the', 'dutch', 'resistance', 'has', 'planted', 'a', 'spy', 'to', 'infiltrate', 'the', 'home', 'of', 'kaiser', 'wilhelm', 'in', 'holland', 'during', 'the', 'onset', 'of', 'world', 'war', 'ii,', 'but', 'falls', 'for', 'a', 'young', 'jewish', 'dutch', 'woman', 'during', 'his', 'investigation.']),\n",
              "       list(['clark', 'kent,', 'one', 'of', 'the', 'last', 'of', 'an', 'extinguished', 'race', 'disguised', 'as', 'an', 'unremarkable', 'human,', 'is', 'forced', 'to', 'reveal', 'his', 'identity', 'when', 'earth', 'is', 'invaded', 'by', 'an', 'army', 'of', 'survivors', 'who', 'threaten', 'to', 'bring', 'the', 'planet', 'to', 'the', 'brink', 'of', 'destruction.']),\n",
              "       list(['travis', 'and', 'gabby', 'first', 'meet', 'as', 'neighbors', 'in', 'a', 'small', 'coastal', 'town', 'and', 'wind', 'up', 'in', 'a', 'relationship', 'that', 'is', 'tested', 'by', \"life's\", 'most', 'defining', 'events.']),\n",
              "       list(['manny,', 'diego,', 'and', 'sid', 'join', 'up', 'with', 'buck', 'to', 'fend', 'off', 'a', 'meteor', 'strike', 'that', 'would', 'destroy', 'the', 'world.']),\n",
              "       list(['a', 'smart', 'but', 'sensible', 'new', 'graduate', 'lands', 'a', 'job', 'as', 'an', 'assistant', 'to', 'miranda', 'priestly,', 'the', 'demanding', 'editor-in-chief', 'of', 'a', 'high', 'fashion', 'magazine.']),\n",
              "       list(['a', 'u.s.', 'customs', 'official', 'uncovers', 'a', 'money', 'laundering', 'scheme', 'involving', 'colombian', 'drug', 'lord', 'pablo', 'escobar.']),\n",
              "       list(['a', 'story', 'of', 'family,', 'religion,', 'hatred,', 'oil', 'and', 'madness,', 'focusing', 'on', 'a', 'turn-of-the-century', 'prospector', 'in', 'the', 'early', 'days', 'of', 'the', 'business.']),\n",
              "       list(['a', 'man', 'believes', 'he', 'has', 'put', 'his', 'mysterious', 'past', 'behind', 'him', 'and', 'has', 'dedicated', 'himself', 'to', 'beginning', 'a', 'new,', 'quiet', 'life.', 'but', 'when', 'he', 'meets', 'a', 'young', 'girl', 'under', 'the', 'control', 'of', 'ultra-violent', 'russian', 'gangsters,', 'he', \"can't\", 'stand', 'idly', 'by', '-', 'he', 'has', 'to', 'help', 'her.']),\n",
              "       list(['marcus', 'luttrell', 'and', 'his', 'team', 'set', 'out', 'on', 'a', 'mission', 'to', 'capture', 'or', 'kill', 'notorious', 'taliban', 'leader', 'ahmad', 'shah,', 'in', 'late', 'june', '2005.', 'marcus', 'and', 'his', 'team', 'are', 'left', 'to', 'fight', 'for', 'their', 'lives', 'in', 'one', 'of', 'the', 'most', 'valiant', 'efforts', 'of', 'modern', 'warfare.']),\n",
              "       list(['five', 'friends', 'go', 'for', 'a', 'break', 'at', 'a', 'remote', 'cabin,', 'where', 'they', 'get', 'more', 'than', 'they', 'bargained', 'for,', 'discovering', 'the', 'truth', 'behind', 'the', 'cabin', 'in', 'the', 'woods.']),\n",
              "       list(['after', 'playboy', 'bunny', 'shelley', 'is', 'kicked', 'out', 'of', 'the', 'playboy', 'mansion,', 'she', 'finds', 'a', 'job', 'as', 'the', 'house', 'mother', 'for', 'a', 'sorority', 'full', 'of', 'socially', 'awkward', 'girls.']),\n",
              "       list(['an', 'average', 'joe', 'meets', 'the', 'perfect', 'woman,', 'but', 'his', 'lack', 'of', 'confidence', 'and', 'the', 'influence', 'of', 'his', 'friends', 'and', 'family', 'begin', 'to', 'pick', 'away', 'at', 'the', 'relationship.']),\n",
              "       list(['in', '1970,', 'drug-fueled', 'los', 'angeles', 'private', 'investigator', 'larry', '\"doc\"', 'sportello', 'investigates', 'the', 'disappearance', 'of', 'a', 'former', 'girlfriend.']),\n",
              "       list(['alice', 'returns', 'to', 'the', 'whimsical', 'world', 'of', 'wonderland', 'and', 'travels', 'back', 'in', 'time', 'to', 'help', 'the', 'mad', 'hatter.']),\n",
              "       list(['a', 'small', 'town', 'loner', 'and', 'a', 'rebellious', 'punk', 'rocker', 'unexpectedly', 'fall', 'in', 'love', 'as', 'they', 'are', 'forced', 'on', 'the', 'run', 'and', 'soon', 'discover', 'violence', 'follows', 'them', 'everywhere.']),\n",
              "       list(['a', 'teenager', 'becomes', 'a', 'major', 'competitor', 'in', 'the', 'world', 'of', 'drift', 'racing', 'after', 'moving', 'in', 'with', 'his', 'father', 'in', 'tokyo', 'to', 'avoid', 'a', 'jail', 'sentence', 'in', 'america.']),\n",
              "       list(['a', 'group', 'of', 'young', 'adults', 'navigate', 'love', 'and', 'relationships', 'in', 'new', 'york', 'city.']),\n",
              "       list(['the', 'story', 'of', 'michael', 'oher,', 'a', 'homeless', 'and', 'traumatized', 'boy', 'who', 'became', 'an', 'all', 'american', 'football', 'player', 'and', 'first', 'round', 'nfl', 'draft', 'pick', 'with', 'the', 'help', 'of', 'a', 'caring', 'woman', 'and', 'her', 'family.']),\n",
              "       list([\"adèle's\", 'life', 'is', 'changed', 'when', 'she', 'meets', 'emma,', 'a', 'young', 'woman', 'with', 'blue', 'hair,', 'who', 'will', 'allow', 'her', 'to', 'discover', 'desire', 'and', 'to', 'assert', 'herself', 'as', 'a', 'woman', 'and', 'as', 'an', 'adult.', 'in', 'front', 'of', 'others,', 'adèle', 'grows,', 'seeks', 'herself,', 'loses', 'herself,', 'and', 'ultimately', 'finds', 'herself', 'through', 'love', 'and', 'loss.']),\n",
              "       list(['a', 'single', 'mother,', 'plagued', 'by', 'the', 'violent', 'death', 'of', 'her', 'husband,', 'battles', 'with', 'her', \"son's\", 'fear', 'of', 'a', 'monster', 'lurking', 'in', 'the', 'house,', 'but', 'soon', 'discovers', 'a', 'sinister', 'presence', 'all', 'around', 'her.']),\n",
              "       list(['bilbo', 'and', 'company', 'are', 'forced', 'to', 'engage', 'in', 'a', 'war', 'against', 'an', 'array', 'of', 'combatants', 'and', 'keep', 'the', 'lonely', 'mountain', 'from', 'falling', 'into', 'the', 'hands', 'of', 'a', 'rising', 'darkness.']),\n",
              "       list(['with', 'their', 'warning', 'about', 'lord', \"voldemort's\", 'return', 'scoffed', 'at,', 'harry', 'and', 'dumbledore', 'are', 'targeted', 'by', 'the', 'wizard', 'authorities', 'as', 'an', 'authoritarian', 'bureaucrat', 'slowly', 'seizes', 'power', 'at', 'hogwarts.']),\n",
              "       list(['set', 'in', 'a', 'future', 'where', 'a', 'failed', 'climate-change', 'experiment', 'kills', 'all', 'life', 'on', 'the', 'planet', 'except', 'for', 'a', 'lucky', 'few', 'who', 'boarded', 'the', 'snowpiercer,', 'a', 'train', 'that', 'travels', 'around', 'the', 'globe,', 'where', 'a', 'class', 'system', 'emerges.']),\n",
              "       list(['four', 'waves', 'of', 'increasingly', 'deadly', 'alien', 'attacks', 'have', 'left', 'most', 'of', 'earth', 'decimated.', 'cassie', 'is', 'on', 'the', 'run,', 'desperately', 'trying', 'to', 'save', 'her', 'younger', 'brother.']),\n",
              "       list(['when', 'his', 'home', 'of', 'new', 'eden', 'is', 'destroyed', 'by', 'a', 'revitalized', 'brotherhood', 'and', 'its', 'new', 'vamp', 'leader,', 'martin', 'finds', 'himself', 'alone', 'in', 'the', 'badlands', 'of', 'america', 'with', 'only', 'the', 'distant', 'memory', 'of', 'his', 'mentor', 'and', 'legendary', 'vampire', 'hunter,', 'mister,', 'to', 'guide', 'him.']),\n",
              "       list(['two', 'siblings', 'become', 'increasingly', 'frightened', 'by', 'their', \"grandparents'\", 'disturbing', 'behavior', 'while', 'visiting', 'them', 'on', 'vacation.']),\n",
              "       list(['dominic', 'toretto', 'and', 'his', 'crew', 'of', 'street', 'racers', 'plan', 'a', 'massive', 'heist', 'to', 'buy', 'their', 'freedom', 'while', 'in', 'the', 'sights', 'of', 'a', 'powerful', 'brazilian', 'drug', 'lord', 'and', 'a', 'dangerous', 'federal', 'agent.']),\n",
              "       list(['tyler', 'gage', 'receives', 'the', 'opportunity', 'of', 'a', 'lifetime', 'after', 'vandalizing', 'a', 'performing', 'arts', 'school,', 'gaining', 'him', 'the', 'chance', 'to', 'earn', 'a', 'scholarship', 'and', 'dance', 'with', 'an', 'up', 'and', 'coming', 'dancer,', 'nora.']),\n",
              "       list(['the', 'relationship', 'between', 'two', 'friends', 'deepens', 'during', 'an', 'impromptu', 'road', 'trip.']),\n",
              "       list(['in', 'london,', 'a', 'real-estate', 'scam', 'puts', 'millions', 'of', 'pounds', 'up', 'for', 'grabs,', 'attracting', 'some', 'of', 'the', \"city's\", 'scrappiest', 'tough', 'guys', 'and', 'its', 'more', 'established', 'underworld', 'types,', 'all', 'of', 'whom', 'are', 'looking', 'to', 'get', 'rich', 'quick.', 'while', 'the', \"city's\", 'seasoned', 'criminals', 'vie', 'for', 'the', 'cash,', 'an', 'unexpected', 'player', '--', 'a', 'drugged-out', 'rock', \"'n'\", 'roller', 'presumed', 'to', 'be', 'dead', 'but', 'very', 'much', 'alive', '--', 'has', 'a', 'multi-million-dollar', 'prize', 'fall', 'into...', 'see', 'full', 'summary', '»']),\n",
              "       list(['in', 'a', 'future', 'where', 'people', 'stop', 'aging', 'at', '25,', 'but', 'are', 'engineered', 'to', 'live', 'only', 'one', 'more', 'year,', 'having', 'the', 'means', 'to', 'buy', 'your', 'way', 'out', 'of', 'the', 'situation', 'is', 'a', 'shot', 'at', 'immortal', 'youth.', 'here,', 'will', 'salas', 'finds', 'himself', 'accused', 'of', 'murder', 'and', 'on', 'the', 'run', 'with', 'a', 'hostage', '-', 'a', 'connection', 'that', 'becomes', 'an', 'important', 'part', 'of', 'the', 'way', 'against', 'the', 'system.']),\n",
              "       list(['harvard', 'student', 'mark', 'zuckerberg', 'creates', 'the', 'social', 'networking', 'site', 'that', 'would', 'become', 'known', 'as', 'facebook,', 'but', 'is', 'later', 'sued', 'by', 'two', 'brothers', 'who', 'claimed', 'he', 'stole', 'their', 'idea,', 'and', 'the', 'co-founder', 'who', 'was', 'later', 'squeezed', 'out', 'of', 'the', 'business.']),\n",
              "       list(['the', 'last', 'witch', 'hunter', 'is', 'all', 'that', 'stands', 'between', 'humanity', 'and', 'the', 'combined', 'forces', 'of', 'the', 'most', 'horrifying', 'witches', 'in', 'history.']),\n",
              "       list(['told', 'from', \"igor's\", 'perspective,', 'we', 'see', 'the', 'troubled', 'young', \"assistant's\", 'dark', 'origins,', 'his', 'redemptive', 'friendship', 'with', 'the', 'young', 'medical', 'student', 'viktor', 'von', 'frankenstein,', 'and', 'become', 'eyewitnesses', 'to', 'the', 'emergence', 'of', 'how', 'frankenstein', 'became', 'the', 'man', '-', 'and', 'the', 'legend', '-', 'we', 'know', 'today.']),\n",
              "       list(['based', 'on', 'the', 'international', 'best', 'selling', 'book.', 'the', 'true', 'feel', 'good', 'story', 'of', 'how', 'james', 'bowen,', 'a', 'busker', 'and', 'recovering', 'drug', 'addict,', 'had', 'his', 'life', 'transformed', 'when', 'he', 'met', 'a', 'stray', 'ginger', 'cat.']),\n",
              "       list(['a', 'punk', 'rock', 'band', 'is', 'forced', 'to', 'fight', 'for', 'survival', 'after', 'witnessing', 'a', 'murder', 'at', 'a', 'neo-nazi', 'skinhead', 'bar.']),\n",
              "       list(['a', 'furloughed', 'convict', 'and', 'his', 'american', 'and', 'chinese', 'partners', 'hunt', 'a', 'high-level', 'cybercrime', 'network', 'from', 'chicago', 'to', 'los', 'angeles', 'to', 'hong', 'kong', 'to', 'jakarta.']),\n",
              "       list(['storks', 'have', 'moved', 'on', 'from', 'delivering', 'babies', 'to', 'packages.', 'but', 'when', 'an', 'order', 'for', 'a', 'baby', 'appears,', 'the', 'best', 'delivery', 'stork', 'must', 'scramble', 'to', 'fix', 'the', 'error', 'by', 'delivering', 'the', 'baby.']),\n",
              "       list(['navy', 's.e.a.l.', 'sniper', 'chris', \"kyle's\", 'pinpoint', 'accuracy', 'saves', 'countless', 'lives', 'on', 'the', 'battlefield', 'and', 'turns', 'him', 'into', 'a', 'legend.', 'back', 'home', 'to', 'his', 'wife', 'and', 'kids', 'after', 'four', 'tours', 'of', 'duty,', 'however,', 'chris', 'finds', 'that', 'it', 'is', 'the', 'war', 'he', \"can't\", 'leave', 'behind.']),\n",
              "       list(['in', '1985', 'dallas,', 'electrician', 'and', 'hustler', 'ron', 'woodroof', 'works', 'around', 'the', 'system', 'to', 'help', 'aids', 'patients', 'get', 'the', 'medication', 'they', 'need', 'after', 'he', 'is', 'diagnosed', 'with', 'the', 'disease.']),\n",
              "       list(['as', 'the', 'war', 'continues', 'to', 'rage,', \"america's\", 'president', 'struggles', 'with', 'continuing', 'carnage', 'on', 'the', 'battlefield', 'as', 'he', 'fights', 'with', 'many', 'inside', 'his', 'own', 'cabinet', 'on', 'the', 'decision', 'to', 'emancipate', 'the', 'slaves.']),\n",
              "       list(['the', 'merciless', '1970s', 'rivalry', 'between', 'formula', 'one', 'rivals', 'james', 'hunt', 'and', 'niki', 'lauda.']),\n",
              "       list(['a', 'young', 'couple', 'adopt', 'an', 'orphaned', 'child', 'whose', 'dreams', '-', 'and', 'nightmares', '-', 'manifest', 'physically', 'as', 'he', 'sleeps.']),\n",
              "       list(['after', 'a', 'stint', 'in', 'a', 'mental', 'institution,', 'former', 'teacher', 'pat', 'solitano', 'moves', 'back', 'in', 'with', 'his', 'parents', 'and', 'tries', 'to', 'reconcile', 'with', 'his', 'ex-wife.', 'things', 'get', 'more', 'challenging', 'when', 'pat', 'meets', 'tiffany,', 'a', 'mysterious', 'girl', 'with', 'problems', 'of', 'her', 'own.']),\n",
              "       list(['a', 'young,', 'talented,', 'and', 'lonely', 'long-distance', 'runner', 'twists', 'her', 'ankle', 'as', 'she', 'prepares', 'for', 'the', 'olympic', 'trials', 'and', 'must', 'do', 'something', \"she's\", 'never', 'done', 'before:', 'take', 'a', 'day', 'off.']),\n",
              "       list(['two', 'teenage', 'cancer', 'patients', 'begin', 'a', 'life-affirming', 'journey', 'to', 'visit', 'a', 'reclusive', 'author', 'in', 'amsterdam.']),\n",
              "       list(['after', 'a', 'bad', 'blind', 'date,', 'a', 'man', 'and', 'woman', 'find', 'themselves', 'stuck', 'together', 'at', 'a', 'resort', 'for', 'families,', 'where', 'their', 'attraction', 'grows', 'as', 'their', 'respective', 'kids', 'benefit', 'from', 'the', 'burgeoning', 'relationship.']),\n",
              "       list(['brian', \"o'conner,\", 'back', 'working', 'for', 'the', 'fbi', 'in', 'los', 'angeles,', 'teams', 'up', 'with', 'dominic', 'toretto', 'to', 'bring', 'down', 'a', 'heroin', 'importer', 'by', 'infiltrating', 'his', 'operation.']),\n",
              "       list(['in', '2074,', 'when', 'the', 'mob', 'wants', 'to', 'get', 'rid', 'of', 'someone,', 'the', 'target', 'is', 'sent', 'into', 'the', 'past,', 'where', 'a', 'hired', 'gun', 'awaits', '-', 'someone', 'like', 'joe', '-', 'who', 'one', 'day', 'learns', 'the', 'mob', 'wants', 'to', \"'close\", 'the', \"loop'\", 'by', 'sending', 'back', \"joe's\", 'future', 'self', 'for', 'assassination.']),\n",
              "       list(['while', 'on', 'a', 'tour', 'of', 'the', 'white', 'house', 'with', 'his', 'young', 'daughter,', 'a', 'capitol', 'policeman', 'springs', 'into', 'action', 'to', 'save', 'his', 'child', 'and', 'protect', 'the', 'president', 'from', 'a', 'heavily', 'armed', 'group', 'of', 'paramilitary', 'invaders.']),\n",
              "       list(['the', 'adventures', 'of', 'an', 'orphaned', 'boy', 'named', 'pete', 'and', 'his', 'best', 'friend', 'elliot,', 'who', 'just', 'so', 'happens', 'to', 'be', 'a', 'dragon.']),\n",
              "       list(['a', 'strange', 'black', 'entity', 'from', 'another', 'world', 'bonds', 'with', 'peter', 'parker', 'and', 'causes', 'inner', 'turmoil', 'as', 'he', 'contends', 'with', 'new', 'villains,', 'temptations,', 'and', 'revenge.']),\n",
              "       list(['the', 'hot-headed', 'young', \"d'artagnan\", 'along', 'with', 'three', 'former', 'legendary', 'but', 'now', 'down', 'on', 'their', 'luck', 'musketeers', 'must', 'unite', 'and', 'defeat', 'a', 'beautiful', 'double', 'agent', 'and', 'her', 'villainous', 'employer', 'from', 'seizing', 'the', 'french', 'throne', 'and', 'engulfing', 'europe', 'in', 'war.']),\n",
              "       list(['in', 'a', 'countryside', 'town', 'bordering', 'on', 'a', 'magical', 'land,', 'a', 'young', 'man', 'makes', 'a', 'promise', 'to', 'his', 'beloved', 'that', \"he'll\", 'retrieve', 'a', 'fallen', 'star', 'by', 'venturing', 'into', 'the', 'magical', 'realm.']),\n",
              "       list(['a', 'con', 'man,', 'irving', 'rosenfeld,', 'along', 'with', 'his', 'seductive', 'partner', 'sydney', 'prosser,', 'is', 'forced', 'to', 'work', 'for', 'a', 'wild', 'fbi', 'agent,', 'richie', 'dimaso,', 'who', 'pushes', 'them', 'into', 'a', 'world', 'of', 'jersey', 'powerbrokers', 'and', 'mafia.']),\n",
              "       list(['a', 'newly', 'possessed', 'high', 'school', 'cheerleader', 'turns', 'into', 'a', 'succubus', 'who', 'specializes', 'in', 'killing', 'her', 'male', 'classmates.', 'can', 'her', 'best', 'friend', 'put', 'an', 'end', 'to', 'the', 'horror?']),\n",
              "       list(['while', 'on', 'a', 'trip', 'to', 'paris', 'with', 'his', \"fiancée's\", 'family,', 'a', 'nostalgic', 'screenwriter', 'finds', 'himself', 'mysteriously', 'going', 'back', 'to', 'the', '1920s', 'everyday', 'at', 'midnight.']),\n",
              "       list(['set', 'in', '19th', 'century', 'rural', 'england,', 'young', 'bride', 'who', 'has', 'been', 'sold', 'into', 'marriage', 'to', 'a', 'middle-aged', 'man', 'discovers', 'an', 'unstoppable', 'desire', 'within', 'herself', 'as', 'she', 'enters', 'into', 'an', 'affair', 'with', 'a', 'work', 'on', 'her', 'estate.']),\n",
              "       list(['joy', 'is', 'the', 'story', 'of', 'the', 'title', 'character,', 'who', 'rose', 'to', 'become', 'founder', 'and', 'matriarch', 'of', 'a', 'powerful', 'family', 'business', 'dynasty.']),\n",
              "       list(['a', 'glamorous', 'woman', 'returns', 'to', 'her', 'small', 'town', 'in', 'rural', 'australia.', 'with', 'her', 'sewing', 'machine', 'and', 'haute', 'couture', 'style,', 'she', 'transforms', 'the', 'women', 'and', 'exacts', 'sweet', 'revenge', 'on', 'those', 'who', 'did', 'her', 'wrong.']),\n",
              "       list(['in', 'the', '1930s,', 'a', 'bronx', 'native', 'moves', 'to', 'hollywood', 'and', 'falls', 'in', 'love', 'with', 'a', 'young', 'woman', 'who', 'is', 'seeing', 'a', 'married', 'man.']),\n",
              "       list(['beatrice', 'prior', 'must', 'confront', 'her', 'inner', 'demons', 'and', 'continue', 'her', 'fight', 'against', 'a', 'powerful', 'alliance', 'which', 'threatens', 'to', 'tear', 'her', 'society', 'apart', 'with', 'the', 'help', 'from', 'others', 'on', 'her', 'side.']),\n",
              "       list(['when', 'mother', 'malkin,', 'the', 'queen', 'of', 'evil', 'witches,', 'escapes', 'the', 'pit', 'she', 'was', 'imprisoned', 'in', 'by', 'professional', 'monster', 'hunter', 'spook', 'decades', 'ago', 'and', 'kills', 'his', 'apprentice,', 'he', 'recruits', 'young', 'tom,', 'the', 'seventh', 'son', 'of', 'the', 'seventh', 'son,', 'to', 'help', 'him.']),\n",
              "       list(['samuel', 'parties', 'hard', 'in', 'the', 'marseille', 'area', 'of', 'france', 'and', 'is', 'awoken', 'one', 'morning', 'by', 'a', 'woman', 'carrying', 'a', 'baby', 'she', 'claims', 'is', 'his.', 'she', 'drives', 'off', 'leaving', 'him', 'with', 'a', 'wailing', 'infant;', 'he', 'gives', 'chase', '...', 'see', 'full', 'summary', '»']),\n",
              "       list(['a', 'look', 'at', 'the', 'relationship', 'between', 'the', 'famous', 'physicist', 'stephen', 'hawking', 'and', 'his', 'wife.']),\n",
              "       list(['while', 'attending', 'a', 'party', 'at', 'james', \"franco's\", 'house,', 'seth', 'rogen,', 'jay', 'baruchel', 'and', 'many', 'other', 'celebrities', 'are', 'faced', 'with', 'the', 'biblical', 'apocalypse.']),\n",
              "       list(['at', 'the', 'age', 'of', '21,', 'tim', 'discovers', 'he', 'can', 'travel', 'in', 'time', 'and', 'change', 'what', 'happens', 'and', 'has', 'happened', 'in', 'his', 'own', 'life.', 'his', 'decision', 'to', 'make', 'his', 'world', 'a', 'better', 'place', 'by', 'getting', 'a', 'girlfriend', 'turns', 'out', 'not', 'to', 'be', 'as', 'easy', 'as', 'you', 'might', 'think.']),\n",
              "       list(['two', 'aimless', 'middle-aged', 'losers', 'still', 'living', 'at', 'home', 'are', 'forced', 'against', 'their', 'will', 'to', 'become', 'roommates', 'when', 'their', 'parents', 'marry.']),\n",
              "       list(['a', 'loving', 'father', 'finds', 'a', 'clown', 'suit', 'for', 'his', \"son's\", 'birthday', 'party,', 'only', 'to', 'realize', 'that', 'it', 'is', 'not', 'a', 'suit', 'at', 'all.']),\n",
              "       list(['after', 'the', 'crew', 'of', 'the', 'enterprise', 'find', 'an', 'unstoppable', 'force', 'of', 'terror', 'from', 'within', 'their', 'own', 'organization,', 'captain', 'kirk', 'leads', 'a', 'manhunt', 'to', 'a', 'war-zone', 'world', 'to', 'capture', 'a', 'one-man', 'weapon', 'of', 'mass', 'destruction.']),\n",
              "       list(['a', 'shy', 'student', 'trying', 'to', 'reach', 'his', 'family', 'in', 'ohio,', 'a', 'gun-toting', 'tough', 'guy', 'trying', 'to', 'find', 'the', 'last', 'twinkie,', 'and', 'a', 'pair', 'of', 'sisters', 'trying', 'to', 'get', 'to', 'an', 'amusement', 'park', 'join', 'forces', 'to', 'travel', 'across', 'a', 'zombie-filled', 'america.']),\n",
              "       list(['a', 'hollywood', 'fixer', 'in', 'the', '1950s', 'works', 'to', 'keep', 'the', \"studio's\", 'stars', 'in', 'line.']),\n",
              "       list(['a', 'mumbai', 'teen', 'reflects', 'on', 'his', 'upbringing', 'in', 'the', 'slums', 'when', 'he', 'is', 'accused', 'of', 'cheating', 'on', 'the', 'indian', 'version', 'of', '\"who', 'wants', 'to', 'be', 'a', 'millionaire?\"']),\n",
              "       list(['after', 'the', 'birth', 'of', 'renesmee,', 'the', 'cullens', 'gather', 'other', 'vampire', 'clans', 'in', 'order', 'to', 'protect', 'the', 'child', 'from', 'a', 'false', 'allegation', 'that', 'puts', 'the', 'family', 'in', 'front', 'of', 'the', 'volturi.']),\n",
              "       list(['in', '1980,', 'a', 'teenage', 'boy', 'escapes', 'the', 'unrest', 'in', 'iran', 'only', 'to', 'face', 'more', 'hostility', 'in', 'america,', 'due', 'to', 'the', 'hostage', 'crisis.', 'determined', 'to', 'fit', 'in,', 'he', 'joins', 'the', \"school's\", 'floundering', 'wrestling', 'team.']),\n",
              "       list(['after', 'peter', 'parker', 'is', 'bitten', 'by', 'a', 'genetically', 'altered', 'spider,', 'he', 'gains', 'newfound,', 'spider-like', 'powers', 'and', 'ventures', 'out', 'to', 'solve', 'the', 'mystery', 'of', 'his', \"parent's\", 'mysterious', 'death.']),\n",
              "       list(['judah', 'ben-hur,', 'a', 'prince', 'falsely', 'accused', 'of', 'treason', 'by', 'his', 'adopted', 'brother,', 'an', 'officer', 'in', 'the', 'roman', 'army,', 'returns', 'to', 'his', 'homeland', 'after', 'years', 'at', 'sea', 'to', 'seek', 'revenge,', 'but', 'finds', 'redemption.']),\n",
              "       list(['a', 'young', 'street', 'magician', '(jacob', 'latimore)', 'is', 'left', 'to', 'care', 'for', 'his', 'little', 'sister', 'after', 'their', 'parents', 'passing,', 'and', 'turns', 'to', 'illegal', 'activities', 'to', 'keep', 'a', 'roof', 'over', 'their', 'heads.', 'when', 'he', 'gets', 'in', '...', 'see', 'full', 'summary', '»']),\n",
              "       list(['thomas', 'is', 'deposited', 'in', 'a', 'community', 'of', 'boys', 'after', 'his', 'memory', 'is', 'erased,', 'soon', 'learning', \"they're\", 'all', 'trapped', 'in', 'a', 'maze', 'that', 'will', 'require', 'him', 'to', 'join', 'forces', 'with', 'fellow', '\"runners\"', 'for', 'a', 'shot', 'at', 'escape.']),\n",
              "       list(['in', 'a', 'last-ditch', 'effort', 'to', 'stop', 'a', 'diabolical', 'plot,', 'a', 'dead', 'cia', \"operative's\", 'memories,', 'secrets,', 'and', 'skills', 'are', 'implanted', 'into', 'a', 'death-row', 'inmate', 'in', 'hopes', 'that', 'he', 'will', 'complete', 'the', \"operative's\", 'mission.']),\n",
              "       list(['a', 'frustrated', 'office', 'worker', 'learns', 'that', 'he', 'is', 'the', 'son', 'of', 'a', 'professional', 'assassin,', 'and', 'that', 'he', 'shares', 'his', \"father's\", 'superhuman', 'killing', 'abilities.']),\n",
              "       list(['the', 'story', 'of', 'florence', 'foster', 'jenkins,', 'a', 'new', 'york', 'heiress', 'who', 'dreamed', 'of', 'becoming', 'an', 'opera', 'singer,', 'despite', 'having', 'a', 'terrible', 'singing', 'voice.']),\n",
              "       list(['an', 'american', 'backpacker', 'gets', 'involved', 'with', 'a', 'ring', 'of', 'drug', 'smugglers', 'as', 'their', 'driver,', 'though', 'he', 'winds', 'up', 'on', 'the', 'run', 'from', 'his', 'employers', 'across', 'cologne', 'high-speed', 'autobahn.']),\n",
              "       list(['the', 'true', 'story', 'of', 'whitey', 'bulger,', 'the', 'brother', 'of', 'a', 'state', 'senator', 'and', 'the', 'most', 'infamous', 'violent', 'criminal', 'in', 'the', 'history', 'of', 'south', 'boston,', 'who', 'became', 'an', 'fbi', 'informant', 'to', 'take', 'down', 'a', 'mafia', 'family', 'invading', 'his', 'turf.']),\n",
              "       list(['the', 'former', 'world', 'heavyweight', 'champion', 'rocky', 'balboa', 'serves', 'as', 'a', 'trainer', 'and', 'mentor', 'to', 'adonis', 'johnson,', 'the', 'son', 'of', 'his', 'late', 'friend', 'and', 'former', 'rival', 'apollo', 'creed.']),\n",
              "       list(['a', 'hopeless', 'man', 'stranded', 'on', 'a', 'deserted', 'island', 'befriends', 'a', 'dead', 'body', 'and', 'together', 'they', 'go', 'on', 'a', 'surreal', 'journey', 'to', 'get', 'home.']),\n",
              "       list(['barney', 'augments', 'his', 'team', 'with', 'new', 'blood', 'for', 'a', 'personal', 'battle:', 'to', 'take', 'down', 'conrad', 'stonebanks,', 'the', 'expendables', 'co-founder', 'and', 'notorious', 'arms', 'trader', 'who', 'is', 'hell', 'bent', 'on', 'wiping', 'out', 'barney', 'and', 'every', 'single', 'one', 'of', 'his', 'associates.']),\n",
              "       list(['a', 'documentary', 'team', 'films', 'the', 'lives', 'of', 'a', 'group', 'of', 'vampires', 'for', 'a', 'few', 'months.', 'the', 'vampires', 'share', 'a', 'house', 'in', 'wellington,', 'new', 'zealand.', 'turns', 'out', 'vampires', 'have', 'their', 'own', 'domestic', 'problems', 'too.']),\n",
              "       list(['boxer', 'billy', 'hope', 'turns', 'to', 'trainer', 'tick', 'wills', 'to', 'help', 'him', 'get', 'his', 'life', 'back', 'on', 'track', 'after', 'losing', 'his', 'wife', 'in', 'a', 'tragic', 'accident', 'and', 'his', 'daughter', 'to', 'child', 'protection', 'services.']),\n",
              "       list(['a', 'deaf', 'writer', 'who', 'retreated', 'into', 'the', 'woods', 'to', 'live', 'a', 'solitary', 'life', 'must', 'fight', 'for', 'her', 'life', 'in', 'silence', 'when', 'a', 'masked', 'killer', 'appears', 'at', 'her', 'window.']),\n",
              "       list(['during', 'the', 'cold', 'war,', 'an', 'american', 'lawyer', 'is', 'recruited', 'to', 'defend', 'an', 'arrested', 'soviet', 'spy', 'in', 'court,', 'and', 'then', 'help', 'the', 'cia', 'facilitate', 'an', 'exchange', 'of', 'the', 'spy', 'for', 'the', 'soviet', 'captured', 'american', 'u2', 'spy', 'plane', 'pilot,', 'francis', 'gary', 'powers.']),\n",
              "       list(['an', 'ordinary', 'lego', 'construction', 'worker,', 'thought', 'to', 'be', 'the', 'prophesied', \"'special',\", 'is', 'recruited', 'to', 'join', 'a', 'quest', 'to', 'stop', 'an', 'evil', 'tyrant', 'from', 'gluing', 'the', 'lego', 'universe', 'into', 'eternal', 'stasis.']),\n",
              "       list(['the', 'story', 'of', 'new', \"zealand's\", 'robert', '\"rob\"', 'edwin', 'hall,', 'who', 'on', 'may', '10,', '1996,', 'together', 'with', 'scott', 'fischer,', 'teamed', 'up', 'on', 'a', 'joint', 'expedition', 'to', 'ascend', 'mount', 'everest.']),\n",
              "       list(['when', 'aliens', 'misinterpret', 'video', 'feeds', 'of', 'classic', 'arcade', 'games', 'as', 'a', 'declaration', 'of', 'war,', 'they', 'attack', 'the', 'earth', 'in', 'the', 'form', 'of', 'the', 'video', 'games.']),\n",
              "       list(['in', '12th', 'century', 'england,', 'robin', 'and', 'his', 'band', 'of', 'marauders', 'confront', 'corruption', 'in', 'a', 'local', 'village', 'and', 'lead', 'an', 'uprising', 'against', 'the', 'crown', 'that', 'will', 'forever', 'alter', 'the', 'balance', 'of', 'world', 'power.']),\n",
              "       list(['when', 'wolverine', 'is', 'summoned', 'to', 'japan', 'by', 'an', 'old', 'acquaintance,', 'he', 'is', 'embroiled', 'in', 'a', 'conflict', 'that', 'forces', 'him', 'to', 'confront', 'his', 'own', 'demons.']),\n",
              "       list(['transported', 'to', 'barsoom,', 'a', 'civil', 'war', 'vet', 'discovers', 'a', 'barren', 'planet', 'seemingly', 'inhabited', 'by', '12-foot', 'tall', 'barbarians.', 'finding', 'himself', 'prisoner', 'of', 'these', 'creatures,', 'he', 'escapes,', 'only', 'to', 'encounter', 'woola', 'and', 'a', 'princess', 'in', 'desperate', 'need', 'of', 'a', 'savior.']),\n",
              "       list(['when', 'an', 'l.a.', 'drug', \"kingpin's\", 'kitten', 'unexpectedly', 'enters', 'the', 'life', 'of', 'two', 'cousins,', 'they', 'will', 'have', 'to', 'go', 'through', 'gangs,', 'hitmen', 'and', 'drug', 'dealers', 'who', 'claim', 'him', 'in', 'order', 'to', 'get', 'him', 'back.']),\n",
              "       list(['a', 'sniper', 'on', 'a', 'mercenary', 'assassination', 'team,', 'kills', 'the', 'minister', 'of', 'mines', 'of', 'the', 'congo.', \"terrier's\", 'successful', 'kill', 'shot', 'forces', 'him', 'into', 'hiding.', 'returning', 'to', 'the', 'congo', 'years', 'later,', 'he', 'becomes', 'the', 'target', 'of', 'a', 'hit', 'squad', 'himself.']),\n",
              "       list(['steve', 'jobs', 'takes', 'us', 'behind', 'the', 'scenes', 'of', 'the', 'digital', 'revolution,', 'to', 'paint', 'a', 'portrait', 'of', 'the', 'man', 'at', 'its', 'epicenter.', 'the', 'story', 'unfolds', 'backstage', 'at', 'three', 'iconic', 'product', 'launches,', 'ending', 'in', '1998', 'with', 'the', 'unveiling', 'of', 'the', 'imac.']),\n",
              "       list(['scottish', 'islanders', 'try', 'to', 'plunder', 'cases', 'of', 'whisky', 'from', 'a', 'stranded', 'ship.']),\n",
              "       list(['after', 'moving', 'his', 'family', 'back', 'to', 'his', 'hometown', 'to', 'be', 'with', 'his', 'friends', 'and', 'their', 'kids,', 'lenny', 'finds', 'out', 'that', 'between', 'old', 'bullies,', 'new', 'bullies,', 'schizo', 'bus', 'drivers,', 'drunk', 'cops', 'on', 'skis,', 'and', '400', 'costumed', 'party', 'crashers', 'sometimes', 'crazy', 'follows', 'you.']),\n",
              "       list(['a', 'young', 'woman,', 'born', 'at', 'the', 'turn', 'of', 'the', '20th', 'century,', 'is', 'rendered', 'ageless', 'after', 'an', 'accident.', 'after', 'many', 'solitary', 'years,', 'she', 'meets', 'a', 'man', 'who', 'complicates', 'the', 'eternal', 'life', 'she', 'has', 'settled', 'into.']),\n",
              "       list(['bruce', 'banner,', 'a', 'scientist', 'on', 'the', 'run', 'from', 'the', 'u.s.', 'government,', 'must', 'find', 'a', 'cure', 'for', 'the', 'monster', 'he', 'emerges', 'whenever', 'he', 'loses', 'his', 'temper.']),\n",
              "       list(['a', 'comedy', 'centered', 'around', 'four', 'couples', 'who', 'settle', 'into', 'a', 'tropical-island', 'resort', 'for', 'a', 'vacation.', 'while', 'one', 'of', 'the', 'couples', 'is', 'there', 'to', 'work', 'on', 'the', 'marriage,', 'the', 'others', 'fail', 'to', 'realize', 'that', 'participation', 'in', 'the', \"resort's\", 'therapy', 'sessions', 'is', 'not', 'optional.']),\n",
              "       list(['a', 'group', 'of', 'eccentric', 'aliens', 'confer', 'a', 'human', 'being', 'with', 'the', 'power', 'to', 'do', 'absolutely', 'anything,', 'as', 'an', 'experiment.']),\n",
              "       list(['a', 'male', 'stripper', 'teaches', 'a', 'younger', 'performer', 'how', 'to', 'party,', 'pick', 'up', 'women,', 'and', 'make', 'easy', 'money.']),\n",
              "       list(['minions', 'stuart,', 'kevin', 'and', 'bob', 'are', 'recruited', 'by', 'scarlet', 'overkill,', 'a', 'super-villain', 'who,', 'alongside', 'her', 'inventor', 'husband', 'herb,', 'hatches', 'a', 'plot', 'to', 'take', 'over', 'the', 'world.']),\n",
              "       list(['paul', 'and', 'jennifer', 'hemdale', 'have', 'just', 'moved', 'into', 'their', 'dream', 'house.', 'but', 'their', 'happy', 'marriage', 'is', 'about', 'to', 'be', 'put', 'to', 'the', 'test', 'as', 'they', 'slowly', 'discover', 'the', 'secret', 'behind', 'the', 'black', 'room', 'in', 'the', '...', 'see', 'full', 'summary', '»']),\n",
              "       list(['a', 'young', 'man', 'who', 'was', 'sentenced', 'to', 'seven', 'years', 'in', 'prison', 'for', 'robbing', 'a', 'post', 'office', 'ends', 'up', 'spending', 'three', 'decades', 'in', 'solitary', 'confinement.', 'during', 'this', 'time,', 'his', 'own', 'personality', 'is', 'supplanted', 'by', 'his', 'alter-ego,', 'charles', 'bronson.']),\n",
              "       list(['when', 'a', 'criminal', 'mastermind', 'uses', 'a', 'trio', 'of', 'orphan', 'girls', 'as', 'pawns', 'for', 'a', 'grand', 'scheme,', 'he', 'finds', 'their', 'love', 'is', 'profoundly', 'changing', 'him', 'for', 'the', 'better.']),\n",
              "       list(['a', 'pair', 'of', 'former', 'high', 'school', 'sweethearts', 'reunite', 'after', 'many', 'years', 'when', 'they', 'return', 'to', 'visit', 'their', 'small', 'hometown.']),\n",
              "       list(['while', 'attending', 'a', 'dinner', 'party', 'at', 'his', 'former', 'home,', 'a', 'man', 'thinks', 'his', 'ex-wife', 'and', 'her', 'new', 'husband', 'have', 'sinister', 'intentions', 'for', 'their', 'guests.']),\n",
              "       list(['a', 'chronicle', 'of', 'the', 'decade-long', 'hunt', 'for', 'al-qaeda', 'terrorist', 'leader', 'osama', 'bin', 'laden', 'after', 'the', 'september', '2001', 'attacks,', 'and', 'his', 'death', 'at', 'the', 'hands', 'of', 'the', 'navy', 's.e.a.l.s', 'team', '6', 'in', 'may', '2011.']),\n",
              "       list(['the', 'magically', 'long-haired', 'rapunzel', 'has', 'spent', 'her', 'entire', 'life', 'in', 'a', 'tower,', 'but', 'now', 'that', 'a', 'runaway', 'thief', 'has', 'stumbled', 'upon', 'her,', 'she', 'is', 'about', 'to', 'discover', 'the', 'world', 'for', 'the', 'first', 'time,', 'and', 'who', 'she', 'really', 'is.']),\n",
              "       list(['as', 'the', 'war', 'of', 'panem', 'escalates', 'to', 'the', 'destruction', 'of', 'other', 'districts,', 'katniss', 'everdeen,', 'the', 'reluctant', 'leader', 'of', 'the', 'rebellion,', 'must', 'bring', 'together', 'an', 'army', 'against', 'president', 'snow,', 'while', 'all', 'she', 'holds', 'dear', 'hangs', 'in', 'the', 'balance.']),\n",
              "       list(['rusty', 'griswold', 'takes', 'his', 'own', 'family', 'on', 'a', 'road', 'trip', 'to', '\"walley', 'world\"', 'in', 'order', 'to', 'spice', 'things', 'up', 'with', 'his', 'wife', 'and', 'reconnect', 'with', 'his', 'sons.']),\n",
              "       list(['a', 'retired', 'cia', 'agent', 'travels', 'across', 'europe', 'and', 'relies', 'on', 'his', 'old', 'skills', 'to', 'save', 'his', 'estranged', 'daughter,', 'who', 'has', 'been', 'kidnapped', 'while', 'on', 'a', 'trip', 'to', 'paris.']),\n",
              "       list(['after', 'a', 'humiliating', 'command', 'performance', 'at', 'the', 'kennedy', 'center,', 'the', 'barden', 'bellas', 'enter', 'an', 'international', 'competition', 'that', 'no', 'american', 'group', 'has', 'ever', 'won', 'in', 'order', 'to', 'regain', 'their', 'status', 'and', 'right', 'to', 'perform.']),\n",
              "       list(['a', 'look', 'at', 'the', 'relationship', 'between', 'mike', 'and', 'sulley', 'during', 'their', 'days', 'at', 'monsters', 'university', '--', 'when', 'they', \"weren't\", 'necessarily', 'the', 'best', 'of', 'friends.']),\n",
              "       list(['a', 'successful', 'businesswoman', 'gets', 'caught', 'up', 'in', 'a', 'game', 'of', 'cat', 'and', 'mouse', 'as', 'she', 'tracks', 'down', 'the', 'unknown', 'man', 'who', 'raped', 'her.']),\n",
              "       list(['arthur', 'bishop', 'thought', 'he', 'had', 'put', 'his', 'murderous', 'past', 'behind', 'him,', 'until', 'his', 'most', 'formidable', 'foe', 'kidnaps', 'the', 'love', 'of', 'his', 'life.', 'now', 'he', 'is', 'forced', 'to', 'travel', 'the', 'globe', 'to', 'complete', 'three', 'impossible', 'assassinations,', 'and', 'do', 'what', 'he', 'does', 'best:', 'make', 'them', 'look', 'like', 'accidents.']),\n",
              "       list(['when', 'podcaster', 'wallace', 'bryton', 'goes', 'missing', 'in', 'the', 'backwoods', 'of', 'manitoba', 'while', 'interviewing', 'a', 'mysterious', 'seafarer', 'named', 'howard', 'howe,', 'his', 'best', 'friend', 'teddy', 'and', 'girlfriend', 'allison', 'team', 'with', 'an', 'ex-cop', 'to', 'look', 'for', 'him.']),\n",
              "       list(['a', 'headhunter', 'whose', 'life', 'revolves', 'around', 'closing', 'deals', 'in', 'a', 'a', 'survival-of-the-fittest', 'boiler', 'room,', 'battles', 'his', 'top', 'rival', 'for', 'control', 'of', 'their', 'job', 'placement', 'company', '--', 'his', 'dream', 'of', 'owning', 'the', 'company', 'clashing', 'with', 'the', 'needs', 'of', 'his', 'family.']),\n",
              "       list(['fledgling', 'writer', 'briony', 'tallis,', 'as', 'a', 'thirteen-year-old,', 'irrevocably', 'changes', 'the', 'course', 'of', 'several', 'lives', 'when', 'she', 'accuses', 'her', 'older', \"sister's\", 'lover', 'of', 'a', 'crime', 'he', 'did', 'not', 'commit.']),\n",
              "       list(['as', 'harry', 'races', 'against', 'time', 'and', 'evil', 'to', 'destroy', 'the', 'horcruxes,', 'he', 'uncovers', 'the', 'existence', 'of', 'three', 'most', 'powerful', 'objects', 'in', 'the', 'wizarding', 'world:', 'the', 'deathly', 'hallows.']),\n",
              "       list(['a', \"man's\", 'carefully', 'cultivated', 'private', 'life', 'is', 'disrupted', 'when', 'his', 'sister', 'arrives', 'for', 'an', 'indefinite', 'stay.']),\n",
              "       list(['a', 'sixteen-year-old', 'girl', 'who', 'was', 'raised', 'by', 'her', 'father', 'to', 'be', 'the', 'perfect', 'assassin', 'is', 'dispatched', 'on', 'a', 'mission', 'across', 'europe,', 'tracked', 'by', 'a', 'ruthless', 'intelligence', 'agent', 'and', 'her', 'operatives.']),\n",
              "       list(['a', 'teenager', 'turns', 'her', 'babysitting', 'service', 'into', 'a', 'call-girl', 'service', 'for', 'married', 'guys', 'after', 'fooling', 'around', 'with', 'one', 'of', 'her', 'customers.']),\n",
              "       list(['five', 'sisters', 'in', '19th', 'century', 'england', 'must', 'cope', 'with', 'the', 'pressures', 'to', 'marry', 'while', 'protecting', 'themselves', 'from', 'a', 'growing', 'population', 'of', 'zombies.']),\n",
              "       list(['greek', 'general', 'themistokles', 'leads', 'the', 'charge', 'against', 'invading', 'persian', 'forces', 'led', 'by', 'mortal-turned-god', 'xerxes', 'and', 'artemisia,', 'vengeful', 'commander', 'of', 'the', 'persian', 'navy.']),\n",
              "       list(['in', 'london', 'for', 'the', 'prime', \"minister's\", 'funeral,', 'mike', 'banning', 'discovers', 'a', 'plot', 'to', 'assassinate', 'all', 'the', 'attending', 'world', 'leaders.']),\n",
              "       list(['tells', 'the', 'story', 'of', 'benjamin', 'button,', 'a', 'man', 'who', 'starts', 'aging', 'backwards', 'with', 'bizarre', 'consequences.']),\n",
              "       list(['some', 'of', 'sin', \"city's\", 'most', 'hard-boiled', 'citizens', 'cross', 'paths', 'with', 'a', 'few', 'of', 'its', 'more', 'reviled', 'inhabitants.']),\n",
              "       list(['jason', 'bourne', 'dodges', 'a', 'ruthless', 'cia', 'official', 'and', 'his', 'agents', 'from', 'a', 'new', 'assassination', 'program', 'while', 'searching', 'for', 'the', 'origins', 'of', 'his', 'life', 'as', 'a', 'trained', 'killer.']),\n",
              "       list(['an', 'aging', 'porn', 'star', 'agrees', 'to', 'participate', 'in', 'an', '\"art', 'film\"', 'in', 'order', 'to', 'make', 'a', 'clean', 'break', 'from', 'the', 'business,', 'only', 'to', 'discover', 'that', 'he', 'has', 'been', 'drafted', 'into', 'making', 'a', 'pedophilia', 'and', 'necrophilia', 'themed', 'snuff', 'film.']),\n",
              "       list(['former', 'police', 'sergeant', 'barnes', 'becomes', 'head', 'of', 'security', 'for', 'senator', 'charlie', 'roan,', 'a', 'presidential', 'candidate', 'targeted', 'for', 'death', 'on', 'purge', 'night', 'due', 'to', 'her', 'vow', 'to', 'eliminate', 'the', 'purge.']),\n",
              "       list(['two', 'friends', 'are', 'searching', 'for', 'their', 'long', 'lost', 'companion.', 'they', 'revisit', 'their', 'college', 'days', 'and', 'recall', 'the', 'memories', 'of', 'their', 'friend', 'who', 'inspired', 'them', 'to', 'think', 'differently,', 'even', 'as', 'the', 'rest', 'of', 'the', 'world', 'called', 'them', '\"idiots\".']),\n",
              "       list(['derek', 'and', 'hansel', 'are', 'lured', 'into', 'modeling', 'again,', 'in', 'rome,', 'where', 'they', 'find', 'themselves', 'the', 'target', 'of', 'a', 'sinister', 'conspiracy.']),\n",
              "       list(['former', 'united', 'nations', 'employee', 'gerry', 'lane', 'traverses', 'the', 'world', 'in', 'a', 'race', 'against', 'time', 'to', 'stop', 'the', 'zombie', 'pandemic', 'that', 'is', 'toppling', 'armies', 'and', 'governments,', 'and', 'threatening', 'to', 'destroy', 'humanity', 'itself.']),\n",
              "       list(['the', 'imf', 'is', 'shut', 'down', 'when', \"it's\", 'implicated', 'in', 'the', 'bombing', 'of', 'the', 'kremlin,', 'causing', 'ethan', 'hunt', 'and', 'his', 'new', 'team', 'to', 'go', 'rogue', 'to', 'clear', 'their', \"organization's\", 'name.']),\n",
              "       list(['a', 'cerebral', 'revenge', 'film', 'about', 'two', 'adopted', 'siblings', 'who', 'fall', 'in', 'love,', 'and', 'hatch', 'a', 'plan', 'to', 'kill', 'their', 'abusive', 'father.']),\n",
              "       list(['a', 'corrupt,', 'junkie', 'cop', 'with', 'bipolar', 'disorder', 'attempts', 'to', 'manipulate', 'his', 'way', 'through', 'a', 'promotion', 'in', 'order', 'to', 'win', 'back', 'his', 'wife', 'and', 'daughter', 'while', 'also', 'fighting', 'his', 'own', 'borderline-fueled', 'inner', 'demons.']),\n",
              "       list(['the', 'lives', 'of', 'a', 'young', 'couple', 'intertwine', 'with', 'a', 'much', 'older', 'man,', 'as', 'he', 'reflects', 'back', 'on', 'a', 'past', 'love.']),\n",
              "       list(['the', 'story', 'of', 'a', 'tourist', 'family', 'in', 'thailand', 'caught', 'in', 'the', 'destruction', 'and', 'chaotic', 'aftermath', 'of', 'the', '2004', 'indian', 'ocean', 'tsunami.']),\n",
              "       list(['following', \"kick-ass'\", 'heroics,', 'other', 'citizens', 'are', 'inspired', 'to', 'become', 'masked', 'crusaders.', 'but', 'the', 'red', 'mist', 'leads', 'his', 'own', 'group', 'of', 'evil', 'supervillains', 'to', 'kill', 'kick-ass', 'and', 'destroy', 'everything', 'for', 'which', 'he', 'stands.']),\n",
              "       list(['a', 'successful', 'singer-songwriter', 'hatches', 'a', 'plan', 'to', 'help', 'his', \"friend's\", 'struggling', 'comedy', 'career', 'and', 'broken', 'love', 'life', 'by', 'hiring', 'him', 'as', 'his', 'opening', 'act', 'on', 'his', 'solo', 'tour.']),\n",
              "       list(['a', 'frustrated', 'circus', 'magician', 'from', 'kansas', 'is', 'transported', 'to', 'a', 'magical', 'land', 'called', 'oz,', 'where', 'he', 'will', 'have', 'to', 'fulfill', 'a', 'prophecy', 'to', 'become', 'the', 'king,', 'and', 'release', 'the', 'land', 'from', 'the', 'wicked', 'witches', 'using', 'his', 'great', '(but', 'fake)', 'powers.']),\n",
              "       list(['an', 'irish', 'immigrant', 'lands', 'in', '1950s', 'brooklyn,', 'where', 'she', 'quickly', 'falls', 'into', 'a', 'romance', 'with', 'a', 'local.', 'when', 'her', 'past', 'catches', 'up', 'with', 'her,', 'however,', 'she', 'must', 'choose', 'between', 'two', 'countries', 'and', 'the', 'lives', 'that', 'exist', 'within.']),\n",
              "       list(['an', 'adventurous', 'girl', 'finds', 'another', 'world', 'that', 'is', 'a', 'strangely', 'idealized', 'version', 'of', 'her', 'frustrating', 'home,', 'but', 'it', 'has', 'sinister', 'secrets.']),\n",
              "       list(['the', 'relationship', 'of', 'a', 'contemporary', 'married', 'couple,', 'charting', 'their', 'evolution', 'over', 'a', 'span', 'of', 'years', 'by', 'cross-cutting', 'between', 'time', 'periods.']),\n",
              "       list(['\"the', 'thinning\"', 'takes', 'place', 'in', 'a', 'post-apocalyptic', 'future', 'where', 'population', 'control', 'is', 'dictated', 'by', 'a', 'high-school', 'aptitude', 'test.', 'when', 'two', 'students', '(logan', 'paul', 'and', 'peyton', 'list)', 'discover', 'the', 'test...', 'see', 'full', 'summary', '»']),\n",
              "       list(['a', 'woman,', 'rose,', 'goes', 'in', 'search', 'for', 'her', 'adopted', 'daughter', 'within', 'the', 'confines', 'of', 'a', 'strange,', 'desolate', 'town', 'called', 'silent', 'hill.']),\n",
              "       list(['in', 'a', 'violent,', 'futuristic', 'city', 'where', 'the', 'police', 'have', 'the', 'authority', 'to', 'act', 'as', 'judge,', 'jury', 'and', 'executioner,', 'a', 'cop', 'teams', 'with', 'a', 'trainee', 'to', 'take', 'down', 'a', 'gang', 'that', 'deals', 'the', 'reality-altering', 'drug,', 'slo-mo.']),\n",
              "       list(['a', 'national', 'manhunt', 'is', 'ordered', 'for', 'a', 'rebellious', 'kid', 'and', 'his', 'foster', 'uncle', 'who', 'go', 'missing', 'in', 'the', 'wild', 'new', 'zealand', 'bush.']),\n",
              "       list(['the', 'special', 'bond', 'that', 'develops', 'between', 'plus-sized', 'inflatable', 'robot', 'baymax,', 'and', 'prodigy', 'hiro', 'hamada,', 'who', 'team', 'up', 'with', 'a', 'group', 'of', 'friends', 'to', 'form', 'a', 'band', 'of', 'high-tech', 'heroes.']),\n",
              "       list(['a', 'shy', 'girl,', 'outcasted', 'by', 'her', 'peers', 'and', 'sheltered', 'by', 'her', 'religious', 'mother,', 'unleashes', 'telekinetic', 'terror', 'on', 'her', 'small', 'town', 'after', 'being', 'pushed', 'too', 'far', 'at', 'her', 'senior', 'prom.']),\n",
              "       list(['with', 'the', 'world', 'now', 'aware', 'of', 'his', 'identity', 'as', 'iron', 'man,', 'tony', 'stark', 'must', 'contend', 'with', 'both', 'his', 'declining', 'health', 'and', 'a', 'vengeful', 'mad', 'man', 'with', 'ties', 'to', 'his', \"father's\", 'legacy.']),\n",
              "       list(['a', 'successful', 'investment', 'banker', 'struggles', 'after', 'losing', 'his', 'wife', 'in', 'a', 'tragic', 'car', 'crash.', 'with', 'the', 'help', 'of', 'a', 'customer', 'service', 'rep', 'and', 'her', 'young', 'son,', 'he', 'starts', 'to', 'rebuild,', 'beginning', 'with', 'the', 'demolition', 'of', 'the', 'life', 'he', 'once', 'knew.']),\n",
              "       list(['a', 'pair', 'of', 'crew', 'members', 'aboard', 'a', 'spaceship', 'wake', 'up', 'with', 'no', 'knowledge', 'of', 'their', 'mission', 'or', 'their', 'identities.']),\n",
              "       list(['disgraced', 'secret', 'service', 'agent', '(and', 'former', 'presidential', 'guard)', 'mike', 'banning', 'finds', 'himself', 'trapped', 'inside', 'the', 'white', 'house', 'in', 'the', 'wake', 'of', 'a', 'terrorist', 'attack;', 'using', 'his', 'inside', 'knowledge,', 'banning', 'works', 'with', 'national', 'security', 'to', 'rescue', 'the', 'president', 'from', 'his', 'kidnappers.']),\n",
              "       list(['aliens', 'and', 'their', 'guardians', 'are', 'hiding', 'on', 'earth', 'from', 'intergalactic', 'bounty', 'hunters.', 'they', 'can', 'only', 'be', 'killed', 'in', 'numerical', 'order,', 'and', 'number', 'four', 'is', 'next', 'on', 'the', 'list.', 'this', 'is', 'his', 'story.']),\n",
              "       list(['a', 'teacher', 'lives', 'a', 'lonely', 'life,', 'all', 'the', 'while', 'struggling', 'over', 'his', \"son's\", 'custody.', 'his', 'life', 'slowly', 'gets', 'better', 'as', 'he', 'finds', 'love', 'and', 'receives', 'good', 'news', 'from', 'his', 'son,', 'but', 'his', 'new', 'luck', 'is', 'about', 'to', 'be', 'brutally', 'shattered', 'by', 'an', 'innocent', 'little', 'lie.']),\n",
              "       list(['a', 'pushy', 'boss', 'forces', 'her', 'young', 'assistant', 'to', 'marry', 'her', 'in', 'order', 'to', 'keep', 'her', 'visa', 'status', 'in', 'the', 'u.s.', 'and', 'avoid', 'deportation', 'to', 'canada.']),\n",
              "       list(['when', 'millionaire', 'james', 'king', 'is', 'jailed', 'for', 'fraud', 'and', 'bound', 'for', 'san', 'quentin,', 'he', 'turns', 'to', 'darnell', 'lewis', 'to', 'prep', 'him', 'to', 'go', 'behind', 'bars.']),\n",
              "       list(['on', 'a', 'weekend', 'trip', 'to', 'hawaii,', 'a', 'plastic', 'surgeon', 'convinces', 'his', 'loyal', 'assistant', 'to', 'pose', 'as', 'his', 'soon-to-be-divorced', 'wife', 'in', 'order', 'to', 'cover', 'up', 'a', 'careless', 'lie', 'he', 'told', 'to', 'his', 'much-younger', 'girlfriend.']),\n",
              "       list(['a', 'young', 'couple', 'living', 'in', 'a', 'connecticut', 'suburb', 'during', 'the', 'mid-1950s', 'struggle', 'to', 'come', 'to', 'terms', 'with', 'their', 'personal', 'problems', 'while', 'trying', 'to', 'raise', 'their', 'two', 'children.']),\n",
              "       list(['as', 'he', 'plans', 'his', 'next', 'job,', 'a', 'longtime', 'thief', 'tries', 'to', 'balance', 'his', 'feelings', 'for', 'a', 'bank', 'manager', 'connected', 'to', 'one', 'of', 'his', 'earlier', 'heists,', 'as', 'well', 'as', 'the', 'fbi', 'agent', 'looking', 'to', 'bring', 'him', 'and', 'his', 'crew', 'down.']),\n",
              "       list(['an', 'american', 'nanny', 'is', 'shocked', 'that', 'her', 'new', 'english', \"family's\", 'boy', 'is', 'actually', 'a', 'life-sized', 'doll.', 'after', 'she', 'violates', 'a', 'list', 'of', 'strict', 'rules,', 'disturbing', 'events', 'make', 'her', 'believe', 'that', 'the', 'doll', 'is', 'really', 'alive.']),\n",
              "       list(['acclaimed', 'writer', 'and', 'historian', 'deborah', 'e.', 'lipstadt', 'must', 'battle', 'for', 'historical', 'truth', 'to', 'prove', 'the', 'holocaust', 'actually', 'occurred', 'when', 'david', 'irving,', 'a', 'renowned', 'denier,', 'sues', 'her', 'for', 'libel.']),\n",
              "       list(['for', 'his', 'final', 'assignment,', 'a', 'top', 'temporal', 'agent', 'must', 'pursue', 'the', 'one', 'criminal', 'that', 'has', 'eluded', 'him', 'throughout', 'time.', 'the', 'chase', 'turns', 'into', 'a', 'unique,', 'surprising', 'and', 'mind-bending', 'exploration', 'of', 'love,', 'fate,', 'identity', 'and', 'time', 'travel', 'taboos.']),\n",
              "       list(['a', 'teenager', 'teams', 'up', 'with', 'the', 'daughter', 'of', 'young', 'adult', 'horror', 'author', 'r.', 'l.', 'stine', 'after', 'the', \"writer's\", 'imaginary', 'demons', 'are', 'set', 'free', 'on', 'the', 'town', 'of', 'madison,', 'delaware.']),\n",
              "       list(['sherlock', 'holmes', 'and', 'his', 'sidekick', 'dr.', 'watson', 'join', 'forces', 'to', 'outwit', 'and', 'bring', 'down', 'their', 'fiercest', 'adversary,', 'professor', 'moriarty.']),\n",
              "       list(['a', 'cia', 'agent', 'goes', 'on', 'the', 'run', 'after', 'a', 'defector', 'accuses', 'her', 'of', 'being', 'a', 'russian', 'spy.']),\n",
              "       list(['a', 'man', 'seeks', 'out', 'his', 'exact', 'look-alike', 'after', 'spotting', 'him', 'in', 'a', 'movie.']),\n",
              "       list(['an', 'extraterrestrial', 'race', 'forced', 'to', 'live', 'in', 'slum-like', 'conditions', 'on', 'earth', 'suddenly', 'finds', 'a', 'kindred', 'spirit', 'in', 'a', 'government', 'agent', 'who', 'is', 'exposed', 'to', 'their', 'biotechnology.']),\n",
              "       list(['two', 'mismatched', 'new', 'york', 'city', 'detectives', 'seize', 'an', 'opportunity', 'to', 'step', 'up', 'like', 'the', \"city's\", 'top', 'cops', 'whom', 'they', 'idolize', '--', 'only', 'things', \"don't\", 'quite', 'go', 'as', 'planned.']),\n",
              "       list(['in', '1970s', 'america,', 'a', 'detective', 'works', 'to', 'bring', 'down', 'the', 'drug', 'empire', 'of', 'frank', 'lucas,', 'a', 'heroin', 'kingpin', 'from', 'manhattan,', 'who', 'is', 'smuggling', 'the', 'drug', 'into', 'the', 'country', 'from', 'the', 'far', 'east.']),\n",
              "       list(['the', 'retelling', 'of', \"france's\", 'iconic', 'but', 'ill-fated', 'queen,', 'marie', 'antoinette.', 'from', 'her', 'betrothal', 'and', 'marriage', 'to', 'louis', 'xvi', 'at', '15', 'to', 'her', 'reign', 'as', 'queen', 'at', '19', 'and', 'to', 'the', 'end', 'of', 'her', 'reign', 'as', 'queen,', 'and', 'ultimately', 'the', 'fall', 'of', 'versailles.']),\n",
              "       list(['a', 'frustrated', 'writer', 'struggles', 'to', 'keep', 'his', 'family', 'alive', 'when', 'a', 'series', 'of', 'global', 'catastrophes', 'threatens', 'to', 'annihilate', 'mankind.']),\n",
              "       list(['as', 'harry', 'potter', 'begins', 'his', 'sixth', 'year', 'at', 'hogwarts,', 'he', 'discovers', 'an', 'old', 'book', 'marked', 'as', '\"the', 'property', 'of', 'the', 'half-blood', 'prince\"', 'and', 'begins', 'to', 'learn', 'more', 'about', 'lord', \"voldemort's\", 'dark', 'past.']),\n",
              "       list(['acting', 'under', 'the', 'cover', 'of', 'a', 'hollywood', 'producer', 'scouting', 'a', 'location', 'for', 'a', 'science', 'fiction', 'film,', 'a', 'cia', 'agent', 'launches', 'a', 'dangerous', 'operation', 'to', 'rescue', 'six', 'americans', 'in', 'tehran', 'during', 'the', 'u.s.', 'hostage', 'crisis', 'in', 'iran', 'in', '1980.']),\n",
              "       list(['the', 'story', 'of', 'eddie', 'edwards,', 'the', 'notoriously', 'tenacious', 'british', 'underdog', 'ski', 'jumper', 'who', 'charmed', 'the', 'world', 'at', 'the', '1988', 'winter', 'olympics.']),\n",
              "       list(['in', '1984', 'east', 'berlin,', 'an', 'agent', 'of', 'the', 'secret', 'police,', 'conducting', 'surveillance', 'on', 'a', 'writer', 'and', 'his', 'lover,', 'finds', 'himself', 'becoming', 'increasingly', 'absorbed', 'by', 'their', 'lives.']),\n",
              "       list(['a', 'psychological', 'thriller', 'about', 'a', 'man', 'who', 'bumps', 'into', 'an', 'old', 'crush', 'and', 'subsequently', 'becomes', 'obsessed', 'with', 'her,', 'leading', 'him', 'to', 'hold', 'her', 'captive', 'underneath', 'the', 'animal', 'shelter', 'where', 'he', 'works.', '...', 'see', 'full', 'summary', '»']),\n",
              "       list(['a', 'young', 'woman', 'attempts', 'to', 'deal', 'with', 'the', 'death', 'of', 'her', 'boyfriend', 'while', 'continuously', 'confronted', 'by', 'his', 'mentally', 'unstable', 'mother.']),\n",
              "       list(['macbeth,', 'the', 'thane', 'of', 'glamis,', 'receives', 'a', 'prophecy', 'from', 'a', 'trio', 'of', 'witches', 'that', 'one', 'day', 'he', 'will', 'become', 'king', 'of', 'scotland.', 'consumed', 'by', 'ambition', 'and', 'spurred', 'to', 'action', 'by', 'his', 'wife,', 'macbeth', 'murders', 'his', 'king', 'and', 'takes', 'the', 'throne', 'for', 'himself.']),\n",
              "       list(['devastated', 'peter', 'takes', 'a', 'hawaiian', 'vacation', 'in', 'order', 'to', 'deal', 'with', 'the', 'recent', 'break-up', 'with', 'his', 'tv', 'star', 'girlfriend,', 'sarah.', 'little', 'does', 'he', 'know,', \"sarah's\", 'traveling', 'to', 'the', 'same', 'resort', 'as', 'her', 'ex', '-', 'and', \"she's\", 'bringing', 'along', 'her', 'new', 'boyfriend.']),\n",
              "       list(['in', 'a', 'seemingly', 'perfect', 'community,', 'without', 'war,', 'pain,', 'suffering,', 'differences', 'or', 'choice,', 'a', 'young', 'boy', 'is', 'chosen', 'to', 'learn', 'from', 'an', 'elderly', 'man', 'about', 'the', 'true', 'pain', 'and', 'pleasure', 'of', 'the', '\"real\"', 'world.']),\n",
              "       list(['a', 'gang', 'of', 'criminals', 'and', 'corrupt', 'cops', 'plan', 'the', 'murder', 'of', 'a', 'police', 'officer', 'in', 'order', 'to', 'pull', 'off', 'their', 'biggest', 'heist', 'yet', 'across', 'town.']),\n",
              "       list(['seven', 'long-time', 'friends', 'get', 'together', 'for', 'a', 'dinner.', 'when', 'they', 'decide', 'to', 'share', 'with', 'each', 'other', 'the', 'content', 'of', 'every', 'text', 'message,', 'email', 'and', 'phone', 'call', 'they', 'receive,', 'many', 'secrets', 'start', 'to', 'unveil', 'and', 'the', 'equilibrium', 'trembles.']),\n",
              "       list(['find', 'out', 'why', 'the', 'birds', 'are', 'so', 'angry.', 'when', 'an', 'island', 'populated', 'by', 'happy,', 'flightless', 'birds', 'is', 'visited', 'by', 'mysterious', 'green', 'piggies,', \"it's\", 'up', 'to', 'three', 'unlikely', 'outcasts', '-', 'red,', 'chuck', 'and', 'bomb', '-', 'to', 'figure', 'out', 'what', 'the', 'pigs', 'are', 'up', 'to.']),\n",
              "       list(['a', 'pair', 'of', 'young', 'lovers', 'flee', 'their', 'new', 'england', 'town,', 'which', 'causes', 'a', 'local', 'search', 'party', 'to', 'fan', 'out', 'to', 'find', 'them.']),\n",
              "       list(['pleasantly', 'plump', 'teenager', 'tracy', 'turnblad', 'teaches', '1962', 'baltimore', 'a', 'thing', 'or', 'two', 'about', 'integration', 'after', 'landing', 'a', 'spot', 'on', 'a', 'local', 'tv', 'dance', 'show.']),\n",
              "       list(['a', 'young', 'woman', 'with', 'a', 'mysterious', 'past', 'lands', 'in', 'southport,', 'north', 'carolina', 'where', 'her', 'bond', 'with', 'a', 'widower', 'forces', 'her', 'to', 'confront', 'the', 'dark', 'secret', 'that', 'haunts', 'her.']),\n",
              "       list(['in', 'the', 'midst', 'of', 'veteran', 'con', 'man', \"nicky's\", 'latest', 'scheme,', 'a', 'woman', 'from', 'his', 'past', '-', 'now', 'an', 'accomplished', 'femme', 'fatale', '-', 'shows', 'up', 'and', 'throws', 'his', 'plans', 'for', 'a', 'loop.']),\n",
              "       list(['a', 'rat', 'who', 'can', 'cook', 'makes', 'an', 'unusual', 'alliance', 'with', 'a', 'young', 'kitchen', 'worker', 'at', 'a', 'famous', 'restaurant.']),\n",
              "       list(['martin', 'was', 'a', 'normal', 'teenage', 'boy', 'before', 'the', 'country', 'collapsed', 'in', 'an', 'empty', 'pit', 'of', 'economic', 'and', 'political', 'disaster.', 'a', 'vampire', 'epidemic', 'has', 'swept', 'across', 'what', 'is', 'left', 'of', 'the', \"nation's\", 'abandoned', '...', 'see', 'full', 'summary', '»']),\n",
              "       list(['a', 'post-apocalyptic', 'tale,', 'in', 'which', 'a', 'lone', 'man', 'fights', 'his', 'way', 'across', 'america', 'in', 'order', 'to', 'protect', 'a', 'sacred', 'book', 'that', 'holds', 'the', 'secrets', 'to', 'saving', 'humankind.']),\n",
              "       list(['a', 'group', 'of', 'friends', 'venture', 'deep', 'into', 'the', 'streets', 'of', 'new', 'york', 'on', 'a', 'rescue', 'mission', 'during', 'a', 'rampaging', 'monster', 'attack.']),\n",
              "       list(['a', 'young', 'fbi', 'agent', 'infiltrates', 'an', 'extraordinary', 'team', 'of', 'extreme', 'sports', 'athletes', 'he', 'suspects', 'of', 'masterminding', 'a', 'string', 'of', 'unprecedented,', 'sophisticated', 'corporate', 'heists.']),\n",
              "       list(['a', 'mysterious', 'young', 'woman', 'seduces', 'lonely', 'men', 'in', 'the', 'evening', 'hours', 'in', 'scotland.', 'however,', 'events', 'lead', 'her', 'to', 'begin', 'a', 'process', 'of', 'self-discovery.']),\n",
              "       list(['years', 'after', 'a', 'plague', 'kills', 'most', 'of', 'humanity', 'and', 'transforms', 'the', 'rest', 'into', 'monsters,', 'the', 'sole', 'survivor', 'in', 'new', 'york', 'city', 'struggles', 'valiantly', 'to', 'find', 'a', 'cure.']),\n",
              "       list(['agent', 'j', 'travels', 'in', 'time', 'to', \"m.i.b.'s\", 'early', 'days', 'in', '1969', 'to', 'stop', 'an', 'alien', 'from', 'assassinating', 'his', 'friend', 'agent', 'k', 'and', 'changing', 'history.']),\n",
              "       list(['during', 'the', 'summer', 'of', '1979,', 'a', 'group', 'of', 'friends', 'witness', 'a', 'train', 'crash', 'and', 'investigate', 'subsequent', 'unexplained', 'events', 'in', 'their', 'small', 'town.']),\n",
              "       list(['a', 'frustrated', 'man', 'decides', 'to', 'take', 'justice', 'into', 'his', 'own', 'hands', 'after', 'a', 'plea', 'bargain', 'sets', 'one', 'of', 'his', \"family's\", 'killers', 'free.', 'he', 'targets', 'not', 'only', 'the', 'killer', 'but', 'also', 'the', 'district', 'attorney', 'and', 'others', 'involved', 'in', 'the', 'deal.']),\n",
              "       list(['seventy-eight', 'year', 'old', 'carl', 'fredricksen', 'travels', 'to', 'paradise', 'falls', 'in', 'his', 'home', 'equipped', 'with', 'balloons,', 'inadvertently', 'taking', 'a', 'young', 'stowaway.']),\n",
              "       list(['after', 'having', 'escaped', 'the', 'maze,', 'the', 'gladers', 'now', 'face', 'a', 'new', 'set', 'of', 'challenges', 'on', 'the', 'open', 'roads', 'of', 'a', 'desolate', 'landscape', 'filled', 'with', 'unimaginable', 'obstacles.']),\n",
              "       list(['an', 'aspiring', 'photographer', 'develops', 'an', 'intimate', 'relationship', 'with', 'an', 'older', 'woman', 'in', '1950s', 'new', 'york.']),\n",
              "       list(['a', 'young', 'fbi', 'agent,', 'eager', 'to', 'prove', 'himself', 'in', 'the', 'field,', 'goes', 'undercover', 'as', 'a', 'white', 'supremacist.']),\n",
              "       list(['a', 'retired', 'orchestra', 'conductor', 'is', 'on', 'holiday', 'with', 'his', 'daughter', 'and', 'his', 'film', 'director', 'best', 'friend', 'in', 'the', 'alps', 'when', 'he', 'receives', 'an', 'invitation', 'from', 'queen', 'elizabeth', 'ii', 'to', 'perform', 'for', 'prince', \"philip's\", 'birthday.']),\n",
              "       list(['a', 'boy', 'stands', 'on', 'a', 'station', 'platform', 'as', 'a', 'train', 'is', 'about', 'to', 'leave.', 'should', 'he', 'go', 'with', 'his', 'mother', 'or', 'stay', 'with', 'his', 'father?', 'infinite', 'possibilities', 'arise', 'from', 'this', 'decision.', 'as', 'long', 'as', 'he', \"doesn't\", 'choose,', 'anything', 'is', 'possible.']),\n",
              "       list(['in', 'the', 'teeming,', 'multicultural', 'metropolis', 'of', 'modern-day', 'london,', 'a', 'seemingly', 'straightforward', 'missing-person', 'case', 'launches', 'a', 'down-at-heel', 'private', 'eye', 'into', 'a', 'dangerous', 'world', 'of', 'religious', 'fanaticism', 'and', 'political', 'intrigue.']),\n",
              "       list(['pot', 'growers', 'ben', 'and', 'chon', 'face', 'off', 'against', 'the', 'mexican', 'drug', 'cartel', 'who', 'kidnapped', 'their', 'shared', 'girlfriend.']),\n",
              "       list(['an', 'offbeat', 'romantic', 'comedy', 'about', 'a', 'woman', 'who', \"doesn't\", 'believe', 'true', 'love', 'exists,', 'and', 'the', 'young', 'man', 'who', 'falls', 'for', 'her.']),\n",
              "       list(['a', 'series', 'of', 'interconnected', 'short', 'films', 'follows', 'a', 'washed-up', 'producer', 'as', 'he', 'pitches', 'insane', 'story', 'lines', 'featuring', 'some', 'of', 'the', 'biggest', 'stars', 'in', 'hollywood.']),\n",
              "       list(['two', 'astronauts', 'work', 'together', 'to', 'survive', 'after', 'an', 'accident', 'which', 'leaves', 'them', 'alone', 'in', 'space.']),\n",
              "       list(['set', 'during', 'wwii,', 'a', 'story', 'seen', 'through', 'the', 'innocent', 'eyes', 'of', 'bruno,', 'the', 'eight-year-old', 'son', 'of', 'the', 'commandant', 'at', 'a', 'german', 'concentration', 'camp,', 'whose', 'forbidden', 'friendship', 'with', 'a', 'jewish', 'boy', 'on', 'the', 'other', 'side', 'of', 'the', 'camp', 'fence', 'has', 'startling', 'and', 'unexpected', 'consequences.']),\n",
              "       list(['a', 'marksman', 'living', 'in', 'exile', 'is', 'coaxed', 'back', 'into', 'action', 'after', 'learning', 'of', 'a', 'plot', 'to', 'kill', 'the', 'president.', 'ultimately', 'double-crossed', 'and', 'framed', 'for', 'the', 'attempt,', 'he', 'goes', 'on', 'the', 'run', 'to', 'find', 'the', 'real', 'killer', 'and', 'the', 'reason', 'he', 'was', 'set', 'up.']),\n",
              "       list(['a', 'science', 'teacher,', 'his', 'wife,', 'and', 'a', 'young', 'girl', 'struggle', 'to', 'survive', 'a', 'plague', 'that', 'causes', 'those', 'infected', 'to', 'commit', 'suicide.']),\n",
              "       list(['four', 'men', 'set', 'out', 'in', 'the', 'wild', 'west', 'to', 'rescue', 'a', 'group', 'of', 'captives', 'from', 'cannibalistic', 'cave', 'dwellers.']),\n",
              "       list(['three', 'years', 'after', 'mike', 'bowed', 'out', 'of', 'the', 'stripper', 'life', 'at', 'the', 'top', 'of', 'his', 'game,', 'he', 'and', 'the', 'remaining', 'kings', 'of', 'tampa', 'hit', 'the', 'road', 'to', 'myrtle', 'beach', 'to', 'put', 'on', 'one', 'last', 'blow-out', 'performance.']),\n",
              "       list(['a', 'clean-cut', 'high', 'school', 'student', 'relies', 'on', 'the', \"school's\", 'rumor', 'mill', 'to', 'advance', 'her', 'social', 'and', 'financial', 'standing.']),\n",
              "       list(['the', 'defiant', 'leader', 'moses', 'rises', 'up', 'against', 'the', 'egyptian', 'pharaoh', 'ramses,', 'setting', '600,000', 'slaves', 'on', 'a', 'monumental', 'journey', 'of', 'escape', 'from', 'egypt', 'and', 'its', 'terrifying', 'cycle', 'of', 'deadly', 'plagues.']),\n",
              "       list(['in', 'the', 'near', 'future,', 'crime', 'is', 'patrolled', 'by', 'a', 'mechanized', 'police', 'force.', 'when', 'one', 'police', 'droid,', 'chappie,', 'is', 'stolen', 'and', 'given', 'new', 'programming,', 'he', 'becomes', 'the', 'first', 'robot', 'with', 'the', 'ability', 'to', 'think', 'and', 'feel', 'for', 'himself.']),\n",
              "       list(['the', 'dwarves,', 'along', 'with', 'bilbo', 'baggins', 'and', 'gandalf', 'the', 'grey,', 'continue', 'their', 'quest', 'to', 'reclaim', 'erebor,', 'their', 'homeland,', 'from', 'smaug.', 'bilbo', 'baggins', 'is', 'in', 'possession', 'of', 'a', 'mysterious', 'and', 'magical', 'ring.']),\n",
              "       list(['sisters', 'olanna', 'and', 'kainene', 'return', 'home', 'to', '1960s', 'nigeria,', 'where', 'they', 'soon', 'diverge', 'on', 'different', 'paths.', 'as', 'civil', 'war', 'breaks', 'out,', 'political', 'events', 'loom', 'larger', 'than', 'their', 'differences', 'as', 'they', 'join', 'the', 'fight', 'to', 'establish', 'an', 'independent', 'republic.']),\n",
              "       list(['based', 'on', 'the', 'extraordinary', 'true', 'story', 'of', 'operation', 'anthropoid,', 'the', 'wwii', 'mission', 'to', 'assassinate', 'ss', 'general', 'reinhard', 'heydrich,', 'the', 'main', 'architect', 'behind', 'the', 'final', 'solution', 'and', 'the', \"reich's\", 'third', 'in', 'command', 'after', 'hitler', 'and', 'himmler.']),\n",
              "       list(['a', 'lawyer', 'finds', 'himself', 'in', 'over', 'his', 'head', 'when', 'he', 'gets', 'involved', 'in', 'drug', 'trafficking.']),\n",
              "       list(['kievan', 'rus,', 'late', '10th', 'century.', 'after', 'the', 'death', 'of', 'his', 'father,', 'the', 'young', 'viking', 'prince', 'vladimir', 'of', 'novgorod', 'is', 'forced', 'into', 'exile', 'across', 'the', 'frozen', 'sea.']),\n",
              "       list(['a', 'journalist', 'recounts', 'her', 'wartime', 'coverage', 'in', 'afghanistan.']),\n",
              "       list(['a', 'teenage', 'girl', 'is', 'targeted', 'by', 'an', 'online', 'sexual', 'predator.']),\n",
              "       list(['young,', 'up-and-coming', 'martial', 'artist,', 'bruce', 'lee,', 'challenges', 'legendary', 'kung', 'fu', 'master', 'wong', 'jack', 'man', 'to', 'a', 'no-holds-barred', 'fight', 'in', 'northern', 'california.']),\n",
              "       list(['in', 'the', 'year', '2154,', 'the', 'very', 'wealthy', 'live', 'on', 'a', 'man-made', 'space', 'station', 'while', 'the', 'rest', 'of', 'the', 'population', 'resides', 'on', 'a', 'ruined', 'earth.', 'a', 'man', 'takes', 'on', 'a', 'mission', 'that', 'could', 'bring', 'equality', 'to', 'the', 'polarized', 'worlds.']),\n",
              "       list(['a', 'group', 'of', 'student', 'activists', 'travels', 'to', 'the', 'amazon', 'to', 'save', 'the', 'rain', 'forest', 'and', 'soon', 'discover', 'that', 'they', 'are', 'not', 'alone,', 'and', 'that', 'no', 'good', 'deed', 'goes', 'unpunished.']),\n",
              "       list(['the', 'world', 'is', 'beset', 'by', 'the', 'appearance', 'of', 'monstrous', 'creatures,', 'but', 'one', 'of', 'them', 'may', 'be', 'the', 'only', 'one', 'who', 'can', 'save', 'humanity.']),\n",
              "       list(['an', 'expansion', 'of', 'the', 'universe', 'from', 'robert', \"ludlum's\", 'novels,', 'centered', 'on', 'a', 'new', 'hero', 'whose', 'stakes', 'have', 'been', 'triggered', 'by', 'the', 'events', 'of', 'the', 'previous', 'three', 'films.']),\n",
              "       list(['a', 'british', 'investment', 'broker', 'inherits', 'his', \"uncle's\", 'chateau', 'and', 'vineyard', 'in', 'provence,', 'where', 'he', 'spent', 'much', 'of', 'his', 'childhood.', 'he', 'discovers', 'a', 'new', 'laid-back', 'lifestyle', 'as', 'he', 'tries', 'to', 'renovate', 'the', 'estate', 'to', 'be', 'sold.']),\n",
              "       list(['when', 'a', 'college', 'student', 'unfriends', 'a', 'mysterious', 'girl', 'online,', 'she', 'finds', 'herself', 'fighting', 'a', 'demonic', 'presence', 'that', 'wants', 'to', 'make', 'her', 'lonely', 'by', 'killing', 'her', 'closest', 'friends.']),\n",
              "       list(['after', 'a', 'ferry', 'is', 'bombed', 'in', 'new', 'orleans,', 'an', 'a.t.f.', 'agent', 'joins', 'a', 'unique', 'investigation', 'using', 'experimental', 'surveillance', 'technology', 'to', 'find', 'the', 'bomber,', 'but', 'soon', 'finds', 'himself', 'becoming', 'obsessed', 'with', 'one', 'of', 'the', 'victims.']),\n",
              "       list(['a', 'woman,', 'accidentally', 'caught', 'in', 'a', 'dark', 'deal,', 'turns', 'the', 'tables', 'on', 'her', 'captors', 'and', 'transforms', 'into', 'a', 'merciless', 'warrior', 'evolved', 'beyond', 'human', 'logic.']),\n",
              "       list(['the', 'story', 'of', 'american', 'poet', 'emily', 'dickinson', 'from', 'her', 'early', 'days', 'as', 'a', 'young', 'schoolgirl', 'to', 'her', 'later', 'years', 'as', 'a', 'reclusive,', 'unrecognized', 'artist.']),\n",
              "       list(['fresh', 'from', 'prison,', 'a', 'street', 'racer', 'who', 'was', 'framed', 'by', 'a', 'wealthy', 'business', 'associate', 'joins', 'a', 'cross', 'country', 'race', 'with', 'revenge', 'in', 'mind.', 'his', 'ex-partner,', 'learning', 'of', 'the', 'plan,', 'places', 'a', 'massive', 'bounty', 'on', 'his', 'head', 'as', 'the', 'race', 'begins.']),\n",
              "       list(['a', 'homicide', 'investigator', 'digs', 'deeper', 'into', 'a', 'case', 'involving', 'a', 'trained', 'military', 'sniper', 'who', 'shot', 'five', 'random', 'victims.']),\n",
              "       list(['two', 'down-on-their-luck', 'guys', 'decide', 'to', 'fake', 'their', 'own', 'deaths', 'and', 'start', 'over', 'with', 'new', 'identities,', 'only', 'to', 'find', 'the', 'people', \"they're\", 'pretending', 'to', 'be', 'are', 'in', 'even', 'deeper', 'trouble.']),\n",
              "       list(['a', 'murder', 'investigation', 'of', 'a', 'slain', 'business', 'man', 'turns', 'to', 'clues', 'found', 'in', 'an', \"author's\", 'book', 'about', 'an', 'eerily', 'similar', 'crime.', 'based', 'on', 'the', '2008', 'article', '\"true', 'crimes', '-', 'a', 'postmodern', 'murder', 'mystery\"', 'by', 'david', 'grann.']),\n",
              "       list(['an', 'all-american', 'college', 'star', 'and', 'his', 'beauty', 'queen', 'wife', 'watch', 'their', 'seemingly', 'perfect', 'life', 'fall', 'apart', 'as', 'their', 'daughter', 'joins', 'the', 'turmoil', 'of', \"'60s\", 'america.']),\n",
              "       list(['a', 'ghostwriter', 'hired', 'to', 'complete', 'the', 'memoirs', 'of', 'a', 'former', 'british', 'prime', 'minister', 'uncovers', 'secrets', 'that', 'put', 'his', 'own', 'life', 'in', 'jeopardy.']),\n",
              "       list(['with', 'the', 'help', 'of', 'a', 'mysterious', 'pill', 'that', 'enables', 'the', 'user', 'to', 'access', '100', 'percent', 'of', 'his', 'brain', 'abilities,', 'a', 'struggling', 'writer', 'becomes', 'a', 'financial', 'wizard,', 'but', 'it', 'also', 'puts', 'him', 'in', 'a', 'new', 'world', 'with', 'lots', 'of', 'dangers.']),\n",
              "       list(['a', 'sci-fi/thriller', 'story', 'centered', 'on', 'a', 'special-ops', 'team', 'that', 'is', 'dispatched', 'to', 'fight', 'supernatural', 'beings.']),\n",
              "       list(['a', 'young', 'widow', 'discovers', 'that', 'her', 'late', 'husband', 'has', 'left', 'her', '10', 'messages', 'intended', 'to', 'help', 'ease', 'her', 'pain', 'and', 'start', 'a', 'new', 'life.']),\n",
              "       list(['a', 'successful', 'family', 'man', 'with', 'a', 'blossoming', 'political', 'career', 'loses', 'all', 'sense', 'of', 'morality', 'when', 'he', 'becomes', 'addicted', 'to', 'using', 'an', 'escort', 'agency.']),\n",
              "       list(['a', 'father', 'and', 'son', 'go', 'on', 'the', 'run,', 'pursued', 'by', 'the', 'government', 'and', 'a', 'cult', 'drawn', 'to', 'the', \"child's\", 'special', 'powers.']),\n",
              "       list(['when', 'a', 'member', 'of', 'a', 'popular', 'new', 'york', 'city', 'improv', 'troupe', 'gets', 'a', 'huge', 'break,', 'the', 'rest', 'of', 'the', 'group', '-', 'all', 'best', 'friends', '-', 'start', 'to', 'realize', 'that', 'not', 'everyone', 'is', 'going', 'to', 'make', 'it', 'after', 'all.']),\n",
              "       list(['nineteen-year-old', 'alice', 'returns', 'to', 'the', 'magical', 'world', 'from', 'her', 'childhood', 'adventure,', 'where', 'she', 'reunites', 'with', 'her', 'old', 'friends', 'and', 'learns', 'of', 'her', 'true', 'destiny:', 'to', 'end', 'the', 'red', \"queen's\", 'reign', 'of', 'terror.']),\n",
              "       list(['a', 'drama', 'inspired', 'by', 'the', 'life', 'of', 'heavyweight', 'boxer', 'chuck', 'wepner.']),\n",
              "       list(['after', 'having', 'suffered', 'a', 'heart-attack,', 'a', '59-year-old', 'carpenter', 'must', 'fight', 'the', 'bureaucratic', 'forces', 'of', 'the', 'system', 'in', 'order', 'to', 'receive', 'employment', 'and', 'support', 'allowance.']),\n",
              "       list(['in', 'a', 'bid', 'to', 'keep', 'their', 'luxurious', 'condo', 'from', 'their', 'significant', 'other,', 'a', \"couple's\", 'break-up', 'proceeds', 'to', 'get', 'uglier', 'and', 'nastier', 'by', 'the', 'moment.']),\n",
              "       list(['the', 'story', 'of', 'richard', 'and', 'mildred', 'loving,', 'a', 'couple', 'whose', 'arrest', 'for', 'interracial', 'marriage', 'in', '1960s', 'virginia', 'began', 'a', 'legal', 'battle', 'that', 'would', 'end', 'with', 'the', 'supreme', \"court's\", 'historic', '1967', 'decision.']),\n",
              "       list(['four', 'young', 'outsiders', 'teleport', 'to', 'an', 'alternate', 'and', 'dangerous', 'universe', 'which', 'alters', 'their', 'physical', 'form', 'in', 'shocking', 'ways.', 'the', 'four', 'must', 'learn', 'to', 'harness', 'their', 'new', 'abilities', 'and', 'work', 'together', 'to', 'save', 'earth', 'from', 'a', 'former', 'friend', 'turned', 'enemy.']),\n",
              "       list(['in', 'a', 'time', 'of', 'starvation,', 'a', 'survivalist', 'lives', 'off', 'a', 'small', 'plot', 'of', 'land', 'hidden', 'deep', 'in', 'forest.', 'when', 'two', 'women', 'seeking', 'food', 'and', 'shelter', 'discover', 'his', 'farm,', 'he', 'finds', 'his', 'existence', 'threatened.']),\n",
              "       list(['a', 'young', \"woman's\", 'desperate', 'search', 'for', 'her', 'abducted', 'boyfriend', 'that', 'draws', 'her', 'into', 'the', 'infamous', 'colonia', 'dignidad,', 'a', 'sect', 'nobody', 'has', 'ever', 'escaped', 'from.']),\n",
              "       list(['a', 'woman,', 'separated', 'from', 'her', 'unfaithful', 'husband,', 'falls', 'for', 'a', 'younger', 'man', 'who', 'has', 'moved', 'in', 'next', 'door,', 'but', 'their', 'torrid', 'affair', 'soon', 'takes', 'a', 'dangerous', 'turn.']),\n",
              "       list(['a', 'young', 'married', \"couple's\", 'lives', 'are', 'thrown', 'into', 'a', 'harrowing', 'tailspin', 'when', 'an', 'acquaintance', 'from', 'the', \"husband's\", 'past', 'brings', 'mysterious', 'gifts', 'and', 'a', 'horrifying', 'secret', 'to', 'light', 'after', 'more', 'than', '20', 'years.']),\n",
              "       list(['as', 'his', 'kingdom', 'is', 'being', 'threatened', 'by', 'the', 'turks,', 'young', 'prince', 'vlad', 'tepes', 'must', 'become', 'a', 'monster', 'feared', 'by', 'his', 'own', 'people', 'in', 'order', 'to', 'obtain', 'the', 'power', 'needed', 'to', 'protect', 'his', 'own', 'family,', 'and', 'the', 'families', 'of', 'his', 'kingdom.']),\n",
              "       list(['a', 'recounting', 'of', 'a', 'new', 'england', 'whaling', \"ship's\", 'sinking', 'by', 'a', 'giant', 'whale', 'in', '1820,', 'an', 'experience', 'that', 'later', 'inspired', 'the', 'great', 'novel', 'moby-dick.']),\n",
              "       list(['private', 'joe', 'bauers,', 'the', 'definition', 'of', '\"average', 'american\",', 'is', 'selected', 'by', 'the', 'pentagon', 'to', 'be', 'the', 'guinea', 'pig', 'for', 'a', 'top-secret', 'hibernation', 'program.', 'forgotten,', 'he', 'awakes', 'five', 'centuries', 'in', 'the', 'future.', 'he', 'discovers', 'a', 'society', 'so', 'incredibly', 'dumbed', 'down', 'that', \"he's\", 'easily', 'the', 'most', 'intelligent', 'person', 'alive.']),\n",
              "       list(['a', 'cia', 'operative', 'hires', 'a', 'team', 'of', 'mercenaries', 'to', 'eliminate', 'a', 'latin', 'dictator', 'and', 'a', 'renegade', 'cia', 'agent.']),\n",
              "       list(['five', 'friends', 'head', 'to', 'a', 'remote', 'cabin,', 'where', 'the', 'discovery', 'of', 'a', 'book', 'of', 'the', 'dead', 'leads', 'them', 'to', 'unwittingly', 'summon', 'up', 'demons', 'living', 'in', 'the', 'nearby', 'woods.']),\n",
              "       list(['washed-up', 'true-crime', 'writer', 'ellison', 'oswalt', 'finds', 'a', 'box', 'of', 'super', '8', 'home', 'movies', 'that', 'suggest', 'the', 'murder', 'he', 'is', 'currently', 'researching', 'is', 'the', 'work', 'of', 'a', 'serial', 'killer', 'whose', 'work', 'dates', 'back', 'to', 'the', '1960s.']),\n",
              "       list(['a', 'video', 'game', 'villain', 'wants', 'to', 'be', 'a', 'hero', 'and', 'sets', 'out', 'to', 'fulfill', 'his', 'dream,', 'but', 'his', 'quest', 'brings', 'havoc', 'to', 'the', 'whole', 'arcade', 'where', 'he', 'lives.']),\n",
              "       list(['in', 'a', 'twist', 'to', 'the', 'fairy', 'tale,', 'the', 'huntsman', 'ordered', 'to', 'take', 'snow', 'white', 'into', 'the', 'woods', 'to', 'be', 'killed', 'winds', 'up', 'becoming', 'her', 'protector', 'and', 'mentor', 'in', 'a', 'quest', 'to', 'vanquish', 'the', 'evil', 'queen.']),\n",
              "       list(['12-year-old', 'orphan', 'peter', 'is', 'spirited', 'away', 'to', 'the', 'magical', 'world', 'of', 'neverland,', 'where', 'he', 'finds', 'both', 'fun', 'and', 'danger,', 'and', 'ultimately', 'discovers', 'his', 'destiny', '--', 'to', 'become', 'the', 'hero', 'who', 'will', 'be', 'forever', 'known', 'as', 'peter', 'pan.']),\n",
              "       list(['the', 'autobots', 'learn', 'of', 'a', 'cybertronian', 'spacecraft', 'hidden', 'on', 'the', 'moon,', 'and', 'race', 'against', 'the', 'decepticons', 'to', 'reach', 'it', 'and', 'to', 'learn', 'its', 'secrets.']),\n",
              "       list(['faced', 'with', 'an', 'unplanned', 'pregnancy,', 'an', 'offbeat', 'young', 'woman', 'makes', 'an', 'unusual', 'decision', 'regarding', 'her', 'unborn', 'child.']),\n",
              "       list(['a', 'failed', 'american', 'sales', 'rep', 'looks', 'to', 'recoup', 'his', 'losses', 'by', 'traveling', 'to', 'saudi', 'arabia', 'and', 'selling', 'his', \"company's\", 'product', 'to', 'a', 'wealthy', 'monarch.']),\n",
              "       list(['financial', 'tv', 'host', 'lee', 'gates', 'and', 'his', 'producer', 'patty', 'are', 'put', 'in', 'an', 'extreme', 'situation', 'when', 'an', 'irate', 'investor', 'takes', 'over', 'their', 'studio.']),\n",
              "       list(['after', 'discovering', 'her', 'boyfriend', 'is', 'married,', 'carly', 'soon', 'meets', 'the', 'wife', \"he's\", 'been', 'betraying.', 'and', 'when', 'yet', 'another', 'love', 'affair', 'is', 'discovered,', 'all', 'three', 'women', 'team', 'up', 'to', 'plot', 'revenge', 'on', 'the', 'three-timing', 's.o.b.']),\n",
              "       list(['a', 'young', 'maiden', 'in', 'a', 'land', 'called', 'andalasia,', 'who', 'is', 'prepared', 'to', 'be', 'wed,', 'is', 'sent', 'away', 'to', 'new', 'york', 'city', 'by', 'an', 'evil', 'queen,', 'where', 'she', 'falls', 'in', 'love', 'with', 'a', 'lawyer.']),\n",
              "       list(['70-year-old', 'widower', 'ben', 'whittaker', 'has', 'discovered', 'that', 'retirement', \"isn't\", 'all', \"it's\", 'cracked', 'up', 'to', 'be.', 'seizing', 'an', 'opportunity', 'to', 'get', 'back', 'in', 'the', 'game,', 'he', 'becomes', 'a', 'senior', 'intern', 'at', 'an', 'online', 'fashion', 'site,', 'founded', 'and', 'run', 'by', 'jules', 'ostin.']),\n",
              "       list(['a', 'family', 'determined', 'to', 'get', 'their', 'young', 'daughter', 'into', 'the', 'finals', 'of', 'a', 'beauty', 'pageant', 'take', 'a', 'cross-country', 'trip', 'in', 'their', 'vw', 'bus.']),\n",
              "       list(['the', 'inspirational', 'story', 'of', 'world', 'champion', 'boxer', 'vinny', 'pazienza', 'who,', 'after', 'a', 'near', 'fatal', 'car', 'crash', 'which', 'left', 'him', 'not', 'knowing', 'if', \"he'd\", 'ever', 'walk', 'again,', 'made', 'one', 'of', \"sport's\", 'most', 'incredible', 'comebacks.']),\n",
              "       list(['perseus', 'demigod,', 'son', 'of', 'zeus,', 'battles', 'the', 'minions', 'of', 'the', 'underworld', 'to', 'stop', 'them', 'from', 'conquering', 'heaven', 'and', 'earth.']),\n",
              "       list(['the', 'coast', 'guard', 'makes', 'a', 'daring', 'rescue', 'attempt', 'off', 'the', 'coast', 'of', 'cape', 'cod', 'after', 'a', 'pair', 'of', 'oil', 'tankers', 'are', 'destroyed', 'during', 'a', 'blizzard', 'in', '1952.']),\n",
              "       list(['the', 'son', 'of', 'a', 'virtual', 'world', 'designer', 'goes', 'looking', 'for', 'his', 'father', 'and', 'ends', 'up', 'inside', 'the', 'digital', 'world', 'that', 'his', 'father', 'designed.', 'he', 'meets', 'his', \"father's\", 'corrupted', 'creation', 'and', 'a', 'unique', 'ally', 'who', 'was', 'born', 'inside', 'the', 'digital', 'world.']),\n",
              "       list(['katniss', 'everdeen', 'and', 'peeta', 'mellark', 'become', 'targets', 'of', 'the', 'capitol', 'after', 'their', 'victory', 'in', 'the', '74th', 'hunger', 'games', 'sparks', 'a', 'rebellion', 'in', 'the', 'districts', 'of', 'panem.']),\n",
              "       list(['mr.', 'david', 'marks', 'was', 'suspected', 'but', 'never', 'tried', 'for', 'killing', 'his', 'wife', 'katie', 'who', 'disappeared', 'in', '1982,', 'but', 'the', 'truth', 'is', 'eventually', 'revealed.']),\n",
              "       list(['a', 'kick', 'boxer', 'is', 'out', 'to', 'avenge', 'his', 'brother.']),\n",
              "       list(['follows', 'the', 'adventures', 'of', 'aang,', 'a', 'young', 'successor', 'to', 'a', 'long', 'line', 'of', 'avatars,', 'who', 'must', 'master', 'all', 'four', 'elements', 'and', 'stop', 'the', 'fire', 'nation', 'from', 'enslaving', 'the', 'water', 'tribes', 'and', 'the', 'earth', 'kingdom.']),\n",
              "       list(['a', 'married', 'couple', 'wake', 'up', 'to', 'discover', 'that', 'the', 'sex', 'tape', 'they', 'made', 'the', 'evening', 'before', 'has', 'gone', 'missing,', 'leading', 'to', 'a', 'frantic', 'search', 'for', 'its', 'whereabouts.']),\n",
              "       list(['follows', 'the', 'lives', 'of', 'five', 'interconnected', 'couples', 'as', 'they', 'experience', 'the', 'thrills', 'and', 'surprises', 'of', 'having', 'a', 'baby,', 'and', 'realize', 'that', 'no', 'matter', 'what', 'you', 'plan', 'for,', 'life', 'does', 'not', 'always', 'deliver', 'what', 'is', 'expected.']),\n",
              "       list(['oakland', \"a's\", 'general', 'manager', 'billy', \"beane's\", 'successful', 'attempt', 'to', 'assemble', 'a', 'baseball', 'team', 'on', 'a', 'lean', 'budget', 'by', 'employing', 'computer-generated', 'analysis', 'to', 'acquire', 'new', 'players.']),\n",
              "       list(['stunt', 'motorcyclist', 'johnny', 'blaze', 'gives', 'up', 'his', 'soul', 'to', 'become', 'a', 'hellblazing', 'vigilante,', 'to', 'fight', 'against', 'power', 'hungry', 'blackheart,', 'the', 'son', 'of', 'the', 'devil', 'himself.']),\n",
              "       list(['after', 'a', 'near-fatal', 'plane', 'crash', 'in', 'wwii,', 'olympian', 'louis', 'zamperini', 'spends', 'a', 'harrowing', '47', 'days', 'in', 'a', 'raft', 'with', 'two', 'fellow', 'crewmen', 'before', \"he's\", 'caught', 'by', 'the', 'japanese', 'navy', 'and', 'sent', 'to', 'a', 'prisoner-of-war', 'camp.']),\n",
              "       list(['theseus', 'is', 'a', 'mortal', 'man', 'chosen', 'by', 'zeus', 'to', 'lead', 'the', 'fight', 'against', 'the', 'ruthless', 'king', 'hyperion,', 'who', 'is', 'on', 'a', 'rampage', 'across', 'greece', 'to', 'obtain', 'a', 'weapon', 'that', 'can', 'destroy', 'humanity.']),\n",
              "       list(['a', 'team', 'of', 'international', 'astronauts', 'are', 'sent', 'on', 'a', 'dangerous', 'mission', 'to', 'reignite', 'the', 'dying', 'sun', 'with', 'a', 'nuclear', 'fission', 'bomb', 'in', '2057.']),\n",
              "       list(['determined', 'to', 'make', 'her', 'own', 'path', 'in', 'life,', 'princess', 'merida', 'defies', 'a', 'custom', 'that', 'brings', 'chaos', 'to', 'her', 'kingdom.', 'granted', 'one', 'wish,', 'merida', 'must', 'rely', 'on', 'her', 'bravery', 'and', 'her', 'archery', 'skills', 'to', 'undo', 'a', 'beastly', 'curse.']),\n",
              "       list(['a', 'journalist', 'is', 'aided', 'in', 'his', 'search', 'for', 'a', 'woman', 'who', 'has', 'been', 'missing', '--', 'or', 'dead', '--', 'for', 'forty', 'years', 'by', 'a', 'young', 'female', 'hacker.']),\n",
              "       list(['a', 'pair', 'of', 'childhood', 'friends', 'and', 'neighbors', 'fall', 'for', 'each', \"other's\", 'sons.']),\n",
              "       list(['bob', 'saginowski', 'finds', 'himself', 'at', 'the', 'center', 'of', 'a', 'robbery', 'gone', 'awry', 'and', 'entwined', 'in', 'an', 'investigation', 'that', 'digs', 'deep', 'into', 'the', \"neighborhood's\", 'past', 'where', 'friends,', 'families,', 'and', 'foes', 'all', 'work', 'together', 'to', 'make', 'a', 'living', '-', 'no', 'matter', 'the', 'cost.']),\n",
              "       list(['when', 'her', 'brother', 'decides', 'to', 'ditch', 'for', 'a', 'couple', 'weeks,', 'viola', 'heads', 'over', 'to', 'his', 'elite', 'boarding', 'school,', 'disguised', 'as', 'him,', 'and', 'proceeds', 'to', 'fall', 'for', 'one', 'of', 'his', 'soccer', 'teammates,', 'and', 'soon', 'learns', \"she's\", 'not', 'the', 'only', 'one', 'with', 'romantic', 'troubles.']),\n",
              "       list(['brad', 'whitaker', 'is', 'a', 'radio', 'host', 'trying', 'to', 'get', 'his', 'stepchildren', 'to', 'love', 'him', 'and', 'call', 'him', 'dad.', 'but', 'his', 'plans', 'turn', 'upside', 'down', 'when', 'their', 'biological', 'father,', 'dusty', 'mayron,', 'returns.']),\n",
              "       list(['a', 'bullied', 'young', 'boy', 'befriends', 'a', 'young', 'female', 'vampire', 'who', 'lives', 'in', 'secrecy', 'with', 'her', 'guardian.']),\n",
              "       list(['a', 'frustrated', 'and', 'conflicted', 'teenager', 'arrives', 'at', 'a', 'new', 'high', 'school', 'to', 'discover', 'an', 'underground', 'fight', 'club', 'and', 'meet', 'a', 'classmate', 'who', 'begins', 'to', 'coerce', 'him', 'into', 'fighting.']),\n",
              "       list(['a', 'new', 'assignment', 'forces', 'a', 'top', 'spy', 'to', 'team', 'up', 'with', 'his', 'football', 'hooligan', 'brother.']),\n",
              "       list(['astronaut', 'sam', 'bell', 'has', 'a', 'quintessentially', 'personal', 'encounter', 'toward', 'the', 'end', 'of', 'his', 'three-year', 'stint', 'on', 'the', 'moon,', 'where', 'he,', 'working', 'alongside', 'his', 'computer,', 'gerty,', 'sends', 'back', 'to', 'earth', 'parcels', 'of', 'a', 'resource', 'that', 'has', 'helped', 'diminish', 'our', \"planet's\", 'power', 'problems.']),\n",
              "       list(['the', 'supervillain', 'megamind', 'finally', 'defeats', 'his', 'nemesis,', 'the', 'superhero', 'metro', 'man.', 'but', 'without', 'a', 'hero,', 'he', 'loses', 'all', 'purpose', 'and', 'must', 'find', 'new', 'meaning', 'to', 'his', 'life.']),\n",
              "       list([\"it's\", '1949', 'los', 'angeles,', 'the', 'city', 'is', 'run', 'by', 'gangsters', 'and', 'a', 'malicious', 'mobster,', 'mickey', 'cohen.', 'determined', 'to', 'end', 'the', 'corruption,', 'john', \"o'mara\", 'assembles', 'a', 'team', 'of', 'cops,', 'ready', 'to', 'take', 'down', 'the', 'ruthless', 'leader', 'and', 'restore', 'peace', 'to', 'the', 'city.']),\n",
              "       list(['an', 'ex-con', 'reunites', 'with', 'his', 'estranged', 'wayward', '17-year', 'old', 'daughter', 'to', 'protect', 'her', 'from', 'drug', 'dealers', 'who', 'are', 'trying', 'to', 'kill', 'her.']),\n",
              "       list(['the', 'baltimore-set', 'movie', 'of', 'interconnecting', 'story', 'arcs', 'deals', 'with', 'the', 'challenges', 'of', 'reading', 'or', 'misreading', 'human', 'behavior.']),\n",
              "       list(['continuing', 'his', '\"legendary', 'adventures', 'of', 'awesomeness\",', 'po', 'must', 'face', 'two', 'hugely', 'epic,', 'but', 'different', 'threats:', 'one', 'supernatural', 'and', 'the', 'other', 'a', 'little', 'closer', 'to', 'his', 'home.']),\n",
              "       list(['two', 'brothers', 'unleash', 'a', 'psychotic', 'reign', 'of', 'terror', 'on', 'their', 'journey', 'to', 'build', 'an', 'empire', 'of', 'unprecedented', 'power', 'in', 'the', 'british', 'mafia.']),\n",
              "       list(['ned', 'and', 'conor', 'are', 'forced', 'to', 'share', 'a', 'bedroom', 'at', 'their', 'boarding', 'school.', 'the', 'loner', 'and', 'the', 'star', 'athlete', 'at', 'this', 'rugby-mad', 'school', 'form', 'an', 'unlikely', 'friendship', 'until', \"it's\", 'tested', 'by', 'the', 'authorities.']),\n",
              "       list(['an', 'unflinching', 'ozark', 'mountain', 'girl', 'hacks', 'through', 'dangerous', 'social', 'terrain', 'as', 'she', 'hunts', 'down', 'her', 'drug-dealing', 'father', 'while', 'trying', 'to', 'keep', 'her', 'family', 'intact.']),\n",
              "       list(['three', 'friends', 'conspire', 'to', 'murder', 'their', 'awful', 'bosses', 'when', 'they', 'realize', 'they', 'are', 'standing', 'in', 'the', 'way', 'of', 'their', 'happiness.']),\n",
              "       list(['a', 'widowed', 'single', 'mother,', 'raising', 'her', 'violent', 'son', 'alone,', 'finds', 'new', 'hope', 'when', 'a', 'mysterious', 'neighbor', 'inserts', 'herself', 'into', 'their', 'household.']),\n",
              "       list(['the', 'mythical', 'world', 'starts', 'a', 'rebellion', 'against', 'humanity', 'in', 'order', 'to', 'rule', 'the', 'earth,', 'so', 'hellboy', 'and', 'his', 'team', 'must', 'save', 'the', 'world', 'from', 'the', 'rebellious', 'creatures.']),\n",
              "       list(['ethan', 'longs', 'to', 'escape', 'his', 'small', 'southern', 'town.', 'he', 'meets', 'a', 'mysterious', 'new', 'girl,', 'lena.', 'together,', 'they', 'uncover', 'dark', 'secrets', 'about', 'their', 'respective', 'families,', 'their', 'history', 'and', 'their', 'town.']),\n",
              "       list(['a', 'practical', 'joking', 'father', 'tries', 'to', 'reconnect', 'with', 'his', 'hard', 'working', 'daughter', 'by', 'creating', 'an', 'outrageous', 'alter', 'ego', 'and', 'posing', 'as', 'her', \"ceo's\", 'life', 'coach.']),\n",
              "       list(['centers', 'on', 'a', 'young', 'girl', 'who', 'has', 'been', 'murdered', 'and', 'watches', 'over', 'her', 'family', '-', 'and', 'her', 'killer', '-', 'from', 'purgatory.', 'she', 'must', 'weigh', 'her', 'desire', 'for', 'vengeance', 'against', 'her', 'desire', 'for', 'her', 'family', 'to', 'heal.']),\n",
              "       list(['robert', 'ford,', \"who's\", 'idolized', 'jesse', 'james', 'since', 'childhood,', 'tries', 'hard', 'to', 'join', 'the', 'reforming', 'gang', 'of', 'the', 'missouri', 'outlaw,', 'but', 'gradually', 'becomes', 'resentful', 'of', 'the', 'bandit', 'leader.']),\n",
              "       list(['a', 'new', 'jersey', 'guy', 'dedicated', 'to', 'his', 'family,', 'friends,', 'and', 'church,', 'develops', 'unrealistic', 'expectations', 'from', 'watching', 'porn', 'and', 'works', 'to', 'find', 'happiness', 'and', 'intimacy', 'with', 'his', 'potential', 'true', 'love.']),\n",
              "       list(['a', 'young', 'con', 'artist', 'and', 'an', 'unruly', 'cia', 'agent', 'embark', 'on', 'an', 'anti-terrorist', 'mission', 'in', 'france.']),\n",
              "       list(['in', '2307,', 'a', 'future', 'soldier', 'is', 'sent', 'on', 'a', 'mission', 'to', 'hunt', 'down', 'the', 'leader', 'of', 'the', 'humanoid', 'rebellion.']),\n",
              "       list(['a', 'disillusioned', 'confederate', 'army', 'deserter', 'returns', 'to', 'mississippi', 'and', 'leads', 'a', 'militia', 'of', 'fellow', 'deserters,', 'runaway', 'slaves,', 'and', 'women', 'in', 'an', 'uprising', 'against', 'the', 'corrupt', 'local', 'confederate', 'government.']),\n",
              "       list(['a', 'girl', 'falls', 'for', 'the', '\"perfect\"', 'guy,', 'who', 'happens', 'to', 'have', 'a', 'very', 'fatal', 'flaw:', \"he's\", 'a', 'hitman', 'on', 'the', 'run', 'from', 'the', 'crime', 'cartels', 'who', 'employ', 'him.']),\n",
              "       list(['when', 'his', 'job', 'along', 'with', 'that', 'of', 'his', 'co-worker', 'are', 'threatened,', 'walter', 'takes', 'action', 'in', 'the', 'real', 'world', 'embarking', 'on', 'a', 'global', 'journey', 'that', 'turns', 'into', 'an', 'adventure', 'more', 'extraordinary', 'than', 'anything', 'he', 'could', 'have', 'ever', 'imagined.']),\n",
              "       list(['life', 'changes', 'for', 'malcolm,', 'a', 'geek', \"who's\", 'surviving', 'life', 'in', 'a', 'tough', 'neighborhood,', 'after', 'a', 'chance', 'invitation', 'to', 'an', 'underground', 'party', 'leads', 'him', 'and', 'his', 'friends', 'into', 'a', 'los', 'angeles', 'adventure.']),\n",
              "       list(['when', 'human', 'forces', 'discover', 'the', 'existence', 'of', 'the', 'vampire', 'and', 'lycan', 'clans,', 'a', 'war', 'to', 'eradicate', 'both', 'species', 'commences.', 'the', 'vampire', 'warrior', 'selene', 'leads', 'the', 'battle', 'against', 'humankind.']),\n",
              "       list(['a', 'grieving', 'couple', 'retreat', 'to', 'their', 'cabin', 'in', 'the', 'woods,', 'hoping', 'to', 'repair', 'their', 'broken', 'hearts', 'and', 'troubled', 'marriage.', 'but', 'nature', 'takes', 'its', 'course', 'and', 'things', 'go', 'from', 'bad', 'to', 'worse.']),\n",
              "       list(['a', 'group', 'of', 'young', 'adults', 'discover', 'a', 'boarded', 'up', 'camp', 'crystal', 'lake,', 'where', 'they', 'soon', 'encounter', 'jason', 'voorhees', 'and', 'his', 'deadly', 'intentions.']),\n",
              "       list(['ex-government', 'operative', 'bryan', 'mills', 'is', 'accused', 'of', 'a', 'ruthless', 'murder', 'he', 'never', 'committed', 'or', 'witnessed.', 'as', 'he', 'is', 'tracked', 'and', 'pursued,', 'mills', 'brings', 'out', 'his', 'particular', 'set', 'of', 'skills', 'to', 'find', 'the', 'true', 'killer', 'and', 'clear', 'his', 'name.']),\n",
              "       list(['a', 'factory', 'worker,', 'douglas', 'quaid,', 'begins', 'to', 'suspect', 'that', 'he', 'is', 'a', 'spy', 'after', 'visiting', 'rekall', '-', 'a', 'company', 'that', 'provides', 'its', 'clients', 'with', 'implanted', 'fake', 'memories', 'of', 'a', 'life', 'they', 'would', 'like', 'to', 'have', 'led', '-', 'goes', 'wrong', 'and', 'he', 'finds', 'himself', 'on', 'the', 'run.']),\n",
              "       list(['when', 'a', 'cure', 'is', 'found', 'to', 'treat', 'mutations,', 'lines', 'are', 'drawn', 'amongst', 'the', 'x-men,', 'led', 'by', 'professor', 'charles', 'xavier,', 'and', 'the', 'brotherhood,', 'a', 'band', 'of', 'powerful', 'mutants', 'organized', 'under', \"xavier's\", 'former', 'ally,', 'magneto.']),\n",
              "       list(['desperate', 'for', 'a', 'good', 'story,', 'a', 'sex-addicted', 'journalist', 'throws', 'himself', 'into', 'the', 'world', 'of', 'high-class', 'escorts', 'when', 'he', 'starts', 'following', 'a', 'stanford-educated', 'prostitute.']),\n",
              "       list(['a', 'defense', 'attorney', 'works', 'to', 'get', 'his', 'teenage', 'client', 'acquitted', 'of', 'murdering', 'his', 'wealthy', 'father.']),\n",
              "       list(['larry', 'spans', 'the', 'globe,', 'uniting', 'favorite', 'and', 'new', 'characters', 'while', 'embarking', 'on', 'an', 'epic', 'quest', 'to', 'save', 'the', 'magic', 'before', 'it', 'is', 'gone', 'forever.']),\n",
              "       list(['a', 'young', 'woman', 'suffering', 'from', \"parkinson's\", 'befriends', 'a', 'drug', 'rep', 'working', 'for', 'pfizer', 'in', '1990s', 'pittsburgh.']),\n",
              "       list(['dave', 'skylark', 'and', 'his', 'producer', 'aaron', 'rapoport', 'run', 'the', 'celebrity', 'tabloid', 'show', '\"skylark', 'tonight\".', 'when', 'they', 'land', 'an', 'interview', 'with', 'a', 'surprise', 'fan,', 'north', 'korean', 'dictator', 'kim', 'jong-un,', 'they', 'are', 'recruited', 'by', 'the', 'cia', 'to', 'turn', 'their', 'trip', 'to', 'pyongyang', 'into', 'an', 'assassination', 'mission.']),\n",
              "       list(['a', 'monster', 'emerges', 'from', \"seoul's\", 'han', 'river', 'and', 'focuses', 'its', 'attention', 'on', 'attacking', 'people.', 'one', \"victim's\", 'loving', 'family', 'does', 'what', 'it', 'can', 'to', 'rescue', 'her', 'from', 'its', 'clutches.']),\n",
              "       list(['two', 'teenage', 'girls', 'encounter', 'an', 'internet', 'child', 'predator.']),\n",
              "       list(['in', 'the', 'distant', 'future,', 'a', 'small', 'waste-collecting', 'robot', 'inadvertently', 'embarks', 'on', 'a', 'space', 'journey', 'that', 'will', 'ultimately', 'decide', 'the', 'fate', 'of', 'mankind.']),\n",
              "       list(['for', 'fun-loving', 'party', 'animal', 'ben', 'stone,', 'the', 'last', 'thing', 'he', 'ever', 'expected', 'was', 'for', 'his', 'one-night', 'stand', 'to', 'show', 'up', 'on', 'his', 'doorstep', 'eight', 'weeks', 'later', 'to', 'tell', 'him', \"she's\", 'pregnant', 'with', 'his', 'child.']),\n",
              "       list(['a', 'soldier', 'wakes', 'up', 'in', 'someone', \"else's\", 'body', 'and', 'discovers', \"he's\", 'part', 'of', 'an', 'experimental', 'government', 'program', 'to', 'find', 'the', 'bomber', 'of', 'a', 'commuter', 'train.', 'a', 'mission', 'he', 'has', 'only', '8', 'minutes', 'to', 'complete.']),\n",
              "       list(['set', 'in', 'depression-era', 'franklin', 'county,', 'virginia,', 'a', 'trio', 'of', 'bootlegging', 'brothers', 'are', 'threatened', 'by', 'a', 'new', 'special', 'deputy', 'and', 'other', 'authorities', 'angling', 'for', 'a', 'cut', 'of', 'their', 'profits.']),\n",
              "       list(['a', 'group', 'of', 'online', 'chat', 'room', 'friends', 'find', 'themselves', 'haunted', 'by', 'a', 'mysterious,', 'supernatural', 'force', 'using', 'the', 'account', 'of', 'their', 'dead', 'friend.']),\n",
              "       list(['jim,', 'michelle,', 'stifler,', 'and', 'their', 'friends', 'reunite', 'in', 'east', 'great', 'falls,', 'michigan', 'for', 'their', 'high', 'school', 'reunion.']),\n",
              "       list(['a', 'struggling', 'salesman', 'takes', 'custody', 'of', 'his', 'son', 'as', \"he's\", 'poised', 'to', 'begin', 'a', 'life-changing', 'professional', 'career.']),\n",
              "       list(['six', 'short', 'stories', 'that', 'explore', 'the', 'extremities', 'of', 'human', 'behavior', 'involving', 'people', 'in', 'distress.']),\n",
              "       list(['an', 'outlaw', 'who', 'was', 'raised', 'by', 'native', 'americans', 'discovers', 'that', 'he', 'has', 'five', 'half-brothers;', 'together', 'the', 'men', 'go', 'on', 'a', 'mission', 'to', 'find', 'their', 'wayward,', 'deadbeat', 'dad.']),\n",
              "       list(['in', 'the', 'aftermath', 'of', 'wwi,', 'a', 'young', 'german', 'who', 'grieves', 'the', 'death', 'of', 'her', 'fiancé', 'in', 'france', 'meets', 'a', 'mysterious', 'frenchman', 'who', 'visits', 'the', \"fiancé's\", 'grave', 'to', 'lay', 'flowers.']),\n",
              "       list(['following', 'the', 'outbreak', 'of', 'a', 'virus', 'that', 'wipes', 'out', 'the', 'majority', 'of', 'the', 'human', 'population,', 'a', 'young', 'woman', 'documents', 'her', \"family's\", 'new', 'life', 'in', 'quarantine', 'and', 'tries', 'to', 'protect', 'her', 'infected', 'sister.']),\n",
              "       list(['disgruntled', 'korean', 'war', 'veteran', 'walt', 'kowalski', 'sets', 'out', 'to', 'reform', 'his', 'neighbor,', 'a', 'hmong', 'teenager', 'who', 'tried', 'to', 'steal', \"kowalski's\", 'prized', 'possession:', 'a', '1972', 'gran', 'torino.']),\n",
              "       list(['adam', 'jones', '(bradley', 'cooper)', 'is', 'a', 'chef', 'who', 'destroyed', 'his', 'career', 'with', 'drugs', 'and', 'diva', 'behavior.', 'he', 'cleans', 'up', 'and', 'returns', 'to', 'london,', 'determined', 'to', 'redeem', 'himself', 'by', 'spearheading', 'a', 'top', 'restaurant', 'that', 'can', 'gain', 'three', 'michelin', 'stars.']),\n",
              "       list(['a', 'challenged', 'man', 'is', 'stalked', 'by', 'tall', 'phantoms', 'in', 'business', 'suits', 'after', 'he', 'purchases', 'a', 'car', 'with', 'a', 'mysterious', 'black', 'credit', 'card.']),\n",
              "       list(['a', 'haunting', 'portrait', 'of', 'lucy,', 'a', 'young', 'university', 'student', 'drawn', 'into', 'a', 'mysterious', 'hidden', 'world', 'of', 'unspoken', 'desires.']),\n",
              "       list(['rose', 'hathaway', 'is', 'a', 'dhampir,', 'half', 'human-half', 'vampire,', 'a', 'guardian', 'of', 'the', 'moroi,', 'peaceful,', 'mortal', 'vampires', 'living', 'discreetly', 'within', 'our', 'world.', 'her', 'calling', 'is', 'to', 'protect', 'the', 'moroi', 'from', 'bloodthirsty,', 'immortal', 'vampires,', 'the', 'strigoi.']),\n",
              "       list(['the', 'infamous', 'story', 'of', 'benjamin', 'barker,', 'a.k.a.', 'sweeney', 'todd,', 'who', 'sets', 'up', 'a', 'barber', 'shop', 'down', 'in', 'london', 'which', 'is', 'the', 'basis', 'for', 'a', 'sinister', 'partnership', 'with', 'his', 'fellow', 'tenant,', 'mrs.', 'lovett.', 'based', 'on', 'the', 'hit', 'broadway', 'musical.']),\n",
              "       list(['a', 'psychic', 'works', 'with', 'the', 'fbi', 'in', 'order', 'to', 'hunt', 'down', 'a', 'serial', 'killer.']),\n",
              "       list(['a', 'family', 'looks', 'to', 'prevent', 'evil', 'spirits', 'from', 'trapping', 'their', 'comatose', 'child', 'in', 'a', 'realm', 'called', 'the', 'further.']),\n",
              "       list(['when', 'it', 'becomes', 'clear', 'that', 'his', 'solo', 'album', 'is', 'a', 'failure,', 'a', 'former', 'boy', 'band', 'member', 'does', 'everything', 'in', 'his', 'power', 'to', 'maintain', 'his', 'celebrity', 'status.']),\n",
              "       list(['somerset,', 'october', '2014.', 'when', 'clover', 'catto', '(ellie', 'kendrick)', 'receives', 'a', 'call', 'telling', 'her', 'that', 'her', 'younger', 'brother', 'harry', '(joe', 'blakemore)', 'is', 'dead,', 'she', 'must', 'return', 'to', 'her', 'family', 'farm', 'and', 'face', '...', 'see', 'full', 'summary', '»']),\n",
              "       list(['the', 'feds', 'try', 'to', 'take', 'down', 'notorious', 'american', 'gangsters', 'john', 'dillinger,', 'baby', 'face', 'nelson', 'and', 'pretty', 'boy', 'floyd', 'during', 'a', 'booming', 'crime', 'wave', 'in', 'the', '1930s.']),\n",
              "       list(['the', 'life', 'of', 'mason,', 'from', 'early', 'childhood', 'to', 'his', 'arrival', 'at', 'college.']),\n",
              "       list(['when', 'a', 'kingpin', 'threatens', 'new', 'york', 'city,', 'a', 'group', 'of', 'mutated', 'turtle', 'warriors', 'must', 'emerge', 'from', 'the', 'shadows', 'to', 'protect', 'their', 'home.']),\n",
              "       list(['a', 'russian', 'teenager', 'living', 'in', 'london', 'who', 'dies', 'during', 'childbirth', 'leaves', 'clues', 'to', 'a', 'midwife', 'in', 'her', 'journal', 'that', 'could', 'tie', 'her', 'child', 'to', 'a', 'rape', 'involving', 'a', 'violent', 'russian', 'mob', 'family.']),\n",
              "       list(['the', 'story', 'follows', 'a', 'man', 'who', 'returns', 'home', 'to', 'discover', 'a', 'long-buried', 'family', 'secret,', 'and', 'whose', 'attempts', 'to', 'put', 'things', 'right', 'threaten', 'the', 'lives', 'of', 'those', 'he', 'left', 'home', 'years', 'before.']),\n",
              "       list(['a', 'process', 'server', 'and', 'his', 'marijuana', 'dealer', 'wind', 'up', 'on', 'the', 'run', 'from', 'hitmen', 'and', 'a', 'corrupt', 'police', 'officer', 'after', 'he', 'witnesses', 'his', \"dealer's\", 'boss', 'murder', 'a', 'competitor', 'while', 'trying', 'to', 'serve', 'papers', 'on', 'him.']),\n",
              "       list(['a', 'shy', 'senior', 'and', 'a', 'down-to-earth', 'junior', 'fall', 'in', 'love', 'over', 'one', 'weekend.']),\n",
              "       list(['two', 'boston', 'area', 'detectives', 'investigate', 'a', 'little', \"girl's\", 'kidnapping,', 'which', 'ultimately', 'turns', 'into', 'a', 'crisis', 'both', 'professionally', 'and', 'personally.']),\n",
              "       list(['an', 'uptight', 'fbi', 'special', 'agent', 'is', 'paired', 'with', 'a', 'foul-mouthed', 'boston', 'cop', 'to', 'take', 'down', 'a', 'ruthless', 'drug', 'lord.']),\n",
              "       list(['a', 'philosophy', 'teacher', 'soldiers', 'through', 'the', 'death', 'of', 'her', 'mother,', 'getting', 'fired', 'from', 'her', 'job,', 'and', 'dealing', 'with', 'a', 'husband', 'who', 'is', 'cheating', 'on', 'her.']),\n",
              "       list(['in', 'late-19th-century', 'russian', 'high', 'society,', 'st.', 'petersburg', 'aristocrat', 'anna', 'karenina', 'enters', 'into', 'a', 'life-changing', 'affair', 'with', 'the', 'dashing', 'count', 'alexei', 'vronsky.']),\n",
              "       list(['a', 'detective', 'and', 'a', 'psychoanalyst', 'uncover', 'evidence', 'of', 'a', 'satanic', 'cult', 'while', 'investigating', 'the', 'rape', 'of', 'a', 'young', 'woman.']),\n",
              "       list(['newlywed', 'couple', 'ted', 'and', 'tami-lynn', 'want', 'to', 'have', 'a', 'baby,', 'but', 'in', 'order', 'to', 'qualify', 'to', 'be', 'a', 'parent,', 'ted', 'will', 'have', 'to', 'prove', \"he's\", 'a', 'person', 'in', 'a', 'court', 'of', 'law.']),\n",
              "       list(['a', 'trio', 'of', 'bodybuilders', 'in', 'florida', 'get', 'caught', 'up', 'in', 'an', 'extortion', 'ring', 'and', 'a', 'kidnapping', 'scheme', 'that', 'goes', 'terribly', 'wrong.']),\n",
              "       list(['a', 'fisherman,', 'a', 'smuggler,', 'and', 'a', 'syndicate', 'of', 'businessmen', 'match', 'wits', 'over', 'the', 'possession', 'of', 'a', 'priceless', 'diamond.']),\n",
              "       list(['the', 'savage', 'murders', 'of', 'three', 'young', 'children', 'sparks', 'a', 'controversial', 'trial', 'of', 'three', 'teenagers', 'accused', 'of', 'killing', 'the', 'kids', 'as', 'part', 'of', 'a', 'satanic', 'ritual.']),\n",
              "       list(['a', 'disgraced', 'member', 'of', 'the', 'russian', 'military', 'police', 'investigates', 'a', 'series', 'of', 'child', 'murders', 'during', 'the', 'stalin-era', 'soviet', 'union.']),\n",
              "       list(['during', 'the', 'iraq', 'war,', 'a', 'sergeant', 'recently', 'assigned', 'to', 'an', 'army', 'bomb', 'squad', 'is', 'put', 'at', 'odds', 'with', 'his', 'squad', 'mates', 'due', 'to', 'his', 'maverick', 'way', 'of', 'handling', 'his', 'work.']),\n",
              "       list(['reckless', 'test', 'pilot', 'hal', 'jordan', 'is', 'granted', 'an', 'alien', 'ring', 'that', 'bestows', 'him', 'with', 'otherworldly', 'powers', 'that', 'inducts', 'him', 'into', 'an', 'intergalactic', 'police', 'force,', 'the', 'green', 'lantern', 'corps.']),\n",
              "       list(['two', 'corrupt', 'cops', 'set', 'out', 'to', 'blackmail', 'and', 'frame', 'every', 'criminal', 'unfortunate', 'enough', 'to', 'cross', 'their', 'path.', 'events,', 'however,', 'are', 'complicated', 'by', 'the', 'arrival', 'of', 'someone', 'who', 'appears', 'to', 'be', 'even', 'more', 'dangerous', 'than', 'they', 'are.']),\n",
              "       list(['a', 'freak', 'storm', 'unleashes', 'a', 'species', 'of', 'bloodthirsty', 'creatures', 'on', 'a', 'small', 'town,', 'where', 'a', 'small', 'band', 'of', 'citizens', 'hole', 'up', 'in', 'a', 'supermarket', 'and', 'fight', 'for', 'their', 'lives.']),\n",
              "       list(['when', 'a', 'structural-security', 'authority', 'finds', 'himself', 'set', 'up', 'and', 'incarcerated', 'in', 'the', \"world's\", 'most', 'secret', 'and', 'secure', 'prison,', 'he', 'has', 'to', 'use', 'his', 'skills', 'to', 'escape', 'with', 'help', 'from', 'the', 'inside.']),\n",
              "       list(['rosie', 'and', 'alex', 'have', 'been', 'best', 'friends', 'since', 'they', 'were', '5,', 'so', 'they', \"couldn't\", 'possibly', 'be', 'right', 'for', 'one', 'another...or', 'could', 'they?', 'when', 'it', 'comes', 'to', 'love,', 'life', 'and', 'making', 'the', 'right', 'choices,', 'these', 'two', 'are', 'their', 'own', 'worst', 'enemies.']),\n",
              "       list(['a', 'high', 'school', 'senior', 'instigates', 'a', 'social', 'pecking', 'order', 'revolution', 'after', 'finding', 'out', 'that', 'she', 'has', 'been', 'labeled', 'the', 'duff', '-', 'designated', 'ugly', 'fat', 'friend', '-', 'by', 'her', 'prettier,', 'more', 'popular', 'counterparts.']),\n",
              "       list(['japanese', 'agents', 'close', 'in', 'as', 'members', 'of', 'the', 'korean', 'resistance', 'plan', 'an', 'attack', 'in', \"1920's\", 'seoul.']),\n",
              "       list(['katniss', 'everdeen', 'is', 'in', 'district', '13', 'after', 'she', 'shatters', 'the', 'games', 'forever.', 'under', 'the', 'leadership', 'of', 'president', 'coin', 'and', 'the', 'advice', 'of', 'her', 'trusted', 'friends,', 'katniss', 'spreads', 'her', 'wings', 'as', 'she', 'fights', 'to', 'save', 'peeta', 'and', 'a', 'nation', 'moved', 'by', 'her', 'courage.']),\n",
              "       list([\"kevin's\", 'mother', 'struggles', 'to', 'love', 'her', 'strange', 'child,', 'despite', 'the', 'increasingly', 'vicious', 'things', 'he', 'says', 'and', 'does', 'as', 'he', 'grows', 'up.', 'but', 'kevin', 'is', 'just', 'getting', 'started,', 'and', 'his', 'final', 'act', 'will', 'be', 'beyond', 'anything', 'anyone', 'imagined.']),\n",
              "       list(['lady', 'susan', 'vernon', 'takes', 'up', 'temporary', 'residence', 'at', 'her', \"in-laws'\", 'estate', 'and,', 'while', 'there,', 'is', 'determined', 'to', 'be', 'a', 'matchmaker', 'for', 'her', 'daughter', 'frederica', '--', 'and', 'herself', 'too,', 'naturally.']),\n",
              "       list(['when', 'her', 'mother', 'disappears,', 'clary', 'fray', 'learns', 'that', 'she', 'descends', 'from', 'a', 'line', 'of', 'warriors', 'who', 'protect', 'our', 'world', 'from', 'demons.', 'she', 'joins', 'forces', 'with', 'others', 'like', 'her', 'and', 'heads', 'into', 'a', 'dangerous', 'alternate', 'new', 'york', 'called', 'the', 'shadow', 'world.']),\n",
              "       list(['a', 'man', 'with', 'a', 'fateful', 'secret', 'embarks', 'on', 'an', 'extraordinary', 'journey', 'of', 'redemption', 'by', 'forever', 'changing', 'the', 'lives', 'of', 'seven', 'strangers.']),\n",
              "       list(['the', 'story', 'of', 'king', 'george', 'vi', 'of', 'the', 'united', 'kingdom', 'of', 'great', 'britain', 'and', 'northern', 'ireland,', 'his', 'impromptu', 'ascension', 'to', 'the', 'throne', 'and', 'the', 'speech', 'therapist', 'who', 'helped', 'the', 'unsure', 'monarch', 'become', 'worthy', 'of', 'it.']),\n",
              "       list(['irish', 'republican', 'bobby', 'sands', 'leads', 'the', 'inmates', 'of', 'a', 'northern', 'irish', 'prison', 'in', 'a', 'hunger', 'strike.']),\n",
              "       list(['a', 'teenager', 'with', 'teleportation', 'abilities', 'suddenly', 'finds', 'himself', 'in', 'the', 'middle', 'of', 'an', 'ancient', 'war', 'between', 'those', 'like', 'him', 'and', 'their', 'sworn', 'annihilators.']),\n",
              "       list(['the', 'toys', 'are', 'mistakenly', 'delivered', 'to', 'a', 'day-care', 'center', 'instead', 'of', 'the', 'attic', 'right', 'before', 'andy', 'leaves', 'for', 'college,', 'and', \"it's\", 'up', 'to', 'woody', 'to', 'convince', 'the', 'other', 'toys', 'that', 'they', \"weren't\", 'abandoned', 'and', 'to', 'return', 'home.']),\n",
              "       list(['in', 'the', 'bleak', 'days', 'of', 'the', 'cold', 'war,', 'espionage', 'veteran', 'george', 'smiley', 'is', 'forced', 'from', 'semi-retirement', 'to', 'uncover', 'a', 'soviet', 'agent', 'within', 'mi6.']),\n",
              "       list(['alice', 'fights', 'alongside', 'a', 'resistance', 'movement', 'to', 'regain', 'her', 'freedom', 'from', 'an', 'umbrella', 'corporation', 'testing', 'facility.']),\n",
              "       list(['kaira', 'is', 'a', 'budding', 'cinematographer', 'in', 'search', 'of', 'a', 'perfect', 'life.', 'her', 'encounter', 'with', 'jug,', 'an', 'unconventional', 'thinker,', 'helps', 'her', 'gain', 'a', 'new', 'perspective', 'on', 'life.', 'she', 'discovers', 'that', 'happiness', 'is', 'all', 'about', 'finding', 'comfort', 'in', \"life's\", 'imperfections.']),\n",
              "       list(['a', 'chronicle', 'of', 'max', \"perkins's\", 'time', 'as', 'the', 'book', 'editor', 'at', 'scribner,', 'where', 'he', 'oversaw', 'works', 'by', 'thomas', 'wolfe,', 'ernest', 'hemingway,', 'f.', 'scott', 'fitzgerald', 'and', 'others.']),\n",
              "       list(['a', 'slave-turned-gladiator', 'finds', 'himself', 'in', 'a', 'race', 'against', 'time', 'to', 'save', 'his', 'true', 'love,', 'who', 'has', 'been', 'betrothed', 'to', 'a', 'corrupt', 'roman', 'senator.', 'as', 'mount', 'vesuvius', 'erupts,', 'he', 'must', 'fight', 'to', 'save', 'his', 'beloved', 'as', 'pompeii', 'crumbles', 'around', 'him.']),\n",
              "       list(['a', 'young', 'man', 'who', 'survives', 'a', 'disaster', 'at', 'sea', 'is', 'hurtled', 'into', 'an', 'epic', 'journey', 'of', 'adventure', 'and', 'discovery.', 'while', 'cast', 'away,', 'he', 'forms', 'an', 'unexpected', 'connection', 'with', 'another', 'survivor:', 'a', 'fearsome', 'bengal', 'tiger.']),\n",
              "       list(['a', 'college', \"professor's\", 'bond', 'with', 'the', 'abandoned', 'dog', 'he', 'takes', 'into', 'his', 'home.']),\n",
              "       list(['the', 'night', 'before', 'their', 'high', 'school', 'reunion,', 'a', 'group', 'of', 'friends', 'realize', 'they', 'still', \"haven't\", 'quite', 'grown', 'up', 'in', 'some', 'ways.']),\n",
              "       list(['a', 'molecular', 'biologist', 'and', 'his', 'laboratory', 'partner', 'uncover', 'evidence', 'that', 'may', 'fundamentally', 'change', 'society', 'as', 'we', 'know', 'it.']),\n",
              "       list(['john', 'mcclane', 'and', 'a', 'young', 'hacker', 'join', 'forces', 'to', 'take', 'down', 'master', 'cyber-terrorist', 'thomas', 'gabriel', 'in', 'washington', 'd.c.']),\n",
              "       list(['when', 'an', 'idealistic', 'romantic', 'gets', 'fired', 'from', 'his', 'day', 'job,', 'he', 'is', 'offered', 'a', '\"one-time', 'gig\"', 'to', 'break', 'up', 'a', \"girl's\", 'relationship', 'for', 'her', 'disapproving', 'parents.', 'this', '\"one-time\"', 'gig', 'spreads', 'through', '...', 'see', 'full', 'summary', '»']),\n",
              "       list(['two', 'psychopathic', 'young', 'men', 'take', 'a', 'family', 'hostage', 'in', 'their', 'cabin.']),\n",
              "       list(['john', 'bennett,', 'a', 'man', 'whose', 'childhood', 'wish', 'of', 'bringing', 'his', 'teddy', 'bear', 'to', 'life', 'came', 'true,', 'now', 'must', 'decide', 'between', 'keeping', 'the', 'relationship', 'with', 'the', 'bear', 'or', 'his', 'girlfriend,', 'lori.']),\n",
              "       list(['when', 'his', 'peaceful', 'life', 'is', 'threatened', 'by', 'a', 'high-tech', 'assassin,', 'former', 'black-ops', 'agent', 'frank', 'moses', 'reassembles', 'his', 'old', 'team', 'in', 'a', 'last', 'ditch', 'effort', 'to', 'survive', 'and', 'uncover', 'his', 'assailants.']),\n",
              "       list(['set', 'in', 'northern', 'australia', 'before', 'world', 'war', 'ii,', 'an', 'english', 'aristocrat', 'who', 'inherits', 'a', 'sprawling', 'ranch', 'reluctantly', 'pacts', 'with', 'a', 'stock-man', 'in', 'order', 'to', 'protect', 'her', 'new', 'property', 'from', 'a', 'takeover', 'plot.', 'as', 'the', 'pair', 'drive', '2,000', 'head', 'of', 'cattle', 'over', 'unforgiving', 'landscape,', 'they', 'experience', 'the', 'bombing', 'of', 'darwin,', 'australia,', 'by', 'japanese', 'forces', 'firsthand.']),\n",
              "       list(['an', 'ex-con', 'gets', 'on', 'a', 'series', 'of', 'apparently', 'unrelated', 'killings.', 'he', 'gets', 'tracked', 'by', 'a', 'veteran', 'cop', 'with', 'secrets', 'of', 'his', 'own', 'and', 'an', 'egocentric', 'hit', 'man.']),\n",
              "       list(['set', 'in', 'cutter', 'mississippi,', 'the', 'film', 'follows', 'a', 'man', 'who', 'discovers', 'the', 'dark', 'truth', 'about', 'his', 'neighbor', 'and', 'the', 'secrets', 'he', 'may', 'be', 'keeping', 'in', 'the', 'cellar.']),\n",
              "       list(['the', 'affair', 'between', 'a', 'politician', 'and', 'a', 'contemporary', 'dancer', 'is', 'affected', 'by', 'mysterious', 'forces', 'keeping', 'the', 'lovers', 'apart.']),\n",
              "       list(['a', 'man', 'returns', 'to', 'his', 'small', 'hometown', 'after', 'learning', 'that', 'his', 'mother', 'has', 'fallen', 'ill', 'and', 'is', 'about', 'to', 'undergo', 'surgery.']),\n",
              "       list(['big-city', 'lawyer', 'hank', 'palmer', 'returns', 'to', 'his', 'childhood', 'home', 'where', 'his', 'father,', 'the', \"town's\", 'judge,', 'is', 'suspected', 'of', 'murder.', 'hank', 'sets', 'out', 'to', 'discover', 'the', 'truth', 'and,', 'along', 'the', 'way,', 'reconnects', 'with', 'his', 'estranged', 'family.']),\n",
              "       list(['a', 'high-profile', 'terrorism', 'case', 'unexpectedly', 'binds', 'together', 'two', 'ex-lovers', 'on', 'the', 'defense', 'team', '-', 'testing', 'the', 'limits', 'of', 'their', 'loyalties', 'and', 'placing', 'their', 'lives', 'in', 'jeopardy.']),\n",
              "       list(['sam', 'witwicky', 'leaves', 'the', 'autobots', 'behind', 'for', 'a', 'normal', 'life.', 'but', 'when', 'his', 'mind', 'is', 'filled', 'with', 'cryptic', 'symbols,', 'the', 'decepticons', 'target', 'him', 'and', 'he', 'is', 'dragged', 'back', 'into', 'the', \"transformers'\", 'war.']),\n",
              "       list(['a', 'man', 'is', 'shipwrecked', 'on', 'a', 'deserted', 'island', 'and', 'encounters', 'a', 'red', 'turtle,', 'which', 'changes', 'his', 'life.']),\n",
              "       list(['manolo,', 'a', 'young', 'man', 'who', 'is', 'torn', 'between', 'fulfilling', 'the', 'expectations', 'of', 'his', 'family', 'and', 'following', 'his', 'heart,', 'embarks', 'on', 'an', 'adventure', 'that', 'spans', 'three', 'fantastic', 'worlds', 'where', 'he', 'must', 'face', 'his', 'greatest', 'fears.']),\n",
              "       list(['twins', 'journey', 'to', 'the', 'middle', 'east', 'to', 'discover', 'their', 'family', 'history,', 'and', 'fulfill', 'their', \"mother's\", 'last', 'wishes.']),\n",
              "       list(['a', 'newly', 'wed', 'man', 'who', 'believes', \"he's\", 'just', 'gotten', 'hitched', 'to', 'the', 'perfect', 'woman', 'encounters', 'another', 'lady', 'on', 'his', 'honeymoon.']),\n",
              "       list(['into', 'the', 'world', 'of', 'the', 'emperor', 'penguins,', 'who', 'find', 'their', 'soul', 'mates', 'through', 'song,', 'a', 'penguin', 'is', 'born', 'who', 'cannot', 'sing.', 'but', 'he', 'can', 'tap', 'dance', 'something', 'fierce!']),\n",
              "       list(['movie', 'star', 'vincent', 'chase,', 'together', 'with', 'his', 'boys', 'eric,', 'turtle,', 'and', 'johnny,', 'are', 'back', '-', 'and', 'back', 'in', 'business', 'with', 'super', 'agent-turned-studio', 'head', 'ari', 'gold', 'on', 'a', 'risky', 'project', 'that', 'will', 'serve', 'as', \"vince's\", 'directorial', 'debut.']),\n",
              "       list(['a', 'young', 'couple', 'staying', 'in', 'an', 'isolated', 'vacation', 'home', 'are', 'terrorized', 'by', 'three', 'unknown', 'assailants.']),\n",
              "       list(['a', 'man', 'is', 'chosen', 'by', 'his', \"world's\", 'creator', 'to', 'undertake', 'a', 'momentous', 'mission', 'before', 'an', 'apocalyptic', 'flood', 'cleanses', 'the', 'world.']),\n",
              "       list(['after', 'they', 'are', 'forced', 'to', 'live', 'next', 'to', 'a', 'fraternity', 'house,', 'a', 'couple', 'with', 'a', 'newborn', 'baby', 'do', 'whatever', 'they', 'can', 'to', 'take', 'them', 'down.']),\n",
              "       list(['the', 'continuation', 'of', \"joe's\", 'sexually', 'dictated', 'life', 'delves', 'into', 'the', 'darker', 'aspects', 'of', 'her', 'adulthood,', 'obsessions', 'and', 'what', 'led', 'to', 'her', 'being', 'in', \"seligman's\", 'care.']),\n",
              "       list(['a', 'chronicle', 'of', 'one', \"woman's\", '1,100-mile', 'solo', 'hike', 'undertaken', 'as', 'a', 'way', 'to', 'recover', 'from', 'a', 'recent', 'personal', 'tragedy.']),\n",
              "       list(['after', 'their', 'high', 'school', 'basketball', 'coach', 'passes', 'away,', 'five', 'good', 'friends', 'and', 'former', 'teammates', 'reunite', 'for', 'a', 'fourth', 'of', 'july', 'holiday', 'weekend.']),\n",
              "       list(['after', 'discovering', 'a', 'video', 'showing', 'what', 'he', 'believes', 'to', 'be', 'his', 'vanished', 'sister', 'heather,', 'james', 'and', 'a', 'group', 'of', 'friends', 'head', 'to', 'the', 'forest', 'believed', 'to', 'be', 'inhabited', 'by', 'the', 'blair', 'witch.']),\n",
              "       list(['work', 'causes', 'a', 'single', 'mother', 'to', 'move', 'to', 'china', 'with', 'her', 'young', 'son;', 'in', 'his', 'new', 'home,', 'the', 'boy', 'embraces', 'kung', 'fu,', 'taught', 'to', 'him', 'by', 'a', 'master.']),\n",
              "       list(['an', 'imprisoned', 'vampire,', 'barnabas', 'collins,', 'is', 'set', 'free', 'and', 'returns', 'to', 'his', 'ancestral', 'home,', 'where', 'his', 'dysfunctional', 'descendants', 'are', 'in', 'need', 'of', 'his', 'protection.']),\n",
              "       list(['a', 'young', 'man', 'and', 'woman', 'decide', 'to', 'take', 'their', 'friendship', 'to', 'the', 'next', 'level', 'without', 'becoming', 'a', 'couple,', 'but', 'soon', 'discover', 'that', 'adding', 'sex', 'only', 'leads', 'to', 'complications.']),\n",
              "       list(['in', 'turn-of-the-century', 'vienna,', 'a', 'magician', 'uses', 'his', 'abilities', 'to', 'secure', 'the', 'love', 'of', 'a', 'woman', 'far', 'above', 'his', 'social', 'standing.']),\n",
              "       list(['a', 'group', 'of', 'iraq', 'war', 'veterans', 'looks', 'to', 'clear', 'their', 'name', 'with', 'the', 'u.s.', 'military,', 'who', 'suspect', 'the', 'four', 'men', 'of', 'committing', 'a', 'crime', 'for', 'which', 'they', 'were', 'framed.']),\n",
              "       list(['a', 'soldier', 'introduces', 'himself', 'to', 'the', 'peterson', 'family,', 'claiming', 'to', 'be', 'a', 'friend', 'of', 'their', 'son', 'who', 'died', 'in', 'action.', 'after', 'the', 'young', 'man', 'is', 'welcomed', 'into', 'their', 'home,', 'a', 'series', 'of', 'accidental', 'deaths', 'seem', 'to', 'be', 'connected', 'to', 'his', 'presence.']),\n",
              "       list(['two', 'salesmen', 'whose', 'careers', 'have', 'been', 'torpedoed', 'by', 'the', 'digital', 'age', 'find', 'their', 'way', 'into', 'a', 'coveted', 'internship', 'at', 'google,', 'where', 'they', 'must', 'compete', 'with', 'a', 'group', 'of', 'young,', 'tech-savvy', 'geniuses', 'for', 'a', 'shot', 'at', 'employment.']),\n",
              "       list(['two', 'british', 'comic-book', 'geeks', 'traveling', 'across', 'the', 'u.s.', 'encounter', 'an', 'alien', 'outside', 'area', '51.']),\n",
              "       list(['a', 'young', 'woman', 'who', 'dreams', 'of', 'being', 'a', \"children's\", 'author', 'makes', 'an', 'unlikely', 'friendship', 'with', 'a', 'cantankerous,', 'rich', 'old', 'widower.']),\n",
              "       list(['a', 'murder', 'inside', 'the', 'louvre', 'and', 'clues', 'in', 'da', 'vinci', 'paintings', 'lead', 'to', 'the', 'discovery', 'of', 'a', 'religious', 'mystery', 'protected', 'by', 'a', 'secret', 'society', 'for', 'two', 'thousand', 'years', '--', 'which', 'could', 'shake', 'the', 'foundations', 'of', 'christianity.']),\n",
              "       list(['\"mr.', 'church\"', 'tells', 'the', 'story', 'of', 'a', 'unique', 'friendship', 'that', 'develops', 'when', 'a', 'little', 'girl', 'and', 'her', 'dying', 'mother', 'retain', 'the', 'services', 'of', 'a', 'talented', 'cook', '-', 'henry', 'joseph', 'church.', 'what', 'begins', 'as', 'a', 'six', 'month', 'arrangement', 'instead', 'spans', 'into', 'fifteen', 'years', 'and', 'creates', 'a', 'family', 'bond', 'that', 'lasts', 'forever.']),\n",
              "       list(['in', 'paris', 'in', '1931,', 'an', 'orphan', 'named', 'hugo', 'cabret', 'who', 'lives', 'in', 'the', 'walls', 'of', 'a', 'train', 'station', 'is', 'wrapped', 'up', 'in', 'a', 'mystery', 'involving', 'his', 'late', 'father', 'and', 'an', 'automaton.']),\n",
              "       list(['two', 'girls', 'must', 'battle', 'a', 'mysterious', 'evil', 'force', 'when', 'they', 'get', 'left', 'behind', 'at', 'their', 'boarding', 'school', 'over', 'winter', 'break.']),\n",
              "       list(['a', 'cia', 'agent', 'on', 'the', 'ground', 'in', 'jordan', 'hunts', 'down', 'a', 'powerful', 'terrorist', 'leader', 'while', 'being', 'caught', 'between', 'the', 'unclear', 'intentions', 'of', 'his', 'american', 'supervisors', 'and', 'jordan', 'intelligence.']),\n",
              "       list(['a', 'writer', 'indulging', 'in', 'all', 'that', 'los', 'angeles', 'and', 'las', 'vegas', 'has', 'to', 'offer', 'undertakes', 'a', 'search', 'for', 'love', 'and', 'self', 'via', 'a', 'series', 'of', 'adventures', 'with', 'six', 'different', 'women.']),\n",
              "       list(['in', 'the', 'far', 'east,', 'alex', \"o'connell,\", 'the', 'son', 'of', 'famed', 'mummy', 'fighters', 'rick', 'and', 'evy', \"o'connell,\", 'unearths', 'the', 'mummy', 'of', 'the', 'first', 'emperor', 'of', 'qin', '--', 'a', 'shape-shifting', 'entity', 'cursed', 'by', 'a', 'witch', 'centuries', 'ago.']),\n",
              "       list(['a', 'titan', 'of', 'industry', 'is', 'sent', 'to', 'prison', 'after', \"she's\", 'caught', 'insider', 'trading.', 'when', 'she', 'emerges', 'ready', 'to', 'rebrand', 'herself', 'as', \"america's\", 'latest', 'sweetheart,', 'not', 'everyone', 'she', 'screwed', 'over', 'is', 'so', 'quick', 'to', 'forgive', 'and', 'forget.']),\n",
              "       list(['the', 'legendary', 'roberto', 'duran', 'and', 'his', 'equally', 'legendary', 'trainer', 'ray', 'arcel', 'change', 'each', \"other's\", 'lives.']),\n",
              "       list(['a', 'retired', 'legal', 'counselor', 'writes', 'a', 'novel', 'hoping', 'to', 'find', 'closure', 'for', 'one', 'of', 'his', 'past', 'unresolved', 'homicide', 'cases', 'and', 'for', 'his', 'unreciprocated', 'love', 'with', 'his', 'superior', '-', 'both', 'of', 'which', 'still', 'haunt', 'him', 'decades', 'later.']),\n",
              "       list(['a', 'tough', 'u.s.', 'marshal', 'helps', 'a', 'stubborn', 'teenager', 'track', 'down', 'her', \"father's\", 'murderer.']),\n",
              "       list(['caught', 'between', 'a', 'forbidden', 'romance', 'and', 'the', 'expectations', 'of', 'his', 'friends,', 'aspiring', 'dj', 'cole', 'carter', 'attempts', 'to', 'find', 'the', 'path', 'in', 'life', 'that', 'leads', 'to', 'fame', 'and', 'fortune.']),\n",
              "       list(['as', 'a', 'cowardly', 'farmer', 'begins', 'to', 'fall', 'for', 'the', 'mysterious', 'new', 'woman', 'in', 'town,', 'he', 'must', 'put', 'his', 'new-found', 'courage', 'to', 'the', 'test', 'when', 'her', 'husband,', 'a', 'notorious', 'gun-slinger,', 'announces', 'his', 'arrival.']),\n",
              "       list(['a', 'married', 'womans', 'husband', 'with', 'a', 'perfect', 'life', 'cheats', 'with', 'her', 'sister', 'with', 'extreme', 'consequences', 'befalling', 'them', 'all.']),\n",
              "       list(['the', 'unconventional', 'love', 'story', 'of', 'an', 'aspiring', 'actress,', 'her', 'determined', 'driver,', 'and', 'their', 'boss,', 'eccentric', 'billionaire', 'howard', 'hughes.']),\n",
              "       list(['in', '1967', 'los', 'angeles,', 'a', 'widowed', 'mother', 'and', 'her', '2', 'daughters', 'add', 'a', 'new', 'stunt', 'to', 'bolster', 'their', 'seance', 'scam', 'business,', 'inviting', 'an', 'evil', 'presence', 'into', 'their', 'home.']),\n",
              "       list(['in', 'order', 'to', 'restore', 'their', 'dying', 'safe', 'haven,', 'the', 'son', 'of', 'poseidon', 'and', 'his', 'friends', 'embark', 'on', 'a', 'quest', 'to', 'the', 'sea', 'of', 'monsters', 'to', 'find', 'the', 'mythical', 'golden', 'fleece', 'while', 'trying', 'to', 'stop', 'an', 'ancient', 'evil', 'from', 'rising.']),\n",
              "       list(['an', 'attorney,', 'intent', 'on', 'climbing', 'the', 'career', 'ladder', 'toward', 'success,', 'finds', 'an', 'unlikely', 'opponent', 'in', 'a', 'manipulative', 'criminal', 'he', 'is', 'trying', 'to', 'prosecute.']),\n",
              "       list(['a', 'woman', 'tries', 'to', 'exonerate', 'her', 'brother,', 'who', 'was', 'convicted', 'of', 'murder,', 'by', 'proving', 'that', 'the', 'crime', 'was', 'committed', 'by', 'a', 'supernatural', 'phenomenon.']),\n",
              "       list(['guilt-stricken', 'after', 'a', 'job', 'gone', 'wrong,', 'hitman', 'ray', 'and', 'his', 'partner', 'await', 'orders', 'from', 'their', 'ruthless', 'boss', 'in', 'bruges,', 'belgium,', 'the', 'last', 'place', 'in', 'the', 'world', 'ray', 'wants', 'to', 'be.']),\n",
              "       list(['two', 'top', 'cia', 'operatives', 'wage', 'an', 'epic', 'battle', 'against', 'one', 'another', 'after', 'they', 'discover', 'they', 'are', 'dating', 'the', 'same', 'woman.']),\n",
              "       list(['a', 'film', 'about', 'the', 'black-and-white', 'era', 'actress', 'lída', 'baarová', 'and', 'her', 'doomed', 'love', 'affair.']),\n",
              "       list(['in', 'a', 'dangerous', 'post-apocalyptic', 'world,', 'an', 'ailing', 'father', 'defends', 'his', 'son', 'as', 'they', 'slowly', 'travel', 'to', 'the', 'sea.']),\n",
              "       list(['after', 'losing', 'her', 'memory,', 'a', 'woman', 'begins', 'to', 'see', 'unexplained', 'things', 'after', 'her', 'psychiatrist', 'suggests', 'she', 'visit', 'her', 'childhood', 'home.']),\n",
              "       list(['an', 'agent', 'infiltrates', 'a', 'crime', 'ring', 'ran', 'by', 'a', 'charismatic', 'boss.']),\n",
              "       list(['a', 'vengeful', 'barbarian', 'warrior', 'sets', 'off', 'to', 'get', 'his', 'revenge', 'on', 'the', 'evil', 'warlord', 'who', 'attacked', 'his', 'village', 'and', 'murdered', 'his', 'father', 'when', 'he', 'was', 'a', 'boy.']),\n",
              "       list(['a', 'look', 'at', 'the', 'early', 'years', 'of', 'boxer', '\"irish\"', 'micky', 'ward', 'and', 'his', 'brother', 'who', 'helped', 'train', 'him', 'before', 'going', 'pro', 'in', 'the', 'mid', '1980s.']),\n",
              "       list(['a', 'drama', 'with', 'fairy', 'tale', 'elements,', 'where', 'an', 'orphaned', 'musical', 'prodigy', 'uses', 'his', 'gift', 'as', 'a', 'clue', 'to', 'finding', 'his', 'birth', 'parents.']),\n",
              "       list(['a', 'head', 'chef', 'quits', 'his', 'restaurant', 'job', 'and', 'buys', 'a', 'food', 'truck', 'in', 'an', 'effort', 'to', 'reclaim', 'his', 'creative', 'promise,', 'while', 'piecing', 'back', 'together', 'his', 'estranged', 'family.']),\n",
              "       list(['col.', 'katherine', 'powell,', 'a', 'military', 'officer', 'in', 'command', 'of', 'an', 'operation', 'to', 'capture', 'terrorists', 'in', 'kenya,', 'sees', 'her', 'mission', 'escalate', 'when', 'a', 'girl', 'enters', 'the', 'kill', 'zone', 'triggering', 'an', 'international', 'dispute', 'over', 'the', 'implications', 'of', 'modern', 'warfare.']),\n",
              "       list(['jerry', 'and', 'rachel', 'are', 'two', 'strangers', 'thrown', 'together', 'by', 'a', 'mysterious', 'phone', 'call', 'from', 'a', 'woman', 'they', 'have', 'never', 'met.', 'threatening', 'their', 'lives', 'and', 'family,', 'she', 'pushes', 'jerry', 'and', 'rachel', 'into', 'a', 'series', 'of', 'increasingly', 'dangerous', 'situations,', 'using', 'the', 'technology', 'of', 'everyday', 'life', 'to', 'track', 'and', 'control', 'their', 'every', 'move.']),\n",
              "       list(['a', 'wealthy', 'family', 'are', 'held', 'hostage', 'for', 'harboring', 'the', 'target', 'of', 'a', 'murderous', 'syndicate', 'during', 'the', 'purge,', 'a', '12-hour', 'period', 'in', 'which', 'any', 'and', 'all', 'crime', 'is', 'legal.']),\n",
              "       list(['a', 'stranger', 'in', 'the', 'city', 'asks', 'questions', 'no', 'one', 'has', 'asked', 'before.', 'his', 'childlike', 'curiosity', 'will', 'take', 'him', 'on', 'a', 'journey', 'of', 'love,', 'laughter,', 'and', 'letting', 'go.']),\n",
              "       list(['young', 'ender', 'wiggin', 'is', 'recruited', 'by', 'the', 'international', 'military', 'to', 'lead', 'the', 'fight', 'against', 'the', 'formics,', 'a', 'genocidal', 'alien', 'race', 'which', 'nearly', 'annihilated', 'the', 'human', 'race', 'in', 'a', 'previous', 'invasion.']),\n",
              "       list(['famed', 'archaeologist/adventurer', 'dr.', 'henry', '\"indiana\"', 'jones', 'is', 'called', 'back', 'into', 'action', 'when', 'he', 'becomes', 'entangled', 'in', 'a', 'soviet', 'plot', 'to', 'uncover', 'the', 'secret', 'behind', 'mysterious', 'artifacts', 'known', 'as', 'the', 'crystal', 'skulls.']),\n",
              "       list(['after', 'an', 'all', 'night', 'adventure,', \"quentin's\", 'life-long', 'crush,', 'margo,', 'disappears,', 'leaving', 'behind', 'clues', 'that', 'quentin', 'and', 'his', 'friends', 'follow', 'on', 'the', 'journey', 'of', 'a', 'lifetime.']),\n",
              "       list(['life', 'for', 'the', 'residents', 'of', 'a', 'tower', 'block', 'begins', 'to', 'run', 'out', 'of', 'control.']),\n",
              "       list(['james', 'bond', 'descends', 'into', 'mystery', 'as', 'he', 'tries', 'to', 'stop', 'a', 'mysterious', 'organization', 'from', 'eliminating', 'a', \"country's\", 'most', 'valuable', 'resource.', 'all', 'the', 'while,', 'he', 'still', 'tries', 'to', 'seek', 'revenge', 'over', 'the', 'death', 'of', 'his', 'love.']),\n",
              "       list(['after', 'waking', 'up', 'and', 'discovering', 'that', 'he', 'has', 'undergone', 'gender', 'reassignment', 'surgery,', 'an', 'assassin', 'seeks', 'to', 'find', 'the', 'doctor', 'responsible.']),\n",
              "       list(['a', 'hapless', 'young', 'viking', 'who', 'aspires', 'to', 'hunt', 'dragons', 'becomes', 'the', 'unlikely', 'friend', 'of', 'a', 'young', 'dragon', 'himself,', 'and', 'learns', 'there', 'may', 'be', 'more', 'to', 'the', 'creatures', 'than', 'he', 'assumed.']),\n",
              "       list(['apartment', 'building', 'superintendent', 'cleveland', 'heep', 'rescues', 'what', 'he', 'thinks', 'is', 'a', 'young', 'woman', 'from', 'the', 'pool', 'he', 'maintains.', 'when', 'he', 'discovers', 'that', 'she', 'is', 'actually', 'a', 'character', 'from', 'a', 'bedtime', 'story', 'who', 'is', 'trying', 'to', 'make', 'the', 'journey', 'back', 'to', 'her', 'home,', 'he', 'works', 'with', 'his', 'tenants', 'to', 'protect', 'his', 'new', 'friend', 'from', 'the', 'creatures', 'that', 'are', 'determined', 'to', 'keep', 'her', 'in', 'our', 'world.']),\n",
              "       list(['as', 'a', 'modern-day', 'scientist,', 'tommy', 'is', 'struggling', 'with', 'mortality,', 'desperately', 'searching', 'for', 'the', 'medical', 'breakthrough', 'that', 'will', 'save', 'the', 'life', 'of', 'his', 'cancer-stricken', 'wife,', 'izzi.']),\n",
              "       list(['star', 'race', 'car', 'lightning', 'mcqueen', 'and', 'his', 'pal', 'mater', 'head', 'overseas', 'to', 'compete', 'in', 'the', 'world', 'grand', 'prix', 'race.', 'but', 'the', 'road', 'to', 'the', 'championship', 'becomes', 'rocky', 'as', 'mater', 'gets', 'caught', 'up', 'in', 'an', 'intriguing', 'adventure', 'of', 'his', 'own:', 'international', 'espionage.']),\n",
              "       list(['five', 'carnival', 'workers', 'are', 'kidnapped', 'and', 'held', 'hostage', 'in', 'an', 'abandoned,', 'hell-like', 'compound', 'where', 'they', 'are', 'forced', 'to', 'participate', 'in', 'a', 'violent', 'game,', 'the', 'goal', 'of', 'which', 'is', 'to', 'survive', 'twelve', 'hours', 'against', 'a', 'gang', 'of', 'sadistic', 'clowns.']),\n",
              "       list(['a', 'man', 'teaches', 'a', 'young', 'woman', 'how', 'to', 'become', 'a', 'complete', 'weapon.', 'later', 'she', 'is', 'approached', 'by', 'a', 'group', 'of', 'sadistic', 'teens', 'who', 'kill', 'blonde', 'women', 'for', 'unknown', 'reasons.', 'the', 'hunting', 'season', 'begins.']),\n",
              "       list(['when', 'a', 'super', 'girly-girl', 'is', 'dumped', 'by', 'her', 'boyfriend;', 'she', 'decides', 'to', 'do', 'everything', 'she', 'can', 'to', 'get', 'him', 'back', 'by', 'building', 'a', 'college', 'gymnastics', 'team,', 'quickly', 'learning', 'that', 'she', 'is', 'capable', 'of', 'a', 'lot', 'more', 'than', 'just', 'getting', 'an', 'mrs', 'degree.']),\n",
              "       list(['the', 'story', 'of', 'the', 'life', 'and', 'academic', 'career', 'of', 'the', 'pioneer', 'indian', 'mathematician,', 'srinivasa', 'ramanujan,', 'and', 'his', 'friendship', 'with', 'his', 'mentor,', 'professor', 'g.h.', 'hardy.']),\n",
              "       list(['a', 'man', 'awakens', 'from', 'a', 'coma,', 'only', 'to', 'discover', 'that', 'someone', 'has', 'taken', 'on', 'his', 'identity', 'and', 'that', 'no', 'one,', '(not', 'even', 'his', 'wife),', 'believes', 'him.', 'with', 'the', 'help', 'of', 'a', 'young', 'woman,', 'he', 'sets', 'out', 'to', 'prove', 'who', 'he', 'is.']),\n",
              "       list(['a', 'dying', 'real', 'estate', 'mogul', 'transfers', 'his', 'consciousness', 'into', 'a', 'healthy', 'young', 'body,', 'but', 'soon', 'finds', 'that', 'neither', 'the', 'procedure', 'nor', 'the', 'company', 'that', 'performed', 'it', 'are', 'quite', 'what', 'they', 'seem.']),\n",
              "       list(['a', 'psychological', 'thriller', 'about', 'a', 'man', 'who', 'is', 'sometimes', 'controlled', 'by', 'his', 'murder-and-mayhem-loving', 'alter', 'ego.']),\n",
              "       list(['a', 'young', 'man', 'and', 'woman', 'find', 'love', 'in', 'an', 'unlikely', 'place', 'while', 'carrying', 'out', 'a', 'shady', 'deal.']),\n",
              "       list(['two', 'strangers', 'stuck', 'in', 'manhattan', 'for', 'the', 'night', 'grow', 'into', 'each', \"other's\", 'most', 'trusted', 'confidants', 'when', 'an', 'evening', 'of', 'unexpected', 'adventure', 'forces', 'them', 'to', 'confront', 'their', 'fears', 'and', 'take', 'control', 'of', 'their', 'lives.']),\n",
              "       list(['the', 'true', 'story', 'of', 'captain', 'richard', 'phillips', 'and', 'the', '2009', 'hijacking', 'by', 'somali', 'pirates', 'of', 'the', 'u.s.-flagged', 'mv', 'maersk', 'alabama,', 'the', 'first', 'american', 'cargo', 'ship', 'to', 'be', 'hijacked', 'in', 'two', 'hundred', 'years.']),\n",
              "       list(['a', 'woman', 'keeps', 'a', 'diary', 'of', 'her', 'extended', 'stay', 'at', 'a', 'mental', 'hospital.']),\n",
              "       list(['the', 'adventures', 'of', 'teenager', 'max', 'mcgrath', 'and', 'his', 'alien', 'companion,', 'steel,', 'who', 'must', 'harness', 'and', 'combine', 'their', 'tremendous', 'new', 'powers', 'to', 'evolve', 'into', 'the', 'turbo-charged', 'superhero', 'max', 'steel.']),\n",
              "       list(['dracula', 'and', 'his', 'friends', 'try', 'to', 'bring', 'out', 'the', 'monster', 'in', 'his', 'half', 'human,', 'half', 'vampire', 'grandson', 'in', 'order', 'to', 'keep', 'mavis', 'from', 'leaving', 'the', 'hotel.']),\n",
              "       list(['hancock', 'is', 'a', 'superhero', 'whose', 'ill', 'considered', 'behavior', 'regularly', 'causes', 'damage', 'in', 'the', 'millions.', 'he', 'changes', 'when', 'the', 'person', 'he', 'saves', 'helps', 'him', 'improve', 'his', 'public', 'image.']),\n",
              "       list(['two', 'sisters', 'decide', 'to', 'throw', 'one', 'last', 'house', 'party', 'before', 'their', 'parents', 'sell', 'their', 'family', 'home.']),\n",
              "       list(['the', 'manzoni', 'family,', 'a', 'notorious', 'mafia', 'clan,', 'is', 'relocated', 'to', 'normandy,', 'france', 'under', 'the', 'witness', 'protection', 'program,', 'where', 'fitting', 'in', 'soon', 'becomes', 'challenging', 'as', 'their', 'old', 'habits', 'die', 'hard.']),\n",
              "       list(['lifelong', 'platonic', 'friends', 'zack', 'and', 'miri', 'look', 'to', 'solve', 'their', 'respective', 'cash-flow', 'problems', 'by', 'making', 'an', 'adult', 'film', 'together.', 'as', 'the', 'cameras', 'roll,', 'however,', 'the', 'duo', 'begin', 'to', 'sense', 'that', 'they', 'may', 'have', 'more', 'feelings', 'for', 'each', 'other', 'than', 'they', 'previously', 'thought.']),\n",
              "       list(['after', 'losing', 'his', 'mother,', 'a', 'young', 'boy', 'is', 'sent', 'to', 'a', 'foster', 'home', 'with', 'other', 'orphans', 'his', 'age', 'where', 'he', 'begins', 'to', 'learn', 'the', 'meaning', 'of', 'trust', 'and', 'true', 'love.']),\n",
              "       list(['as', 'a', 'police', 'psychologist', 'works', 'to', 'talk', 'down', 'an', 'ex-con', 'who', 'is', 'threatening', 'to', 'jump', 'from', 'a', 'manhattan', 'hotel', 'rooftop,', 'the', 'biggest', 'diamond', 'heist', 'ever', 'committed', 'is', 'in', 'motion.']),\n",
              "       list(['a', 'guy', 'and', 'girl', 'try', 'to', 'keep', 'their', 'relationship', 'strictly', 'physical,', 'but', \"it's\", 'not', 'long', 'before', 'they', 'learn', 'that', 'they', 'want', 'something', 'more.']),\n",
              "       list(['a', 'u.s.', 'fighter', \"pilot's\", 'epic', 'struggle', 'of', 'survival', 'after', 'being', 'shot', 'down', 'on', 'a', 'mission', 'over', 'laos', 'during', 'the', 'vietnam', 'war.']),\n",
              "       list(['when', 'gru,', 'the', \"world's\", 'most', 'super-bad', 'turned', 'super-dad', 'has', 'been', 'recruited', 'by', 'a', 'team', 'of', 'officials', 'to', 'stop', 'lethal', 'muscle', 'and', 'a', 'host', 'of', \"gru's\", 'own,', 'he', 'has', 'to', 'fight', 'back', 'with', 'new', 'gadgetry,', 'cars,', 'and', 'more', 'minion', 'madness.']),\n",
              "       list(['private', 'investigator', 'matthew', 'scudder', 'is', 'hired', 'by', 'a', 'drug', 'kingpin', 'to', 'find', 'out', 'who', 'kidnapped', 'and', 'murdered', 'his', 'wife.']),\n",
              "       list(['five', 'friends', 'who', 'reunite', 'in', 'an', 'attempt', 'to', 'top', 'their', 'epic', 'pub', 'crawl', 'from', 'twenty', 'years', 'earlier', 'unwittingly', 'become', \"humanity's\", 'only', 'hope', 'for', 'survival.']),\n",
              "       list(['two', 'teenage', 'yoga', 'enthusiasts', 'team', 'up', 'with', 'a', 'legendary', 'man-hunter', 'to', 'battle', 'with', 'an', 'ancient', 'evil', 'presence', 'that', 'is', 'threatening', 'their', 'major', 'party', 'plans.']),\n",
              "       list(['a', 'struggling', 'screenwriter', 'inadvertently', 'becomes', 'entangled', 'in', 'the', 'los', 'angeles', 'criminal', 'underworld', 'after', 'his', 'oddball', 'friends', 'kidnap', 'a', \"gangster's\", 'beloved', 'shih', 'tzu.']),\n",
              "       list(['the', 'warrior', 'beowulf', 'must', 'fight', 'and', 'defeat', 'the', 'monster', 'grendel', 'who', 'is', 'terrorizing', 'denmark,', 'and', 'later,', \"grendel's\", 'mother,', 'who', 'begins', 'killing', 'out', 'of', 'revenge.']),\n",
              "       list(['jack', 'ryan,', 'as', 'a', 'young', 'covert', 'cia', 'analyst,', 'uncovers', 'a', 'russian', 'plot', 'to', 'crash', 'the', 'u.s.', 'economy', 'with', 'a', 'terrorist', 'attack.']),\n",
              "       list(['a', 'man', 'who', 'specializes', 'in', 'debunking', 'paranormal', 'occurrences', 'checks', 'into', 'the', 'fabled', 'room', '1408', 'in', 'the', 'dolphin', 'hotel.', 'soon', 'after', 'settling', 'in,', 'he', 'confronts', 'genuine', 'terror.']),\n",
              "       list(['lit', 'professor', 'and', 'gambler', 'jim', \"bennett's\", 'debt', 'causes', 'him', 'to', 'borrow', 'money', 'from', 'his', 'mother', 'and', 'a', 'loan', 'shark.', 'further', 'complicating', 'his', 'situation', 'is', 'his', 'relationship', 'with', 'one', 'of', 'his', 'students.', 'will', 'bennett', 'risk', 'his', 'life', 'for', 'a', 'second', 'chance?']),\n",
              "       list(['a', 'young', 'fugitive', 'prince', 'and', 'princess', 'must', 'stop', 'a', 'villain', 'who', 'unknowingly', 'threatens', 'to', 'destroy', 'the', 'world', 'with', 'a', 'special', 'dagger', 'that', 'enables', 'the', 'magic', 'sand', 'inside', 'to', 'reverse', 'time.']),\n",
              "       list(['a', 'hard-partying', 'high', 'school', \"senior's\", 'philosophy', 'on', 'life', 'changes', 'when', 'he', 'meets', 'the', 'not-so-typical', '\"nice', 'girl.\"']),\n",
              "       list(['the', 'story', 'of', 'king', 'seretse', 'khama', 'of', 'botswana', 'and', 'how', 'his', 'loving', 'but', 'controversial', 'marriage', 'to', 'a', 'british', 'white', 'woman,', 'ruth', 'williams,', 'put', 'his', 'kingdom', 'into', 'political', 'and', 'diplomatic', 'turmoil.']),\n",
              "       list(['during', 'world', 'war', 'ii,', 'an', 'american', 'navy', 'ship', 'is', 'sunk', 'by', 'a', 'japanese', 'submarine', 'leaving', '300', 'crewmen', 'stranded', 'in', 'shark', 'infested', 'waters.']),\n",
              "       list(['in', 'a', 'post-apocalyptic', 'wasteland', 'in', '1997,', 'a', 'comic', 'book', 'fan', 'adopts', 'the', 'persona', 'of', 'his', 'favourite', 'hero', 'to', 'save', 'his', 'enthusiastic', 'friend', 'and', 'fight', 'a', 'tyrannical', 'overlord.']),\n",
              "       list(['a', 'young', 'couple', 'take', 'in', 'their', 'two', 'nieces', 'only', 'to', 'suspect', 'that', 'a', 'foreboding', 'evil', 'has', 'latched', 'itself', 'to', 'their', 'family.']),\n",
              "       list(['a', 'husband', 'and', 'wife', 'who', 'recently', 'lost', 'their', 'baby', 'adopt', 'a', 'nine', 'year-old', 'girl', 'who', 'is', 'not', 'nearly', 'as', 'innocent', 'as', 'she', 'claims', 'to', 'be.']),\n",
              "       list(['the', 'lives', 'of', 'some', 'visitors', 'and', 'residents', 'of', 'rome', 'and', 'the', 'romances,', 'adventures', 'and', 'predicaments', 'they', 'get', 'into.']),\n",
              "       list(['an', 'urbane', 'fox', 'cannot', 'resist', 'returning', 'to', 'his', 'farm', 'raiding', 'ways', 'and', 'then', 'must', 'help', 'his', 'community', 'survive', 'the', \"farmers'\", 'retaliation.']),\n",
              "       list(['a', 'police', 'detective,', 'a', 'bank', 'robber,', 'and', 'a', 'high-power', 'broker', 'enter', 'high-stakes', 'negotiations', 'after', 'the', \"criminal's\", 'brilliant', 'heist', 'spirals', 'into', 'a', 'hostage', 'situation.']),\n",
              "       list(['a', 'self-proclaimed', 'millionaire,', 'has', 'his', 'life', 'turned', 'upside', 'down', 'after', 'firing', 'his', 'i.t.', 'consultant.']),\n",
              "       list(['an', 'adventurous', 'mountain', 'climber', 'becomes', 'trapped', 'under', 'a', 'boulder', 'while', 'canyoneering', 'alone', 'near', 'moab,', 'utah', 'and', 'resorts', 'to', 'desperate', 'measures', 'in', 'order', 'to', 'survive.']),\n",
              "       list(['a', 'couple', 'begins', 'to', 'experience', 'terrifying', 'supernatural', 'occurrences', 'involving', 'a', 'vintage', 'doll', 'shortly', 'after', 'their', 'home', 'is', 'invaded', 'by', 'satanic', 'cultists.']),\n",
              "       list(['four', 'friends', 'gather', 'at', 'an', 'elegant', 'home', 'during', 'the', 'summer', 'of', 'love,', '1969.', 'unbeknownst', 'to', 'them,', 'deadly', 'visitors', 'are', 'waiting', 'outside.', 'what', 'begins', 'as', 'a', 'simple', 'farewell', 'party', 'turns', 'to', 'a', 'night', 'of', '...', 'see', 'full', 'summary', '»']),\n",
              "       list(['during', 'the', 'early', 'years', 'of', 'nazi', 'occupation', 'of', 'france', 'in', 'world', 'war', 'ii,', 'romance', 'blooms', 'between', 'lucile', 'angellier', '(michelle', 'williams),', 'a', 'french', 'villager,', 'and', 'bruno', 'von', 'falk', '(matthias', 'schoenaerts),', 'a', 'german', 'soldier.']),\n",
              "       list(['a', 'traveling', 'theater', 'company', 'gives', 'its', 'audience', 'much', 'more', 'than', 'they', 'were', 'expecting.']),\n",
              "       list(['an', 'elite', 'military', 'unit', 'comprised', 'of', 'special', 'operatives', 'known', 'as', 'g.i.', 'joe,', 'operating', 'out', 'of', 'the', 'pit,', 'takes', 'on', 'an', 'evil', 'organization', 'led', 'by', 'a', 'notorious', 'arms', 'dealer.']),\n",
              "       list(['the', 'story', 'of', 'christine', 'chubbuck,', 'a', '1970s', 'tv', 'reporter', 'struggling', 'with', 'depression', 'and', 'professional', 'frustrations', 'as', 'she', 'tries', 'to', 'advance', 'her', 'career.']),\n",
              "       list(['in', 'a', 'post-apocalyptic', 'america,', 'former', 'u.s.', 'marine', 'gabriel', 'drummer', 'searches', 'desperately', 'for', 'the', 'whereabouts', 'of', 'his', 'son,', 'accompanied', 'by', 'his', 'best', 'friend', 'and', 'a', 'survivor.']),\n",
              "       list(['a', 'thriller', 'centered', 'around', 'a', 'widower', 'who', 'moves', 'into', 'a', 'seemingly', 'perfect', 'new', 'home', 'with', 'his', 'daughter', 'and', 'new', 'wife.']),\n",
              "       list(['a', 'heart-pounding', 'thriller', 'about', 'a', 'widowed', 'child', 'psychologist', 'who', 'lives', 'in', 'an', 'isolated', 'existence', 'in', 'rural', 'new', 'england.', 'caught', 'in', 'a', 'deadly', 'winter', 'storm,', 'she', 'must', 'find', 'a', 'way', 'to', 'rescue', 'a', 'young', 'boy', 'before', 'he', 'disappears', 'forever.']),\n",
              "       list(['a', 'teenager', 'is', 'magically', 'transported', 'to', 'china', 'and', 'learns', 'to', 'convert', 'his', 'video', 'game', 'skills', 'into', 'those', 'of', 'a', 'kung', 'fu', 'warrior.']),\n",
              "       list(['quentin', 'tarantino', 'and', 'robert', \"rodriguez's\", 'homage', 'to', 'exploitation', 'double', 'features', 'in', 'the', '60s', 'and', '70s', 'with', 'two', 'back-to-back', 'cult', 'films', 'that', 'include', 'previews', 'of', 'coming', 'attractions', 'between', 'them.']),\n",
              "       list(['over', 'the', 'course', 'of', 'one', 'evening,', 'an', 'unsuspecting', 'group', 'of', 'twenty-somethings', 'find', 'themselves', 'bombarded', 'by', 'a', 'series', 'of', 'natural', 'disasters', 'and', 'catastrophic', 'events.']),\n",
              "       list(['thirty', 'years', 'after', 'the', 'ring', 'of', 'the', 'first', 'bell,', 'rocky', 'balboa', 'comes', 'out', 'of', 'retirement', 'and', 'dons', 'his', 'gloves', 'for', 'his', 'final', 'fight;', 'against', 'the', 'reigning', 'heavyweight', 'champ', 'mason', \"'the\", \"line'\", 'dixon.']),\n",
              "       list([\"school's\", 'out.', 'summer', 'vacation', 'is', 'on.', 'however,', 'greg', 'may', 'not', 'have', 'the', 'best', 'summer', 'vacation', 'ever.', 'what', 'could', 'go', 'wrong?']),\n",
              "       list(['a', 'mousy', 'governess', 'who', 'softens', 'the', 'heart', 'of', 'her', 'employer', 'soon', 'discovers', 'that', \"he's\", 'hiding', 'a', 'terrible', 'secret.']),\n",
              "       list(['a', 'new', 'clue', 'to', 'the', 'whereabouts', 'of', 'a', 'lost', 'treasure', 'rekindles', 'a', 'married', \"couple's\", 'sense', 'of', 'adventure', '--', 'and', 'their', 'estranged', 'romance.']),\n",
              "       list(['the', 'heroic', 'story', 'of', 'a', 'dictator', 'who', 'risked', 'his', 'life', 'to', 'ensure', 'that', 'democracy', 'would', 'never', 'come', 'to', 'the', 'country', 'he', 'so', 'lovingly', 'oppressed.']),\n",
              "       list(['five', 'married', 'guys', 'conspire', 'to', 'secretly', 'share', 'a', 'penthouse', 'loft', 'in', 'the', 'city--a', 'place', 'where', 'they', 'can', 'carry', 'out', 'hidden', 'affairs', 'and', 'indulge', 'in', 'their', 'deepest', 'fantasies.', 'but', 'the', 'fantasy', 'becomes', 'a', 'nightmare', 'when', 'they', 'discover', 'the', 'dead', 'body', 'of', 'an', 'unknown', 'woman', 'in', 'the', 'loft,', 'and', 'they', 'realize', 'one', 'of', 'the', 'group', 'must', 'be', 'involved.']),\n",
              "       list(['a', 'film', 'about', 'compromises', 'and', 'the', 'implications', 'of', 'the', \"parent's\", 'role.']),\n",
              "       list(['an', 'israeli', 'special', 'forces', 'soldier', 'fakes', 'his', 'death', 'so', 'he', 'can', 're-emerge', 'in', 'new', 'york', 'city', 'as', 'a', 'hair', 'stylist.']),\n",
              "       list(['a', 'police', 'detective', 'investigates', 'the', 'truth', 'behind', 'his', \"partner's\", 'death.', 'the', 'mysterious', 'case', 'reveals', 'disturbing', 'police', 'corruption', 'and', 'a', 'dangerous', 'secret', 'involving', 'an', 'unlikely', 'young', 'woman.']),\n",
              "       list(['an', 'arthritic', 'nova', 'scotia', 'woman', 'works', 'as', 'a', 'housekeeper', 'while', 'she', 'hones', 'her', 'skills', 'as', 'an', 'artist', 'and', 'eventually', 'becomes', 'a', 'beloved', 'figure', 'in', 'the', 'community.']),\n",
              "       list(['dale,', 'kurt', 'and', 'nick', 'decide', 'to', 'start', 'their', 'own', 'business', 'but', 'things', \"don't\", 'go', 'as', 'planned', 'because', 'of', 'a', 'slick', 'investor,', 'prompting', 'the', 'trio', 'to', 'pull', 'off', 'a', 'harebrained', 'and', 'misguided', 'kidnapping', 'scheme.']),\n",
              "       list(['the', 'vacation', 'of', 'a', 'famous', 'rock', 'star', 'and', 'a', 'filmmaker', 'in', 'italy', 'is', 'disrupted', 'by', 'the', 'unexpected', 'visit', 'of', 'an', 'old', 'friend', 'and', 'his', 'daughter.']),\n",
              "       list(['two', 'sisters', 'find', 'their', 'already', 'strained', 'relationship', 'challenged', 'as', 'a', 'mysterious', 'new', 'planet', 'threatens', 'to', 'collide', 'with', 'earth.']),\n",
              "       list(['a', 'waitress,', 'desperate', 'to', 'fulfill', 'her', 'dreams', 'as', 'a', 'restaurant', 'owner,', 'is', 'set', 'on', 'a', 'journey', 'to', 'turn', 'a', 'frog', 'prince', 'back', 'into', 'a', 'human', 'being,', 'but', 'she', 'has', 'to', 'face', 'the', 'same', 'problem', 'after', 'she', 'kisses', 'him.']),\n",
              "       list(['with', 'an', 'unmanned,', 'half-mile-long', 'freight', 'train', 'barreling', 'toward', 'a', 'city,', 'a', 'veteran', 'engineer', 'and', 'a', 'young', 'conductor', 'race', 'against', 'the', 'clock', 'to', 'prevent', 'a', 'catastrophe.']),\n",
              "       list(['an', 'airline', 'pilot', 'saves', 'almost', 'all', 'his', 'passengers', 'on', 'his', 'malfunctioning', 'airliner', 'which', 'eventually', 'crashed,', 'but', 'an', 'investigation', 'into', 'the', 'accident', 'reveals', 'something', 'troubling.']),\n",
              "       list(['an', 'alien', 'on', 'the', 'run', 'from', 'his', 'own', 'people', 'makes', 'friends', 'with', 'a', 'girl.', 'he', 'tries', 'to', 'help', 'her', 'on', 'her', 'quest,', 'but', 'can', 'be', 'an', 'interference.']),\n",
              "       list(['in', 'the', 'world', 'of', 'high-end', 'art', 'auctions', 'and', 'antiques,', 'virgil', 'oldman', 'is', 'an', 'elderly', 'and', 'esteemed', 'but', 'eccentric', 'genius', 'art-expert,', 'known', 'and', 'appreciated', 'by', 'the', 'world.', 'oldman', 'is', 'hired', 'by', 'a', '...', 'see', 'full', 'summary', '»']),\n",
              "       list(['follows', 'casey', 'and', 'jonas,', 'two', 'teenagers', 'desperate', 'to', 'escape', 'their', 'broken', 'and', 'abusive', 'homes', 'and', 'examines', 'the', 'desperation', 'of', 'life', 'on', 'the', 'run', 'and', 'the', 'beauty', 'of', 'first', 'love.']),\n",
              "       list(['this', 'movie', 'is', 'about', 'jackie', 'robinson', 'and', 'his', 'journey', 'to', 'becoming', 'a', 'brooklyn', 'dodger', 'and', 'his', 'life', 'during', 'that', 'time.']),\n",
              "       list(['\"21\"', 'is', 'the', 'fact-based', 'story', 'about', 'six', 'mit', 'students', 'who', 'were', 'trained', 'to', 'become', 'experts', 'in', 'card', 'counting', 'and', 'subsequently', 'took', 'vegas', 'casinos', 'for', 'millions', 'in', 'winnings.']),\n",
              "       list(['a', 'chance', 'encounter', 'between', 'a', 'disgraced', 'music-business', 'executive', 'and', 'a', 'young', 'singer-songwriter', 'new', 'to', 'manhattan', 'turns', 'into', 'a', 'promising', 'collaboration', 'between', 'the', 'two', 'talents.']),\n",
              "       list(['when', 'rodney', 'baze', 'mysteriously', 'disappears', 'and', 'law', 'enforcement', \"doesn't\", 'follow', 'through', 'fast', 'enough,', 'his', 'older', 'brother,', 'russell,', 'takes', 'matters', 'into', 'his', 'own', 'hands', 'to', 'find', 'justice.']),\n",
              "       list(['two', 'girlfriends', 'on', 'a', 'summer', 'holiday', 'in', 'spain', 'become', 'enamored', 'with', 'the', 'same', 'painter,', 'unaware', 'that', 'his', 'ex-wife,', 'with', 'whom', 'he', 'has', 'a', 'tempestuous', 'relationship,', 'is', 'about', 'to', 're-enter', 'the', 'picture.']),\n",
              "       list(['the', 'dragon', 'warrior', 'has', 'to', 'clash', 'against', 'the', 'savage', 'tai', 'lung', 'as', \"china's\", 'fate', 'hangs', 'in', 'the', 'balance:', 'however,', 'the', 'dragon', 'warrior', 'mantle', 'is', 'supposedly', 'mistaken', 'to', 'be', 'bestowed', 'upon', 'an', 'obese', 'panda', 'who', 'is', 'a', 'tyro', 'in', 'martial', 'arts.']),\n",
              "       list(['as', 'their', 'surrounding', 'community', 'has', 'taken', 'a', 'turn', 'for', 'the', 'worse,', 'the', 'crew', 'at', \"calvin's\", 'barbershop', 'come', 'together', 'to', 'bring', 'some', 'much', 'needed', 'change', 'to', 'their', 'neighborhood.']),\n",
              "       list(['in', '2018,', 'a', 'mysterious', 'new', 'weapon', 'in', 'the', 'war', 'against', 'the', 'machines,', 'half-human', 'and', 'half-machine,', 'comes', 'to', 'john', 'connor', 'on', 'the', 'eve', 'of', 'a', 'resistance', 'attack', 'on', 'skynet.', 'but', 'whose', 'side', 'is', 'he', 'on,', 'and', 'can', 'he', 'be', 'trusted?']),\n",
              "       list(['a', 'young', 'teacher', 'inspires', 'her', 'class', 'of', 'at-risk', 'students', 'to', 'learn', 'tolerance,', 'apply', 'themselves,', 'and', 'pursue', 'education', 'beyond', 'high', 'school.']),\n",
              "       list(['a', 'suburban', 'american', 'family', 'is', 'being', 'stalked', 'by', 'a', 'group', 'of', 'psychotic', 'people', 'who', 'live', 'in', 'the', 'desert,', 'far', 'away', 'from', 'civilization.']),\n",
              "       list(['a', 'grief-stricken', 'mother', 'takes', 'on', 'the', 'lapd', 'to', 'her', 'own', 'detriment', 'when', 'it', 'stubbornly', 'tries', 'to', 'pass', 'off', 'an', 'obvious', 'impostor', 'as', 'her', 'missing', 'child,', 'while', 'also', 'refusing', 'to', 'give', 'up', 'hope', 'that', 'she', 'will', 'find', 'him', 'one', 'day.']),\n",
              "       list(['a', 'romantic', 'drama', 'centered', 'on', 'two', 'new', 'lovers:', 'tyler,', 'whose', 'parents', 'have', 'split', 'in', 'the', 'wake', 'of', 'his', \"brother's\", 'suicide,', 'and', 'ally,', 'who', 'lives', 'each', 'day', 'to', 'the', 'fullest', 'since', 'witnessing', 'her', \"mother's\", 'murder.']),\n",
              "       list(['the', 'story', 'revolves', 'around', 'nishimiya', 'shoko,', 'a', 'grade', 'school', 'student', 'who', 'has', 'impaired', 'hearing.', 'she', 'transfers', 'into', 'a', 'new', 'school,', 'where', 'she', 'is', 'bullied', 'by', 'her', 'classmates,', 'especially', 'ishida', 'shouya...', 'see', 'full', 'summary', '»']),\n",
              "       list([\"alexander's\", 'day', 'begins', 'with', 'gum', 'stuck', 'in', 'his', 'hair,', 'followed', 'by', 'more', 'calamities.', 'however,', 'he', 'finds', 'little', 'sympathy', 'from', 'his', 'family', 'and', 'begins', 'to', 'wonder', 'if', 'bad', 'things', 'only', 'happen', 'to', 'him,', 'his', 'mom,', 'dad,', 'brother', 'and', 'sister', '-', 'who', 'all', 'find', 'themselves', 'living', 'through', 'their', 'own', 'terrible,', 'horrible,', 'no', 'good,', 'very', 'bad', 'day.']),\n",
              "       list(['ivan', 'locke,', 'a', 'dedicated', 'family', 'man', 'and', 'successful', 'construction', 'manager,', 'receives', 'a', 'phone', 'call', 'on', 'the', 'eve', 'of', 'the', 'biggest', 'challenge', 'of', 'his', 'career', 'that', 'sets', 'in', 'motion', 'a', 'series', 'of', 'events', 'that', 'threaten', 'his', 'carefully', 'cultivated', 'existence.']),\n",
              "       list(['a', 'psychologist', 'who', 'begins', 'working', 'with', 'a', 'young', 'boy', 'who', 'has', 'suffered', 'a', 'near-fatal', 'fall', 'finds', 'himself', 'drawn', 'into', 'a', 'mystery', 'that', 'tests', 'the', 'boundaries', 'of', 'fantasy', 'and', 'reality.']),\n",
              "       list(['in', 'the', 'aftermath', 'of', 'his', \"girlfriend's\", 'mysterious', 'death,', 'a', 'young', 'man', 'awakens', 'to', 'find', 'strange', 'horns', 'sprouting', 'from', 'his', 'temples.']),\n",
              "       list(['in', '1951,', 'marcus,', 'a', 'working-class', 'jewish', 'student', 'from', 'new', 'jersey,', 'attends', 'a', 'small', 'ohio', 'college,', 'where', 'he', 'struggles', 'with', 'sexual', 'repression', 'and', 'cultural', 'disaffection,', 'amid', 'the', 'ongoing', 'korean', 'war.']),\n",
              "       list(['twenty-four', 'male', 'students', 'out', 'of', 'seventy-five', 'were', 'selected', 'to', 'take', 'on', 'randomly', 'assigned', 'roles', 'of', 'prisoners', 'and', 'guards', 'in', 'a', 'mock', 'prison', 'situated', 'in', 'the', 'basement', 'of', 'the', 'stanford', 'psychology', 'building.']),\n",
              "       list(['back', 'in', 'middle', 'school', 'after', 'summer', 'vacation,', 'greg', 'heffley', 'and', 'his', 'older', 'brother', 'rodrick', 'must', 'deal', 'with', 'their', \"parents'\", 'misguided', 'attempts', 'to', 'have', 'them', 'bond.']),\n",
              "       list(['agent', 'ethan', 'hunt', 'comes', 'into', 'conflict', 'with', 'a', 'dangerous', 'and', 'sadistic', 'arms', 'dealer', 'who', 'threatens', 'his', 'life', 'and', 'his', 'fianceé', 'in', 'response', '.']),\n",
              "       list(['ove,', 'an', 'ill-tempered,', 'isolated', 'retiree', 'who', 'spends', 'his', 'days', 'enforcing', 'block', 'association', 'rules', 'and', 'visiting', 'his', \"wife's\", 'grave,', 'has', 'finally', 'given', 'up', 'on', 'life', 'just', 'as', 'an', 'unlikely', 'friendship', 'develops', 'with', 'his', 'boisterous', 'new', 'neighbors.']),\n",
              "       list(['the', 'young', 'warrior', 'son', 'goku', 'sets', 'out', 'on', 'a', 'quest,', 'racing', 'against', 'time', 'and', 'the', 'vengeful', 'king', 'piccolo,', 'to', 'collect', 'a', 'set', 'of', 'seven', 'magical', 'orbs', 'that', 'will', 'grant', 'their', 'wielder', 'unlimited', 'power.']),\n",
              "       list(['a', 'group', 'of', 'teenagers', 'look', 'to', 'save', 'their', 'town', 'from', 'an', 'invasion', 'of', 'north', 'korean', 'soldiers.']),\n",
              "       list(['after', 'spending', 'the', 'night', 'together', 'on', 'the', 'night', 'of', 'their', 'college', 'graduation', 'dexter', 'and', 'em', 'are', 'shown', 'each', 'year', 'on', 'the', 'same', 'date', 'to', 'see', 'where', 'they', 'are', 'in', 'their', 'lives.', 'they', 'are', 'sometimes', 'together,', 'sometimes', 'not,', 'on', 'that', 'day.']),\n",
              "       list(['two', 'single', 'adults', 'become', 'caregivers', 'to', 'an', 'orphaned', 'girl', 'when', 'their', 'mutual', 'best', 'friends', 'die', 'in', 'an', 'accident.']),\n",
              "       list(['six', 'months', 'after', 'the', 'rage', 'virus', 'was', 'inflicted', 'on', 'the', 'population', 'of', 'great', 'britain,', 'the', 'us', 'army', 'helps', 'to', 'secure', 'a', 'small', 'area', 'of', 'london', 'for', 'the', 'survivors', 'to', 'repopulate', 'and', 'start', 'again.', 'but', 'not', 'everything', 'goes', 'to', 'plan.']),\n",
              "       list(['after', 'a', 'highly', 'unusual', 'zombie', 'saves', 'a', 'still-living', 'girl', 'from', 'an', 'attack,', 'the', 'two', 'form', 'a', 'relationship', 'that', 'sets', 'in', 'motion', 'events', 'that', 'might', 'transform', 'the', 'entire', 'lifeless', 'world.']),\n",
              "       list(['a', 'new', 'york', 'socialite,', 'deeply', 'troubled', 'and', 'in', 'denial,', 'arrives', 'in', 'san', 'francisco', 'to', 'impose', 'upon', 'her', 'sister.', 'she', 'looks', 'a', 'million,', 'but', \"isn't\", 'bringing', 'money,', 'peace,', 'or', 'love...']),\n",
              "       list(['the', 'g.i.', 'joes', 'are', 'not', 'only', 'fighting', 'their', 'mortal', 'enemy', 'cobra;', 'they', 'are', 'forced', 'to', 'contend', 'with', 'threats', 'from', 'within', 'the', 'government', 'that', 'jeopardize', 'their', 'very', 'existence.']),\n",
              "       list(['perseus', 'braves', 'the', 'treacherous', 'underworld', 'to', 'rescue', 'his', 'father,', 'zeus,', 'captured', 'by', 'his', 'son,', 'ares,', 'and', 'brother', 'hades', 'who', 'unleash', 'the', 'ancient', 'titans', 'upon', 'the', 'world.']),\n",
              "       list(['japan', 'is', 'plunged', 'into', 'chaos', 'upon', 'the', 'appearance', 'of', 'a', 'giant', 'monster.']),\n",
              "       list(['author', 'p.l.', 'travers', 'reflects', 'on', 'her', 'childhood', 'after', 'reluctantly', 'meeting', 'with', 'walt', 'disney,', 'who', 'seeks', 'to', 'adapt', 'her', 'mary', 'poppins', 'books', 'for', 'the', 'big', 'screen.']),\n",
              "       list(['a', \"scientist's\", 'drive', 'for', 'artificial', 'intelligence,', 'takes', 'on', 'dangerous', 'implications', 'when', 'his', 'consciousness', 'is', 'uploaded', 'into', 'one', 'such', 'program.']),\n",
              "       list(['when', 'blu,', 'a', 'domesticated', 'macaw', 'from', 'small-town', 'minnesota,', 'meets', 'the', 'fiercely', 'independent', 'jewel,', 'he', 'takes', 'off', 'on', 'an', 'adventure', 'to', 'rio', 'de', 'janeiro', 'with', 'the', 'bird', 'of', 'his', 'dreams.']),\n",
              "       list(['in', 'an', 'emotionless', 'utopia,', 'two', 'people', 'fall', 'in', 'love', 'when', 'they', 'regain', 'their', 'feelings', 'from', 'a', 'mysterious', 'disease,', 'causing', 'tensions', 'between', 'them', 'and', 'their', 'society.']),\n",
              "       list(['tragedy', 'strikes', 'a', 'married', 'couple', 'on', 'vacation', 'in', 'the', 'moroccan', 'desert,', 'touching', 'off', 'an', 'interlocking', 'story', 'involving', 'four', 'different', 'families.']),\n",
              "       list(['the', 'story', 'of', 'a', 'family', 'in', 'waco,', 'texas', 'in', '1956.', 'the', 'eldest', 'son', 'witnesses', 'the', 'loss', 'of', 'innocence', 'and', 'struggles', 'with', 'his', \"parents'\", 'conflicting', 'teachings.']),\n",
              "       list(['a', 'marine', 'travels', 'to', 'louisiana', 'after', 'serving', 'three', 'tours', 'in', 'iraq', 'and', 'searches', 'for', 'the', 'unknown', 'woman', 'he', 'believes', 'was', 'his', 'good', 'luck', 'charm', 'during', 'the', 'war.']),\n",
              "       list(['after', 'a', 'sudden', 'underwater', 'tremor', 'sets', 'free', 'scores', 'of', 'the', 'prehistoric', 'man-eating', 'fish,', 'an', 'unlikely', 'group', 'of', 'strangers', 'must', 'band', 'together', 'to', 'stop', 'themselves', 'from', 'becoming', 'fish', 'food', 'for', 'the', \"area's\", 'new', 'razor-toothed', 'residents.']),\n",
              "       list(['inspired', 'by', 'a', 'true', 'story,', 'a', 'comedy', 'centered', 'on', 'a', '27-year-old', 'guy', 'who', 'learns', 'of', 'his', 'cancer', 'diagnosis,', 'and', 'his', 'subsequent', 'struggle', 'to', 'beat', 'the', 'disease.']),\n",
              "       list(['gunz', '(dylan', 'duffus)', 'is', 'thrust', 'into', 'a', 'world', 'of', 'excitement', 'when', 'he', 'joins', 'the', 'tic', 'crew.', 'the', 'crew,', 'led', 'by', 'the', 'ruthless', 'hoodz', '(scorcher),', 'goes', 'from', 'low', 'level', 'weed', 'peddling', 'to', 'full', 'on', 'armed', '...', 'see', 'full', 'summary', '»']),\n",
              "       list(['pete', 'and', 'debbie', 'are', 'both', 'about', 'to', 'turn', '40,', 'their', 'kids', 'hate', 'each', 'other,', 'both', 'of', 'their', 'businesses', 'are', 'failing,', \"they're\", 'on', 'the', 'verge', 'of', 'losing', 'their', 'house,', 'and', 'their', 'relationship', 'is', 'threatening', 'to', 'fall', 'apart.']),\n",
              "       list(['in', 'the', 'near', 'future,', 'robot', 'boxing', 'is', 'a', 'top', 'sport.', 'a', 'struggling', 'promoter', 'feels', \"he's\", 'found', 'a', 'champion', 'in', 'a', 'discarded', 'robot.']),\n",
              "       list(['a', 'new', 'york', 'writer', 'on', 'sex', 'and', 'love', 'is', 'finally', 'getting', 'married', 'to', 'her', 'mr.', 'big.', 'but', 'her', 'three', 'best', 'girlfriends', 'must', 'console', 'her', 'after', 'one', 'of', 'them', 'inadvertently', 'leads', 'mr.', 'big', 'to', 'jilt', 'her.']),\n",
              "       list(['in', 'thailand,', 'john', 'rambo', 'joins', 'a', 'group', 'of', 'missionaries', 'to', 'venture', 'into', 'war-torn', 'burma,', 'and', 'rescue', 'a', 'group', 'of', 'christian', 'aid', 'workers', 'who', 'were', 'kidnapped', 'by', 'the', 'ruthless', 'local', 'infantry', 'unit.']),\n",
              "       list(['after', 'an', 'experimental', 'bio-weapon', 'is', 'released,', 'turning', 'thousands', 'into', 'zombie-like', 'creatures,', \"it's\", 'up', 'to', 'a', 'rag-tag', 'group', 'of', 'survivors', 'to', 'stop', 'the', 'infected', 'and', 'those', 'behind', 'its', 'release.']),\n",
              "       list(['in', 'pittsburgh,', 'accomplished', 'pathologist', 'dr.', 'bennet', 'omalu', 'uncovers', 'the', 'truth', 'about', 'brain', 'damage', 'in', 'football', 'players', 'who', 'suffer', 'repeated', 'concussions', 'in', 'the', 'course', 'of', 'normal', 'play.']),\n",
              "       list(['in', 'a', 'hospital', 'on', 'the', 'outskirts', 'of', '1920s', 'los', 'angeles,', 'an', 'injured', 'stuntman', 'begins', 'to', 'tell', 'a', 'fellow', 'patient,', 'a', 'little', 'girl', 'with', 'a', 'broken', 'arm,', 'a', 'fantastic', 'story', 'of', 'five', 'mythical', 'heroes.', 'thanks', 'to', 'his', 'fractured', 'state', 'of', 'mind', 'and', 'her', 'vivid', 'imagination,', 'the', 'line', 'between', 'fiction', 'and', 'reality', 'blurs', 'as', 'the', 'tale', 'advances.']),\n",
              "       list(['a', 'romantically', 'challenged', 'morning', 'show', 'producer', 'is', 'reluctantly', 'embroiled', 'in', 'a', 'series', 'of', 'outrageous', 'tests', 'by', 'her', 'chauvinistic', 'correspondent', 'to', 'prove', 'his', 'theories', 'on', 'relationships', 'and', 'help', '...', 'see', 'full', 'summary', '»']),\n",
              "       list(['two', 'best', 'friends', 'become', 'rivals', 'when', 'they', 'schedule', 'their', 'respective', 'weddings', 'on', 'the', 'same', 'day.']),\n",
              "       list(['a', 'good-natured', 'womanizer', 'and', 'a', 'serial', 'cheater', 'form', 'a', 'platonic', 'relationship', 'that', 'helps', 'reform', 'them', 'in', 'ways,', 'while', 'a', 'mutual', 'attraction', 'sets', 'in.']),\n",
              "       list(['an', 'fbi', 'agent', 'takes', 'on', 'a', 'plane', 'full', 'of', 'deadly', 'and', 'venomous', 'snakes,', 'deliberately', 'released', 'to', 'kill', 'a', 'witness', 'being', 'flown', 'from', 'honolulu', 'to', 'los', 'angeles', 'to', 'testify', 'against', 'a', 'mob', 'boss.']),\n",
              "       list(['wallace,', 'who', 'is', 'burned', 'out', 'from', 'a', 'string', 'of', 'failed', 'relationships,', 'forms', 'an', 'instant', 'bond', 'with', 'chantry,', 'who', 'lives', 'with', 'her', 'longtime', 'boyfriend.', 'together,', 'they', 'puzzle', 'out', 'what', 'it', 'means', 'if', 'your', 'best', 'friend', 'is', 'also', 'the', 'love', 'of', 'your', 'life.']),\n",
              "       list(['when', 'hiccup', 'and', 'toothless', 'discover', 'an', 'ice', 'cave', 'that', 'is', 'home', 'to', 'hundreds', 'of', 'new', 'wild', 'dragons', 'and', 'the', 'mysterious', 'dragon', 'rider,', 'the', 'two', 'friends', 'find', 'themselves', 'at', 'the', 'center', 'of', 'a', 'battle', 'to', 'protect', 'the', 'peace.']),\n",
              "       list(['in', '2028', 'detroit,', 'when', 'alex', 'murphy', '-', 'a', 'loving', 'husband,', 'father', 'and', 'good', 'cop', '-', 'is', 'critically', 'injured', 'in', 'the', 'line', 'of', 'duty,', 'the', 'multinational', 'conglomerate', 'omnicorp', 'sees', 'their', 'chance', 'for', 'a', 'part-man,', 'part-robot', 'police', 'officer.']),\n",
              "       list(['an', 'activist', 'gets', 'caught', 'up', 'in', 'the', 'labor', 'movement', 'for', 'farm', 'workers', 'in', 'california', 'during', 'the', '1930s.']),\n",
              "       list(['a', 'self-help', 'seminar', 'inspires', 'a', 'sixty-something', 'woman', 'to', 'romantically', 'pursue', 'her', 'younger', 'co-worker.']),\n",
              "       list(['danny', 'ocean', 'rounds', 'up', 'the', 'boys', 'for', 'a', 'third', 'heist,', 'after', 'casino', 'owner', 'willy', 'bank', 'double-crosses', 'one', 'of', 'the', 'original', 'eleven,', 'reuben', 'tishkoff.']),\n",
              "       list(['a', 'small', 'town', 'is', 'taken', 'over', 'by', 'an', 'alien', 'plague,', 'turning', 'residents', 'into', 'zombies', 'and', 'all', 'forms', 'of', 'mutant', 'monsters.']),\n",
              "       list(['healthcare', 'professionals,', 'government', 'officials', 'and', 'everyday', 'people', 'find', 'themselves', 'in', 'the', 'midst', 'of', 'a', 'worldwide', 'epidemic', 'as', 'the', 'cdc', 'works', 'to', 'find', 'a', 'cure.']),\n",
              "       list(['from', 'the', 'bitter', 'quest', 'of', 'the', 'queen', 'of', 'longtrellis,', 'to', 'two', 'mysterious', 'sisters', 'who', 'provoke', 'the', 'passion', 'of', 'a', 'king,', 'to', 'the', 'king', 'of', 'highhills', 'obsessed', 'with', 'a', 'giant', 'flea,', 'these', 'tales', 'are', 'inspired', 'by', 'the', 'fairytales', 'by', 'giambattista', 'basile.']),\n",
              "       list(['a', 'young', 'nurse', 'takes', 'care', 'of', 'elderly', 'author', 'who', 'lives', 'in', 'a', 'haunted', 'house.']),\n",
              "       list(['a', \"preteen's\", 'life', 'turns', 'upside', 'down', 'when', 'he', 'befriends', 'the', 'new', 'girl', 'in', 'school', 'and', 'they', 'imagine', 'a', 'whole', 'new', 'fantasy', 'world', 'to', 'escape', 'reality.']),\n",
              "       list(['strange', 'things', 'begin', 'to', 'happen', 'when', 'a', 'group', 'of', 'friends', 'gather', 'for', 'a', 'dinner', 'party', 'on', 'an', 'evening', 'when', 'a', 'comet', 'is', 'passing', 'overhead.']),\n",
              "       list(['the', 'life', 'and', 'death', 'story', 'of', 'notorious', 'b.i.g.', '(a.k.a.', 'christopher', 'wallace),', 'who', 'came', 'straight', 'out', 'of', 'brooklyn', 'to', 'take', 'the', 'world', 'of', 'rap', 'music', 'by', 'storm.']),\n",
              "       list(['a', 'stranger', 'arrives', 'in', 'a', 'little', 'village', 'and', 'soon', 'after', 'a', 'mysterious', 'sickness', 'starts', 'spreading.', 'a', 'policeman', 'is', 'drawn', 'into', 'the', 'incident', 'and', 'is', 'forced', 'to', 'solve', 'the', 'mystery', 'in', 'order', 'to', 'save', 'his', 'daughter.']),\n",
              "       list(['mr.', 'church', 'reunites', 'the', 'expendables', 'for', 'what', 'should', 'be', 'an', 'easy', 'paycheck,', 'but', 'when', 'one', 'of', 'their', 'men', 'is', 'murdered', 'on', 'the', 'job,', 'their', 'quest', 'for', 'revenge', 'puts', 'them', 'deep', 'in', 'enemy', 'territory', 'and', 'up', 'against', 'an', 'unexpected', 'threat.']),\n",
              "       list(['based', 'on', 'the', 'jack', 'ketchum', 'novel', 'of', 'the', 'same', 'name,', 'the', 'girl', 'next', 'door', 'follows', 'the', 'unspeakable', 'torture', 'and', 'abuses', 'committed', 'on', 'a', 'teenage', 'girl', 'in', 'the', 'care', 'of', 'her', 'aunt...and', 'the', 'boys', 'who', 'witness', 'and', 'fail', 'to', 'report', 'the', 'crime.']),\n",
              "       list(['jean-baptiste', 'grenouille,', 'born', 'with', 'a', 'superior', 'olfactory', 'sense,', 'creates', 'the', \"world's\", 'finest', 'perfume.', 'his', 'work,', 'however,', 'takes', 'a', 'dark', 'turn', 'as', 'he', 'searches', 'for', 'the', 'ultimate', 'scent.']),\n",
              "       list(['in', 'a', 'parallel', 'universe,', 'young', 'lyra', 'belacqua', 'journeys', 'to', 'the', 'far', 'north', 'to', 'save', 'her', 'best', 'friend', 'and', 'other', 'kidnapped', 'children', 'from', 'terrible', 'experiments', 'by', 'a', 'mysterious', 'organization.']),\n",
              "       list(['a', 'splinter', 'group', 'of', 'roman', 'soldiers', 'fight', 'for', 'their', 'lives', 'behind', 'enemy', 'lines', 'after', 'their', 'legion', 'is', 'decimated', 'in', 'a', 'devastating', 'guerrilla', 'attack.']),\n",
              "       list(['three', 'scouts,', 'on', 'the', 'eve', 'of', 'their', 'last', 'camp-out,', 'discover', 'the', 'true', 'meaning', 'of', 'friendship', 'when', 'they', 'attempt', 'to', 'save', 'their', 'town', 'from', 'a', 'zombie', 'outbreak.']),\n",
              "       list(['mike', \"o'donnell\", 'is', 'ungrateful', 'for', 'how', 'his', 'life', 'turned', 'out.', 'he', 'gets', 'a', 'chance', 'to', 'rewrite', 'his', 'life', 'when', 'he', 'tried', 'to', 'save', 'a', 'janitor', 'near', 'a', 'bridge', 'and', 'jumped', 'after', 'him', 'into', 'a', 'time', 'vortex.']),\n",
              "       list(['in', 'their', 'new', 'overseas', 'home,', 'an', 'american', 'family', 'soon', 'finds', 'themselves', 'caught', 'in', 'the', 'middle', 'of', 'a', 'coup,', 'and', 'they', 'frantically', 'look', 'for', 'a', 'safe', 'escape', 'from', 'an', 'environment', 'where', 'foreigners', 'are', 'being', 'immediately', 'executed.']),\n",
              "       list(['superman', 'reappears', 'after', 'a', 'long', 'absence,', 'but', 'is', 'challenged', 'by', 'an', 'old', 'foe', 'who', 'uses', 'kryptonian', 'technology', 'for', 'world', 'domination.']),\n",
              "       list(['the', 'quileutes', 'close', 'in', 'on', 'expecting', 'parents', 'edward', 'and', 'bella,', 'whose', 'unborn', 'child', 'poses', 'a', 'threat', 'to', 'the', 'wolf', 'pack', 'and', 'the', 'towns', 'people', 'of', 'forks.']),\n",
              "       list(['in', 'new', 'york', \"city's\", 'harlem', 'circa', '1987,', 'an', 'overweight,', 'abused,', 'illiterate', 'teen', 'who', 'is', 'pregnant', 'with', 'her', 'second', 'child', 'is', 'invited', 'to', 'enroll', 'in', 'an', 'alternative', 'school', 'in', 'hopes', 'that', 'her', 'life', 'can', 'head', 'in', 'a', 'new', 'direction.']),\n",
              "       list(['a', 'suicidal', 'american', 'befriends', 'a', 'japanese', 'man', 'lost', 'in', 'a', 'forest', 'near', 'mt.', 'fuji', 'and', 'the', 'two', 'search', 'for', 'a', 'way', 'out.']),\n",
              "       list(['four', 'high', 'school', 'students', 'look', 'to', 'redefine', 'themselves', 'after', 'graduation.']),\n",
              "       list(['a', 'naval', 'veteran', 'arrives', 'home', 'from', 'war', 'unsettled', 'and', 'uncertain', 'of', 'his', 'future', '-', 'until', 'he', 'is', 'tantalized', 'by', 'the', 'cause', 'and', 'its', 'charismatic', 'leader.']),\n",
              "       list(['city', 'teenager', 'ren', 'maccormack', 'moves', 'to', 'a', 'small', 'town', 'where', 'rock', 'music', 'and', 'dancing', 'have', 'been', 'banned,', 'and', 'his', 'rebellious', 'spirit', 'shakes', 'up', 'the', 'populace.']),\n",
              "       list(['life', 'changes', 'in', 'an', 'instant', 'for', 'young', 'mia', 'hall', 'after', 'a', 'car', 'accident', 'puts', 'her', 'in', 'a', 'coma.', 'during', 'an', 'out-of-body', 'experience,', 'she', 'must', 'decide', 'whether', 'to', 'wake', 'up', 'and', 'live', 'a', 'life', 'far', 'different', 'than', 'she', 'had', 'imagined.', 'the', 'choice', 'is', 'hers', 'if', 'she', 'can', 'go', 'on.']),\n",
              "       list(['a', 'blind', 'man', 'who', 'regains', 'his', 'vision', 'finds', 'himself', 'becoming', 'metaphorically', 'blinded', 'by', 'his', 'obsession', 'for', 'the', 'superficial.']),\n",
              "       list(['a', 'young', 'law', 'student', 'blindly', 'enters', 'into', 'a', 'pact', 'with', 'a', 'man', 'who', 'offers', 'to', 'kill', 'his', 'stepfather,', 'whom', 'he', 'feels', 'is', 'responsible', 'for', 'the', 'accident', 'that', 'sent', 'his', 'mother', 'into', 'a', 'coma.']),\n",
              "       list(['a', 'modern-day', 'witch', 'uses', 'spells', 'and', 'magic', 'to', 'get', 'men', 'to', 'fall', 'in', 'love', 'with', 'her.']),\n",
              "       list(['#1', 'nascar', 'driver', 'ricky', 'bobby', 'stays', 'atop', 'the', 'heap', 'thanks', 'to', 'a', 'pact', 'with', 'his', 'best', 'friend', 'and', 'teammate,', 'cal', 'naughton,', 'jr.', 'but', 'when', 'a', 'french', 'formula', 'one', 'driver,', 'makes', 'his', 'way', 'up', 'the', 'ladder,', 'ricky', \"bobby's\", 'talent', 'and', 'devotion', 'are', 'put', 'to', 'the', 'test.']),\n",
              "       list(['a', 'mad', 'scientist', 'kidnaps', 'and', 'mutilates', 'a', 'trio', 'of', 'tourists', 'in', 'order', 'to', 'reassemble', 'them', 'into', 'a', 'human', 'centipede,', 'created', 'by', 'stitching', 'their', 'mouths', 'to', 'each', \"others'\", 'rectums.']),\n",
              "       list(['after', 'his', 'wife', 'falls', 'under', 'the', 'influence', 'of', 'a', 'drug', 'dealer,', 'an', 'everyday', 'guy', 'transforms', 'himself', 'into', 'crimson', 'bolt,', 'a', 'superhero', 'with', 'the', 'best', 'intentions,', 'but', 'lacking', 'in', 'heroic', 'skills.']),\n",
              "       list(['irish', 'commandant', 'pat', 'quinlan', 'leads', 'a', 'stand', 'off', 'with', 'troops', 'against', 'french', 'and', 'belgian', 'mercenaries', 'in', 'the', 'congo', 'during', 'the', 'early', '1960s.']),\n",
              "       list(['ryan', 'bingham', 'enjoys', 'living', 'out', 'of', 'a', 'suitcase', 'for', 'his', 'job', 'traveling', 'around', 'the', 'country', 'firing', 'people,', 'but', 'finds', 'that', 'lifestyle', 'threatened', 'by', 'the', 'presence', 'of', 'a', 'potential', 'love', 'interest', 'and', 'a', 'new', 'hire.']),\n",
              "       list(['a', \"photographer's\", 'obsessive', 'pursuit', 'of', 'dark', 'subject', 'matter', 'leads', 'him', 'into', 'the', 'path', 'of', 'a', 'serial', 'killer', 'who', 'stalks', 'late', 'night', 'commuters,', 'ultimately', 'butchering', 'them', 'in', 'the', 'most', 'gruesome', 'ways', 'imaginable.']),\n",
              "       list(['as', 'a', 'string', 'of', 'mysterious', 'killings', 'grips', 'seattle,', 'bella,', 'whose', 'high', 'school', 'graduation', 'is', 'fast', 'approaching,', 'is', 'forced', 'to', 'choose', 'between', 'her', 'love', 'for', 'vampire', 'edward', 'and', 'her', 'friendship', 'with', 'werewolf', 'jacob.']),\n",
              "       list(['for', 'three', 'border', 'patrol', 'agents', 'working', 'a', 'remote', 'desert', 'checkpoint,', 'the', 'contents', 'of', 'one', 'car', 'will', 'reveal', 'an', 'insidious', 'plot', 'within', 'their', 'own', 'ranks.', 'the', 'next', '24', 'hours', 'will', 'take', 'them', 'on', 'a', 'treacherous', 'journey', 'that', 'could', 'cost', 'them', 'their', 'lives.']),\n",
              "       list(['a', 'woman', 'looks', 'back', 'at', 'the', 'past', 'nineteen', 'men', \"she's\", 'had', 'relationships', 'with', 'in', 'her', 'life', 'and', 'wonders', 'if', 'one', 'of', 'them', 'might', 'be', 'her', 'one', 'true', 'love.']),\n",
              "       list(['left', 'for', 'dead', 'on', 'a', 'sun-scorched', 'planet,', 'riddick', 'finds', 'himself', 'up', 'against', 'an', 'alien', 'race', 'of', 'predators.', 'activating', 'an', 'emergency', 'beacon', 'alerts', 'two', 'ships:', 'one', 'carrying', 'a', 'new', 'breed', 'of', 'mercenary,', 'the', 'other', 'captained', 'by', 'a', 'man', 'from', \"riddick's\", 'past.']),\n",
              "       list(['the', 'story', 'revolves', 'around', 'the', 'passengers', 'of', 'a', 'yachting', 'trip', 'in', 'the', 'atlantic', 'ocean', 'who,', 'when', 'struck', 'by', 'mysterious', 'weather', 'conditions,', 'jump', 'to', 'another', 'ship', 'only', 'to', 'experience', 'greater', 'havoc', 'on', 'the', 'open', 'seas.']),\n",
              "       list(['as', 'cecil', 'gaines', 'serves', 'eight', 'presidents', 'during', 'his', 'tenure', 'as', 'a', 'butler', 'at', 'the', 'white', 'house,', 'the', 'civil', 'rights', 'movement,', 'vietnam,', 'and', 'other', 'major', 'events', 'affect', 'this', \"man's\", 'life,', 'family,', 'and', 'american', 'society.']),\n",
              "       list(['this', 'ripped-from-the-headlines', 'drama', 'covers', 'the', 'early', 'rise', 'of', 'gay', 'porn', 'headliner', 'sean', 'paul', 'lockhart', 'a.k.a.', 'brent', 'corrigan,', 'before', 'his', 'falling', 'out', 'with', 'the', 'producer', 'who', 'made', 'him', 'famous.', 'when...', 'see', 'full', 'summary', '»']),\n",
              "       list(['a', 'crash', 'landing', 'leaves', 'kitai', 'raige', 'and', 'his', 'father', 'cypher', 'stranded', 'on', 'earth,', 'a', 'millennium', 'after', 'events', 'forced', \"humanity's\", 'escape.', 'with', 'cypher', 'injured,', 'kitai', 'must', 'embark', 'on', 'a', 'perilous', 'journey', 'to', 'signal', 'for', 'help.']),\n",
              "       list(['brandon', 'is', 'a', '15', 'year', 'old', 'whose', 'dream', 'is', 'a', 'pair', 'of', 'fresh', 'air', 'jordans.', 'soon', 'after', 'he', 'gets', 'his', 'hands', 'on', 'them,', \"they're\", 'stolen', 'by', 'a', 'local', 'hood,', 'causing', 'brandon', 'and', 'his', 'two', 'friends', 'to', 'go', 'on', 'a', 'dangerous', 'mission', 'through', 'oakland', 'to', 'retrieve', 'them.']),\n",
              "       list(['high', 'schooler', 'greg,', 'who', 'spends', 'most', 'of', 'his', 'time', 'making', 'parodies', 'of', 'classic', 'movies', 'with', 'his', 'co-worker', 'earl,', 'finds', 'his', 'outlook', 'forever', 'altered', 'after', 'befriending', 'a', 'classmate', 'who', 'has', 'just', 'been', 'diagnosed', 'with', 'cancer.']),\n",
              "       list(['a', 'land', 'baron', 'tries', 'to', 'reconnect', 'with', 'his', 'two', 'daughters', 'after', 'his', 'wife', 'is', 'seriously', 'injured', 'in', 'a', 'boating', 'accident.']),\n",
              "       list(['while', 'wrestling', 'with', 'the', 'pressures', 'of', 'life,', 'love,', 'and', 'work', 'in', 'manhattan,', 'carrie,', 'miranda,', 'and', 'charlotte', 'join', 'samantha', 'for', 'a', 'trip', 'to', 'abu', 'dhabi', '(united', 'arab', 'emirates),', 'where', \"samantha's\", 'ex', 'is', 'filming', 'a', 'new', 'movie.']),\n",
              "       list(['three', 'teenage', 'friends,', 'in', 'the', 'ultimate', 'act', 'of', 'independence,', 'decide', 'to', 'spend', 'their', 'summer', 'building', 'a', 'house', 'in', 'the', 'woods', 'and', 'living', 'off', 'the', 'land.']),\n",
              "       list(['ex-con', 'jensen', 'ames', 'is', 'forced', 'by', 'the', 'warden', 'of', 'a', 'notorious', 'prison', 'to', 'compete', 'in', 'our', 'post-industrial', \"world's\", 'most', 'popular', 'sport:', 'a', 'car', 'race', 'in', 'which', 'inmates', 'must', 'brutalize', 'and', 'kill', 'one', 'another', 'on', 'the', 'road', 'to', 'victory.']),\n",
              "       list(['three', 'best', 'friends', 'find', 'themselves', 'where', \"we've\", 'all', 'been', '-', 'at', 'that', 'confusing', 'moment', 'in', 'every', 'dating', 'relationship', 'when', 'you', 'have', 'to', 'decide', '\"so...where', 'is', 'this', 'going?\"']),\n",
              "       list(['when', 'a', 'group', 'of', 'strangers', 'at', 'a', 'dusty', 'roadside', 'diner', 'come', 'under', 'attack', 'by', 'demonic', 'forces,', 'their', 'only', 'chance', 'for', 'survival', 'lies', 'with', 'an', 'archangel', 'named', 'michael,', 'who', 'informs', 'a', 'pregnant', 'waitress', 'that', 'her', 'unborn', 'child', 'is', \"humanity's\", 'last', 'hope.']),\n",
              "       list(['shot', 'documentary-style,', 'this', 'film', 'follows', 'the', 'daily', 'grind', 'of', 'two', 'young', 'police', 'officers', 'in', 'la', 'who', 'are', 'partners', 'and', 'friends,', 'and', 'what', 'happens', 'when', 'they', 'meet', 'criminal', 'forces', 'greater', 'than', 'themselves.']),\n",
              "       list(['a', 'dying', 'cia', 'agent', 'trying', 'to', 'reconnect', 'with', 'his', 'estranged', 'daughter', 'is', 'offered', 'an', 'experimental', 'drug', 'that', 'could', 'save', 'his', 'life', 'in', 'exchange', 'for', 'one', 'last', 'assignment.']),\n",
              "       list(['a', 'case', 'of', 'mistaken', 'identity', 'lands', 'slevin', 'into', 'the', 'middle', 'of', 'a', 'war', 'being', 'plotted', 'by', 'two', 'of', 'the', \"city's\", 'most', 'rival', 'crime', 'bosses:', 'the', 'rabbi', 'and', 'the', 'boss.', 'slevin', 'is', 'under', 'constant', 'surveillance', 'by', 'relentless', 'detective', 'brikowski', 'as', 'well', 'as', 'the', 'infamous', 'assassin', 'goodkat', 'and', 'finds', 'himself', 'having', 'to', 'hatch', 'his', 'own', 'ingenious', 'plot', 'to', 'get', 'them', 'before', 'they', 'get', 'him.']),\n",
              "       list(['an', 'art', 'auctioneer', 'who', 'has', 'become', 'mixed', 'up', 'with', 'a', 'group', 'of', 'criminals', 'partners', 'with', 'a', 'hypnotherapist', 'in', 'order', 'to', 'recover', 'a', 'lost', 'painting.']),\n",
              "       list(['after', 'a', 'massive', 'power', 'outage,', 'two', 'sisters', 'learn', 'to', 'survive', 'on', 'their', 'own', 'in', 'their', 'isolated', 'woodland', 'home.']),\n",
              "       list(['two', 'sisters', 'contend', 'for', 'the', 'affection', 'of', 'king', 'henry', 'viii.']),\n",
              "       list(['a', 'writer', 'who', 'is', 'brutalized', 'during', 'her', 'cabin', 'retreat', 'seeks', 'revenge', 'on', 'her', 'attackers,', 'who', 'left', 'her', 'for', 'dead.']),\n",
              "       list(['the', 'lives', 'of', 'three', 'women', 'are', 'unexpectedly', 'changed', 'when', 'they', 'cross', 'paths', 'at', 'a', 'new', 'york', 'family', 'court.']),\n",
              "       list(['as', 'an', 'actress', 'starts', 'to', 'adopt', 'the', 'persona', 'of', 'her', 'character', 'in', 'a', 'film,', 'her', 'world', 'starts', 'to', 'become', 'nightmarish', 'and', 'surreal.']),\n",
              "       list(['highly', 'influential', 'and', 'a', 'fearlessly', 'ambitious', 'pioneer,', 'innovator,', 'filmmaker,', 'researcher', 'and', 'conservationist,', 'jacques-yves', \"cousteau's\", 'aquatic', 'adventure', 'covers', 'roughly', 'thirty', 'years', 'of', 'an', 'inarguably', 'rich', 'in', 'achievements', 'life.']),\n",
              "       list(['in', '1974,', 'high-wire', 'artist', 'philippe', 'petit', 'recruits', 'a', 'team', 'of', 'people', 'to', 'help', 'him', 'realize', 'his', 'dream:', 'to', 'walk', 'the', 'immense', 'void', 'between', 'the', 'world', 'trade', 'center', 'towers.']),\n",
              "       list(['best', 'friends', 'emily', 'and', 'lesley', 'go', 'on', 'a', 'road', 'trip', 'to', 'the', 'desert.', 'when', 'emily', 'decides', 'to', 'get', 'off', 'the', 'highway', 'and', 'take', 'a', '\"short', 'cut,\"', 'they', 'become', 'the', 'target', 'of', 'a', 'relentless', 'and', 'psychotic', 'trucker...', 'see', 'full', 'summary', '»']),\n",
              "       list(['native', 'american', 'warrior', 'tonto', 'recounts', 'the', 'untold', 'tales', 'that', 'transformed', 'john', 'reid,', 'a', 'man', 'of', 'the', 'law,', 'into', 'a', 'legend', 'of', 'justice.']),\n",
              "       list(['a', 'young', 'woman', 'travels', 'to', 'texas', 'to', 'collect', 'an', 'inheritance;', 'little', 'does', 'she', 'know', 'that', 'an', 'encounter', 'with', 'a', 'chainsaw-wielding', 'killer', 'is', 'part', 'of', 'the', 'reward.']),\n",
              "       list(['a', 'teen', 'living', 'under', 'house', 'arrest', 'becomes', 'convinced', 'his', 'neighbor', 'is', 'a', 'serial', 'killer.']),\n",
              "       list(['a', 'small', 'town', 'girl', 'and', 'a', 'city', 'boy', 'meet', 'on', 'the', 'sunset', 'strip,', 'while', 'pursuing', 'their', 'hollywood', 'dreams.']),\n",
              "       list(['ten', 'years', 'have', 'passed,', 'and', 'sidney', 'prescott,', 'who', 'has', 'put', 'herself', 'back', 'together', 'thanks', 'in', 'part', 'to', 'her', 'writing,', 'is', 'visited', 'by', 'the', 'ghostface', 'killer.']),\n",
              "       list(['a', 'ugandan', 'girl', 'sees', 'her', 'world', 'rapidly', 'change', 'after', 'being', 'introduced', 'to', 'the', 'game', 'of', 'chess.']),\n",
              "       list(['a', 'portokalos', 'family', 'secret', 'brings', 'the', 'beloved', 'characters', 'back', 'together', 'for', 'an', 'even', 'bigger', 'and', 'greeker', 'wedding.']),\n",
              "       list(['libby', 'day', 'was', 'only', 'eight', 'years', 'old', 'when', 'her', 'family', 'was', 'brutally', 'murdered', 'in', 'their', 'rural', 'kansas', 'farmhouse.', 'almost', 'thirty', 'years', 'later,', 'she', 'reluctantly', 'agrees', 'to', 'revisit', 'the', 'crime', 'and', 'uncovers', 'the', 'wrenching', 'truths', 'that', 'led', 'up', 'to', 'that', 'tragic', 'night.']),\n",
              "       list(['guy', 'carter', 'is', 'an', 'award-winning', 'graduate', 'student', 'of', 'architecture.', \"he's\", 'got', 'a', 'beautiful', 'wife', 'and', 'a', 'baby', 'on', 'the', 'way.', 'the', 'problem?', 'he', \"doesn't\", 'have', '\"his', 'ducks', 'in', 'a', 'row,\"', 'which', 'only', 'fuels', 'his', '...', 'see', 'full', 'summary', '»']),\n",
              "       list(['louis', '(gaspard', 'ulliel),', 'a', 'terminally', 'ill', 'writer,', 'returns', 'home', 'after', 'a', 'long', 'absence', 'to', 'tell', 'his', 'family', 'that', 'he', 'is', 'dying.']),\n",
              "       list(['a', 'brilliant', 'plastic', 'surgeon,', 'haunted', 'by', 'past', 'tragedies,', 'creates', 'a', 'type', 'of', 'synthetic', 'skin', 'that', 'withstands', 'any', 'kind', 'of', 'damage.', 'his', 'guinea', 'pig:', 'a', 'mysterious', 'and', 'volatile', 'woman', 'who', 'holds', 'the', 'key', 'to', 'his', 'obsession.']),\n",
              "       list(['a', 'young', 'girl', 'suffering', 'from', 'a', 'rare', 'digestive', 'disorder', 'finds', 'herself', 'miraculously', 'cured', 'after', 'surviving', 'a', 'terrible', 'accident.']),\n",
              "       list(['a', 'foster', 'kid,', 'who', 'lives', 'with', 'her', 'mean', 'foster', 'mom,', 'sees', 'her', 'life', 'change', 'when', 'business', 'tycoon', 'and', 'new', 'york', 'mayoral', 'candidate', 'will', 'stacks', 'makes', 'a', 'thinly-veiled', 'campaign', 'move', 'and', 'takes', 'her', 'in.']),\n",
              "       list(['the', 'music', 'of', 'the', 'beatles', 'and', 'the', 'vietnam', 'war', 'form', 'the', 'backdrop', 'for', 'the', 'romance', 'between', 'an', 'upper-class', 'american', 'girl', 'and', 'a', 'poor', 'liverpudlian', 'artist.']),\n",
              "       list(['two', 'struggling', 'pals', 'dress', 'as', 'police', 'officers', 'for', 'a', 'costume', 'party', 'and', 'become', 'neighborhood', 'sensations.', 'but', 'when', 'these', 'newly-minted', '\"heroes\"', 'get', 'tangled', 'in', 'a', 'real', 'life', 'web', 'of', 'mobsters', 'and', 'dirty', 'detectives,', 'they', 'must', 'put', 'their', 'fake', 'badges', 'on', 'the', 'line.']),\n",
              "       list(['a', 'malinois', 'dog', 'that', 'helped', 'american', 'marines', 'in', 'afghanistan', 'returns', 'to', 'the', 'united', 'states', 'and', 'is', 'adopted', 'by', 'his', \"handler's\", 'family', 'after', 'suffering', 'a', 'traumatic', 'experience.']),\n",
              "       list(['when', 'prince', \"fabious's\", 'bride', 'is', 'kidnapped,', 'he', 'goes', 'on', 'a', 'quest', 'to', 'rescue', 'her...', 'accompanied', 'by', 'his', 'lazy', 'useless', 'brother', 'thadeous.']),\n",
              "       list(['survivors', 'of', 'a', 'suspension-bridge', 'collapse', 'learn', \"there's\", 'no', 'way', 'you', 'can', 'cheat', 'death.']),\n",
              "       list(['the', 'story', 'of', 'a', 'privileged', 'girl', 'and', 'a', 'charismatic', 'boy', 'whose', 'instant', 'desire', 'sparks', 'a', 'love', 'affair', 'made', 'only', 'more', 'reckless', 'by', 'parents', 'trying', 'to', 'keep', 'them', 'apart.']),\n",
              "       list(['a', 'young', \"woman's\", 'quest', 'for', 'revenge', 'against', 'the', 'people', 'who', 'kidnapped', 'and', 'tormented', 'her', 'as', 'a', 'child', 'leads', 'her', 'and', 'a', 'friend,', 'who', 'is', 'also', 'a', 'victim', 'of', 'child', 'abuse,', 'on', 'a', 'terrifying', 'journey', 'into', 'a', 'living', 'hell', 'of', 'depravity.']),\n",
              "       list(['a', 'chronicle', 'of', 'martin', 'luther', \"king's\", 'campaign', 'to', 'secure', 'equal', 'voting', 'rights', 'via', 'an', 'epic', 'march', 'from', 'selma', 'to', 'montgomery,', 'alabama', 'in', '1965.']),\n",
              "       list(['an', 'origins', 'story', 'centered', 'on', 'the', 'centuries-old', 'feud', 'between', 'the', 'race', 'of', 'aristocratic', 'vampires', 'and', 'their', 'onetime', 'slaves,', 'the', 'lycans.']),\n",
              "       list(['an', 'eight-year-old', 'boy', 'is', 'thought', 'to', 'be', 'a', 'lazy', 'trouble-maker,', 'until', 'the', 'new', 'art', 'teacher', 'has', 'the', 'patience', 'and', 'compassion', 'to', 'discover', 'the', 'real', 'problem', 'behind', 'his', 'struggles', 'in', 'school.']),\n",
              "       list(['four', 'years', 'after', 'graduation,', 'an', 'awkward', 'high', 'school', 'genius', 'uses', 'his', \"sister's\", \"boyfriend's\", 'labor', 'day', 'party', 'as', 'the', 'perfect', 'opportunity', 'to', 'make', 'his', 'move', 'on', 'his', 'high', 'school', 'crush.']),\n",
              "       list(['while', 'still', 'out', 'to', 'destroy', 'the', 'evil', 'umbrella', 'corporation,', 'alice', 'joins', 'a', 'group', 'of', 'survivors', 'living', 'in', 'a', 'prison', 'surrounded', 'by', 'the', 'infected', 'who', 'also', 'want', 'to', 'relocate', 'to', 'the', 'mysterious', 'but', 'supposedly', 'unharmed', 'safe', 'haven', 'known', 'only', 'as', 'arcadia.']),\n",
              "       list(['3', 'high', 'school', 'seniors', 'throw', 'a', 'birthday', 'party', 'to', 'make', 'a', 'name', 'for', 'themselves.', 'as', 'the', 'night', 'progresses,', 'things', 'spiral', 'out', 'of', 'control', 'as', 'word', 'of', 'the', 'party', 'spreads.']),\n",
              "       list(['a', 'tight-knit', 'team', 'of', 'rising', 'investigators,', 'along', 'with', 'their', 'supervisor,', 'is', 'suddenly', 'torn', 'apart', 'when', 'they', 'discover', 'that', 'one', 'of', 'their', 'own', 'teenage', 'daughters', 'has', 'been', 'brutally', 'murdered.']),\n",
              "       list(['three', 'american', 'college', 'students', 'studying', 'abroad', 'are', 'lured', 'to', 'a', 'slovakian', 'hostel,', 'and', 'discover', 'the', 'grim', 'reality', 'behind', 'it.']),\n",
              "       list(['romantic', 'sparks', 'occur', 'between', 'two', 'dance', 'students', 'from', 'different', 'backgrounds', 'at', 'the', 'maryland', 'school', 'of', 'the', 'arts.']),\n",
              "       list(['a', 'pair', 'of', 'friends', 'embark', 'on', 'a', 'mission', 'to', 'reunite', 'their', 'pal', 'with', 'the', 'woman', 'he', 'was', 'going', 'to', 'marry.']),\n",
              "       list(['a', 'stuffy', 'businessman', 'finds', 'himself', 'trapped', 'inside', 'the', 'body', 'of', 'his', \"family's\", 'cat.'])],\n",
              "      dtype=object)"
            ]
          },
          "execution_count": 80,
          "metadata": {},
          "output_type": "execute_result"
        }
      ],
      "source": [
        "data.text.values"
      ]
    },
    {
      "cell_type": "code",
      "execution_count": null,
      "metadata": {
        "tags": [],
        "id": "InusmxhKvQ-B"
      },
      "outputs": [],
      "source": [
        "input_text = list(data.text.values)"
      ]
    },
    {
      "cell_type": "code",
      "execution_count": null,
      "metadata": {
        "tags": [],
        "id": "3u9WKZ9fvQ-C",
        "outputId": "d08cfa7c-52eb-4d03-c3b1-3dc7e3ef3c75"
      },
      "outputs": [
        {
          "data": {
            "text/plain": [
              "[TaggedDocument(words=['the', 'adventures', 'of', 'writer', 'newt', 'scamander', 'in', 'new', \"york's\", 'secret', 'community', 'of', 'witches', 'and', 'wizards', 'seventy', 'years', 'before', 'harry', 'potter', 'reads', 'his', 'book', 'in', 'school.'], tags=[10]),\n",
              " TaggedDocument(words=['the', 'story', 'of', 'a', 'team', 'of', 'female', 'african-american', 'mathematicians', 'who', 'served', 'a', 'vital', 'role', 'in', 'nasa', 'during', 'the', 'early', 'years', 'of', 'the', 'u.s.', 'space', 'program.'], tags=[11])]"
            ]
          },
          "execution_count": 82,
          "metadata": {},
          "output_type": "execute_result"
        }
      ],
      "source": [
        "documents = [TaggedDocument(doc, [i]) for i, doc in enumerate(input_text)]\n",
        "documents[10:12]"
      ]
    },
    {
      "cell_type": "markdown",
      "metadata": {
        "id": "PGMWVjqZvQ-D"
      },
      "source": [
        "обучаем модель на текстах описаний фильмов (можно поизменять параметры)"
      ]
    },
    {
      "cell_type": "code",
      "execution_count": null,
      "metadata": {
        "id": "31e6-81-vQ-E"
      },
      "outputs": [],
      "source": [
        "model = Doc2Vec(documents, vector_size=5, window=2, min_count=1, workers=4)"
      ]
    },
    {
      "cell_type": "code",
      "execution_count": null,
      "metadata": {
        "id": "Iufnfp3wvQ-F"
      },
      "outputs": [],
      "source": [
        "model.save(\"D2V.model\") # сохранение модели"
      ]
    },
    {
      "cell_type": "code",
      "execution_count": null,
      "metadata": {
        "id": "NGkxBJ0QvQ-G"
      },
      "outputs": [],
      "source": [
        "# так можно посмотреть на векторы текстов, на которых училась модель\n",
        "# индекс [] около documents -- это индекс текста из датасета\n",
        "\n",
        "model.dv[documents[0].tags[0]]\n"
      ]
    },
    {
      "cell_type": "markdown",
      "metadata": {
        "id": "9c1lzbu5vQ-H"
      },
      "source": [
        "Теперь нужно добавить векторы в датасет с остальными параметрами"
      ]
    },
    {
      "cell_type": "code",
      "execution_count": null,
      "metadata": {
        "id": "q0rkd12gvQ-H"
      },
      "outputs": [],
      "source": [
        "# создадим список с векторами для каждого текста\n",
        "vectors = []\n",
        "for x in documents:\n",
        "    vec = list(model[x.tags][0])\n",
        "    vectors.append(vec)"
      ]
    },
    {
      "cell_type": "code",
      "execution_count": null,
      "metadata": {
        "tags": [],
        "id": "-uK_pH5jvQ-I",
        "outputId": "27e7249f-d60d-441b-9f86-99b613b0546f"
      },
      "outputs": [
        {
          "data": {
            "text/html": [
              "<div>\n",
              "<style scoped>\n",
              "    .dataframe tbody tr th:only-of-type {\n",
              "        vertical-align: middle;\n",
              "    }\n",
              "\n",
              "    .dataframe tbody tr th {\n",
              "        vertical-align: top;\n",
              "    }\n",
              "\n",
              "    .dataframe thead th {\n",
              "        text-align: right;\n",
              "    }\n",
              "</style>\n",
              "<table border=\"1\" class=\"dataframe\">\n",
              "  <thead>\n",
              "    <tr style=\"text-align: right;\">\n",
              "      <th></th>\n",
              "      <th>v1</th>\n",
              "      <th>v2</th>\n",
              "      <th>v3</th>\n",
              "      <th>v4</th>\n",
              "      <th>v5</th>\n",
              "    </tr>\n",
              "  </thead>\n",
              "  <tbody>\n",
              "    <tr>\n",
              "      <th>0</th>\n",
              "      <td>1.664000</td>\n",
              "      <td>3.103669</td>\n",
              "      <td>2.429229</td>\n",
              "      <td>-4.210670</td>\n",
              "      <td>-0.782168</td>\n",
              "    </tr>\n",
              "    <tr>\n",
              "      <th>1</th>\n",
              "      <td>1.300252</td>\n",
              "      <td>3.070507</td>\n",
              "      <td>2.333138</td>\n",
              "      <td>-4.279568</td>\n",
              "      <td>-0.671380</td>\n",
              "    </tr>\n",
              "    <tr>\n",
              "      <th>2</th>\n",
              "      <td>1.806727</td>\n",
              "      <td>3.135074</td>\n",
              "      <td>2.189884</td>\n",
              "      <td>-4.559013</td>\n",
              "      <td>-0.590260</td>\n",
              "    </tr>\n",
              "    <tr>\n",
              "      <th>3</th>\n",
              "      <td>1.439255</td>\n",
              "      <td>3.000284</td>\n",
              "      <td>2.221531</td>\n",
              "      <td>-4.524175</td>\n",
              "      <td>-0.702553</td>\n",
              "    </tr>\n",
              "    <tr>\n",
              "      <th>4</th>\n",
              "      <td>1.919748</td>\n",
              "      <td>3.509732</td>\n",
              "      <td>2.663648</td>\n",
              "      <td>-4.965741</td>\n",
              "      <td>-0.377711</td>\n",
              "    </tr>\n",
              "    <tr>\n",
              "      <th>...</th>\n",
              "      <td>...</td>\n",
              "      <td>...</td>\n",
              "      <td>...</td>\n",
              "      <td>...</td>\n",
              "      <td>...</td>\n",
              "    </tr>\n",
              "    <tr>\n",
              "      <th>995</th>\n",
              "      <td>0.117624</td>\n",
              "      <td>0.202358</td>\n",
              "      <td>0.041334</td>\n",
              "      <td>-0.008874</td>\n",
              "      <td>-0.036378</td>\n",
              "    </tr>\n",
              "    <tr>\n",
              "      <th>996</th>\n",
              "      <td>0.081031</td>\n",
              "      <td>0.276267</td>\n",
              "      <td>-0.051899</td>\n",
              "      <td>-0.375093</td>\n",
              "      <td>0.129633</td>\n",
              "    </tr>\n",
              "    <tr>\n",
              "      <th>997</th>\n",
              "      <td>-0.030110</td>\n",
              "      <td>0.364167</td>\n",
              "      <td>0.244481</td>\n",
              "      <td>-0.449511</td>\n",
              "      <td>0.143345</td>\n",
              "    </tr>\n",
              "    <tr>\n",
              "      <th>998</th>\n",
              "      <td>0.241176</td>\n",
              "      <td>0.090991</td>\n",
              "      <td>-0.007657</td>\n",
              "      <td>-0.507057</td>\n",
              "      <td>0.049657</td>\n",
              "    </tr>\n",
              "    <tr>\n",
              "      <th>999</th>\n",
              "      <td>0.194874</td>\n",
              "      <td>0.080019</td>\n",
              "      <td>0.116005</td>\n",
              "      <td>-0.353762</td>\n",
              "      <td>-0.114460</td>\n",
              "    </tr>\n",
              "  </tbody>\n",
              "</table>\n",
              "<p>1000 rows × 5 columns</p>\n",
              "</div>"
            ],
            "text/plain": [
              "           v1        v2        v3        v4        v5\n",
              "0    1.664000  3.103669  2.429229 -4.210670 -0.782168\n",
              "1    1.300252  3.070507  2.333138 -4.279568 -0.671380\n",
              "2    1.806727  3.135074  2.189884 -4.559013 -0.590260\n",
              "3    1.439255  3.000284  2.221531 -4.524175 -0.702553\n",
              "4    1.919748  3.509732  2.663648 -4.965741 -0.377711\n",
              "..        ...       ...       ...       ...       ...\n",
              "995  0.117624  0.202358  0.041334 -0.008874 -0.036378\n",
              "996  0.081031  0.276267 -0.051899 -0.375093  0.129633\n",
              "997 -0.030110  0.364167  0.244481 -0.449511  0.143345\n",
              "998  0.241176  0.090991 -0.007657 -0.507057  0.049657\n",
              "999  0.194874  0.080019  0.116005 -0.353762 -0.114460\n",
              "\n",
              "[1000 rows x 5 columns]"
            ]
          },
          "execution_count": 86,
          "metadata": {},
          "output_type": "execute_result"
        }
      ],
      "source": [
        "# так получим датафрейм, где все компоненты векторов в отдельных столбцах\n",
        "split_df = pd.DataFrame(vectors,\n",
        "                        columns=['v1', 'v2', 'v3','v4',\"v5\"])\n",
        "\n",
        "split_df\n"
      ]
    },
    {
      "cell_type": "code",
      "execution_count": null,
      "metadata": {
        "id": "oO3TcZysvQ-J",
        "outputId": "d03c2e32-8cc6-4dff-e43f-e277908f08f9"
      },
      "outputs": [
        {
          "data": {
            "text/plain": [
              "(1000, 18)"
            ]
          },
          "execution_count": 88,
          "metadata": {},
          "output_type": "execute_result"
        }
      ],
      "source": [
        "# теперь добавим его к основному датафрейму\n",
        "result = data.join(split_df, how='left')\n",
        "result.shape"
      ]
    },
    {
      "cell_type": "code",
      "execution_count": null,
      "metadata": {
        "id": "ND4v-s5svQ-L",
        "outputId": "c11e3142-4d94-4a69-fa7d-ca19bd34c2d4"
      },
      "outputs": [
        {
          "data": {
            "text/html": [
              "<div>\n",
              "<style scoped>\n",
              "    .dataframe tbody tr th:only-of-type {\n",
              "        vertical-align: middle;\n",
              "    }\n",
              "\n",
              "    .dataframe tbody tr th {\n",
              "        vertical-align: top;\n",
              "    }\n",
              "\n",
              "    .dataframe thead th {\n",
              "        text-align: right;\n",
              "    }\n",
              "</style>\n",
              "<table border=\"1\" class=\"dataframe\">\n",
              "  <thead>\n",
              "    <tr style=\"text-align: right;\">\n",
              "      <th></th>\n",
              "      <th>Rank</th>\n",
              "      <th>Title</th>\n",
              "      <th>Genre</th>\n",
              "      <th>Description</th>\n",
              "      <th>Director</th>\n",
              "      <th>Actors</th>\n",
              "      <th>Year</th>\n",
              "      <th>Runtime (Minutes)</th>\n",
              "      <th>Rating</th>\n",
              "      <th>Votes</th>\n",
              "      <th>Revenue (Millions)</th>\n",
              "      <th>Metascore</th>\n",
              "      <th>text</th>\n",
              "      <th>v1</th>\n",
              "      <th>v2</th>\n",
              "      <th>v3</th>\n",
              "      <th>v4</th>\n",
              "      <th>v5</th>\n",
              "    </tr>\n",
              "  </thead>\n",
              "  <tbody>\n",
              "    <tr>\n",
              "      <th>0</th>\n",
              "      <td>1</td>\n",
              "      <td>Guardians of the Galaxy</td>\n",
              "      <td>Action,Adventure,Sci-Fi</td>\n",
              "      <td>A group of intergalactic criminals are forced ...</td>\n",
              "      <td>James Gunn</td>\n",
              "      <td>Chris Pratt, Vin Diesel, Bradley Cooper, Zoe S...</td>\n",
              "      <td>2014</td>\n",
              "      <td>121</td>\n",
              "      <td>8.1</td>\n",
              "      <td>757074</td>\n",
              "      <td>333.130000</td>\n",
              "      <td>76.0</td>\n",
              "      <td>[a, group, of, intergalactic, criminals, are, ...</td>\n",
              "      <td>1.664000</td>\n",
              "      <td>3.103669</td>\n",
              "      <td>2.429229</td>\n",
              "      <td>-4.210670</td>\n",
              "      <td>-0.782168</td>\n",
              "    </tr>\n",
              "    <tr>\n",
              "      <th>1</th>\n",
              "      <td>2</td>\n",
              "      <td>Prometheus</td>\n",
              "      <td>Adventure,Mystery,Sci-Fi</td>\n",
              "      <td>Following clues to the origin of mankind, a te...</td>\n",
              "      <td>Ridley Scott</td>\n",
              "      <td>Noomi Rapace, Logan Marshall-Green, Michael Fa...</td>\n",
              "      <td>2012</td>\n",
              "      <td>124</td>\n",
              "      <td>7.0</td>\n",
              "      <td>485820</td>\n",
              "      <td>126.460000</td>\n",
              "      <td>65.0</td>\n",
              "      <td>[following, clues, to, the, origin, of, mankin...</td>\n",
              "      <td>1.300252</td>\n",
              "      <td>3.070507</td>\n",
              "      <td>2.333138</td>\n",
              "      <td>-4.279568</td>\n",
              "      <td>-0.671380</td>\n",
              "    </tr>\n",
              "    <tr>\n",
              "      <th>2</th>\n",
              "      <td>3</td>\n",
              "      <td>Split</td>\n",
              "      <td>Horror,Thriller</td>\n",
              "      <td>Three girls are kidnapped by a man with a diag...</td>\n",
              "      <td>M. Night Shyamalan</td>\n",
              "      <td>James McAvoy, Anya Taylor-Joy, Haley Lu Richar...</td>\n",
              "      <td>2016</td>\n",
              "      <td>117</td>\n",
              "      <td>7.3</td>\n",
              "      <td>157606</td>\n",
              "      <td>138.120000</td>\n",
              "      <td>62.0</td>\n",
              "      <td>[three, girls, are, kidnapped, by, a, man, wit...</td>\n",
              "      <td>1.806727</td>\n",
              "      <td>3.135074</td>\n",
              "      <td>2.189884</td>\n",
              "      <td>-4.559013</td>\n",
              "      <td>-0.590260</td>\n",
              "    </tr>\n",
              "    <tr>\n",
              "      <th>3</th>\n",
              "      <td>4</td>\n",
              "      <td>Sing</td>\n",
              "      <td>Animation,Comedy,Family</td>\n",
              "      <td>In a city of humanoid animals, a hustling thea...</td>\n",
              "      <td>Christophe Lourdelet</td>\n",
              "      <td>Matthew McConaughey,Reese Witherspoon, Seth Ma...</td>\n",
              "      <td>2016</td>\n",
              "      <td>108</td>\n",
              "      <td>7.2</td>\n",
              "      <td>60545</td>\n",
              "      <td>270.320000</td>\n",
              "      <td>59.0</td>\n",
              "      <td>[in, a, city, of, humanoid, animals,, a, hustl...</td>\n",
              "      <td>1.439255</td>\n",
              "      <td>3.000284</td>\n",
              "      <td>2.221531</td>\n",
              "      <td>-4.524175</td>\n",
              "      <td>-0.702553</td>\n",
              "    </tr>\n",
              "    <tr>\n",
              "      <th>4</th>\n",
              "      <td>5</td>\n",
              "      <td>Suicide Squad</td>\n",
              "      <td>Action,Adventure,Fantasy</td>\n",
              "      <td>A secret government agency recruits some of th...</td>\n",
              "      <td>David Ayer</td>\n",
              "      <td>Will Smith, Jared Leto, Margot Robbie, Viola D...</td>\n",
              "      <td>2016</td>\n",
              "      <td>123</td>\n",
              "      <td>6.2</td>\n",
              "      <td>393727</td>\n",
              "      <td>325.020000</td>\n",
              "      <td>40.0</td>\n",
              "      <td>[a, secret, government, agency, recruits, some...</td>\n",
              "      <td>1.919748</td>\n",
              "      <td>3.509732</td>\n",
              "      <td>2.663648</td>\n",
              "      <td>-4.965741</td>\n",
              "      <td>-0.377711</td>\n",
              "    </tr>\n",
              "    <tr>\n",
              "      <th>...</th>\n",
              "      <td>...</td>\n",
              "      <td>...</td>\n",
              "      <td>...</td>\n",
              "      <td>...</td>\n",
              "      <td>...</td>\n",
              "      <td>...</td>\n",
              "      <td>...</td>\n",
              "      <td>...</td>\n",
              "      <td>...</td>\n",
              "      <td>...</td>\n",
              "      <td>...</td>\n",
              "      <td>...</td>\n",
              "      <td>...</td>\n",
              "      <td>...</td>\n",
              "      <td>...</td>\n",
              "      <td>...</td>\n",
              "      <td>...</td>\n",
              "      <td>...</td>\n",
              "    </tr>\n",
              "    <tr>\n",
              "      <th>995</th>\n",
              "      <td>996</td>\n",
              "      <td>Secret in Their Eyes</td>\n",
              "      <td>Crime,Drama,Mystery</td>\n",
              "      <td>A tight-knit team of rising investigators, alo...</td>\n",
              "      <td>Billy Ray</td>\n",
              "      <td>Chiwetel Ejiofor, Nicole Kidman, Julia Roberts...</td>\n",
              "      <td>2015</td>\n",
              "      <td>111</td>\n",
              "      <td>6.2</td>\n",
              "      <td>27585</td>\n",
              "      <td>82.956376</td>\n",
              "      <td>45.0</td>\n",
              "      <td>[a, tight-knit, team, of, rising, investigator...</td>\n",
              "      <td>0.117624</td>\n",
              "      <td>0.202358</td>\n",
              "      <td>0.041334</td>\n",
              "      <td>-0.008874</td>\n",
              "      <td>-0.036378</td>\n",
              "    </tr>\n",
              "    <tr>\n",
              "      <th>996</th>\n",
              "      <td>997</td>\n",
              "      <td>Hostel: Part II</td>\n",
              "      <td>Horror</td>\n",
              "      <td>Three American college students studying abroa...</td>\n",
              "      <td>Eli Roth</td>\n",
              "      <td>Lauren German, Heather Matarazzo, Bijou Philli...</td>\n",
              "      <td>2007</td>\n",
              "      <td>94</td>\n",
              "      <td>5.5</td>\n",
              "      <td>73152</td>\n",
              "      <td>17.540000</td>\n",
              "      <td>46.0</td>\n",
              "      <td>[three, american, college, students, studying,...</td>\n",
              "      <td>0.081031</td>\n",
              "      <td>0.276267</td>\n",
              "      <td>-0.051899</td>\n",
              "      <td>-0.375093</td>\n",
              "      <td>0.129633</td>\n",
              "    </tr>\n",
              "    <tr>\n",
              "      <th>997</th>\n",
              "      <td>998</td>\n",
              "      <td>Step Up 2: The Streets</td>\n",
              "      <td>Drama,Music,Romance</td>\n",
              "      <td>Romantic sparks occur between two dance studen...</td>\n",
              "      <td>Jon M. Chu</td>\n",
              "      <td>Robert Hoffman, Briana Evigan, Cassie Ventura,...</td>\n",
              "      <td>2008</td>\n",
              "      <td>98</td>\n",
              "      <td>6.2</td>\n",
              "      <td>70699</td>\n",
              "      <td>58.010000</td>\n",
              "      <td>50.0</td>\n",
              "      <td>[romantic, sparks, occur, between, two, dance,...</td>\n",
              "      <td>-0.030110</td>\n",
              "      <td>0.364167</td>\n",
              "      <td>0.244481</td>\n",
              "      <td>-0.449511</td>\n",
              "      <td>0.143345</td>\n",
              "    </tr>\n",
              "    <tr>\n",
              "      <th>998</th>\n",
              "      <td>999</td>\n",
              "      <td>Search Party</td>\n",
              "      <td>Adventure,Comedy</td>\n",
              "      <td>A pair of friends embark on a mission to reuni...</td>\n",
              "      <td>Scot Armstrong</td>\n",
              "      <td>Adam Pally, T.J. Miller, Thomas Middleditch,Sh...</td>\n",
              "      <td>2014</td>\n",
              "      <td>93</td>\n",
              "      <td>5.6</td>\n",
              "      <td>4881</td>\n",
              "      <td>82.956376</td>\n",
              "      <td>22.0</td>\n",
              "      <td>[a, pair, of, friends, embark, on, a, mission,...</td>\n",
              "      <td>0.241176</td>\n",
              "      <td>0.090991</td>\n",
              "      <td>-0.007657</td>\n",
              "      <td>-0.507057</td>\n",
              "      <td>0.049657</td>\n",
              "    </tr>\n",
              "    <tr>\n",
              "      <th>999</th>\n",
              "      <td>1000</td>\n",
              "      <td>Nine Lives</td>\n",
              "      <td>Comedy,Family,Fantasy</td>\n",
              "      <td>A stuffy businessman finds himself trapped ins...</td>\n",
              "      <td>Barry Sonnenfeld</td>\n",
              "      <td>Kevin Spacey, Jennifer Garner, Robbie Amell,Ch...</td>\n",
              "      <td>2016</td>\n",
              "      <td>87</td>\n",
              "      <td>5.3</td>\n",
              "      <td>12435</td>\n",
              "      <td>19.640000</td>\n",
              "      <td>11.0</td>\n",
              "      <td>[a, stuffy, businessman, finds, himself, trapp...</td>\n",
              "      <td>0.194874</td>\n",
              "      <td>0.080019</td>\n",
              "      <td>0.116005</td>\n",
              "      <td>-0.353762</td>\n",
              "      <td>-0.114460</td>\n",
              "    </tr>\n",
              "  </tbody>\n",
              "</table>\n",
              "<p>1000 rows × 18 columns</p>\n",
              "</div>"
            ],
            "text/plain": [
              "     Rank                    Title                     Genre  \\\n",
              "0       1  Guardians of the Galaxy   Action,Adventure,Sci-Fi   \n",
              "1       2               Prometheus  Adventure,Mystery,Sci-Fi   \n",
              "2       3                    Split           Horror,Thriller   \n",
              "3       4                     Sing   Animation,Comedy,Family   \n",
              "4       5            Suicide Squad  Action,Adventure,Fantasy   \n",
              "..    ...                      ...                       ...   \n",
              "995   996     Secret in Their Eyes       Crime,Drama,Mystery   \n",
              "996   997          Hostel: Part II                    Horror   \n",
              "997   998   Step Up 2: The Streets       Drama,Music,Romance   \n",
              "998   999             Search Party          Adventure,Comedy   \n",
              "999  1000               Nine Lives     Comedy,Family,Fantasy   \n",
              "\n",
              "                                           Description              Director  \\\n",
              "0    A group of intergalactic criminals are forced ...            James Gunn   \n",
              "1    Following clues to the origin of mankind, a te...          Ridley Scott   \n",
              "2    Three girls are kidnapped by a man with a diag...    M. Night Shyamalan   \n",
              "3    In a city of humanoid animals, a hustling thea...  Christophe Lourdelet   \n",
              "4    A secret government agency recruits some of th...            David Ayer   \n",
              "..                                                 ...                   ...   \n",
              "995  A tight-knit team of rising investigators, alo...             Billy Ray   \n",
              "996  Three American college students studying abroa...              Eli Roth   \n",
              "997  Romantic sparks occur between two dance studen...            Jon M. Chu   \n",
              "998  A pair of friends embark on a mission to reuni...        Scot Armstrong   \n",
              "999  A stuffy businessman finds himself trapped ins...      Barry Sonnenfeld   \n",
              "\n",
              "                                                Actors  Year  \\\n",
              "0    Chris Pratt, Vin Diesel, Bradley Cooper, Zoe S...  2014   \n",
              "1    Noomi Rapace, Logan Marshall-Green, Michael Fa...  2012   \n",
              "2    James McAvoy, Anya Taylor-Joy, Haley Lu Richar...  2016   \n",
              "3    Matthew McConaughey,Reese Witherspoon, Seth Ma...  2016   \n",
              "4    Will Smith, Jared Leto, Margot Robbie, Viola D...  2016   \n",
              "..                                                 ...   ...   \n",
              "995  Chiwetel Ejiofor, Nicole Kidman, Julia Roberts...  2015   \n",
              "996  Lauren German, Heather Matarazzo, Bijou Philli...  2007   \n",
              "997  Robert Hoffman, Briana Evigan, Cassie Ventura,...  2008   \n",
              "998  Adam Pally, T.J. Miller, Thomas Middleditch,Sh...  2014   \n",
              "999  Kevin Spacey, Jennifer Garner, Robbie Amell,Ch...  2016   \n",
              "\n",
              "     Runtime (Minutes)  Rating   Votes  Revenue (Millions)  Metascore  \\\n",
              "0                  121     8.1  757074          333.130000       76.0   \n",
              "1                  124     7.0  485820          126.460000       65.0   \n",
              "2                  117     7.3  157606          138.120000       62.0   \n",
              "3                  108     7.2   60545          270.320000       59.0   \n",
              "4                  123     6.2  393727          325.020000       40.0   \n",
              "..                 ...     ...     ...                 ...        ...   \n",
              "995                111     6.2   27585           82.956376       45.0   \n",
              "996                 94     5.5   73152           17.540000       46.0   \n",
              "997                 98     6.2   70699           58.010000       50.0   \n",
              "998                 93     5.6    4881           82.956376       22.0   \n",
              "999                 87     5.3   12435           19.640000       11.0   \n",
              "\n",
              "                                                  text        v1        v2  \\\n",
              "0    [a, group, of, intergalactic, criminals, are, ...  1.664000  3.103669   \n",
              "1    [following, clues, to, the, origin, of, mankin...  1.300252  3.070507   \n",
              "2    [three, girls, are, kidnapped, by, a, man, wit...  1.806727  3.135074   \n",
              "3    [in, a, city, of, humanoid, animals,, a, hustl...  1.439255  3.000284   \n",
              "4    [a, secret, government, agency, recruits, some...  1.919748  3.509732   \n",
              "..                                                 ...       ...       ...   \n",
              "995  [a, tight-knit, team, of, rising, investigator...  0.117624  0.202358   \n",
              "996  [three, american, college, students, studying,...  0.081031  0.276267   \n",
              "997  [romantic, sparks, occur, between, two, dance,... -0.030110  0.364167   \n",
              "998  [a, pair, of, friends, embark, on, a, mission,...  0.241176  0.090991   \n",
              "999  [a, stuffy, businessman, finds, himself, trapp...  0.194874  0.080019   \n",
              "\n",
              "           v3        v4        v5  \n",
              "0    2.429229 -4.210670 -0.782168  \n",
              "1    2.333138 -4.279568 -0.671380  \n",
              "2    2.189884 -4.559013 -0.590260  \n",
              "3    2.221531 -4.524175 -0.702553  \n",
              "4    2.663648 -4.965741 -0.377711  \n",
              "..        ...       ...       ...  \n",
              "995  0.041334 -0.008874 -0.036378  \n",
              "996 -0.051899 -0.375093  0.129633  \n",
              "997  0.244481 -0.449511  0.143345  \n",
              "998 -0.007657 -0.507057  0.049657  \n",
              "999  0.116005 -0.353762 -0.114460  \n",
              "\n",
              "[1000 rows x 18 columns]"
            ]
          },
          "execution_count": 89,
          "metadata": {},
          "output_type": "execute_result"
        }
      ],
      "source": [
        "result"
      ]
    },
    {
      "cell_type": "code",
      "execution_count": null,
      "metadata": {
        "tags": [],
        "id": "KkTQRNUKvQ-M",
        "outputId": "4de36c0a-0c28-474c-b376-27f3b35f9f9a"
      },
      "outputs": [
        {
          "data": {
            "text/html": [
              "<div>\n",
              "<style scoped>\n",
              "    .dataframe tbody tr th:only-of-type {\n",
              "        vertical-align: middle;\n",
              "    }\n",
              "\n",
              "    .dataframe tbody tr th {\n",
              "        vertical-align: top;\n",
              "    }\n",
              "\n",
              "    .dataframe thead th {\n",
              "        text-align: right;\n",
              "    }\n",
              "</style>\n",
              "<table border=\"1\" class=\"dataframe\">\n",
              "  <thead>\n",
              "    <tr style=\"text-align: right;\">\n",
              "      <th></th>\n",
              "      <th>Runtime (Minutes)</th>\n",
              "      <th>Year</th>\n",
              "      <th>Rating</th>\n",
              "      <th>Votes</th>\n",
              "      <th>Revenue (Millions)</th>\n",
              "      <th>Metascore</th>\n",
              "      <th>v1</th>\n",
              "      <th>v2</th>\n",
              "      <th>v3</th>\n",
              "      <th>v4</th>\n",
              "      <th>v5</th>\n",
              "    </tr>\n",
              "  </thead>\n",
              "  <tbody>\n",
              "    <tr>\n",
              "      <th>0</th>\n",
              "      <td>121</td>\n",
              "      <td>2014</td>\n",
              "      <td>8.1</td>\n",
              "      <td>757074</td>\n",
              "      <td>333.13</td>\n",
              "      <td>76.0</td>\n",
              "      <td>1.664000</td>\n",
              "      <td>3.103669</td>\n",
              "      <td>2.429229</td>\n",
              "      <td>-4.210670</td>\n",
              "      <td>-0.782168</td>\n",
              "    </tr>\n",
              "    <tr>\n",
              "      <th>1</th>\n",
              "      <td>124</td>\n",
              "      <td>2012</td>\n",
              "      <td>7.0</td>\n",
              "      <td>485820</td>\n",
              "      <td>126.46</td>\n",
              "      <td>65.0</td>\n",
              "      <td>1.300252</td>\n",
              "      <td>3.070507</td>\n",
              "      <td>2.333138</td>\n",
              "      <td>-4.279568</td>\n",
              "      <td>-0.671380</td>\n",
              "    </tr>\n",
              "    <tr>\n",
              "      <th>2</th>\n",
              "      <td>117</td>\n",
              "      <td>2016</td>\n",
              "      <td>7.3</td>\n",
              "      <td>157606</td>\n",
              "      <td>138.12</td>\n",
              "      <td>62.0</td>\n",
              "      <td>1.806727</td>\n",
              "      <td>3.135074</td>\n",
              "      <td>2.189884</td>\n",
              "      <td>-4.559013</td>\n",
              "      <td>-0.590260</td>\n",
              "    </tr>\n",
              "  </tbody>\n",
              "</table>\n",
              "</div>"
            ],
            "text/plain": [
              "   Runtime (Minutes)  Year  Rating   Votes  Revenue (Millions)  Metascore  \\\n",
              "0                121  2014     8.1  757074              333.13       76.0   \n",
              "1                124  2012     7.0  485820              126.46       65.0   \n",
              "2                117  2016     7.3  157606              138.12       62.0   \n",
              "\n",
              "         v1        v2        v3        v4        v5  \n",
              "0  1.664000  3.103669  2.429229 -4.210670 -0.782168  \n",
              "1  1.300252  3.070507  2.333138 -4.279568 -0.671380  \n",
              "2  1.806727  3.135074  2.189884 -4.559013 -0.590260  "
            ]
          },
          "execution_count": 90,
          "metadata": {},
          "output_type": "execute_result"
        }
      ],
      "source": [
        "# переопределим датасет, оставив только важное\n",
        "\n",
        "data_sm = result[['Runtime (Minutes)',\"Year\",\n",
        "                'Rating', 'Votes',\n",
        "                'Revenue (Millions)','Metascore',\"v1\",\"v2\",\"v3\",\"v4\",\"v5\"]\n",
        "              ]\n",
        "\n",
        "\n",
        "data_sm.head(3)"
      ]
    },
    {
      "cell_type": "markdown",
      "metadata": {
        "id": "inUTxcTtvQ-N"
      },
      "source": [
        "## Подготавливаем матрицы"
      ]
    },
    {
      "cell_type": "code",
      "execution_count": null,
      "metadata": {
        "tags": [],
        "id": "od183gPTvQ-N",
        "outputId": "a4a1add7-2052-4698-d27a-8dc79d389cdf"
      },
      "outputs": [
        {
          "data": {
            "text/plain": [
              "array([[ 1.21000000e+02,  2.01400000e+03,  7.57074000e+05, ...,\n",
              "         2.42922902e+00, -4.21066999e+00, -7.82167912e-01],\n",
              "       [ 1.24000000e+02,  2.01200000e+03,  4.85820000e+05, ...,\n",
              "         2.33313775e+00, -4.27956820e+00, -6.71380103e-01],\n",
              "       [ 1.17000000e+02,  2.01600000e+03,  1.57606000e+05, ...,\n",
              "         2.18988395e+00, -4.55901337e+00, -5.90259731e-01],\n",
              "       ...,\n",
              "       [ 9.80000000e+01,  2.00800000e+03,  7.06990000e+04, ...,\n",
              "         2.44481146e-01, -4.49511170e-01,  1.43344611e-01],\n",
              "       [ 9.30000000e+01,  2.01400000e+03,  4.88100000e+03, ...,\n",
              "        -7.65713537e-03, -5.07057309e-01,  4.96573150e-02],\n",
              "       [ 8.70000000e+01,  2.01600000e+03,  1.24350000e+04, ...,\n",
              "         1.16004527e-01, -3.53762120e-01, -1.14459969e-01]])"
            ]
          },
          "metadata": {},
          "output_type": "display_data"
        },
        {
          "data": {
            "text/plain": [
              "(1000, 10)"
            ]
          },
          "metadata": {},
          "output_type": "display_data"
        }
      ],
      "source": [
        "# определяем X и y\n",
        "\n",
        "X = data_sm.drop([\"Rating\"],axis=1).values \n",
        "\n",
        "display(X, X.shape)"
      ]
    },
    {
      "cell_type": "code",
      "execution_count": null,
      "metadata": {
        "id": "QUTVq92dvQ-O",
        "outputId": "a5cda6aa-271f-465b-d270-e890fd49edb3"
      },
      "outputs": [
        {
          "data": {
            "text/plain": [
              "Runtime (Minutes)     False\n",
              "Year                  False\n",
              "Rating                False\n",
              "Votes                 False\n",
              "Revenue (Millions)    False\n",
              "Metascore             False\n",
              "v1                    False\n",
              "v2                    False\n",
              "v3                    False\n",
              "v4                    False\n",
              "v5                    False\n",
              "dtype: bool"
            ]
          },
          "execution_count": 92,
          "metadata": {},
          "output_type": "execute_result"
        }
      ],
      "source": [
        "data_sm.isna().any()"
      ]
    },
    {
      "cell_type": "code",
      "execution_count": null,
      "metadata": {
        "tags": [],
        "id": "XtcE1jcIvQ-P",
        "outputId": "563aab95-73b5-4500-83b7-2a7e28bafbef"
      },
      "outputs": [
        {
          "data": {
            "text/plain": [
              "(1000,)"
            ]
          },
          "execution_count": 93,
          "metadata": {},
          "output_type": "execute_result"
        }
      ],
      "source": [
        "y = data_sm['Rating'].values # отдельно вынесли массив со значениями скорости ветра\n",
        "y.shape"
      ]
    },
    {
      "cell_type": "markdown",
      "metadata": {
        "id": "NK_BwzlEvQ-Q"
      },
      "source": [
        "Иногда бывает полезно [нормализовать](https://en.wikipedia.org/wiki/Normalization_(statistics)) данные: это позволяет исправить ситуацию, когда признаки представлены в разных единацах измерения. \n",
        "Для этого используется StandardScaler. "
      ]
    },
    {
      "cell_type": "markdown",
      "metadata": {
        "id": "9qYeU6MTvQ-R"
      },
      "source": [
        "До нормализации:"
      ]
    },
    {
      "cell_type": "code",
      "execution_count": null,
      "metadata": {
        "id": "h7STIFe3vQ-R",
        "outputId": "40e52e51-fb73-405a-b9fa-ce72035b77ec"
      },
      "outputs": [
        {
          "data": {
            "text/plain": [
              "[121.0,\n",
              " 2014.0,\n",
              " 757074.0,\n",
              " 333.13,\n",
              " 76.0,\n",
              " 1.6640000343322754,\n",
              " 3.1036691665649414,\n",
              " 2.4292290210723877,\n",
              " -4.210669994354248,\n",
              " -0.782167911529541]"
            ]
          },
          "execution_count": 94,
          "metadata": {},
          "output_type": "execute_result"
        }
      ],
      "source": [
        "list(X[0])"
      ]
    },
    {
      "cell_type": "code",
      "execution_count": null,
      "metadata": {
        "id": "MhPaafzxvQ-S"
      },
      "outputs": [],
      "source": [
        "# использзуем стандартизатор\n",
        "sc = StandardScaler()\n",
        "\n",
        "X_train, X_test, y_train, y_test = train_test_split(sc.fit_transform(X), y, random_state=42)"
      ]
    },
    {
      "cell_type": "markdown",
      "metadata": {
        "id": "eYo1vmuuvQ-T"
      },
      "source": [
        "После:"
      ]
    },
    {
      "cell_type": "code",
      "execution_count": null,
      "metadata": {
        "id": "sDlrkJdjvQ-T",
        "outputId": "c1202067-2048-4f82-9cac-418d80ae2c93"
      },
      "outputs": [
        {
          "data": {
            "text/plain": [
              "[0.4163497512303056,\n",
              " 0.37979525138136244,\n",
              " 3.1126899627963738,\n",
              " 2.5961363010556906,\n",
              " 1.0233613578368184,\n",
              " 5.348091129939745,\n",
              " 5.396043249935101,\n",
              " 5.648766702345885,\n",
              " -5.065361131303684,\n",
              " -5.167030145715259]"
            ]
          },
          "execution_count": 96,
          "metadata": {},
          "output_type": "execute_result"
        }
      ],
      "source": [
        "list(sc.fit_transform(X)[0])"
      ]
    },
    {
      "cell_type": "markdown",
      "metadata": {
        "id": "XG2mvY9VvQ-U"
      },
      "source": [
        "теперь с данными удобнее работать и обучать"
      ]
    },
    {
      "cell_type": "code",
      "execution_count": null,
      "metadata": {
        "tags": [],
        "id": "WxacslaRvQ-V",
        "outputId": "b4f381b3-f5da-455a-90b9-d2254312ee1d"
      },
      "outputs": [
        {
          "data": {
            "text/plain": [
              "Ridge()"
            ]
          },
          "execution_count": 97,
          "metadata": {},
          "output_type": "execute_result"
        }
      ],
      "source": [
        "# задаем модель регрессора\n",
        "# силу регуляризации можно варьировать параметром alpha\n",
        "regressor = Ridge() \n",
        "\n",
        "\n",
        "# обучаем\n",
        "regressor.fit(X_train, y_train)"
      ]
    },
    {
      "cell_type": "code",
      "execution_count": null,
      "metadata": {
        "id": "KIBWx59pvQ-W"
      },
      "outputs": [],
      "source": [
        "# давайте предскажем результат для тестовой выборки\n",
        "\n",
        "y_preds = regressor.predict(X_test)"
      ]
    },
    {
      "cell_type": "markdown",
      "metadata": {
        "id": "BiI_tUdBvQ-X"
      },
      "source": [
        "### оценка результатов алгоритма\n",
        "\n",
        "В качестве метрики будем использовать [среднюю абсолютную ошибку](https://www.youtube.com/watch?v=ZejnwbcU8nw). Она показывает отклонение от правильного ответа в тех же единах измерения\n",
        "\n",
        "*(а вообще есть [разные способы](https://towardsdatascience.com/what-are-the-best-metrics-to-evaluate-your-regression-model-418ca481755b))*"
      ]
    },
    {
      "cell_type": "code",
      "execution_count": null,
      "metadata": {
        "id": "xJo7uujkvQ-Y",
        "outputId": "81b9d2f4-0ceb-4ac4-a100-3d5aabe6743b"
      },
      "outputs": [
        {
          "data": {
            "text/plain": [
              "0.48313174756403765"
            ]
          },
          "execution_count": 99,
          "metadata": {},
          "output_type": "execute_result"
        }
      ],
      "source": [
        "mean_absolute_error(y_test, y_preds) "
      ]
    },
    {
      "cell_type": "code",
      "execution_count": null,
      "metadata": {
        "id": "WwByFBMdvQ-Z",
        "outputId": "2a20cf5f-7922-470d-c2ec-44788c02fbb9"
      },
      "outputs": [
        {
          "data": {
            "text/plain": [
              "0.46020370286458395"
            ]
          },
          "execution_count": 100,
          "metadata": {},
          "output_type": "execute_result"
        }
      ],
      "source": [
        "mean_squared_error(y_test, y_preds)"
      ]
    },
    {
      "cell_type": "code",
      "execution_count": null,
      "metadata": {
        "id": "hVygastgvQ-Z",
        "outputId": "57874023-8272-4864-b179-1fdacfe20bd5"
      },
      "outputs": [
        {
          "data": {
            "text/plain": [
              "0.6783831534351247"
            ]
          },
          "execution_count": 101,
          "metadata": {},
          "output_type": "execute_result"
        }
      ],
      "source": [
        "mean_squared_error(y_test, y_preds, squared=False)"
      ]
    },
    {
      "cell_type": "markdown",
      "metadata": {
        "id": "kpaDVL7LvQ-a"
      },
      "source": [
        "Попробуйте разные значения для параметра регуляризации alpha при обучении модели. Как они влияют на величину ошибки?"
      ]
    },
    {
      "cell_type": "code",
      "execution_count": null,
      "metadata": {
        "id": "JbE1pxnLvQ-b"
      },
      "outputs": [],
      "source": []
    },
    {
      "cell_type": "code",
      "execution_count": null,
      "metadata": {
        "id": "A_5KW7NzvQ-b"
      },
      "outputs": [],
      "source": []
    },
    {
      "cell_type": "markdown",
      "metadata": {
        "id": "I0EJEW1MvQ-c"
      },
      "source": [
        "# Отсюда новое (копия колаба)"
      ]
    },
    {
      "cell_type": "code",
      "execution_count": null,
      "metadata": {
        "id": "JpU4cSvkvQ-c",
        "outputId": "f2f3fafe-fba4-4679-f47a-4c83b0ff5ace"
      },
      "outputs": [
        {
          "name": "stdout",
          "output_type": "stream",
          "text": [
            "На семинаре были получены такие значения ошибок: \n",
            "mae: 0.48313174756403765, \n",
            "mse: 0.46020370286458395,\n",
            "rmse:0.6783831534351247\n"
          ]
        }
      ],
      "source": [
        "mae_baseline, mse_baseline, rmse_baseline = 0.48313174756403765, 0.46020370286458395, 0.6783831534351247\n",
        "\n",
        "print(\"На семинаре были получены такие значения ошибок: \")\n",
        "print(\"mae: {}, \\nmse: {},\\nrmse:{}\".format(mae_baseline, mse_baseline, rmse_baseline))"
      ]
    },
    {
      "cell_type": "code",
      "execution_count": null,
      "metadata": {
        "id": "-Cw6W9DTvQ-d"
      },
      "outputs": [],
      "source": [
        "# импорты необходимых библиотек\n",
        "import pandas as pd\n",
        "\n",
        "import seaborn as sns\n",
        "import matplotlib.pyplot as plt\n",
        "# %matplotlib inline\n",
        "\n",
        "# import gensim\n",
        "from gensim.models.doc2vec import Doc2Vec, TaggedDocument\n",
        "from sklearn.linear_model import LinearRegression, Ridge, Lasso\n",
        "from sklearn.preprocessing import StandardScaler\n",
        "from sklearn.model_selection import train_test_split\n",
        "from sklearn.metrics import mean_absolute_error, mean_squared_error\n"
      ]
    },
    {
      "cell_type": "code",
      "execution_count": null,
      "metadata": {
        "id": "Dz6Tlql9vQ-e"
      },
      "outputs": [],
      "source": [
        "# Попробуем использовать другую предобработку текста\n",
        "\n",
        "import nltk\n",
        "# nltk.download('stopwords')\n",
        "# nltk.download('punkt')\n",
        "\n",
        "from nltk.corpus import stopwords\n",
        "from nltk.tokenize import word_tokenize\n",
        "# from nltk.stem import WordNetLemmatizer\n",
        "from nltk.stem import PorterStemmer\n",
        "import string\n",
        "import re\n",
        "\n",
        "PUNCT = string.punctuation\n",
        "STOP_WORDS = set(stopwords.words('english'))\n",
        "porter = PorterStemmer()\n",
        "\n",
        "\n",
        "def preprocess(text) -> str:\n",
        "    word_tokens = word_tokenize(text)\n",
        "    filtered_sentence = [porter.stem(w).lower() for w in word_tokens]\n",
        "    filered_sentence = [w for w in filtered_sentence if not w.lower() in STOP_WORDS]\n",
        "    filtered_sentence = [w for w in filtered_sentence if w not in PUNCT]\n",
        "    \n",
        "#     result = []\n",
        "#     for w in filtered_sentence:\n",
        "#         if not re.search('[^0-9]', w):\n",
        "#             result.append('DIGIT')\n",
        "#         else:\n",
        "#             result.append(w)\n",
        "    return filtered_sentence"
      ]
    },
    {
      "cell_type": "markdown",
      "metadata": {
        "id": "Km8UCJ5wvQ-f"
      },
      "source": [
        "## Apply new preprocessing & tokenization"
      ]
    },
    {
      "cell_type": "code",
      "execution_count": null,
      "metadata": {
        "id": "qm-Omf46vQ-g",
        "outputId": "28ebd638-c095-4ece-8462-9e0298b285de"
      },
      "outputs": [
        {
          "name": "stdout",
          "output_type": "stream",
          "text": [
            "(1000, 12)\n"
          ]
        },
        {
          "data": {
            "text/html": [
              "<div>\n",
              "<style scoped>\n",
              "    .dataframe tbody tr th:only-of-type {\n",
              "        vertical-align: middle;\n",
              "    }\n",
              "\n",
              "    .dataframe tbody tr th {\n",
              "        vertical-align: top;\n",
              "    }\n",
              "\n",
              "    .dataframe thead th {\n",
              "        text-align: right;\n",
              "    }\n",
              "</style>\n",
              "<table border=\"1\" class=\"dataframe\">\n",
              "  <thead>\n",
              "    <tr style=\"text-align: right;\">\n",
              "      <th></th>\n",
              "      <th>Rank</th>\n",
              "      <th>Title</th>\n",
              "      <th>Genre</th>\n",
              "      <th>Description</th>\n",
              "      <th>Director</th>\n",
              "      <th>Actors</th>\n",
              "      <th>Year</th>\n",
              "      <th>Runtime (Minutes)</th>\n",
              "      <th>Rating</th>\n",
              "      <th>Votes</th>\n",
              "      <th>Revenue (Millions)</th>\n",
              "      <th>Metascore</th>\n",
              "    </tr>\n",
              "  </thead>\n",
              "  <tbody>\n",
              "    <tr>\n",
              "      <th>0</th>\n",
              "      <td>1</td>\n",
              "      <td>Guardians of the Galaxy</td>\n",
              "      <td>Action,Adventure,Sci-Fi</td>\n",
              "      <td>A group of intergalactic criminals are forced ...</td>\n",
              "      <td>James Gunn</td>\n",
              "      <td>Chris Pratt, Vin Diesel, Bradley Cooper, Zoe S...</td>\n",
              "      <td>2014</td>\n",
              "      <td>121</td>\n",
              "      <td>8.1</td>\n",
              "      <td>757074</td>\n",
              "      <td>333.13</td>\n",
              "      <td>76.0</td>\n",
              "    </tr>\n",
              "    <tr>\n",
              "      <th>1</th>\n",
              "      <td>2</td>\n",
              "      <td>Prometheus</td>\n",
              "      <td>Adventure,Mystery,Sci-Fi</td>\n",
              "      <td>Following clues to the origin of mankind, a te...</td>\n",
              "      <td>Ridley Scott</td>\n",
              "      <td>Noomi Rapace, Logan Marshall-Green, Michael Fa...</td>\n",
              "      <td>2012</td>\n",
              "      <td>124</td>\n",
              "      <td>7.0</td>\n",
              "      <td>485820</td>\n",
              "      <td>126.46</td>\n",
              "      <td>65.0</td>\n",
              "    </tr>\n",
              "    <tr>\n",
              "      <th>2</th>\n",
              "      <td>3</td>\n",
              "      <td>Split</td>\n",
              "      <td>Horror,Thriller</td>\n",
              "      <td>Three girls are kidnapped by a man with a diag...</td>\n",
              "      <td>M. Night Shyamalan</td>\n",
              "      <td>James McAvoy, Anya Taylor-Joy, Haley Lu Richar...</td>\n",
              "      <td>2016</td>\n",
              "      <td>117</td>\n",
              "      <td>7.3</td>\n",
              "      <td>157606</td>\n",
              "      <td>138.12</td>\n",
              "      <td>62.0</td>\n",
              "    </tr>\n",
              "  </tbody>\n",
              "</table>\n",
              "</div>"
            ],
            "text/plain": [
              "   Rank                    Title                     Genre  \\\n",
              "0     1  Guardians of the Galaxy   Action,Adventure,Sci-Fi   \n",
              "1     2               Prometheus  Adventure,Mystery,Sci-Fi   \n",
              "2     3                    Split           Horror,Thriller   \n",
              "\n",
              "                                         Description            Director  \\\n",
              "0  A group of intergalactic criminals are forced ...          James Gunn   \n",
              "1  Following clues to the origin of mankind, a te...        Ridley Scott   \n",
              "2  Three girls are kidnapped by a man with a diag...  M. Night Shyamalan   \n",
              "\n",
              "                                              Actors  Year  Runtime (Minutes)  \\\n",
              "0  Chris Pratt, Vin Diesel, Bradley Cooper, Zoe S...  2014                121   \n",
              "1  Noomi Rapace, Logan Marshall-Green, Michael Fa...  2012                124   \n",
              "2  James McAvoy, Anya Taylor-Joy, Haley Lu Richar...  2016                117   \n",
              "\n",
              "   Rating   Votes  Revenue (Millions)  Metascore  \n",
              "0     8.1  757074              333.13       76.0  \n",
              "1     7.0  485820              126.46       65.0  \n",
              "2     7.3  157606              138.12       62.0  "
            ]
          },
          "execution_count": 257,
          "metadata": {},
          "output_type": "execute_result"
        }
      ],
      "source": [
        "data = pd.read_csv('IMDB-Movie-Data.csv')\n",
        "print(data.shape)\n",
        "\n",
        "data.head(3)\n"
      ]
    },
    {
      "cell_type": "code",
      "execution_count": null,
      "metadata": {
        "id": "hipmyc-AvQ-h"
      },
      "outputs": [],
      "source": [
        "def vectorize(vector_size=2, window=3, min_count=1, prep=True) -> pd.DataFrame():\n",
        "    if prep:\n",
        "        data['preprocessed'] = data.Description.apply(lambda x: preprocess(x))\n",
        "    else:\n",
        "        data['preprocessed'] = data.Description.apply(lambda x: x.lower().split())\n",
        "    input_text = list(data.preprocessed.values)\n",
        "    documents = [TaggedDocument(doc, [i]) for i, doc in enumerate(input_text)]\n",
        "    model = Doc2Vec(documents, vector_size=vector_size, window=window, min_count=min_count, workers=1)\n",
        "    model.save(\"D2V.model\") # сохранение модели\n",
        "    \n",
        "        # создадим список с векторами для каждого текста\n",
        "    vectors = []\n",
        "    for x in documents:\n",
        "        vec = list(model[x.tags][0])\n",
        "        vectors.append(vec)\n",
        "\n",
        "    # Добавляем в датафрейм\n",
        "    split_df = pd.DataFrame(vectors, \n",
        "                            columns=[f'vec{i}' for i in range(len(vectors[0]))])\n",
        "    \n",
        "    # Объединим с предыдущим датафреймом\n",
        "\n",
        "    cols_to_keep = ['Runtime (Minutes)',\n",
        "                    \"Year\",\n",
        "                    'Rating', \n",
        "                    'Votes',\n",
        "                    'Revenue (Millions)',\n",
        "                    'Metascore']\n",
        "    cols_to_keep.extend(list(split_df.columns))\n",
        "    result = data.join(split_df, how='left')[cols_to_keep]\n",
        "    y = result.Rating\n",
        "    X = result.drop(columns=[\"Rating\"])\n",
        "    X['Revenue (Millions)'].fillna(X['Revenue (Millions)'].mean(), inplace=True)\n",
        "    X['Metascore'].fillna(X['Metascore'].mean(), inplace=True)\n",
        "    \n",
        "    # нормализация\n",
        "\n",
        "    sc = StandardScaler()\n",
        "\n",
        "    X_train, X_test, y_train, y_test = train_test_split(sc.fit_transform(X), y, random_state=42)\n",
        "    \n",
        "    return X_train, X_test, y_train, y_test\n"
      ]
    },
    {
      "cell_type": "markdown",
      "metadata": {
        "id": "Tmz0GXkRvQ-i"
      },
      "source": [
        "### Найдем лучшую модель и подберем гиперпараметры путем перебора\n",
        "\n",
        "Я сравнила два способа: с препроцессингом (токенизация, стемминг, удаление стоп-слов, удаление пунктуации) и без него (с базовым сплитом по пробелам). Возможно, препроцессинг был выбран неверно, но качество оказалось хуже после подбора гиперпараметров с препроцессингом, поэтому в итоговых результатах я вернулась просто к делению по пробелам."
      ]
    },
    {
      "cell_type": "code",
      "execution_count": null,
      "metadata": {
        "id": "UDoGm6p5vQ-j"
      },
      "outputs": [],
      "source": [
        "\n",
        "from sklearn.model_selection import GridSearchCV\n",
        "from sklearn.model_selection import KFold"
      ]
    },
    {
      "cell_type": "code",
      "execution_count": null,
      "metadata": {
        "id": "L__7IxPMvQ-k"
      },
      "outputs": [],
      "source": [
        "X_train, X_test, y_train, y_test = vectorize(vector_size=5, window=1, min_count=1, prep=False)"
      ]
    },
    {
      "cell_type": "code",
      "execution_count": null,
      "metadata": {
        "id": "gMRwoytpvQ-k"
      },
      "outputs": [],
      "source": [
        "FOLDS = 3\n",
        "\n",
        "# lr = LinearRegression()\n",
        "ridge = Ridge()\n",
        "lasso = Lasso()\n",
        "\n",
        "kfold = KFold(n_splits=FOLDS)\n",
        "bests = pd.DataFrame(columns=['alpha'])\n",
        "\n",
        "for name, model in {\"ridge\": ridge, \"lasso\": lasso}.items():\n",
        "    grid = GridSearchCV(model, \n",
        "                        cv=kfold,\n",
        "                        param_grid=[{'alpha': [0.01, 0.015, 0.02, 0.05, 10, 23, 30, 3, 0.1, 0.5, 0.8]}])\n",
        "    grid.fit(X_train, y_train)\n",
        "    bests.loc[name, 'alpha'] = grid.best_params_['alpha']\n"
      ]
    },
    {
      "cell_type": "code",
      "execution_count": null,
      "metadata": {
        "id": "pvdYrVXEvQ-l",
        "outputId": "44273d05-7464-461d-a07f-8f67480160fd"
      },
      "outputs": [
        {
          "data": {
            "text/html": [
              "<div>\n",
              "<style scoped>\n",
              "    .dataframe tbody tr th:only-of-type {\n",
              "        vertical-align: middle;\n",
              "    }\n",
              "\n",
              "    .dataframe tbody tr th {\n",
              "        vertical-align: top;\n",
              "    }\n",
              "\n",
              "    .dataframe thead th {\n",
              "        text-align: right;\n",
              "    }\n",
              "</style>\n",
              "<table border=\"1\" class=\"dataframe\">\n",
              "  <thead>\n",
              "    <tr style=\"text-align: right;\">\n",
              "      <th></th>\n",
              "      <th>alpha</th>\n",
              "    </tr>\n",
              "  </thead>\n",
              "  <tbody>\n",
              "    <tr>\n",
              "      <th>ridge</th>\n",
              "      <td>23</td>\n",
              "    </tr>\n",
              "    <tr>\n",
              "      <th>lasso</th>\n",
              "      <td>0.01</td>\n",
              "    </tr>\n",
              "  </tbody>\n",
              "</table>\n",
              "</div>"
            ],
            "text/plain": [
              "      alpha\n",
              "ridge    23\n",
              "lasso  0.01"
            ]
          },
          "execution_count": 237,
          "metadata": {},
          "output_type": "execute_result"
        }
      ],
      "source": [
        "bests"
      ]
    },
    {
      "cell_type": "code",
      "execution_count": null,
      "metadata": {
        "id": "L1SLiulAvQ-m"
      },
      "outputs": [],
      "source": [
        "from sklearn.metrics import mean_absolute_error, mean_squared_error\n",
        "\n",
        "for name in ['ridge', 'lasso', 'lr']:\n",
        "    model_base = False\n",
        "    if name == \"ridge\":\n",
        "        model = Ridge(alpha=bests.loc[name, 'alpha'])\n",
        "        model_base = Ridge()\n",
        "    elif name == \"lasso\":\n",
        "        model = Lasso(alpha=bests.loc[name, 'alpha'])\n",
        "        model_base = Lasso()\n",
        "    else:\n",
        "        model = LinearRegression()\n",
        "    model.fit(X_train, y_train)\n",
        "    y_pred = model.predict(X_test)\n",
        "    \n",
        "    mae = mean_absolute_error(y_pred, y_test)\n",
        "    mse = mean_squared_error(y_pred, y_test)\n",
        "    rmse = mean_squared_error(y_pred, y_test, squared=False)\n",
        "\n",
        "    bests.loc[name, 'mae'] = round(mae, 4)\n",
        "    bests.loc[name, 'mse'] = round(mse, 4)\n",
        "    bests.loc[name, 'rmse'] = round(rmse, 4)\n",
        "    \n",
        "    if model_base:\n",
        "        model_base.fit(X_train, y_train)\n",
        "        y_pred = model_base.predict(X_test)\n",
        "\n",
        "        mae = mean_absolute_error(y_pred, y_test)\n",
        "        mse = mean_squared_error(y_pred, y_test)\n",
        "        rmse = mean_squared_error(y_pred, y_test, squared=False)\n",
        "\n",
        "        bests.loc[name, 'mae_no_alpha'] = round(mae, 4)\n",
        "        bests.loc[name, 'mse_no_alpha'] = round(mse, 4)\n",
        "        bests.loc[name, 'rmse_no_alpha'] = round(rmse, 4)"
      ]
    },
    {
      "cell_type": "markdown",
      "metadata": {
        "id": "UIW3Rb0LvQ-n"
      },
      "source": [
        "### Результаты\n",
        "\n",
        "Путем перебора я сравнила два способа: с препроцессингом (токенизация, стемминг, удаление стоп-слов, удаление пунктуации) и без него (с базовым сплитом по пробелам). Возможно, препроцессинг был выбран неверно, но качество оказалось хуже после подбора гиперпараметров с препроцессингом, поэтому в итоговых результатах я вернулась просто к делению по пробелам. "
      ]
    },
    {
      "cell_type": "code",
      "execution_count": null,
      "metadata": {
        "id": "ViXLrIBcvQ-o",
        "outputId": "e6e9a3ae-4830-4f08-a42a-ba2e7cf526ad"
      },
      "outputs": [
        {
          "data": {
            "text/html": [
              "<div>\n",
              "<style scoped>\n",
              "    .dataframe tbody tr th:only-of-type {\n",
              "        vertical-align: middle;\n",
              "    }\n",
              "\n",
              "    .dataframe tbody tr th {\n",
              "        vertical-align: top;\n",
              "    }\n",
              "\n",
              "    .dataframe thead th {\n",
              "        text-align: right;\n",
              "    }\n",
              "</style>\n",
              "<table border=\"1\" class=\"dataframe\">\n",
              "  <thead>\n",
              "    <tr style=\"text-align: right;\">\n",
              "      <th></th>\n",
              "      <th>alpha</th>\n",
              "      <th>mae</th>\n",
              "      <th>mse</th>\n",
              "      <th>rmse</th>\n",
              "      <th>mae_no_alpha</th>\n",
              "      <th>mse_no_alpha</th>\n",
              "      <th>rmse_no_alpha</th>\n",
              "    </tr>\n",
              "  </thead>\n",
              "  <tbody>\n",
              "    <tr>\n",
              "      <th>ridge</th>\n",
              "      <td>23</td>\n",
              "      <td>0.4832</td>\n",
              "      <td>0.4618</td>\n",
              "      <td>0.6795</td>\n",
              "      <td>0.4829</td>\n",
              "      <td>0.4598</td>\n",
              "      <td>0.6781</td>\n",
              "    </tr>\n",
              "    <tr>\n",
              "      <th>lasso</th>\n",
              "      <td>0.01</td>\n",
              "      <td>0.4833</td>\n",
              "      <td>0.4638</td>\n",
              "      <td>0.6810</td>\n",
              "      <td>0.7736</td>\n",
              "      <td>0.9734</td>\n",
              "      <td>0.9866</td>\n",
              "    </tr>\n",
              "    <tr>\n",
              "      <th>lr</th>\n",
              "      <td>NaN</td>\n",
              "      <td>0.4829</td>\n",
              "      <td>0.4597</td>\n",
              "      <td>0.6780</td>\n",
              "      <td>NaN</td>\n",
              "      <td>NaN</td>\n",
              "      <td>NaN</td>\n",
              "    </tr>\n",
              "  </tbody>\n",
              "</table>\n",
              "</div>"
            ],
            "text/plain": [
              "      alpha     mae     mse    rmse  mae_no_alpha  mse_no_alpha  rmse_no_alpha\n",
              "ridge    23  0.4832  0.4618  0.6795        0.4829        0.4598         0.6781\n",
              "lasso  0.01  0.4833  0.4638  0.6810        0.7736        0.9734         0.9866\n",
              "lr      NaN  0.4829  0.4597  0.6780           NaN           NaN            NaN"
            ]
          },
          "execution_count": 239,
          "metadata": {},
          "output_type": "execute_result"
        }
      ],
      "source": [
        "bests"
      ]
    },
    {
      "cell_type": "code",
      "execution_count": null,
      "metadata": {
        "id": "ISZxM05VvQ-p",
        "outputId": "b3e9d53e-f254-424f-bdc7-82d6092f2c86"
      },
      "outputs": [
        {
          "name": "stdout",
          "output_type": "stream",
          "text": [
            "mae:     0.4831\n",
            "mse:     0.4602\n",
            "rmse:     0.6784\n"
          ]
        }
      ],
      "source": [
        "# Сравним с исходными (Ridge без настройки гиперпараметров и препроцессинга):\n",
        "print(\"mae: {0:10.4f}\".format(mae_baseline))\n",
        "print(\"mse: {0:10.4f}\".format(mse_baseline))\n",
        "print(\"rmse: {0:10.4f}\".format(rmse_baseline))"
      ]
    },
    {
      "cell_type": "markdown",
      "metadata": {
        "id": "H8iymu22vQ-r"
      },
      "source": [
        "Линейная регрессия без настроек показала лучшие результаты, чем бейзлайн (Ridge). Качество зависело от модели и от настроек векторизации (vector_size=5, window=1). Однако другие модели оказались ниже бейзлайна. Я пробовала менять разные настройки векторизатора (размер вектора документа, размер окна, минимальный порог для токена), но качество становилось хуже. В таблице выше приведен лучший результат. "
      ]
    },
    {
      "cell_type": "markdown",
      "metadata": {
        "id": "ai4K_5syvQ-s"
      },
      "source": [
        "На данных с препроцессингом: "
      ]
    },
    {
      "cell_type": "code",
      "execution_count": null,
      "metadata": {
        "id": "ywioFv9GvQ-t"
      },
      "outputs": [],
      "source": [
        "X_train, X_test, y_train, y_test = vectorize(vector_size=5, window=1, min_count=1, prep=True)"
      ]
    },
    {
      "cell_type": "code",
      "execution_count": null,
      "metadata": {
        "id": "P-WvZielvQ-v"
      },
      "outputs": [],
      "source": [
        "FOLDS = 3\n",
        "\n",
        "# lr = LinearRegression()\n",
        "ridge = Ridge()\n",
        "lasso = Lasso()\n",
        "\n",
        "kfold = KFold(n_splits=FOLDS)\n",
        "bests = pd.DataFrame(columns=['alpha'])\n",
        "\n",
        "for name, model in {\"ridge\": ridge, \"lasso\": lasso}.items():\n",
        "    grid = GridSearchCV(model, \n",
        "                        cv=kfold,\n",
        "                        param_grid=[{'alpha': [0.01, 0.015, 0.02, 0.05, 10, 23, 30, 3, 0.1, 0.5, 0.8]}])\n",
        "    grid.fit(X_train, y_train)\n",
        "    bests.loc[name, 'alpha'] = grid.best_params_['alpha']\n"
      ]
    },
    {
      "cell_type": "code",
      "execution_count": null,
      "metadata": {
        "id": "BxI4bnXxvQ-w",
        "outputId": "28a768d9-fd25-4781-9277-501a586cdbb1"
      },
      "outputs": [
        {
          "data": {
            "text/html": [
              "<div>\n",
              "<style scoped>\n",
              "    .dataframe tbody tr th:only-of-type {\n",
              "        vertical-align: middle;\n",
              "    }\n",
              "\n",
              "    .dataframe tbody tr th {\n",
              "        vertical-align: top;\n",
              "    }\n",
              "\n",
              "    .dataframe thead th {\n",
              "        text-align: right;\n",
              "    }\n",
              "</style>\n",
              "<table border=\"1\" class=\"dataframe\">\n",
              "  <thead>\n",
              "    <tr style=\"text-align: right;\">\n",
              "      <th></th>\n",
              "      <th>alpha</th>\n",
              "    </tr>\n",
              "  </thead>\n",
              "  <tbody>\n",
              "    <tr>\n",
              "      <th>ridge</th>\n",
              "      <td>23</td>\n",
              "    </tr>\n",
              "    <tr>\n",
              "      <th>lasso</th>\n",
              "      <td>0.01</td>\n",
              "    </tr>\n",
              "  </tbody>\n",
              "</table>\n",
              "</div>"
            ],
            "text/plain": [
              "      alpha\n",
              "ridge    23\n",
              "lasso  0.01"
            ]
          },
          "execution_count": 261,
          "metadata": {},
          "output_type": "execute_result"
        }
      ],
      "source": [
        "bests"
      ]
    },
    {
      "cell_type": "code",
      "execution_count": null,
      "metadata": {
        "id": "Vup-HeBXvQ-w"
      },
      "outputs": [],
      "source": [
        "from sklearn.metrics import mean_absolute_error, mean_squared_error\n",
        "\n",
        "for name in ['ridge', 'lasso', 'lr']:\n",
        "    model_base = False\n",
        "    if name == \"ridge\":\n",
        "        model = Ridge(alpha=bests.loc[name, 'alpha'])\n",
        "        model_base = Ridge()\n",
        "    elif name == \"lasso\":\n",
        "        model = Lasso(alpha=bests.loc[name, 'alpha'])\n",
        "        model_base = Lasso()\n",
        "    else:\n",
        "        model = LinearRegression()\n",
        "    model.fit(X_train, y_train)\n",
        "    y_pred = model.predict(X_test)\n",
        "    \n",
        "    mae = mean_absolute_error(y_pred, y_test)\n",
        "    mse = mean_squared_error(y_pred, y_test)\n",
        "    rmse = mean_squared_error(y_pred, y_test, squared=False)\n",
        "\n",
        "    bests.loc[name, 'mae'] = round(mae, 4)\n",
        "    bests.loc[name, 'mse'] = round(mse, 4)\n",
        "    bests.loc[name, 'rmse'] = round(rmse, 4)\n",
        "    \n",
        "    if model_base:\n",
        "        model_base.fit(X_train, y_train)\n",
        "        y_pred = model_base.predict(X_test)\n",
        "\n",
        "        mae = mean_absolute_error(y_pred, y_test)\n",
        "        mse = mean_squared_error(y_pred, y_test)\n",
        "        rmse = mean_squared_error(y_pred, y_test, squared=False)\n",
        "\n",
        "        bests.loc[name, 'mae_no_alpha'] = round(mae, 4)\n",
        "        bests.loc[name, 'mse_no_alpha'] = round(mse, 4)\n",
        "        bests.loc[name, 'rmse_no_alpha'] = round(rmse, 4)"
      ]
    },
    {
      "cell_type": "code",
      "execution_count": null,
      "metadata": {
        "id": "Dop1mjPUvQ-y",
        "outputId": "b6e4f717-bd40-45da-fb2f-ac7761386327"
      },
      "outputs": [
        {
          "data": {
            "text/html": [
              "<div>\n",
              "<style scoped>\n",
              "    .dataframe tbody tr th:only-of-type {\n",
              "        vertical-align: middle;\n",
              "    }\n",
              "\n",
              "    .dataframe tbody tr th {\n",
              "        vertical-align: top;\n",
              "    }\n",
              "\n",
              "    .dataframe thead th {\n",
              "        text-align: right;\n",
              "    }\n",
              "</style>\n",
              "<table border=\"1\" class=\"dataframe\">\n",
              "  <thead>\n",
              "    <tr style=\"text-align: right;\">\n",
              "      <th></th>\n",
              "      <th>alpha</th>\n",
              "      <th>mae</th>\n",
              "      <th>mse</th>\n",
              "      <th>rmse</th>\n",
              "      <th>mae_no_alpha</th>\n",
              "      <th>mse_no_alpha</th>\n",
              "      <th>rmse_no_alpha</th>\n",
              "    </tr>\n",
              "  </thead>\n",
              "  <tbody>\n",
              "    <tr>\n",
              "      <th>ridge</th>\n",
              "      <td>23</td>\n",
              "      <td>0.4831</td>\n",
              "      <td>0.4647</td>\n",
              "      <td>0.6817</td>\n",
              "      <td>0.4824</td>\n",
              "      <td>0.4627</td>\n",
              "      <td>0.6802</td>\n",
              "    </tr>\n",
              "    <tr>\n",
              "      <th>lasso</th>\n",
              "      <td>0.01</td>\n",
              "      <td>0.4846</td>\n",
              "      <td>0.4654</td>\n",
              "      <td>0.6822</td>\n",
              "      <td>0.7736</td>\n",
              "      <td>0.9734</td>\n",
              "      <td>0.9866</td>\n",
              "    </tr>\n",
              "    <tr>\n",
              "      <th>lr</th>\n",
              "      <td>NaN</td>\n",
              "      <td>0.4824</td>\n",
              "      <td>0.4626</td>\n",
              "      <td>0.6801</td>\n",
              "      <td>NaN</td>\n",
              "      <td>NaN</td>\n",
              "      <td>NaN</td>\n",
              "    </tr>\n",
              "  </tbody>\n",
              "</table>\n",
              "</div>"
            ],
            "text/plain": [
              "      alpha     mae     mse    rmse  mae_no_alpha  mse_no_alpha  rmse_no_alpha\n",
              "ridge    23  0.4831  0.4647  0.6817        0.4824        0.4627         0.6802\n",
              "lasso  0.01  0.4846  0.4654  0.6822        0.7736        0.9734         0.9866\n",
              "lr      NaN  0.4824  0.4626  0.6801           NaN           NaN            NaN"
            ]
          },
          "execution_count": 263,
          "metadata": {},
          "output_type": "execute_result"
        }
      ],
      "source": [
        "bests"
      ]
    },
    {
      "cell_type": "markdown",
      "metadata": {
        "id": "1SFhjzvLvQ-y"
      },
      "source": [
        "Видно, что с препроцессингом качетсво стало выше на модели Ridge по метрике mean absolute error, но остальные показатели стали ниже. Вероятно, для наших данных нужно использовать другой способ препроцессинга (не удалять стоп-слова, заменить стемминг на лемматизацию и др.). Я попробовала несколько разных вариантов, привожу оптимальный."
      ]
    },
    {
      "cell_type": "markdown",
      "metadata": {
        "id": "9xgHdaHyvQ-z"
      },
      "source": [
        "В целом можно сказать, что подбор параметра alpha не значительно улучшил качество работы моделей. Возможные причины:\n",
        "* датасет довольно маленький, модель быстро переобучается\n",
        "* нужна более тщательная подготовка данных (например, составить список стоп-слов, специфичных для датасета, подобрать оптимальную очистку от посторонних символов, избавиться от именованных сущностей в тексте)\n",
        "* можно использовать дополнительные признаки: имена режиссеров и лидирующих актеров как категориальные переменные, добавить названия фильмов как текстовые признаки. "
      ]
    },
    {
      "cell_type": "code",
      "execution_count": null,
      "metadata": {
        "id": "ldEuhXfyvQ-0"
      },
      "outputs": [],
      "source": []
    }
  ],
  "metadata": {
    "kernelspec": {
      "display_name": "Python 3 (ipykernel)",
      "language": "python",
      "name": "python3"
    },
    "language_info": {
      "codemirror_mode": {
        "name": "ipython",
        "version": 3
      },
      "file_extension": ".py",
      "mimetype": "text/x-python",
      "name": "python",
      "nbconvert_exporter": "python",
      "pygments_lexer": "ipython3",
      "version": "3.7.3"
    },
    "colab": {
      "provenance": [],
      "include_colab_link": true
    }
  },
  "nbformat": 4,
  "nbformat_minor": 0
}